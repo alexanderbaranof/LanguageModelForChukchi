{
  "nbformat": 4,
  "nbformat_minor": 0,
  "metadata": {
    "accelerator": "GPU",
    "colab": {
      "name": "Chukchi CNN model (embedding convolution)",
      "provenance": [],
      "collapsed_sections": []
    },
    "kernelspec": {
      "display_name": "Python 3",
      "name": "python3"
    },
    "widgets": {
      "application/vnd.jupyter.widget-state+json": {
        "b9ff617acad7495680f4ccf1a787ce4d": {
          "model_module": "@jupyter-widgets/controls",
          "model_name": "HBoxModel",
          "state": {
            "_view_name": "HBoxView",
            "_dom_classes": [],
            "_model_name": "HBoxModel",
            "_view_module": "@jupyter-widgets/controls",
            "_model_module_version": "1.5.0",
            "_view_count": null,
            "_view_module_version": "1.5.0",
            "box_style": "",
            "layout": "IPY_MODEL_aebac6e30f1b4d4292f357fd74efb926",
            "_model_module": "@jupyter-widgets/controls",
            "children": [
              "IPY_MODEL_ae2f8f3cb7dc444db24128c92b7cba13",
              "IPY_MODEL_10d8005d90524b41aa77f94459a31a1c"
            ]
          }
        },
        "aebac6e30f1b4d4292f357fd74efb926": {
          "model_module": "@jupyter-widgets/base",
          "model_name": "LayoutModel",
          "state": {
            "_view_name": "LayoutView",
            "grid_template_rows": null,
            "right": null,
            "justify_content": null,
            "_view_module": "@jupyter-widgets/base",
            "overflow": null,
            "_model_module_version": "1.2.0",
            "_view_count": null,
            "flex_flow": null,
            "width": null,
            "min_width": null,
            "border": null,
            "align_items": null,
            "bottom": null,
            "_model_module": "@jupyter-widgets/base",
            "top": null,
            "grid_column": null,
            "overflow_y": null,
            "overflow_x": null,
            "grid_auto_flow": null,
            "grid_area": null,
            "grid_template_columns": null,
            "flex": null,
            "_model_name": "LayoutModel",
            "justify_items": null,
            "grid_row": null,
            "max_height": null,
            "align_content": null,
            "visibility": null,
            "align_self": null,
            "height": null,
            "min_height": null,
            "padding": null,
            "grid_auto_rows": null,
            "grid_gap": null,
            "max_width": null,
            "order": null,
            "_view_module_version": "1.2.0",
            "grid_template_areas": null,
            "object_position": null,
            "object_fit": null,
            "grid_auto_columns": null,
            "margin": null,
            "display": null,
            "left": null
          }
        },
        "ae2f8f3cb7dc444db24128c92b7cba13": {
          "model_module": "@jupyter-widgets/controls",
          "model_name": "FloatProgressModel",
          "state": {
            "_view_name": "ProgressView",
            "style": "IPY_MODEL_5f81ecd34a8b4c46a4efa298d8febb34",
            "_dom_classes": [],
            "description": "epoch 0: 100%",
            "_model_name": "FloatProgressModel",
            "bar_style": "success",
            "max": 3895,
            "_view_module": "@jupyter-widgets/controls",
            "_model_module_version": "1.5.0",
            "value": 3895,
            "_view_count": null,
            "_view_module_version": "1.5.0",
            "orientation": "horizontal",
            "min": 0,
            "description_tooltip": null,
            "_model_module": "@jupyter-widgets/controls",
            "layout": "IPY_MODEL_c3edff36e61b45a2bb7508783e7223f0"
          }
        },
        "10d8005d90524b41aa77f94459a31a1c": {
          "model_module": "@jupyter-widgets/controls",
          "model_name": "HTMLModel",
          "state": {
            "_view_name": "HTMLView",
            "style": "IPY_MODEL_d23711cd37694105a89f8d72c46b4849",
            "_dom_classes": [],
            "description": "",
            "_model_name": "HTMLModel",
            "placeholder": "​",
            "_view_module": "@jupyter-widgets/controls",
            "_model_module_version": "1.5.0",
            "value": " 3895/3895 [01:39&lt;00:00, 39.08it/s, acc=0.32258, f1=0.32258, loss=3.10350]",
            "_view_count": null,
            "_view_module_version": "1.5.0",
            "description_tooltip": null,
            "_model_module": "@jupyter-widgets/controls",
            "layout": "IPY_MODEL_6e92582aa19c4d10b50161d50509aeed"
          }
        },
        "5f81ecd34a8b4c46a4efa298d8febb34": {
          "model_module": "@jupyter-widgets/controls",
          "model_name": "ProgressStyleModel",
          "state": {
            "_view_name": "StyleView",
            "_model_name": "ProgressStyleModel",
            "description_width": "initial",
            "_view_module": "@jupyter-widgets/base",
            "_model_module_version": "1.5.0",
            "_view_count": null,
            "_view_module_version": "1.2.0",
            "bar_color": null,
            "_model_module": "@jupyter-widgets/controls"
          }
        },
        "c3edff36e61b45a2bb7508783e7223f0": {
          "model_module": "@jupyter-widgets/base",
          "model_name": "LayoutModel",
          "state": {
            "_view_name": "LayoutView",
            "grid_template_rows": null,
            "right": null,
            "justify_content": null,
            "_view_module": "@jupyter-widgets/base",
            "overflow": null,
            "_model_module_version": "1.2.0",
            "_view_count": null,
            "flex_flow": null,
            "width": null,
            "min_width": null,
            "border": null,
            "align_items": null,
            "bottom": null,
            "_model_module": "@jupyter-widgets/base",
            "top": null,
            "grid_column": null,
            "overflow_y": null,
            "overflow_x": null,
            "grid_auto_flow": null,
            "grid_area": null,
            "grid_template_columns": null,
            "flex": null,
            "_model_name": "LayoutModel",
            "justify_items": null,
            "grid_row": null,
            "max_height": null,
            "align_content": null,
            "visibility": null,
            "align_self": null,
            "height": null,
            "min_height": null,
            "padding": null,
            "grid_auto_rows": null,
            "grid_gap": null,
            "max_width": null,
            "order": null,
            "_view_module_version": "1.2.0",
            "grid_template_areas": null,
            "object_position": null,
            "object_fit": null,
            "grid_auto_columns": null,
            "margin": null,
            "display": null,
            "left": null
          }
        },
        "d23711cd37694105a89f8d72c46b4849": {
          "model_module": "@jupyter-widgets/controls",
          "model_name": "DescriptionStyleModel",
          "state": {
            "_view_name": "StyleView",
            "_model_name": "DescriptionStyleModel",
            "description_width": "",
            "_view_module": "@jupyter-widgets/base",
            "_model_module_version": "1.5.0",
            "_view_count": null,
            "_view_module_version": "1.2.0",
            "_model_module": "@jupyter-widgets/controls"
          }
        },
        "6e92582aa19c4d10b50161d50509aeed": {
          "model_module": "@jupyter-widgets/base",
          "model_name": "LayoutModel",
          "state": {
            "_view_name": "LayoutView",
            "grid_template_rows": null,
            "right": null,
            "justify_content": null,
            "_view_module": "@jupyter-widgets/base",
            "overflow": null,
            "_model_module_version": "1.2.0",
            "_view_count": null,
            "flex_flow": null,
            "width": null,
            "min_width": null,
            "border": null,
            "align_items": null,
            "bottom": null,
            "_model_module": "@jupyter-widgets/base",
            "top": null,
            "grid_column": null,
            "overflow_y": null,
            "overflow_x": null,
            "grid_auto_flow": null,
            "grid_area": null,
            "grid_template_columns": null,
            "flex": null,
            "_model_name": "LayoutModel",
            "justify_items": null,
            "grid_row": null,
            "max_height": null,
            "align_content": null,
            "visibility": null,
            "align_self": null,
            "height": null,
            "min_height": null,
            "padding": null,
            "grid_auto_rows": null,
            "grid_gap": null,
            "max_width": null,
            "order": null,
            "_view_module_version": "1.2.0",
            "grid_template_areas": null,
            "object_position": null,
            "object_fit": null,
            "grid_auto_columns": null,
            "margin": null,
            "display": null,
            "left": null
          }
        },
        "91cb065b967d4fa0861d17ea59cdbb8c": {
          "model_module": "@jupyter-widgets/controls",
          "model_name": "HBoxModel",
          "state": {
            "_view_name": "HBoxView",
            "_dom_classes": [],
            "_model_name": "HBoxModel",
            "_view_module": "@jupyter-widgets/controls",
            "_model_module_version": "1.5.0",
            "_view_count": null,
            "_view_module_version": "1.5.0",
            "box_style": "",
            "layout": "IPY_MODEL_5f7459edfc9a40df979ec0bfd884fd3a",
            "_model_module": "@jupyter-widgets/controls",
            "children": [
              "IPY_MODEL_69263388a88c482085c683cc88024c32",
              "IPY_MODEL_43387726c54f444a9cd380f2f74fe847"
            ]
          }
        },
        "5f7459edfc9a40df979ec0bfd884fd3a": {
          "model_module": "@jupyter-widgets/base",
          "model_name": "LayoutModel",
          "state": {
            "_view_name": "LayoutView",
            "grid_template_rows": null,
            "right": null,
            "justify_content": null,
            "_view_module": "@jupyter-widgets/base",
            "overflow": null,
            "_model_module_version": "1.2.0",
            "_view_count": null,
            "flex_flow": null,
            "width": null,
            "min_width": null,
            "border": null,
            "align_items": null,
            "bottom": null,
            "_model_module": "@jupyter-widgets/base",
            "top": null,
            "grid_column": null,
            "overflow_y": null,
            "overflow_x": null,
            "grid_auto_flow": null,
            "grid_area": null,
            "grid_template_columns": null,
            "flex": null,
            "_model_name": "LayoutModel",
            "justify_items": null,
            "grid_row": null,
            "max_height": null,
            "align_content": null,
            "visibility": null,
            "align_self": null,
            "height": null,
            "min_height": null,
            "padding": null,
            "grid_auto_rows": null,
            "grid_gap": null,
            "max_width": null,
            "order": null,
            "_view_module_version": "1.2.0",
            "grid_template_areas": null,
            "object_position": null,
            "object_fit": null,
            "grid_auto_columns": null,
            "margin": null,
            "display": null,
            "left": null
          }
        },
        "69263388a88c482085c683cc88024c32": {
          "model_module": "@jupyter-widgets/controls",
          "model_name": "FloatProgressModel",
          "state": {
            "_view_name": "ProgressView",
            "style": "IPY_MODEL_35c1520497b449d882e7a86de053d0ba",
            "_dom_classes": [],
            "description": "epoch 1: 100%",
            "_model_name": "FloatProgressModel",
            "bar_style": "success",
            "max": 3895,
            "_view_module": "@jupyter-widgets/controls",
            "_model_module_version": "1.5.0",
            "value": 3895,
            "_view_count": null,
            "_view_module_version": "1.5.0",
            "orientation": "horizontal",
            "min": 0,
            "description_tooltip": null,
            "_model_module": "@jupyter-widgets/controls",
            "layout": "IPY_MODEL_eeb4d58b08ed4f3780e7eb8344fc9e4b"
          }
        },
        "43387726c54f444a9cd380f2f74fe847": {
          "model_module": "@jupyter-widgets/controls",
          "model_name": "HTMLModel",
          "state": {
            "_view_name": "HTMLView",
            "style": "IPY_MODEL_e69c98db8ecb4c80a82ab74b12e49c60",
            "_dom_classes": [],
            "description": "",
            "_model_name": "HTMLModel",
            "placeholder": "​",
            "_view_module": "@jupyter-widgets/controls",
            "_model_module_version": "1.5.0",
            "value": " 3895/3895 [39:41&lt;00:00,  1.64it/s, acc=0.31183, f1=0.31183, loss=2.85927]",
            "_view_count": null,
            "_view_module_version": "1.5.0",
            "description_tooltip": null,
            "_model_module": "@jupyter-widgets/controls",
            "layout": "IPY_MODEL_d74703f3ca974ca08b018cce34fa080d"
          }
        },
        "35c1520497b449d882e7a86de053d0ba": {
          "model_module": "@jupyter-widgets/controls",
          "model_name": "ProgressStyleModel",
          "state": {
            "_view_name": "StyleView",
            "_model_name": "ProgressStyleModel",
            "description_width": "initial",
            "_view_module": "@jupyter-widgets/base",
            "_model_module_version": "1.5.0",
            "_view_count": null,
            "_view_module_version": "1.2.0",
            "bar_color": null,
            "_model_module": "@jupyter-widgets/controls"
          }
        },
        "eeb4d58b08ed4f3780e7eb8344fc9e4b": {
          "model_module": "@jupyter-widgets/base",
          "model_name": "LayoutModel",
          "state": {
            "_view_name": "LayoutView",
            "grid_template_rows": null,
            "right": null,
            "justify_content": null,
            "_view_module": "@jupyter-widgets/base",
            "overflow": null,
            "_model_module_version": "1.2.0",
            "_view_count": null,
            "flex_flow": null,
            "width": null,
            "min_width": null,
            "border": null,
            "align_items": null,
            "bottom": null,
            "_model_module": "@jupyter-widgets/base",
            "top": null,
            "grid_column": null,
            "overflow_y": null,
            "overflow_x": null,
            "grid_auto_flow": null,
            "grid_area": null,
            "grid_template_columns": null,
            "flex": null,
            "_model_name": "LayoutModel",
            "justify_items": null,
            "grid_row": null,
            "max_height": null,
            "align_content": null,
            "visibility": null,
            "align_self": null,
            "height": null,
            "min_height": null,
            "padding": null,
            "grid_auto_rows": null,
            "grid_gap": null,
            "max_width": null,
            "order": null,
            "_view_module_version": "1.2.0",
            "grid_template_areas": null,
            "object_position": null,
            "object_fit": null,
            "grid_auto_columns": null,
            "margin": null,
            "display": null,
            "left": null
          }
        },
        "e69c98db8ecb4c80a82ab74b12e49c60": {
          "model_module": "@jupyter-widgets/controls",
          "model_name": "DescriptionStyleModel",
          "state": {
            "_view_name": "StyleView",
            "_model_name": "DescriptionStyleModel",
            "description_width": "",
            "_view_module": "@jupyter-widgets/base",
            "_model_module_version": "1.5.0",
            "_view_count": null,
            "_view_module_version": "1.2.0",
            "_model_module": "@jupyter-widgets/controls"
          }
        },
        "d74703f3ca974ca08b018cce34fa080d": {
          "model_module": "@jupyter-widgets/base",
          "model_name": "LayoutModel",
          "state": {
            "_view_name": "LayoutView",
            "grid_template_rows": null,
            "right": null,
            "justify_content": null,
            "_view_module": "@jupyter-widgets/base",
            "overflow": null,
            "_model_module_version": "1.2.0",
            "_view_count": null,
            "flex_flow": null,
            "width": null,
            "min_width": null,
            "border": null,
            "align_items": null,
            "bottom": null,
            "_model_module": "@jupyter-widgets/base",
            "top": null,
            "grid_column": null,
            "overflow_y": null,
            "overflow_x": null,
            "grid_auto_flow": null,
            "grid_area": null,
            "grid_template_columns": null,
            "flex": null,
            "_model_name": "LayoutModel",
            "justify_items": null,
            "grid_row": null,
            "max_height": null,
            "align_content": null,
            "visibility": null,
            "align_self": null,
            "height": null,
            "min_height": null,
            "padding": null,
            "grid_auto_rows": null,
            "grid_gap": null,
            "max_width": null,
            "order": null,
            "_view_module_version": "1.2.0",
            "grid_template_areas": null,
            "object_position": null,
            "object_fit": null,
            "grid_auto_columns": null,
            "margin": null,
            "display": null,
            "left": null
          }
        },
        "472e000d3e1f4bc5936f3e0ef68bc24d": {
          "model_module": "@jupyter-widgets/controls",
          "model_name": "HBoxModel",
          "state": {
            "_view_name": "HBoxView",
            "_dom_classes": [],
            "_model_name": "HBoxModel",
            "_view_module": "@jupyter-widgets/controls",
            "_model_module_version": "1.5.0",
            "_view_count": null,
            "_view_module_version": "1.5.0",
            "box_style": "",
            "layout": "IPY_MODEL_9d60f3bff65c4db8aaa13a9443849181",
            "_model_module": "@jupyter-widgets/controls",
            "children": [
              "IPY_MODEL_9176285ad60a402fb57bb320a88548d1",
              "IPY_MODEL_8a81376efd014fdea7b197e0ebebd780"
            ]
          }
        },
        "9d60f3bff65c4db8aaa13a9443849181": {
          "model_module": "@jupyter-widgets/base",
          "model_name": "LayoutModel",
          "state": {
            "_view_name": "LayoutView",
            "grid_template_rows": null,
            "right": null,
            "justify_content": null,
            "_view_module": "@jupyter-widgets/base",
            "overflow": null,
            "_model_module_version": "1.2.0",
            "_view_count": null,
            "flex_flow": null,
            "width": null,
            "min_width": null,
            "border": null,
            "align_items": null,
            "bottom": null,
            "_model_module": "@jupyter-widgets/base",
            "top": null,
            "grid_column": null,
            "overflow_y": null,
            "overflow_x": null,
            "grid_auto_flow": null,
            "grid_area": null,
            "grid_template_columns": null,
            "flex": null,
            "_model_name": "LayoutModel",
            "justify_items": null,
            "grid_row": null,
            "max_height": null,
            "align_content": null,
            "visibility": null,
            "align_self": null,
            "height": null,
            "min_height": null,
            "padding": null,
            "grid_auto_rows": null,
            "grid_gap": null,
            "max_width": null,
            "order": null,
            "_view_module_version": "1.2.0",
            "grid_template_areas": null,
            "object_position": null,
            "object_fit": null,
            "grid_auto_columns": null,
            "margin": null,
            "display": null,
            "left": null
          }
        },
        "9176285ad60a402fb57bb320a88548d1": {
          "model_module": "@jupyter-widgets/controls",
          "model_name": "FloatProgressModel",
          "state": {
            "_view_name": "ProgressView",
            "style": "IPY_MODEL_7202bcd3b565405cbf7eb85ef0949328",
            "_dom_classes": [],
            "description": "epoch 2: 100%",
            "_model_name": "FloatProgressModel",
            "bar_style": "success",
            "max": 3895,
            "_view_module": "@jupyter-widgets/controls",
            "_model_module_version": "1.5.0",
            "value": 3895,
            "_view_count": null,
            "_view_module_version": "1.5.0",
            "orientation": "horizontal",
            "min": 0,
            "description_tooltip": null,
            "_model_module": "@jupyter-widgets/controls",
            "layout": "IPY_MODEL_13d1edcd915549b7a45ba2fdedc3058e"
          }
        },
        "8a81376efd014fdea7b197e0ebebd780": {
          "model_module": "@jupyter-widgets/controls",
          "model_name": "HTMLModel",
          "state": {
            "_view_name": "HTMLView",
            "style": "IPY_MODEL_f119b0bcd14843cb8d1d2ca1b25d3adc",
            "_dom_classes": [],
            "description": "",
            "_model_name": "HTMLModel",
            "placeholder": "​",
            "_view_module": "@jupyter-widgets/controls",
            "_model_module_version": "1.5.0",
            "value": " 3895/3895 [01:40&lt;00:00, 38.58it/s, acc=0.32258, f1=0.32258, loss=2.82451]",
            "_view_count": null,
            "_view_module_version": "1.5.0",
            "description_tooltip": null,
            "_model_module": "@jupyter-widgets/controls",
            "layout": "IPY_MODEL_1aaa0b81dec04941bd2b7a6628b4e1bd"
          }
        },
        "7202bcd3b565405cbf7eb85ef0949328": {
          "model_module": "@jupyter-widgets/controls",
          "model_name": "ProgressStyleModel",
          "state": {
            "_view_name": "StyleView",
            "_model_name": "ProgressStyleModel",
            "description_width": "initial",
            "_view_module": "@jupyter-widgets/base",
            "_model_module_version": "1.5.0",
            "_view_count": null,
            "_view_module_version": "1.2.0",
            "bar_color": null,
            "_model_module": "@jupyter-widgets/controls"
          }
        },
        "13d1edcd915549b7a45ba2fdedc3058e": {
          "model_module": "@jupyter-widgets/base",
          "model_name": "LayoutModel",
          "state": {
            "_view_name": "LayoutView",
            "grid_template_rows": null,
            "right": null,
            "justify_content": null,
            "_view_module": "@jupyter-widgets/base",
            "overflow": null,
            "_model_module_version": "1.2.0",
            "_view_count": null,
            "flex_flow": null,
            "width": null,
            "min_width": null,
            "border": null,
            "align_items": null,
            "bottom": null,
            "_model_module": "@jupyter-widgets/base",
            "top": null,
            "grid_column": null,
            "overflow_y": null,
            "overflow_x": null,
            "grid_auto_flow": null,
            "grid_area": null,
            "grid_template_columns": null,
            "flex": null,
            "_model_name": "LayoutModel",
            "justify_items": null,
            "grid_row": null,
            "max_height": null,
            "align_content": null,
            "visibility": null,
            "align_self": null,
            "height": null,
            "min_height": null,
            "padding": null,
            "grid_auto_rows": null,
            "grid_gap": null,
            "max_width": null,
            "order": null,
            "_view_module_version": "1.2.0",
            "grid_template_areas": null,
            "object_position": null,
            "object_fit": null,
            "grid_auto_columns": null,
            "margin": null,
            "display": null,
            "left": null
          }
        },
        "f119b0bcd14843cb8d1d2ca1b25d3adc": {
          "model_module": "@jupyter-widgets/controls",
          "model_name": "DescriptionStyleModel",
          "state": {
            "_view_name": "StyleView",
            "_model_name": "DescriptionStyleModel",
            "description_width": "",
            "_view_module": "@jupyter-widgets/base",
            "_model_module_version": "1.5.0",
            "_view_count": null,
            "_view_module_version": "1.2.0",
            "_model_module": "@jupyter-widgets/controls"
          }
        },
        "1aaa0b81dec04941bd2b7a6628b4e1bd": {
          "model_module": "@jupyter-widgets/base",
          "model_name": "LayoutModel",
          "state": {
            "_view_name": "LayoutView",
            "grid_template_rows": null,
            "right": null,
            "justify_content": null,
            "_view_module": "@jupyter-widgets/base",
            "overflow": null,
            "_model_module_version": "1.2.0",
            "_view_count": null,
            "flex_flow": null,
            "width": null,
            "min_width": null,
            "border": null,
            "align_items": null,
            "bottom": null,
            "_model_module": "@jupyter-widgets/base",
            "top": null,
            "grid_column": null,
            "overflow_y": null,
            "overflow_x": null,
            "grid_auto_flow": null,
            "grid_area": null,
            "grid_template_columns": null,
            "flex": null,
            "_model_name": "LayoutModel",
            "justify_items": null,
            "grid_row": null,
            "max_height": null,
            "align_content": null,
            "visibility": null,
            "align_self": null,
            "height": null,
            "min_height": null,
            "padding": null,
            "grid_auto_rows": null,
            "grid_gap": null,
            "max_width": null,
            "order": null,
            "_view_module_version": "1.2.0",
            "grid_template_areas": null,
            "object_position": null,
            "object_fit": null,
            "grid_auto_columns": null,
            "margin": null,
            "display": null,
            "left": null
          }
        },
        "a6be79eab123410f957f44513d01b3ae": {
          "model_module": "@jupyter-widgets/controls",
          "model_name": "HBoxModel",
          "state": {
            "_view_name": "HBoxView",
            "_dom_classes": [],
            "_model_name": "HBoxModel",
            "_view_module": "@jupyter-widgets/controls",
            "_model_module_version": "1.5.0",
            "_view_count": null,
            "_view_module_version": "1.5.0",
            "box_style": "",
            "layout": "IPY_MODEL_708c578beaec46b793eaa2e439be1508",
            "_model_module": "@jupyter-widgets/controls",
            "children": [
              "IPY_MODEL_b75f3ad6d15d4ce0878d64ad50ffbc6c",
              "IPY_MODEL_f0b0494719214074ae0b60977d2ef149"
            ]
          }
        },
        "708c578beaec46b793eaa2e439be1508": {
          "model_module": "@jupyter-widgets/base",
          "model_name": "LayoutModel",
          "state": {
            "_view_name": "LayoutView",
            "grid_template_rows": null,
            "right": null,
            "justify_content": null,
            "_view_module": "@jupyter-widgets/base",
            "overflow": null,
            "_model_module_version": "1.2.0",
            "_view_count": null,
            "flex_flow": null,
            "width": null,
            "min_width": null,
            "border": null,
            "align_items": null,
            "bottom": null,
            "_model_module": "@jupyter-widgets/base",
            "top": null,
            "grid_column": null,
            "overflow_y": null,
            "overflow_x": null,
            "grid_auto_flow": null,
            "grid_area": null,
            "grid_template_columns": null,
            "flex": null,
            "_model_name": "LayoutModel",
            "justify_items": null,
            "grid_row": null,
            "max_height": null,
            "align_content": null,
            "visibility": null,
            "align_self": null,
            "height": null,
            "min_height": null,
            "padding": null,
            "grid_auto_rows": null,
            "grid_gap": null,
            "max_width": null,
            "order": null,
            "_view_module_version": "1.2.0",
            "grid_template_areas": null,
            "object_position": null,
            "object_fit": null,
            "grid_auto_columns": null,
            "margin": null,
            "display": null,
            "left": null
          }
        },
        "b75f3ad6d15d4ce0878d64ad50ffbc6c": {
          "model_module": "@jupyter-widgets/controls",
          "model_name": "FloatProgressModel",
          "state": {
            "_view_name": "ProgressView",
            "style": "IPY_MODEL_5d3120ebf71848b6944e83617ef784f3",
            "_dom_classes": [],
            "description": "epoch 3: 100%",
            "_model_name": "FloatProgressModel",
            "bar_style": "success",
            "max": 3895,
            "_view_module": "@jupyter-widgets/controls",
            "_model_module_version": "1.5.0",
            "value": 3895,
            "_view_count": null,
            "_view_module_version": "1.5.0",
            "orientation": "horizontal",
            "min": 0,
            "description_tooltip": null,
            "_model_module": "@jupyter-widgets/controls",
            "layout": "IPY_MODEL_e5313543299848b38eaa7c831ae87d60"
          }
        },
        "f0b0494719214074ae0b60977d2ef149": {
          "model_module": "@jupyter-widgets/controls",
          "model_name": "HTMLModel",
          "state": {
            "_view_name": "HTMLView",
            "style": "IPY_MODEL_46b1eaa7c62a472dabc793e1d68e6f79",
            "_dom_classes": [],
            "description": "",
            "_model_name": "HTMLModel",
            "placeholder": "​",
            "_view_module": "@jupyter-widgets/controls",
            "_model_module_version": "1.5.0",
            "value": " 3895/3895 [36:18&lt;00:00,  1.79it/s, acc=0.33333, f1=0.33333, loss=2.47815]",
            "_view_count": null,
            "_view_module_version": "1.5.0",
            "description_tooltip": null,
            "_model_module": "@jupyter-widgets/controls",
            "layout": "IPY_MODEL_c7cd19ebaffe42a4aaab027d95c0f23e"
          }
        },
        "5d3120ebf71848b6944e83617ef784f3": {
          "model_module": "@jupyter-widgets/controls",
          "model_name": "ProgressStyleModel",
          "state": {
            "_view_name": "StyleView",
            "_model_name": "ProgressStyleModel",
            "description_width": "initial",
            "_view_module": "@jupyter-widgets/base",
            "_model_module_version": "1.5.0",
            "_view_count": null,
            "_view_module_version": "1.2.0",
            "bar_color": null,
            "_model_module": "@jupyter-widgets/controls"
          }
        },
        "e5313543299848b38eaa7c831ae87d60": {
          "model_module": "@jupyter-widgets/base",
          "model_name": "LayoutModel",
          "state": {
            "_view_name": "LayoutView",
            "grid_template_rows": null,
            "right": null,
            "justify_content": null,
            "_view_module": "@jupyter-widgets/base",
            "overflow": null,
            "_model_module_version": "1.2.0",
            "_view_count": null,
            "flex_flow": null,
            "width": null,
            "min_width": null,
            "border": null,
            "align_items": null,
            "bottom": null,
            "_model_module": "@jupyter-widgets/base",
            "top": null,
            "grid_column": null,
            "overflow_y": null,
            "overflow_x": null,
            "grid_auto_flow": null,
            "grid_area": null,
            "grid_template_columns": null,
            "flex": null,
            "_model_name": "LayoutModel",
            "justify_items": null,
            "grid_row": null,
            "max_height": null,
            "align_content": null,
            "visibility": null,
            "align_self": null,
            "height": null,
            "min_height": null,
            "padding": null,
            "grid_auto_rows": null,
            "grid_gap": null,
            "max_width": null,
            "order": null,
            "_view_module_version": "1.2.0",
            "grid_template_areas": null,
            "object_position": null,
            "object_fit": null,
            "grid_auto_columns": null,
            "margin": null,
            "display": null,
            "left": null
          }
        },
        "46b1eaa7c62a472dabc793e1d68e6f79": {
          "model_module": "@jupyter-widgets/controls",
          "model_name": "DescriptionStyleModel",
          "state": {
            "_view_name": "StyleView",
            "_model_name": "DescriptionStyleModel",
            "description_width": "",
            "_view_module": "@jupyter-widgets/base",
            "_model_module_version": "1.5.0",
            "_view_count": null,
            "_view_module_version": "1.2.0",
            "_model_module": "@jupyter-widgets/controls"
          }
        },
        "c7cd19ebaffe42a4aaab027d95c0f23e": {
          "model_module": "@jupyter-widgets/base",
          "model_name": "LayoutModel",
          "state": {
            "_view_name": "LayoutView",
            "grid_template_rows": null,
            "right": null,
            "justify_content": null,
            "_view_module": "@jupyter-widgets/base",
            "overflow": null,
            "_model_module_version": "1.2.0",
            "_view_count": null,
            "flex_flow": null,
            "width": null,
            "min_width": null,
            "border": null,
            "align_items": null,
            "bottom": null,
            "_model_module": "@jupyter-widgets/base",
            "top": null,
            "grid_column": null,
            "overflow_y": null,
            "overflow_x": null,
            "grid_auto_flow": null,
            "grid_area": null,
            "grid_template_columns": null,
            "flex": null,
            "_model_name": "LayoutModel",
            "justify_items": null,
            "grid_row": null,
            "max_height": null,
            "align_content": null,
            "visibility": null,
            "align_self": null,
            "height": null,
            "min_height": null,
            "padding": null,
            "grid_auto_rows": null,
            "grid_gap": null,
            "max_width": null,
            "order": null,
            "_view_module_version": "1.2.0",
            "grid_template_areas": null,
            "object_position": null,
            "object_fit": null,
            "grid_auto_columns": null,
            "margin": null,
            "display": null,
            "left": null
          }
        },
        "d8aa599af9f54cf4bd5a8bb8a7f43601": {
          "model_module": "@jupyter-widgets/controls",
          "model_name": "HBoxModel",
          "state": {
            "_view_name": "HBoxView",
            "_dom_classes": [],
            "_model_name": "HBoxModel",
            "_view_module": "@jupyter-widgets/controls",
            "_model_module_version": "1.5.0",
            "_view_count": null,
            "_view_module_version": "1.5.0",
            "box_style": "",
            "layout": "IPY_MODEL_7d9ffcfc2af74135a17ab88c1dd0f517",
            "_model_module": "@jupyter-widgets/controls",
            "children": [
              "IPY_MODEL_e8511c36de754749b3ebd9fe507a1de6",
              "IPY_MODEL_40a693f8da194150a471162689a0aaeb"
            ]
          }
        },
        "7d9ffcfc2af74135a17ab88c1dd0f517": {
          "model_module": "@jupyter-widgets/base",
          "model_name": "LayoutModel",
          "state": {
            "_view_name": "LayoutView",
            "grid_template_rows": null,
            "right": null,
            "justify_content": null,
            "_view_module": "@jupyter-widgets/base",
            "overflow": null,
            "_model_module_version": "1.2.0",
            "_view_count": null,
            "flex_flow": null,
            "width": null,
            "min_width": null,
            "border": null,
            "align_items": null,
            "bottom": null,
            "_model_module": "@jupyter-widgets/base",
            "top": null,
            "grid_column": null,
            "overflow_y": null,
            "overflow_x": null,
            "grid_auto_flow": null,
            "grid_area": null,
            "grid_template_columns": null,
            "flex": null,
            "_model_name": "LayoutModel",
            "justify_items": null,
            "grid_row": null,
            "max_height": null,
            "align_content": null,
            "visibility": null,
            "align_self": null,
            "height": null,
            "min_height": null,
            "padding": null,
            "grid_auto_rows": null,
            "grid_gap": null,
            "max_width": null,
            "order": null,
            "_view_module_version": "1.2.0",
            "grid_template_areas": null,
            "object_position": null,
            "object_fit": null,
            "grid_auto_columns": null,
            "margin": null,
            "display": null,
            "left": null
          }
        },
        "e8511c36de754749b3ebd9fe507a1de6": {
          "model_module": "@jupyter-widgets/controls",
          "model_name": "FloatProgressModel",
          "state": {
            "_view_name": "ProgressView",
            "style": "IPY_MODEL_ee1479b19a754aa19081ff34348e7ba1",
            "_dom_classes": [],
            "description": "epoch 4: 100%",
            "_model_name": "FloatProgressModel",
            "bar_style": "success",
            "max": 3895,
            "_view_module": "@jupyter-widgets/controls",
            "_model_module_version": "1.5.0",
            "value": 3895,
            "_view_count": null,
            "_view_module_version": "1.5.0",
            "orientation": "horizontal",
            "min": 0,
            "description_tooltip": null,
            "_model_module": "@jupyter-widgets/controls",
            "layout": "IPY_MODEL_7d338e9e34a9472585ce5bca1b1fe6fb"
          }
        },
        "40a693f8da194150a471162689a0aaeb": {
          "model_module": "@jupyter-widgets/controls",
          "model_name": "HTMLModel",
          "state": {
            "_view_name": "HTMLView",
            "style": "IPY_MODEL_ffcf8350488a4bfe8221bbbf889c55aa",
            "_dom_classes": [],
            "description": "",
            "_model_name": "HTMLModel",
            "placeholder": "​",
            "_view_module": "@jupyter-widgets/controls",
            "_model_module_version": "1.5.0",
            "value": " 3895/3895 [03:22&lt;00:00, 19.27it/s, acc=0.32258, f1=0.32258, loss=2.62453]",
            "_view_count": null,
            "_view_module_version": "1.5.0",
            "description_tooltip": null,
            "_model_module": "@jupyter-widgets/controls",
            "layout": "IPY_MODEL_e975b8b73f354e64bf232431abc4bd74"
          }
        },
        "ee1479b19a754aa19081ff34348e7ba1": {
          "model_module": "@jupyter-widgets/controls",
          "model_name": "ProgressStyleModel",
          "state": {
            "_view_name": "StyleView",
            "_model_name": "ProgressStyleModel",
            "description_width": "initial",
            "_view_module": "@jupyter-widgets/base",
            "_model_module_version": "1.5.0",
            "_view_count": null,
            "_view_module_version": "1.2.0",
            "bar_color": null,
            "_model_module": "@jupyter-widgets/controls"
          }
        },
        "7d338e9e34a9472585ce5bca1b1fe6fb": {
          "model_module": "@jupyter-widgets/base",
          "model_name": "LayoutModel",
          "state": {
            "_view_name": "LayoutView",
            "grid_template_rows": null,
            "right": null,
            "justify_content": null,
            "_view_module": "@jupyter-widgets/base",
            "overflow": null,
            "_model_module_version": "1.2.0",
            "_view_count": null,
            "flex_flow": null,
            "width": null,
            "min_width": null,
            "border": null,
            "align_items": null,
            "bottom": null,
            "_model_module": "@jupyter-widgets/base",
            "top": null,
            "grid_column": null,
            "overflow_y": null,
            "overflow_x": null,
            "grid_auto_flow": null,
            "grid_area": null,
            "grid_template_columns": null,
            "flex": null,
            "_model_name": "LayoutModel",
            "justify_items": null,
            "grid_row": null,
            "max_height": null,
            "align_content": null,
            "visibility": null,
            "align_self": null,
            "height": null,
            "min_height": null,
            "padding": null,
            "grid_auto_rows": null,
            "grid_gap": null,
            "max_width": null,
            "order": null,
            "_view_module_version": "1.2.0",
            "grid_template_areas": null,
            "object_position": null,
            "object_fit": null,
            "grid_auto_columns": null,
            "margin": null,
            "display": null,
            "left": null
          }
        },
        "ffcf8350488a4bfe8221bbbf889c55aa": {
          "model_module": "@jupyter-widgets/controls",
          "model_name": "DescriptionStyleModel",
          "state": {
            "_view_name": "StyleView",
            "_model_name": "DescriptionStyleModel",
            "description_width": "",
            "_view_module": "@jupyter-widgets/base",
            "_model_module_version": "1.5.0",
            "_view_count": null,
            "_view_module_version": "1.2.0",
            "_model_module": "@jupyter-widgets/controls"
          }
        },
        "e975b8b73f354e64bf232431abc4bd74": {
          "model_module": "@jupyter-widgets/base",
          "model_name": "LayoutModel",
          "state": {
            "_view_name": "LayoutView",
            "grid_template_rows": null,
            "right": null,
            "justify_content": null,
            "_view_module": "@jupyter-widgets/base",
            "overflow": null,
            "_model_module_version": "1.2.0",
            "_view_count": null,
            "flex_flow": null,
            "width": null,
            "min_width": null,
            "border": null,
            "align_items": null,
            "bottom": null,
            "_model_module": "@jupyter-widgets/base",
            "top": null,
            "grid_column": null,
            "overflow_y": null,
            "overflow_x": null,
            "grid_auto_flow": null,
            "grid_area": null,
            "grid_template_columns": null,
            "flex": null,
            "_model_name": "LayoutModel",
            "justify_items": null,
            "grid_row": null,
            "max_height": null,
            "align_content": null,
            "visibility": null,
            "align_self": null,
            "height": null,
            "min_height": null,
            "padding": null,
            "grid_auto_rows": null,
            "grid_gap": null,
            "max_width": null,
            "order": null,
            "_view_module_version": "1.2.0",
            "grid_template_areas": null,
            "object_position": null,
            "object_fit": null,
            "grid_auto_columns": null,
            "margin": null,
            "display": null,
            "left": null
          }
        },
        "e536d4ffc8754ffdb8d22f935442dff9": {
          "model_module": "@jupyter-widgets/controls",
          "model_name": "HBoxModel",
          "state": {
            "_view_name": "HBoxView",
            "_dom_classes": [],
            "_model_name": "HBoxModel",
            "_view_module": "@jupyter-widgets/controls",
            "_model_module_version": "1.5.0",
            "_view_count": null,
            "_view_module_version": "1.5.0",
            "box_style": "",
            "layout": "IPY_MODEL_a7326914600e469c9a2a308f531057b8",
            "_model_module": "@jupyter-widgets/controls",
            "children": [
              "IPY_MODEL_a271a28ddb084a5292da1513305bcef0",
              "IPY_MODEL_497bfd599e0348899de7b1ca0d8f5e5c"
            ]
          }
        },
        "a7326914600e469c9a2a308f531057b8": {
          "model_module": "@jupyter-widgets/base",
          "model_name": "LayoutModel",
          "state": {
            "_view_name": "LayoutView",
            "grid_template_rows": null,
            "right": null,
            "justify_content": null,
            "_view_module": "@jupyter-widgets/base",
            "overflow": null,
            "_model_module_version": "1.2.0",
            "_view_count": null,
            "flex_flow": null,
            "width": null,
            "min_width": null,
            "border": null,
            "align_items": null,
            "bottom": null,
            "_model_module": "@jupyter-widgets/base",
            "top": null,
            "grid_column": null,
            "overflow_y": null,
            "overflow_x": null,
            "grid_auto_flow": null,
            "grid_area": null,
            "grid_template_columns": null,
            "flex": null,
            "_model_name": "LayoutModel",
            "justify_items": null,
            "grid_row": null,
            "max_height": null,
            "align_content": null,
            "visibility": null,
            "align_self": null,
            "height": null,
            "min_height": null,
            "padding": null,
            "grid_auto_rows": null,
            "grid_gap": null,
            "max_width": null,
            "order": null,
            "_view_module_version": "1.2.0",
            "grid_template_areas": null,
            "object_position": null,
            "object_fit": null,
            "grid_auto_columns": null,
            "margin": null,
            "display": null,
            "left": null
          }
        },
        "a271a28ddb084a5292da1513305bcef0": {
          "model_module": "@jupyter-widgets/controls",
          "model_name": "FloatProgressModel",
          "state": {
            "_view_name": "ProgressView",
            "style": "IPY_MODEL_b52de54869bc4be2a135e32aee8bafbf",
            "_dom_classes": [],
            "description": "epoch 5: 100%",
            "_model_name": "FloatProgressModel",
            "bar_style": "success",
            "max": 3895,
            "_view_module": "@jupyter-widgets/controls",
            "_model_module_version": "1.5.0",
            "value": 3895,
            "_view_count": null,
            "_view_module_version": "1.5.0",
            "orientation": "horizontal",
            "min": 0,
            "description_tooltip": null,
            "_model_module": "@jupyter-widgets/controls",
            "layout": "IPY_MODEL_b6ac3a0f18334169b4f15dcefab672a2"
          }
        },
        "497bfd599e0348899de7b1ca0d8f5e5c": {
          "model_module": "@jupyter-widgets/controls",
          "model_name": "HTMLModel",
          "state": {
            "_view_name": "HTMLView",
            "style": "IPY_MODEL_f37899aa3f66459bb700b70cc748d7e5",
            "_dom_classes": [],
            "description": "",
            "_model_name": "HTMLModel",
            "placeholder": "​",
            "_view_module": "@jupyter-widgets/controls",
            "_model_module_version": "1.5.0",
            "value": " 3895/3895 [01:40&lt;00:00, 38.60it/s, acc=0.32258, f1=0.32258, loss=2.62578]",
            "_view_count": null,
            "_view_module_version": "1.5.0",
            "description_tooltip": null,
            "_model_module": "@jupyter-widgets/controls",
            "layout": "IPY_MODEL_c9820199008044038970daa7c5a36150"
          }
        },
        "b52de54869bc4be2a135e32aee8bafbf": {
          "model_module": "@jupyter-widgets/controls",
          "model_name": "ProgressStyleModel",
          "state": {
            "_view_name": "StyleView",
            "_model_name": "ProgressStyleModel",
            "description_width": "initial",
            "_view_module": "@jupyter-widgets/base",
            "_model_module_version": "1.5.0",
            "_view_count": null,
            "_view_module_version": "1.2.0",
            "bar_color": null,
            "_model_module": "@jupyter-widgets/controls"
          }
        },
        "b6ac3a0f18334169b4f15dcefab672a2": {
          "model_module": "@jupyter-widgets/base",
          "model_name": "LayoutModel",
          "state": {
            "_view_name": "LayoutView",
            "grid_template_rows": null,
            "right": null,
            "justify_content": null,
            "_view_module": "@jupyter-widgets/base",
            "overflow": null,
            "_model_module_version": "1.2.0",
            "_view_count": null,
            "flex_flow": null,
            "width": null,
            "min_width": null,
            "border": null,
            "align_items": null,
            "bottom": null,
            "_model_module": "@jupyter-widgets/base",
            "top": null,
            "grid_column": null,
            "overflow_y": null,
            "overflow_x": null,
            "grid_auto_flow": null,
            "grid_area": null,
            "grid_template_columns": null,
            "flex": null,
            "_model_name": "LayoutModel",
            "justify_items": null,
            "grid_row": null,
            "max_height": null,
            "align_content": null,
            "visibility": null,
            "align_self": null,
            "height": null,
            "min_height": null,
            "padding": null,
            "grid_auto_rows": null,
            "grid_gap": null,
            "max_width": null,
            "order": null,
            "_view_module_version": "1.2.0",
            "grid_template_areas": null,
            "object_position": null,
            "object_fit": null,
            "grid_auto_columns": null,
            "margin": null,
            "display": null,
            "left": null
          }
        },
        "f37899aa3f66459bb700b70cc748d7e5": {
          "model_module": "@jupyter-widgets/controls",
          "model_name": "DescriptionStyleModel",
          "state": {
            "_view_name": "StyleView",
            "_model_name": "DescriptionStyleModel",
            "description_width": "",
            "_view_module": "@jupyter-widgets/base",
            "_model_module_version": "1.5.0",
            "_view_count": null,
            "_view_module_version": "1.2.0",
            "_model_module": "@jupyter-widgets/controls"
          }
        },
        "c9820199008044038970daa7c5a36150": {
          "model_module": "@jupyter-widgets/base",
          "model_name": "LayoutModel",
          "state": {
            "_view_name": "LayoutView",
            "grid_template_rows": null,
            "right": null,
            "justify_content": null,
            "_view_module": "@jupyter-widgets/base",
            "overflow": null,
            "_model_module_version": "1.2.0",
            "_view_count": null,
            "flex_flow": null,
            "width": null,
            "min_width": null,
            "border": null,
            "align_items": null,
            "bottom": null,
            "_model_module": "@jupyter-widgets/base",
            "top": null,
            "grid_column": null,
            "overflow_y": null,
            "overflow_x": null,
            "grid_auto_flow": null,
            "grid_area": null,
            "grid_template_columns": null,
            "flex": null,
            "_model_name": "LayoutModel",
            "justify_items": null,
            "grid_row": null,
            "max_height": null,
            "align_content": null,
            "visibility": null,
            "align_self": null,
            "height": null,
            "min_height": null,
            "padding": null,
            "grid_auto_rows": null,
            "grid_gap": null,
            "max_width": null,
            "order": null,
            "_view_module_version": "1.2.0",
            "grid_template_areas": null,
            "object_position": null,
            "object_fit": null,
            "grid_auto_columns": null,
            "margin": null,
            "display": null,
            "left": null
          }
        },
        "dca440254768477aab8885600ffd6453": {
          "model_module": "@jupyter-widgets/controls",
          "model_name": "HBoxModel",
          "state": {
            "_view_name": "HBoxView",
            "_dom_classes": [],
            "_model_name": "HBoxModel",
            "_view_module": "@jupyter-widgets/controls",
            "_model_module_version": "1.5.0",
            "_view_count": null,
            "_view_module_version": "1.5.0",
            "box_style": "",
            "layout": "IPY_MODEL_2120094be40a43f4818e794ac89e6c20",
            "_model_module": "@jupyter-widgets/controls",
            "children": [
              "IPY_MODEL_ee52cd5e74854fafa7bb4836d57a5241",
              "IPY_MODEL_e1c9511231484ea6a657840f55ae0332"
            ]
          }
        },
        "2120094be40a43f4818e794ac89e6c20": {
          "model_module": "@jupyter-widgets/base",
          "model_name": "LayoutModel",
          "state": {
            "_view_name": "LayoutView",
            "grid_template_rows": null,
            "right": null,
            "justify_content": null,
            "_view_module": "@jupyter-widgets/base",
            "overflow": null,
            "_model_module_version": "1.2.0",
            "_view_count": null,
            "flex_flow": null,
            "width": null,
            "min_width": null,
            "border": null,
            "align_items": null,
            "bottom": null,
            "_model_module": "@jupyter-widgets/base",
            "top": null,
            "grid_column": null,
            "overflow_y": null,
            "overflow_x": null,
            "grid_auto_flow": null,
            "grid_area": null,
            "grid_template_columns": null,
            "flex": null,
            "_model_name": "LayoutModel",
            "justify_items": null,
            "grid_row": null,
            "max_height": null,
            "align_content": null,
            "visibility": null,
            "align_self": null,
            "height": null,
            "min_height": null,
            "padding": null,
            "grid_auto_rows": null,
            "grid_gap": null,
            "max_width": null,
            "order": null,
            "_view_module_version": "1.2.0",
            "grid_template_areas": null,
            "object_position": null,
            "object_fit": null,
            "grid_auto_columns": null,
            "margin": null,
            "display": null,
            "left": null
          }
        },
        "ee52cd5e74854fafa7bb4836d57a5241": {
          "model_module": "@jupyter-widgets/controls",
          "model_name": "FloatProgressModel",
          "state": {
            "_view_name": "ProgressView",
            "style": "IPY_MODEL_cb641ae50ee94a64b05079d0bffc1e5f",
            "_dom_classes": [],
            "description": "epoch 6: 100%",
            "_model_name": "FloatProgressModel",
            "bar_style": "success",
            "max": 3895,
            "_view_module": "@jupyter-widgets/controls",
            "_model_module_version": "1.5.0",
            "value": 3895,
            "_view_count": null,
            "_view_module_version": "1.5.0",
            "orientation": "horizontal",
            "min": 0,
            "description_tooltip": null,
            "_model_module": "@jupyter-widgets/controls",
            "layout": "IPY_MODEL_31b622b90f614c15ba98c5bc8837b643"
          }
        },
        "e1c9511231484ea6a657840f55ae0332": {
          "model_module": "@jupyter-widgets/controls",
          "model_name": "HTMLModel",
          "state": {
            "_view_name": "HTMLView",
            "style": "IPY_MODEL_c7e4a8064bc04dc7b5c6192f9572fffa",
            "_dom_classes": [],
            "description": "",
            "_model_name": "HTMLModel",
            "placeholder": "​",
            "_view_module": "@jupyter-widgets/controls",
            "_model_module_version": "1.5.0",
            "value": " 3895/3895 [31:15&lt;00:00,  2.08it/s, acc=0.33333, f1=0.33333, loss=2.44722]",
            "_view_count": null,
            "_view_module_version": "1.5.0",
            "description_tooltip": null,
            "_model_module": "@jupyter-widgets/controls",
            "layout": "IPY_MODEL_808693e7d2f74b44953e87b6e5592abb"
          }
        },
        "cb641ae50ee94a64b05079d0bffc1e5f": {
          "model_module": "@jupyter-widgets/controls",
          "model_name": "ProgressStyleModel",
          "state": {
            "_view_name": "StyleView",
            "_model_name": "ProgressStyleModel",
            "description_width": "initial",
            "_view_module": "@jupyter-widgets/base",
            "_model_module_version": "1.5.0",
            "_view_count": null,
            "_view_module_version": "1.2.0",
            "bar_color": null,
            "_model_module": "@jupyter-widgets/controls"
          }
        },
        "31b622b90f614c15ba98c5bc8837b643": {
          "model_module": "@jupyter-widgets/base",
          "model_name": "LayoutModel",
          "state": {
            "_view_name": "LayoutView",
            "grid_template_rows": null,
            "right": null,
            "justify_content": null,
            "_view_module": "@jupyter-widgets/base",
            "overflow": null,
            "_model_module_version": "1.2.0",
            "_view_count": null,
            "flex_flow": null,
            "width": null,
            "min_width": null,
            "border": null,
            "align_items": null,
            "bottom": null,
            "_model_module": "@jupyter-widgets/base",
            "top": null,
            "grid_column": null,
            "overflow_y": null,
            "overflow_x": null,
            "grid_auto_flow": null,
            "grid_area": null,
            "grid_template_columns": null,
            "flex": null,
            "_model_name": "LayoutModel",
            "justify_items": null,
            "grid_row": null,
            "max_height": null,
            "align_content": null,
            "visibility": null,
            "align_self": null,
            "height": null,
            "min_height": null,
            "padding": null,
            "grid_auto_rows": null,
            "grid_gap": null,
            "max_width": null,
            "order": null,
            "_view_module_version": "1.2.0",
            "grid_template_areas": null,
            "object_position": null,
            "object_fit": null,
            "grid_auto_columns": null,
            "margin": null,
            "display": null,
            "left": null
          }
        },
        "c7e4a8064bc04dc7b5c6192f9572fffa": {
          "model_module": "@jupyter-widgets/controls",
          "model_name": "DescriptionStyleModel",
          "state": {
            "_view_name": "StyleView",
            "_model_name": "DescriptionStyleModel",
            "description_width": "",
            "_view_module": "@jupyter-widgets/base",
            "_model_module_version": "1.5.0",
            "_view_count": null,
            "_view_module_version": "1.2.0",
            "_model_module": "@jupyter-widgets/controls"
          }
        },
        "808693e7d2f74b44953e87b6e5592abb": {
          "model_module": "@jupyter-widgets/base",
          "model_name": "LayoutModel",
          "state": {
            "_view_name": "LayoutView",
            "grid_template_rows": null,
            "right": null,
            "justify_content": null,
            "_view_module": "@jupyter-widgets/base",
            "overflow": null,
            "_model_module_version": "1.2.0",
            "_view_count": null,
            "flex_flow": null,
            "width": null,
            "min_width": null,
            "border": null,
            "align_items": null,
            "bottom": null,
            "_model_module": "@jupyter-widgets/base",
            "top": null,
            "grid_column": null,
            "overflow_y": null,
            "overflow_x": null,
            "grid_auto_flow": null,
            "grid_area": null,
            "grid_template_columns": null,
            "flex": null,
            "_model_name": "LayoutModel",
            "justify_items": null,
            "grid_row": null,
            "max_height": null,
            "align_content": null,
            "visibility": null,
            "align_self": null,
            "height": null,
            "min_height": null,
            "padding": null,
            "grid_auto_rows": null,
            "grid_gap": null,
            "max_width": null,
            "order": null,
            "_view_module_version": "1.2.0",
            "grid_template_areas": null,
            "object_position": null,
            "object_fit": null,
            "grid_auto_columns": null,
            "margin": null,
            "display": null,
            "left": null
          }
        },
        "ff6f26190a68487a8e973671e18bd259": {
          "model_module": "@jupyter-widgets/controls",
          "model_name": "HBoxModel",
          "state": {
            "_view_name": "HBoxView",
            "_dom_classes": [],
            "_model_name": "HBoxModel",
            "_view_module": "@jupyter-widgets/controls",
            "_model_module_version": "1.5.0",
            "_view_count": null,
            "_view_module_version": "1.5.0",
            "box_style": "",
            "layout": "IPY_MODEL_b43fcd0a456b4be4a21d7b099cb87ac8",
            "_model_module": "@jupyter-widgets/controls",
            "children": [
              "IPY_MODEL_e3a7606c41314ec5bb6613bf3f337f53",
              "IPY_MODEL_3557048db9094cc79359e15a48672aae"
            ]
          }
        },
        "b43fcd0a456b4be4a21d7b099cb87ac8": {
          "model_module": "@jupyter-widgets/base",
          "model_name": "LayoutModel",
          "state": {
            "_view_name": "LayoutView",
            "grid_template_rows": null,
            "right": null,
            "justify_content": null,
            "_view_module": "@jupyter-widgets/base",
            "overflow": null,
            "_model_module_version": "1.2.0",
            "_view_count": null,
            "flex_flow": null,
            "width": null,
            "min_width": null,
            "border": null,
            "align_items": null,
            "bottom": null,
            "_model_module": "@jupyter-widgets/base",
            "top": null,
            "grid_column": null,
            "overflow_y": null,
            "overflow_x": null,
            "grid_auto_flow": null,
            "grid_area": null,
            "grid_template_columns": null,
            "flex": null,
            "_model_name": "LayoutModel",
            "justify_items": null,
            "grid_row": null,
            "max_height": null,
            "align_content": null,
            "visibility": null,
            "align_self": null,
            "height": null,
            "min_height": null,
            "padding": null,
            "grid_auto_rows": null,
            "grid_gap": null,
            "max_width": null,
            "order": null,
            "_view_module_version": "1.2.0",
            "grid_template_areas": null,
            "object_position": null,
            "object_fit": null,
            "grid_auto_columns": null,
            "margin": null,
            "display": null,
            "left": null
          }
        },
        "e3a7606c41314ec5bb6613bf3f337f53": {
          "model_module": "@jupyter-widgets/controls",
          "model_name": "FloatProgressModel",
          "state": {
            "_view_name": "ProgressView",
            "style": "IPY_MODEL_1c07120f812f41748568a80d6c84fb75",
            "_dom_classes": [],
            "description": "epoch 7: 100%",
            "_model_name": "FloatProgressModel",
            "bar_style": "success",
            "max": 3895,
            "_view_module": "@jupyter-widgets/controls",
            "_model_module_version": "1.5.0",
            "value": 3895,
            "_view_count": null,
            "_view_module_version": "1.5.0",
            "orientation": "horizontal",
            "min": 0,
            "description_tooltip": null,
            "_model_module": "@jupyter-widgets/controls",
            "layout": "IPY_MODEL_f90e5ef9dbc34610b4a1bf3cb0e6a39d"
          }
        },
        "3557048db9094cc79359e15a48672aae": {
          "model_module": "@jupyter-widgets/controls",
          "model_name": "HTMLModel",
          "state": {
            "_view_name": "HTMLView",
            "style": "IPY_MODEL_ef114eb8d58b46cfad07040f7c3815bf",
            "_dom_classes": [],
            "description": "",
            "_model_name": "HTMLModel",
            "placeholder": "​",
            "_view_module": "@jupyter-widgets/controls",
            "_model_module_version": "1.5.0",
            "value": " 3895/3895 [03:21&lt;00:00, 19.33it/s, acc=0.33333, f1=0.33333, loss=2.36859]",
            "_view_count": null,
            "_view_module_version": "1.5.0",
            "description_tooltip": null,
            "_model_module": "@jupyter-widgets/controls",
            "layout": "IPY_MODEL_f7c8b3f987f24306b6f8d758bf83129a"
          }
        },
        "1c07120f812f41748568a80d6c84fb75": {
          "model_module": "@jupyter-widgets/controls",
          "model_name": "ProgressStyleModel",
          "state": {
            "_view_name": "StyleView",
            "_model_name": "ProgressStyleModel",
            "description_width": "initial",
            "_view_module": "@jupyter-widgets/base",
            "_model_module_version": "1.5.0",
            "_view_count": null,
            "_view_module_version": "1.2.0",
            "bar_color": null,
            "_model_module": "@jupyter-widgets/controls"
          }
        },
        "f90e5ef9dbc34610b4a1bf3cb0e6a39d": {
          "model_module": "@jupyter-widgets/base",
          "model_name": "LayoutModel",
          "state": {
            "_view_name": "LayoutView",
            "grid_template_rows": null,
            "right": null,
            "justify_content": null,
            "_view_module": "@jupyter-widgets/base",
            "overflow": null,
            "_model_module_version": "1.2.0",
            "_view_count": null,
            "flex_flow": null,
            "width": null,
            "min_width": null,
            "border": null,
            "align_items": null,
            "bottom": null,
            "_model_module": "@jupyter-widgets/base",
            "top": null,
            "grid_column": null,
            "overflow_y": null,
            "overflow_x": null,
            "grid_auto_flow": null,
            "grid_area": null,
            "grid_template_columns": null,
            "flex": null,
            "_model_name": "LayoutModel",
            "justify_items": null,
            "grid_row": null,
            "max_height": null,
            "align_content": null,
            "visibility": null,
            "align_self": null,
            "height": null,
            "min_height": null,
            "padding": null,
            "grid_auto_rows": null,
            "grid_gap": null,
            "max_width": null,
            "order": null,
            "_view_module_version": "1.2.0",
            "grid_template_areas": null,
            "object_position": null,
            "object_fit": null,
            "grid_auto_columns": null,
            "margin": null,
            "display": null,
            "left": null
          }
        },
        "ef114eb8d58b46cfad07040f7c3815bf": {
          "model_module": "@jupyter-widgets/controls",
          "model_name": "DescriptionStyleModel",
          "state": {
            "_view_name": "StyleView",
            "_model_name": "DescriptionStyleModel",
            "description_width": "",
            "_view_module": "@jupyter-widgets/base",
            "_model_module_version": "1.5.0",
            "_view_count": null,
            "_view_module_version": "1.2.0",
            "_model_module": "@jupyter-widgets/controls"
          }
        },
        "f7c8b3f987f24306b6f8d758bf83129a": {
          "model_module": "@jupyter-widgets/base",
          "model_name": "LayoutModel",
          "state": {
            "_view_name": "LayoutView",
            "grid_template_rows": null,
            "right": null,
            "justify_content": null,
            "_view_module": "@jupyter-widgets/base",
            "overflow": null,
            "_model_module_version": "1.2.0",
            "_view_count": null,
            "flex_flow": null,
            "width": null,
            "min_width": null,
            "border": null,
            "align_items": null,
            "bottom": null,
            "_model_module": "@jupyter-widgets/base",
            "top": null,
            "grid_column": null,
            "overflow_y": null,
            "overflow_x": null,
            "grid_auto_flow": null,
            "grid_area": null,
            "grid_template_columns": null,
            "flex": null,
            "_model_name": "LayoutModel",
            "justify_items": null,
            "grid_row": null,
            "max_height": null,
            "align_content": null,
            "visibility": null,
            "align_self": null,
            "height": null,
            "min_height": null,
            "padding": null,
            "grid_auto_rows": null,
            "grid_gap": null,
            "max_width": null,
            "order": null,
            "_view_module_version": "1.2.0",
            "grid_template_areas": null,
            "object_position": null,
            "object_fit": null,
            "grid_auto_columns": null,
            "margin": null,
            "display": null,
            "left": null
          }
        },
        "4445106b35184a20887aaa5203856623": {
          "model_module": "@jupyter-widgets/controls",
          "model_name": "HBoxModel",
          "state": {
            "_view_name": "HBoxView",
            "_dom_classes": [],
            "_model_name": "HBoxModel",
            "_view_module": "@jupyter-widgets/controls",
            "_model_module_version": "1.5.0",
            "_view_count": null,
            "_view_module_version": "1.5.0",
            "box_style": "",
            "layout": "IPY_MODEL_4cd0c51f28404e7f8a7f2b2b5b259279",
            "_model_module": "@jupyter-widgets/controls",
            "children": [
              "IPY_MODEL_eff034525b6e4b8ebd0d4babf835690f",
              "IPY_MODEL_cfa2251a5815481cb6fbac9b0981556c"
            ]
          }
        },
        "4cd0c51f28404e7f8a7f2b2b5b259279": {
          "model_module": "@jupyter-widgets/base",
          "model_name": "LayoutModel",
          "state": {
            "_view_name": "LayoutView",
            "grid_template_rows": null,
            "right": null,
            "justify_content": null,
            "_view_module": "@jupyter-widgets/base",
            "overflow": null,
            "_model_module_version": "1.2.0",
            "_view_count": null,
            "flex_flow": null,
            "width": null,
            "min_width": null,
            "border": null,
            "align_items": null,
            "bottom": null,
            "_model_module": "@jupyter-widgets/base",
            "top": null,
            "grid_column": null,
            "overflow_y": null,
            "overflow_x": null,
            "grid_auto_flow": null,
            "grid_area": null,
            "grid_template_columns": null,
            "flex": null,
            "_model_name": "LayoutModel",
            "justify_items": null,
            "grid_row": null,
            "max_height": null,
            "align_content": null,
            "visibility": null,
            "align_self": null,
            "height": null,
            "min_height": null,
            "padding": null,
            "grid_auto_rows": null,
            "grid_gap": null,
            "max_width": null,
            "order": null,
            "_view_module_version": "1.2.0",
            "grid_template_areas": null,
            "object_position": null,
            "object_fit": null,
            "grid_auto_columns": null,
            "margin": null,
            "display": null,
            "left": null
          }
        },
        "eff034525b6e4b8ebd0d4babf835690f": {
          "model_module": "@jupyter-widgets/controls",
          "model_name": "FloatProgressModel",
          "state": {
            "_view_name": "ProgressView",
            "style": "IPY_MODEL_dd2943d6c48541968996c800db381cee",
            "_dom_classes": [],
            "description": "epoch 8: 100%",
            "_model_name": "FloatProgressModel",
            "bar_style": "success",
            "max": 3895,
            "_view_module": "@jupyter-widgets/controls",
            "_model_module_version": "1.5.0",
            "value": 3895,
            "_view_count": null,
            "_view_module_version": "1.5.0",
            "orientation": "horizontal",
            "min": 0,
            "description_tooltip": null,
            "_model_module": "@jupyter-widgets/controls",
            "layout": "IPY_MODEL_fea1615bf742454b933282e9858baaa6"
          }
        },
        "cfa2251a5815481cb6fbac9b0981556c": {
          "model_module": "@jupyter-widgets/controls",
          "model_name": "HTMLModel",
          "state": {
            "_view_name": "HTMLView",
            "style": "IPY_MODEL_620d6e33aa8c4c0cbd42249508d9d0a7",
            "_dom_classes": [],
            "description": "",
            "_model_name": "HTMLModel",
            "placeholder": "​",
            "_view_module": "@jupyter-widgets/controls",
            "_model_module_version": "1.5.0",
            "value": " 3895/3895 [01:40&lt;00:00, 38.73it/s, acc=0.33333, f1=0.33333, loss=2.46783]",
            "_view_count": null,
            "_view_module_version": "1.5.0",
            "description_tooltip": null,
            "_model_module": "@jupyter-widgets/controls",
            "layout": "IPY_MODEL_cceb7c037e5948669fd960e37c1a028a"
          }
        },
        "dd2943d6c48541968996c800db381cee": {
          "model_module": "@jupyter-widgets/controls",
          "model_name": "ProgressStyleModel",
          "state": {
            "_view_name": "StyleView",
            "_model_name": "ProgressStyleModel",
            "description_width": "initial",
            "_view_module": "@jupyter-widgets/base",
            "_model_module_version": "1.5.0",
            "_view_count": null,
            "_view_module_version": "1.2.0",
            "bar_color": null,
            "_model_module": "@jupyter-widgets/controls"
          }
        },
        "fea1615bf742454b933282e9858baaa6": {
          "model_module": "@jupyter-widgets/base",
          "model_name": "LayoutModel",
          "state": {
            "_view_name": "LayoutView",
            "grid_template_rows": null,
            "right": null,
            "justify_content": null,
            "_view_module": "@jupyter-widgets/base",
            "overflow": null,
            "_model_module_version": "1.2.0",
            "_view_count": null,
            "flex_flow": null,
            "width": null,
            "min_width": null,
            "border": null,
            "align_items": null,
            "bottom": null,
            "_model_module": "@jupyter-widgets/base",
            "top": null,
            "grid_column": null,
            "overflow_y": null,
            "overflow_x": null,
            "grid_auto_flow": null,
            "grid_area": null,
            "grid_template_columns": null,
            "flex": null,
            "_model_name": "LayoutModel",
            "justify_items": null,
            "grid_row": null,
            "max_height": null,
            "align_content": null,
            "visibility": null,
            "align_self": null,
            "height": null,
            "min_height": null,
            "padding": null,
            "grid_auto_rows": null,
            "grid_gap": null,
            "max_width": null,
            "order": null,
            "_view_module_version": "1.2.0",
            "grid_template_areas": null,
            "object_position": null,
            "object_fit": null,
            "grid_auto_columns": null,
            "margin": null,
            "display": null,
            "left": null
          }
        },
        "620d6e33aa8c4c0cbd42249508d9d0a7": {
          "model_module": "@jupyter-widgets/controls",
          "model_name": "DescriptionStyleModel",
          "state": {
            "_view_name": "StyleView",
            "_model_name": "DescriptionStyleModel",
            "description_width": "",
            "_view_module": "@jupyter-widgets/base",
            "_model_module_version": "1.5.0",
            "_view_count": null,
            "_view_module_version": "1.2.0",
            "_model_module": "@jupyter-widgets/controls"
          }
        },
        "cceb7c037e5948669fd960e37c1a028a": {
          "model_module": "@jupyter-widgets/base",
          "model_name": "LayoutModel",
          "state": {
            "_view_name": "LayoutView",
            "grid_template_rows": null,
            "right": null,
            "justify_content": null,
            "_view_module": "@jupyter-widgets/base",
            "overflow": null,
            "_model_module_version": "1.2.0",
            "_view_count": null,
            "flex_flow": null,
            "width": null,
            "min_width": null,
            "border": null,
            "align_items": null,
            "bottom": null,
            "_model_module": "@jupyter-widgets/base",
            "top": null,
            "grid_column": null,
            "overflow_y": null,
            "overflow_x": null,
            "grid_auto_flow": null,
            "grid_area": null,
            "grid_template_columns": null,
            "flex": null,
            "_model_name": "LayoutModel",
            "justify_items": null,
            "grid_row": null,
            "max_height": null,
            "align_content": null,
            "visibility": null,
            "align_self": null,
            "height": null,
            "min_height": null,
            "padding": null,
            "grid_auto_rows": null,
            "grid_gap": null,
            "max_width": null,
            "order": null,
            "_view_module_version": "1.2.0",
            "grid_template_areas": null,
            "object_position": null,
            "object_fit": null,
            "grid_auto_columns": null,
            "margin": null,
            "display": null,
            "left": null
          }
        },
        "ecebeef7823a4631a6305a9dd31bc315": {
          "model_module": "@jupyter-widgets/controls",
          "model_name": "HBoxModel",
          "state": {
            "_view_name": "HBoxView",
            "_dom_classes": [],
            "_model_name": "HBoxModel",
            "_view_module": "@jupyter-widgets/controls",
            "_model_module_version": "1.5.0",
            "_view_count": null,
            "_view_module_version": "1.5.0",
            "box_style": "",
            "layout": "IPY_MODEL_60d43df6f2814073936a723f94ef5892",
            "_model_module": "@jupyter-widgets/controls",
            "children": [
              "IPY_MODEL_cd76ea52348e4bc0b4be6a1ab5d845aa",
              "IPY_MODEL_46091e5141844689a9884d711b04bf43"
            ]
          }
        },
        "60d43df6f2814073936a723f94ef5892": {
          "model_module": "@jupyter-widgets/base",
          "model_name": "LayoutModel",
          "state": {
            "_view_name": "LayoutView",
            "grid_template_rows": null,
            "right": null,
            "justify_content": null,
            "_view_module": "@jupyter-widgets/base",
            "overflow": null,
            "_model_module_version": "1.2.0",
            "_view_count": null,
            "flex_flow": null,
            "width": null,
            "min_width": null,
            "border": null,
            "align_items": null,
            "bottom": null,
            "_model_module": "@jupyter-widgets/base",
            "top": null,
            "grid_column": null,
            "overflow_y": null,
            "overflow_x": null,
            "grid_auto_flow": null,
            "grid_area": null,
            "grid_template_columns": null,
            "flex": null,
            "_model_name": "LayoutModel",
            "justify_items": null,
            "grid_row": null,
            "max_height": null,
            "align_content": null,
            "visibility": null,
            "align_self": null,
            "height": null,
            "min_height": null,
            "padding": null,
            "grid_auto_rows": null,
            "grid_gap": null,
            "max_width": null,
            "order": null,
            "_view_module_version": "1.2.0",
            "grid_template_areas": null,
            "object_position": null,
            "object_fit": null,
            "grid_auto_columns": null,
            "margin": null,
            "display": null,
            "left": null
          }
        },
        "cd76ea52348e4bc0b4be6a1ab5d845aa": {
          "model_module": "@jupyter-widgets/controls",
          "model_name": "FloatProgressModel",
          "state": {
            "_view_name": "ProgressView",
            "style": "IPY_MODEL_cd5504e0add44f499d67613aa7f3cd5f",
            "_dom_classes": [],
            "description": "epoch 9: 100%",
            "_model_name": "FloatProgressModel",
            "bar_style": "success",
            "max": 3895,
            "_view_module": "@jupyter-widgets/controls",
            "_model_module_version": "1.5.0",
            "value": 3895,
            "_view_count": null,
            "_view_module_version": "1.5.0",
            "orientation": "horizontal",
            "min": 0,
            "description_tooltip": null,
            "_model_module": "@jupyter-widgets/controls",
            "layout": "IPY_MODEL_ea5260b03cc7416994d6f155c9efa690"
          }
        },
        "46091e5141844689a9884d711b04bf43": {
          "model_module": "@jupyter-widgets/controls",
          "model_name": "HTMLModel",
          "state": {
            "_view_name": "HTMLView",
            "style": "IPY_MODEL_85c537abb6e347a7961afac605ca8dc3",
            "_dom_classes": [],
            "description": "",
            "_model_name": "HTMLModel",
            "placeholder": "​",
            "_view_module": "@jupyter-widgets/controls",
            "_model_module_version": "1.5.0",
            "value": " 3895/3895 [26:13&lt;00:00,  2.48it/s, acc=0.34409, f1=0.34409, loss=2.34373]",
            "_view_count": null,
            "_view_module_version": "1.5.0",
            "description_tooltip": null,
            "_model_module": "@jupyter-widgets/controls",
            "layout": "IPY_MODEL_4186e51ce5394e4aa8a4dace3d485ee6"
          }
        },
        "cd5504e0add44f499d67613aa7f3cd5f": {
          "model_module": "@jupyter-widgets/controls",
          "model_name": "ProgressStyleModel",
          "state": {
            "_view_name": "StyleView",
            "_model_name": "ProgressStyleModel",
            "description_width": "initial",
            "_view_module": "@jupyter-widgets/base",
            "_model_module_version": "1.5.0",
            "_view_count": null,
            "_view_module_version": "1.2.0",
            "bar_color": null,
            "_model_module": "@jupyter-widgets/controls"
          }
        },
        "ea5260b03cc7416994d6f155c9efa690": {
          "model_module": "@jupyter-widgets/base",
          "model_name": "LayoutModel",
          "state": {
            "_view_name": "LayoutView",
            "grid_template_rows": null,
            "right": null,
            "justify_content": null,
            "_view_module": "@jupyter-widgets/base",
            "overflow": null,
            "_model_module_version": "1.2.0",
            "_view_count": null,
            "flex_flow": null,
            "width": null,
            "min_width": null,
            "border": null,
            "align_items": null,
            "bottom": null,
            "_model_module": "@jupyter-widgets/base",
            "top": null,
            "grid_column": null,
            "overflow_y": null,
            "overflow_x": null,
            "grid_auto_flow": null,
            "grid_area": null,
            "grid_template_columns": null,
            "flex": null,
            "_model_name": "LayoutModel",
            "justify_items": null,
            "grid_row": null,
            "max_height": null,
            "align_content": null,
            "visibility": null,
            "align_self": null,
            "height": null,
            "min_height": null,
            "padding": null,
            "grid_auto_rows": null,
            "grid_gap": null,
            "max_width": null,
            "order": null,
            "_view_module_version": "1.2.0",
            "grid_template_areas": null,
            "object_position": null,
            "object_fit": null,
            "grid_auto_columns": null,
            "margin": null,
            "display": null,
            "left": null
          }
        },
        "85c537abb6e347a7961afac605ca8dc3": {
          "model_module": "@jupyter-widgets/controls",
          "model_name": "DescriptionStyleModel",
          "state": {
            "_view_name": "StyleView",
            "_model_name": "DescriptionStyleModel",
            "description_width": "",
            "_view_module": "@jupyter-widgets/base",
            "_model_module_version": "1.5.0",
            "_view_count": null,
            "_view_module_version": "1.2.0",
            "_model_module": "@jupyter-widgets/controls"
          }
        },
        "4186e51ce5394e4aa8a4dace3d485ee6": {
          "model_module": "@jupyter-widgets/base",
          "model_name": "LayoutModel",
          "state": {
            "_view_name": "LayoutView",
            "grid_template_rows": null,
            "right": null,
            "justify_content": null,
            "_view_module": "@jupyter-widgets/base",
            "overflow": null,
            "_model_module_version": "1.2.0",
            "_view_count": null,
            "flex_flow": null,
            "width": null,
            "min_width": null,
            "border": null,
            "align_items": null,
            "bottom": null,
            "_model_module": "@jupyter-widgets/base",
            "top": null,
            "grid_column": null,
            "overflow_y": null,
            "overflow_x": null,
            "grid_auto_flow": null,
            "grid_area": null,
            "grid_template_columns": null,
            "flex": null,
            "_model_name": "LayoutModel",
            "justify_items": null,
            "grid_row": null,
            "max_height": null,
            "align_content": null,
            "visibility": null,
            "align_self": null,
            "height": null,
            "min_height": null,
            "padding": null,
            "grid_auto_rows": null,
            "grid_gap": null,
            "max_width": null,
            "order": null,
            "_view_module_version": "1.2.0",
            "grid_template_areas": null,
            "object_position": null,
            "object_fit": null,
            "grid_auto_columns": null,
            "margin": null,
            "display": null,
            "left": null
          }
        },
        "fbd4466718314ee3a523281826aafaba": {
          "model_module": "@jupyter-widgets/controls",
          "model_name": "HBoxModel",
          "state": {
            "_view_name": "HBoxView",
            "_dom_classes": [],
            "_model_name": "HBoxModel",
            "_view_module": "@jupyter-widgets/controls",
            "_model_module_version": "1.5.0",
            "_view_count": null,
            "_view_module_version": "1.5.0",
            "box_style": "",
            "layout": "IPY_MODEL_f62fbb9809db4cbc804d3f563d3aedb8",
            "_model_module": "@jupyter-widgets/controls",
            "children": [
              "IPY_MODEL_3e4e94b93c5e47ceae982bac6336f49e",
              "IPY_MODEL_6ebb7dd153c74f5c90602740b92281e5"
            ]
          }
        },
        "f62fbb9809db4cbc804d3f563d3aedb8": {
          "model_module": "@jupyter-widgets/base",
          "model_name": "LayoutModel",
          "state": {
            "_view_name": "LayoutView",
            "grid_template_rows": null,
            "right": null,
            "justify_content": null,
            "_view_module": "@jupyter-widgets/base",
            "overflow": null,
            "_model_module_version": "1.2.0",
            "_view_count": null,
            "flex_flow": null,
            "width": null,
            "min_width": null,
            "border": null,
            "align_items": null,
            "bottom": null,
            "_model_module": "@jupyter-widgets/base",
            "top": null,
            "grid_column": null,
            "overflow_y": null,
            "overflow_x": null,
            "grid_auto_flow": null,
            "grid_area": null,
            "grid_template_columns": null,
            "flex": null,
            "_model_name": "LayoutModel",
            "justify_items": null,
            "grid_row": null,
            "max_height": null,
            "align_content": null,
            "visibility": null,
            "align_self": null,
            "height": null,
            "min_height": null,
            "padding": null,
            "grid_auto_rows": null,
            "grid_gap": null,
            "max_width": null,
            "order": null,
            "_view_module_version": "1.2.0",
            "grid_template_areas": null,
            "object_position": null,
            "object_fit": null,
            "grid_auto_columns": null,
            "margin": null,
            "display": null,
            "left": null
          }
        },
        "3e4e94b93c5e47ceae982bac6336f49e": {
          "model_module": "@jupyter-widgets/controls",
          "model_name": "FloatProgressModel",
          "state": {
            "_view_name": "ProgressView",
            "style": "IPY_MODEL_f1d0782cc99e408894b54c27b82e3199",
            "_dom_classes": [],
            "description": "100%",
            "_model_name": "FloatProgressModel",
            "bar_style": "success",
            "max": 1006,
            "_view_module": "@jupyter-widgets/controls",
            "_model_module_version": "1.5.0",
            "value": 1006,
            "_view_count": null,
            "_view_module_version": "1.5.0",
            "orientation": "horizontal",
            "min": 0,
            "description_tooltip": null,
            "_model_module": "@jupyter-widgets/controls",
            "layout": "IPY_MODEL_70b6aa22e57b4713ac65df30055c3654"
          }
        },
        "6ebb7dd153c74f5c90602740b92281e5": {
          "model_module": "@jupyter-widgets/controls",
          "model_name": "HTMLModel",
          "state": {
            "_view_name": "HTMLView",
            "style": "IPY_MODEL_449c1b239b9e4da1b7982a4e7bb1f653",
            "_dom_classes": [],
            "description": "",
            "_model_name": "HTMLModel",
            "placeholder": "​",
            "_view_module": "@jupyter-widgets/controls",
            "_model_module_version": "1.5.0",
            "value": " 1006/1006 [01:00&lt;00:00, 16.65it/s]",
            "_view_count": null,
            "_view_module_version": "1.5.0",
            "description_tooltip": null,
            "_model_module": "@jupyter-widgets/controls",
            "layout": "IPY_MODEL_62931bac0c284167840a228c628e4d0c"
          }
        },
        "f1d0782cc99e408894b54c27b82e3199": {
          "model_module": "@jupyter-widgets/controls",
          "model_name": "ProgressStyleModel",
          "state": {
            "_view_name": "StyleView",
            "_model_name": "ProgressStyleModel",
            "description_width": "initial",
            "_view_module": "@jupyter-widgets/base",
            "_model_module_version": "1.5.0",
            "_view_count": null,
            "_view_module_version": "1.2.0",
            "bar_color": null,
            "_model_module": "@jupyter-widgets/controls"
          }
        },
        "70b6aa22e57b4713ac65df30055c3654": {
          "model_module": "@jupyter-widgets/base",
          "model_name": "LayoutModel",
          "state": {
            "_view_name": "LayoutView",
            "grid_template_rows": null,
            "right": null,
            "justify_content": null,
            "_view_module": "@jupyter-widgets/base",
            "overflow": null,
            "_model_module_version": "1.2.0",
            "_view_count": null,
            "flex_flow": null,
            "width": null,
            "min_width": null,
            "border": null,
            "align_items": null,
            "bottom": null,
            "_model_module": "@jupyter-widgets/base",
            "top": null,
            "grid_column": null,
            "overflow_y": null,
            "overflow_x": null,
            "grid_auto_flow": null,
            "grid_area": null,
            "grid_template_columns": null,
            "flex": null,
            "_model_name": "LayoutModel",
            "justify_items": null,
            "grid_row": null,
            "max_height": null,
            "align_content": null,
            "visibility": null,
            "align_self": null,
            "height": null,
            "min_height": null,
            "padding": null,
            "grid_auto_rows": null,
            "grid_gap": null,
            "max_width": null,
            "order": null,
            "_view_module_version": "1.2.0",
            "grid_template_areas": null,
            "object_position": null,
            "object_fit": null,
            "grid_auto_columns": null,
            "margin": null,
            "display": null,
            "left": null
          }
        },
        "449c1b239b9e4da1b7982a4e7bb1f653": {
          "model_module": "@jupyter-widgets/controls",
          "model_name": "DescriptionStyleModel",
          "state": {
            "_view_name": "StyleView",
            "_model_name": "DescriptionStyleModel",
            "description_width": "",
            "_view_module": "@jupyter-widgets/base",
            "_model_module_version": "1.5.0",
            "_view_count": null,
            "_view_module_version": "1.2.0",
            "_model_module": "@jupyter-widgets/controls"
          }
        },
        "62931bac0c284167840a228c628e4d0c": {
          "model_module": "@jupyter-widgets/base",
          "model_name": "LayoutModel",
          "state": {
            "_view_name": "LayoutView",
            "grid_template_rows": null,
            "right": null,
            "justify_content": null,
            "_view_module": "@jupyter-widgets/base",
            "overflow": null,
            "_model_module_version": "1.2.0",
            "_view_count": null,
            "flex_flow": null,
            "width": null,
            "min_width": null,
            "border": null,
            "align_items": null,
            "bottom": null,
            "_model_module": "@jupyter-widgets/base",
            "top": null,
            "grid_column": null,
            "overflow_y": null,
            "overflow_x": null,
            "grid_auto_flow": null,
            "grid_area": null,
            "grid_template_columns": null,
            "flex": null,
            "_model_name": "LayoutModel",
            "justify_items": null,
            "grid_row": null,
            "max_height": null,
            "align_content": null,
            "visibility": null,
            "align_self": null,
            "height": null,
            "min_height": null,
            "padding": null,
            "grid_auto_rows": null,
            "grid_gap": null,
            "max_width": null,
            "order": null,
            "_view_module_version": "1.2.0",
            "grid_template_areas": null,
            "object_position": null,
            "object_fit": null,
            "grid_auto_columns": null,
            "margin": null,
            "display": null,
            "left": null
          }
        },
        "a5cec44738bb451080480a700a20e0cd": {
          "model_module": "@jupyter-widgets/controls",
          "model_name": "HBoxModel",
          "state": {
            "_view_name": "HBoxView",
            "_dom_classes": [],
            "_model_name": "HBoxModel",
            "_view_module": "@jupyter-widgets/controls",
            "_model_module_version": "1.5.0",
            "_view_count": null,
            "_view_module_version": "1.5.0",
            "box_style": "",
            "layout": "IPY_MODEL_d3bfada39c1d44fb977d2a9faa5b7270",
            "_model_module": "@jupyter-widgets/controls",
            "children": [
              "IPY_MODEL_40713f25799342d78e7bd0ef5e342800",
              "IPY_MODEL_7d143a3aa3564866897c36e96be97697"
            ]
          }
        },
        "d3bfada39c1d44fb977d2a9faa5b7270": {
          "model_module": "@jupyter-widgets/base",
          "model_name": "LayoutModel",
          "state": {
            "_view_name": "LayoutView",
            "grid_template_rows": null,
            "right": null,
            "justify_content": null,
            "_view_module": "@jupyter-widgets/base",
            "overflow": null,
            "_model_module_version": "1.2.0",
            "_view_count": null,
            "flex_flow": null,
            "width": null,
            "min_width": null,
            "border": null,
            "align_items": null,
            "bottom": null,
            "_model_module": "@jupyter-widgets/base",
            "top": null,
            "grid_column": null,
            "overflow_y": null,
            "overflow_x": null,
            "grid_auto_flow": null,
            "grid_area": null,
            "grid_template_columns": null,
            "flex": null,
            "_model_name": "LayoutModel",
            "justify_items": null,
            "grid_row": null,
            "max_height": null,
            "align_content": null,
            "visibility": null,
            "align_self": null,
            "height": null,
            "min_height": null,
            "padding": null,
            "grid_auto_rows": null,
            "grid_gap": null,
            "max_width": null,
            "order": null,
            "_view_module_version": "1.2.0",
            "grid_template_areas": null,
            "object_position": null,
            "object_fit": null,
            "grid_auto_columns": null,
            "margin": null,
            "display": null,
            "left": null
          }
        },
        "40713f25799342d78e7bd0ef5e342800": {
          "model_module": "@jupyter-widgets/controls",
          "model_name": "FloatProgressModel",
          "state": {
            "_view_name": "ProgressView",
            "style": "IPY_MODEL_aaa64be9f9654d528923e0744bc7d88c",
            "_dom_classes": [],
            "description": "100%",
            "_model_name": "FloatProgressModel",
            "bar_style": "success",
            "max": 1000,
            "_view_module": "@jupyter-widgets/controls",
            "_model_module_version": "1.5.0",
            "value": 1000,
            "_view_count": null,
            "_view_module_version": "1.5.0",
            "orientation": "horizontal",
            "min": 0,
            "description_tooltip": null,
            "_model_module": "@jupyter-widgets/controls",
            "layout": "IPY_MODEL_db831b2e5e1d4c6c8a3c9cef501dfc2d"
          }
        },
        "7d143a3aa3564866897c36e96be97697": {
          "model_module": "@jupyter-widgets/controls",
          "model_name": "HTMLModel",
          "state": {
            "_view_name": "HTMLView",
            "style": "IPY_MODEL_9b238e7a23124944ad48c14cd034fbc3",
            "_dom_classes": [],
            "description": "",
            "_model_name": "HTMLModel",
            "placeholder": "​",
            "_view_module": "@jupyter-widgets/controls",
            "_model_module_version": "1.5.0",
            "value": " 1000/1000 [01:04&lt;00:00, 15.55it/s]",
            "_view_count": null,
            "_view_module_version": "1.5.0",
            "description_tooltip": null,
            "_model_module": "@jupyter-widgets/controls",
            "layout": "IPY_MODEL_6558bc62e1ad4ff3be5c9936e4112777"
          }
        },
        "aaa64be9f9654d528923e0744bc7d88c": {
          "model_module": "@jupyter-widgets/controls",
          "model_name": "ProgressStyleModel",
          "state": {
            "_view_name": "StyleView",
            "_model_name": "ProgressStyleModel",
            "description_width": "initial",
            "_view_module": "@jupyter-widgets/base",
            "_model_module_version": "1.5.0",
            "_view_count": null,
            "_view_module_version": "1.2.0",
            "bar_color": null,
            "_model_module": "@jupyter-widgets/controls"
          }
        },
        "db831b2e5e1d4c6c8a3c9cef501dfc2d": {
          "model_module": "@jupyter-widgets/base",
          "model_name": "LayoutModel",
          "state": {
            "_view_name": "LayoutView",
            "grid_template_rows": null,
            "right": null,
            "justify_content": null,
            "_view_module": "@jupyter-widgets/base",
            "overflow": null,
            "_model_module_version": "1.2.0",
            "_view_count": null,
            "flex_flow": null,
            "width": null,
            "min_width": null,
            "border": null,
            "align_items": null,
            "bottom": null,
            "_model_module": "@jupyter-widgets/base",
            "top": null,
            "grid_column": null,
            "overflow_y": null,
            "overflow_x": null,
            "grid_auto_flow": null,
            "grid_area": null,
            "grid_template_columns": null,
            "flex": null,
            "_model_name": "LayoutModel",
            "justify_items": null,
            "grid_row": null,
            "max_height": null,
            "align_content": null,
            "visibility": null,
            "align_self": null,
            "height": null,
            "min_height": null,
            "padding": null,
            "grid_auto_rows": null,
            "grid_gap": null,
            "max_width": null,
            "order": null,
            "_view_module_version": "1.2.0",
            "grid_template_areas": null,
            "object_position": null,
            "object_fit": null,
            "grid_auto_columns": null,
            "margin": null,
            "display": null,
            "left": null
          }
        },
        "9b238e7a23124944ad48c14cd034fbc3": {
          "model_module": "@jupyter-widgets/controls",
          "model_name": "DescriptionStyleModel",
          "state": {
            "_view_name": "StyleView",
            "_model_name": "DescriptionStyleModel",
            "description_width": "",
            "_view_module": "@jupyter-widgets/base",
            "_model_module_version": "1.5.0",
            "_view_count": null,
            "_view_module_version": "1.2.0",
            "_model_module": "@jupyter-widgets/controls"
          }
        },
        "6558bc62e1ad4ff3be5c9936e4112777": {
          "model_module": "@jupyter-widgets/base",
          "model_name": "LayoutModel",
          "state": {
            "_view_name": "LayoutView",
            "grid_template_rows": null,
            "right": null,
            "justify_content": null,
            "_view_module": "@jupyter-widgets/base",
            "overflow": null,
            "_model_module_version": "1.2.0",
            "_view_count": null,
            "flex_flow": null,
            "width": null,
            "min_width": null,
            "border": null,
            "align_items": null,
            "bottom": null,
            "_model_module": "@jupyter-widgets/base",
            "top": null,
            "grid_column": null,
            "overflow_y": null,
            "overflow_x": null,
            "grid_auto_flow": null,
            "grid_area": null,
            "grid_template_columns": null,
            "flex": null,
            "_model_name": "LayoutModel",
            "justify_items": null,
            "grid_row": null,
            "max_height": null,
            "align_content": null,
            "visibility": null,
            "align_self": null,
            "height": null,
            "min_height": null,
            "padding": null,
            "grid_auto_rows": null,
            "grid_gap": null,
            "max_width": null,
            "order": null,
            "_view_module_version": "1.2.0",
            "grid_template_areas": null,
            "object_position": null,
            "object_fit": null,
            "grid_auto_columns": null,
            "margin": null,
            "display": null,
            "left": null
          }
        }
      }
    }
  },
  "cells": [
    {
      "cell_type": "markdown",
      "metadata": {
        "id": "FBQ3ET-JYX1v"
      },
      "source": [
        "<a href=\"https://colab.research.google.com/drive/1GqaM61bRs_z-JK5UssuImCyvKkFOuRO9?usp=sharing\"><img src=\"https://colab.research.google.com/assets/colab-badge.svg\" alt=\"Open in Colab\"></a>"
      ]
    },
    {
      "cell_type": "markdown",
      "metadata": {
        "id": "21GeBxezQyiT"
      },
      "source": [
        "If we want to save data to Google drive, first we should do this:"
      ]
    },
    {
      "cell_type": "code",
      "metadata": {
        "id": "738e3BHVQpzj"
      },
      "source": [
        "import os\n",
        "from google.colab import drive"
      ],
      "execution_count": 1,
      "outputs": []
    },
    {
      "cell_type": "code",
      "metadata": {
        "colab": {
          "base_uri": "https://localhost:8080/"
        },
        "id": "hqQbROrmQwQ2",
        "outputId": "85f18c7d-fcfd-4ff1-e4f5-89fc218dee14"
      },
      "source": [
        "drive.mount('/content/drive')\n",
        "os.chdir('drive/My Drive/ChukchiLM')"
      ],
      "execution_count": 2,
      "outputs": [
        {
          "output_type": "stream",
          "text": [
            "Mounted at /content/drive\n"
          ],
          "name": "stdout"
        }
      ]
    },
    {
      "cell_type": "markdown",
      "metadata": {
        "id": "6tlPl9YCYS3x"
      },
      "source": [
        "Download data and baseline implementation from github:"
      ]
    },
    {
      "cell_type": "code",
      "metadata": {
        "colab": {
          "base_uri": "https://localhost:8080/"
        },
        "id": "Z_FIGEF4MTLX",
        "outputId": "996ef43a-51b8-4944-a793-442263035b2f"
      },
      "source": [
        "!git clone https://github.com/ftyers/global-classroom.git"
      ],
      "execution_count": null,
      "outputs": [
        {
          "output_type": "stream",
          "text": [
            "fatal: destination path 'global-classroom' already exists and is not an empty directory.\n"
          ],
          "name": "stdout"
        }
      ]
    },
    {
      "cell_type": "markdown",
      "metadata": {
        "id": "u9dRW_bjBVFX"
      },
      "source": [
        "# Baseline"
      ]
    },
    {
      "cell_type": "code",
      "metadata": {
        "colab": {
          "base_uri": "https://localhost:8080/"
        },
        "id": "WWVQjF8PBbj2",
        "outputId": "fc7f8c60-4d7e-4d22-e435-7cc4d791087a"
      },
      "source": [
        "import os\n",
        "os.listdir()"
      ],
      "execution_count": 3,
      "outputs": [
        {
          "output_type": "execute_result",
          "data": {
            "text/plain": [
              "['global-classroom',\n",
              " 'lstm_morph_model',\n",
              " 'lstm_morph_model_freq_restricted',\n",
              " 'cnn_embed_morph_model',\n",
              " 'output1.tsv',\n",
              " 'dev_output1.tsv',\n",
              " 'output_test_lstm.tsv',\n",
              " 'output_dev_lstm.tsv',\n",
              " 'lstm_restricted_test_output.tsv',\n",
              " 'lstm_restricted_dev_output.tsv',\n",
              " 'cnn_morph_model',\n",
              " 'cnn_token_test_output.tsv',\n",
              " 'cnn_token_dev_output.tsv']"
            ]
          },
          "metadata": {
            "tags": []
          },
          "execution_count": 3
        }
      ]
    },
    {
      "cell_type": "code",
      "metadata": {
        "colab": {
          "base_uri": "https://localhost:8080/"
        },
        "id": "ECM5Y6VHBntK",
        "outputId": "6ab0cbac-0e3d-4149-ace2-5b116939a72b"
      },
      "source": [
        "os.chdir('global-classroom/chukchi/baseline')\n",
        "!python3 train.py ../data/train.tsv model.dat\n",
        "!python3 predict.py model.dat < ../data/dev.tsv > output.tsv\n",
        "!python3 ../evaluate.py ../data/dev.tsv output.tsv "
      ],
      "execution_count": 4,
      "outputs": [
        {
          "output_type": "stream",
          "text": [
            "Written 33724 unigrams and 107835 bigrams to model.dat.\n",
            "Hits: 33 ; Tokens: 4504\n",
            "Characters: 37897\n",
            "Tokens: 8788\n",
            "Clicks: 37754\n",
            "Clicks/Token: 4.2960855712335\n",
            "Clicks/Character: 0.9962266142438716\n"
          ],
          "name": "stdout"
        }
      ]
    },
    {
      "cell_type": "code",
      "metadata": {
        "colab": {
          "base_uri": "https://localhost:8080/"
        },
        "id": "0zSr0VBcCJLJ",
        "outputId": "0ba4e685-a9c3-49ea-cdcd-c9068498bbe9"
      },
      "source": [
        "!sed 5q < ../data/dev.tsv output.tsv "
      ],
      "execution_count": null,
      "outputs": [
        {
          "output_type": "stream",
          "text": [
            "ӄԓявыԓя риӄукэтэ ивнин ытри ынкы варкыт гынин ӈэвъэн гэԓгыԓин мэмыԓя рагтыгъэ\tӄ ԓ я в ы ԓ я _ р и ӄ у к э т э _ и в н и н _ ы т р и _ ы н к ы _ в а р к ы т _ г ы н и н _ ӈ э в ъ э н _ г э ԓ г ы ԓ и н _ м э м ы ԓ я _ р а г т ы г ъ э _\n",
            "ӄԓявыԓ ынкъам купрэн ынанъомрычьын\tӄ ԓ я в ы ԓ _ ы н к ъ а м _ к у п р э н _ ы н а н ъ о м р ы ч ь ы н _\n",
            "рытэнмавнэн ынӄо эргатык эквэтгъэт копрантыватысӄэквъат\tр ы т э н м а в н э н _ ы н ӄ о _ э р г а т ы к _ э к в э т г ъ э т _ к о п р а н т ы в а т ы с ӄ э к в ъ а т _\n",
            "риӄукэтэ гамгаваны нэнайӈоткоӄэн ӄоԓ\tр и ӄ у к э т э _ г а м г а в а н ы _ н э н а й ӈ о т к о ӄ э н _ ӄ о ԓ _\n",
            "ԓьунин ынӄо йыӈотконэн\tԓ ь у н и н _ ы н ӄ о _ й ы ӈ о т к о н э н _\n"
          ],
          "name": "stdout"
        }
      ]
    },
    {
      "cell_type": "markdown",
      "metadata": {
        "id": "koHat64nEat9"
      },
      "source": [
        "In output.tsv we should have the original sentence and model output separated by tab. If the model's next word guess was right we append the whole word to output. If the model's guess was wrong, we append to the output each character separately. Between words we should add an underscore"
      ]
    },
    {
      "cell_type": "markdown",
      "metadata": {
        "id": "G3XIGnSfBYol"
      },
      "source": [
        "# Our model"
      ]
    },
    {
      "cell_type": "code",
      "metadata": {
        "id": "3Qh_IDLEFx0T"
      },
      "source": [
        "os.chdir('..')\n",
        "os.chdir('..')\n",
        "os.chdir('..')"
      ],
      "execution_count": 5,
      "outputs": []
    },
    {
      "cell_type": "code",
      "metadata": {
        "id": "o25pfr3HNAwn"
      },
      "source": [
        "import os\n",
        "import re\n",
        "import csv\n",
        "\n",
        "import torch as tt\n",
        "import torch.nn as nn\n",
        "import torch.optim as optim\n",
        "import pandas as pd\n",
        "\n",
        "from math import ceil\n",
        "from tqdm import tqdm_notebook\n",
        "\n",
        "from sklearn.metrics import accuracy_score, f1_score\n",
        "from sklearn.model_selection import train_test_split\n",
        "from torch.nn.utils import clip_grad_norm_\n",
        "\n",
        "from collections import Counter\n",
        "\n",
        "import numpy as np"
      ],
      "execution_count": 30,
      "outputs": []
    },
    {
      "cell_type": "code",
      "metadata": {
        "colab": {
          "base_uri": "https://localhost:8080/"
        },
        "id": "8PgtE8CAM8EY",
        "outputId": "a435fd5d-59d4-4a45-a156-4e37d65c0e11"
      },
      "source": [
        "os.listdir(\"global-classroom/chukchi/data\")"
      ],
      "execution_count": 7,
      "outputs": [
        {
          "output_type": "execute_result",
          "data": {
            "text/plain": [
              "['dev.tsv', 'test', 'train.tsv']"
            ]
          },
          "metadata": {
            "tags": []
          },
          "execution_count": 7
        }
      ]
    },
    {
      "cell_type": "code",
      "metadata": {
        "id": "IaDqLO25NL4p"
      },
      "source": [
        "with open(\"global-classroom/chukchi/data/train.tsv\") as inp:\n",
        "  word_sentences = []\n",
        "  morph_sentences = []\n",
        "  for line in inp.readlines():\n",
        "    words, morphs = line.strip('\\n').split('\\t')\n",
        "    word_sentences.append(words.split(' '))\n",
        "    morph_sentences.append(morphs.replace('>',' >').split(' '))\n",
        "\n",
        "with open(\"global-classroom/chukchi/data/dev.tsv\") as inp:\n",
        "  dev_word_sentences = []\n",
        "  dev_morph_sentences = []\n",
        "  for line in inp.readlines():\n",
        "    words, morphs = line.strip('\\n').split('\\t')\n",
        "    dev_word_sentences.append(words.split(' '))\n",
        "    dev_morph_sentences.append(morphs.replace('>',' >').split(' '))\n",
        "\n",
        "with open(\"global-classroom/chukchi/data/test/test.tsv\") as inp:\n",
        "  test_word_sentences = []\n",
        "  test_morph_sentences = []\n",
        "  for line in inp.readlines():\n",
        "    words, morphs = line.strip('\\n').split('\\t')\n",
        "    test_word_sentences.append(words.split(' '))\n",
        "    test_morph_sentences.append(morphs.replace('>',' >').split(' '))"
      ],
      "execution_count": 8,
      "outputs": []
    },
    {
      "cell_type": "code",
      "metadata": {
        "colab": {
          "base_uri": "https://localhost:8080/"
        },
        "id": "Bl7SMeakisY6",
        "outputId": "e85637ae-1940-43d8-fe54-c54e3ecad2e0"
      },
      "source": [
        "print(word_sentences[:3])"
      ],
      "execution_count": 9,
      "outputs": [
        {
          "output_type": "stream",
          "text": [
            "[['амаравкэваратэн', 'таа’койӈын'], ['йъйыӄык', 'ныӄэԓпэратӄэн', 'вытэчгытрыӄэргыԓьын', 'йыӈэттэт'], ['мыкыӈ', 'нывытрэтӄин', 'чеԓгатвытрыԓьо', 'ынӄорыым', 'вытэчгытрыԓьо']]\n"
          ],
          "name": "stdout"
        }
      ]
    },
    {
      "cell_type": "code",
      "metadata": {
        "colab": {
          "base_uri": "https://localhost:8080/"
        },
        "id": "wNeOwK_ji_oH",
        "outputId": "1df5c689-d04c-44a8-f917-146a4fb19746"
      },
      "source": [
        "print(morph_sentences[:3])"
      ],
      "execution_count": 10,
      "outputs": [
        {
          "output_type": "stream",
          "text": [
            "[['а', '>маравкэва', '>ра', '>тэн', 'таа', '>’ко', '>йӈы', '>н'], ['йъйыӄы', '>к', 'ны', '>ӄэԓпэр', '>ат', '>ӄэн', 'вытэч', '>гытры', '>ӄэргы', '>ԓьы', '>н', 'йыӈэт', '>тэ', '>т'], ['мык', '>ы', '>ӈ', 'ны', '>вытрэт', '>ӄин', 'чеԓг', '>ат', '>вытры', '>ԓь', '>о', 'ынӄор', '>ыым', 'вытэч', '>гытры', '>ԓь', '>о']]\n"
          ],
          "name": "stdout"
        }
      ]
    },
    {
      "cell_type": "markdown",
      "metadata": {
        "id": "4EbPDNrl6EVp"
      },
      "source": [
        "A hyperparameter: length of input sequence"
      ]
    },
    {
      "cell_type": "code",
      "metadata": {
        "id": "tj-xg4nr6JIA"
      },
      "source": [
        "SEQ_LEN = 5"
      ],
      "execution_count": 11,
      "outputs": []
    },
    {
      "cell_type": "code",
      "metadata": {
        "id": "Rhk4odypVmJh"
      },
      "source": [
        "class MyModel(nn.Module):\n",
        "    @staticmethod\n",
        "    def calculate_conv_dim(cnn_input_size,\n",
        "                           kernel_size, dilation,\n",
        "                           stride, padding):\n",
        "      return int(np.floor(((cnn_input_size + 2*padding - dilation *(kernel_size-1)-1)/stride+1)))\n",
        "    \n",
        "    def __init__(self, vocab_size, embed_size, kernel_size, dilation,\n",
        "                 stride, padding, n_kernels):\n",
        "        super(MyModel, self).__init__()\n",
        "        self.embedding = nn.Embedding(vocab_size, embed_size)\n",
        "        \n",
        "        self.cnn = nn.Conv1d(in_channels=SEQ_LEN, out_channels=n_kernels,\n",
        "                             kernel_size=kernel_size, dilation=dilation,\n",
        "                             stride=stride, padding=padding)\n",
        "        \n",
        "        self.fc = nn.Linear(self.calculate_conv_dim(embed_size, kernel_size, dilation, stride, padding) * n_kernels, vocab_size)\n",
        "        \n",
        "        self.init_weights()\n",
        "        \n",
        "    def init_weights(self):\n",
        "        nn.init.uniform_(self.embedding.weight)\n",
        "        nn.init.xavier_uniform_(self.fc.weight)\n",
        "        nn.init.zeros_(self.fc.bias)\n",
        "        \n",
        "    def forward(self, x):\n",
        "        \n",
        "        batch_size = x.size(1)\n",
        "        total_length = x.size(0)\n",
        "        \n",
        "        x = self.embedding(x)#.transpose(2,1)\n",
        "            \n",
        "        x = self.cnn(x)\n",
        "        x = x.reshape(x.shape[0], x.shape[1]*x.shape[2])\n",
        "        \n",
        "        #x, _ = nn.utils.rnn.pad_packed_sequence(x, total_length=total_length, batch_first=True)\n",
        "        \n",
        "        #x = x.contiguous().view(batch_size * total_length, -1)\n",
        "        #print(x.shape, self.fc.weight.shape)\n",
        "        x = self.fc(x)\n",
        "        #x = x.contiguous().view(total_length, batch_size, -1)\n",
        "        return x#.transpose(1,2)"
      ],
      "execution_count": 12,
      "outputs": []
    },
    {
      "cell_type": "markdown",
      "metadata": {
        "id": "vV2x44aGhs_W"
      },
      "source": [
        "Now, let's build a vocab"
      ]
    },
    {
      "cell_type": "code",
      "metadata": {
        "id": "OnXTHomGhv89"
      },
      "source": [
        "vocab = Counter([morph for sent in morph_sentences for morph in sent])"
      ],
      "execution_count": 13,
      "outputs": []
    },
    {
      "cell_type": "code",
      "metadata": {
        "colab": {
          "base_uri": "https://localhost:8080/"
        },
        "id": "2k-7N8wUijFB",
        "outputId": "7966f0d4-55e9-4399-8f2a-53fdce23ead5"
      },
      "source": [
        "len(vocab), sum([v for k,v in vocab.items()])"
      ],
      "execution_count": null,
      "outputs": [
        {
          "output_type": "execute_result",
          "data": {
            "text/plain": [
              "(19487, 318530)"
            ]
          },
          "metadata": {
            "tags": []
          },
          "execution_count": 18
        }
      ]
    },
    {
      "cell_type": "code",
      "metadata": {
        "id": "hzR4Oy5IdEiB"
      },
      "source": [
        "MIN_COUNT = 1"
      ],
      "execution_count": 14,
      "outputs": []
    },
    {
      "cell_type": "code",
      "metadata": {
        "id": "dmSywNktyJau"
      },
      "source": [
        "id2word = [i for i in vocab if vocab[i]>=MIN_COUNT] + ['<bos>','<eos>','<pad>','<unk>']\n",
        "word2id = {v:k for k,v in enumerate(id2word)}"
      ],
      "execution_count": 15,
      "outputs": []
    },
    {
      "cell_type": "code",
      "metadata": {
        "colab": {
          "base_uri": "https://localhost:8080/"
        },
        "id": "tnNYpPVZ7kg-",
        "outputId": "b218da2f-af7a-40d5-be5f-250691e25257"
      },
      "source": [
        "word2id['<bos>'], word2id['<eos>'], word2id['<pad>']"
      ],
      "execution_count": 16,
      "outputs": [
        {
          "output_type": "execute_result",
          "data": {
            "text/plain": [
              "(19487, 19488, 19489)"
            ]
          },
          "metadata": {
            "tags": []
          },
          "execution_count": 16
        }
      ]
    },
    {
      "cell_type": "markdown",
      "metadata": {
        "id": "-uP3hfFhGFK3"
      },
      "source": [
        "Now let's see the ditribution of sentence length in the training set:"
      ]
    },
    {
      "cell_type": "code",
      "metadata": {
        "id": "kret0tHWGNmT"
      },
      "source": [
        "sent_lens = [len(sent) for sent in morph_sentences]"
      ],
      "execution_count": 17,
      "outputs": []
    },
    {
      "cell_type": "code",
      "metadata": {
        "colab": {
          "base_uri": "https://localhost:8080/"
        },
        "id": "-aWAbbKWG_lz",
        "outputId": "b7797286-fd4f-4b76-edca-0e2d2d529cba"
      },
      "source": [
        "pd.Series(sent_lens).describe()"
      ],
      "execution_count": null,
      "outputs": [
        {
          "output_type": "execute_result",
          "data": {
            "text/plain": [
              "count    30000.000000\n",
              "mean        10.617667\n",
              "std          7.877840\n",
              "min          1.000000\n",
              "25%          5.000000\n",
              "50%          9.000000\n",
              "75%         14.000000\n",
              "max         94.000000\n",
              "dtype: float64"
            ]
          },
          "metadata": {
            "tags": []
          },
          "execution_count": 23
        }
      ]
    },
    {
      "cell_type": "code",
      "metadata": {
        "id": "fJkaoP9CfMok"
      },
      "source": [
        "def _train_epoch(model, iterator, optimizer, criterion, curr_epoch, device, clip,\n",
        "                 pad_id):\n",
        "\n",
        "    model.train()\n",
        "    \n",
        "    epoch_loss, accuracy, f1score = 0, 0, 0\n",
        "\n",
        "    n_batches = len(iterator)\n",
        "    iterator = tqdm_notebook(iterator, total=n_batches, desc='epoch %d' % (curr_epoch), leave=True)\n",
        "\n",
        "    for i, (batch_in, batch_out) in enumerate(iterator):\n",
        "        optimizer.zero_grad()\n",
        "        \n",
        "        x = batch_in.to(device)\n",
        "        pred = model(x)\n",
        "        \n",
        "        y = batch_out.to(device)\n",
        "\n",
        "        loss = criterion(pred, y)\n",
        "\n",
        "        loss.backward()\n",
        "\n",
        "        clip_grad_norm_(model.parameters(), clip)\n",
        "\n",
        "        optimizer.step()\n",
        "\n",
        "        curr_loss = loss.data.cpu().detach().item()\n",
        "\n",
        "        y_flat, ypred_flat = batch_out.flatten().numpy(), pred.detach().cpu().argmax(dim=1).numpy()\n",
        "\n",
        "        curr_acc = accuracy_score(y_flat, ypred_flat)\n",
        "        curr_f1 = f1_score(y_flat, ypred_flat, average='micro')\n",
        "\n",
        "        accuracy += curr_acc\n",
        "        f1score += curr_f1\n",
        "\n",
        "        iterator.set_postfix(loss='%.5f' % curr_loss, acc='%.5f' % curr_acc, f1='%.5f'%curr_f1)\n",
        "\n",
        "    return epoch_loss/n_batches, accuracy/n_batches, f1score/n_batches\n",
        "\n",
        "def _test_epoch(model, iterator, criterion, device, pad_id):\n",
        "    model.eval()\n",
        "    epoch_loss = 0\n",
        "\n",
        "    epoch_loss, accuracy, f1score = 0, 0, 0\n",
        "\n",
        "    n_batches = len(iterator)\n",
        "    with tt.no_grad():\n",
        "        for batch_in, batch_out in iterator:\n",
        "            \n",
        "            x, y = batch_in.to(device), batch_out.to(device)\n",
        "            pred = model(x)\n",
        "            loss = criterion(pred, y)\n",
        "            epoch_loss += loss.data.cpu().detach().item()\n",
        "\n",
        "            y_flat, ypred_flat = batch_out.flatten().numpy(), pred.detach().cpu().argmax(dim=1).numpy()\n",
        "\n",
        "            curr_acc = accuracy_score(y_flat, ypred_flat)\n",
        "            curr_f1 = f1_score(y_flat, ypred_flat, average='micro')\n",
        "\n",
        "            accuracy += curr_acc\n",
        "            f1score += curr_f1\n",
        "\n",
        "    return epoch_loss / n_batches, accuracy/n_batches, f1score/n_batches\n",
        "\n",
        "\n",
        "def nn_train(model, train_iterator, valid_iterator, criterion, optimizer, device, n_epochs=100,\n",
        "          scheduler=None, early_stopping=0, clip=1.0, pad_id=word2id['<pad>']):\n",
        "\n",
        "    prev_loss = float('inf')\n",
        "\n",
        "    es_epochs = 0\n",
        "    best_epoch = None\n",
        "    history = pd.DataFrame()\n",
        "\n",
        "    for epoch in range(n_epochs):\n",
        "        train_loss, train_acc, train_f1 = _train_epoch(model, train_iterator, optimizer, criterion, epoch, device, clip, pad_id)\n",
        "\n",
        "        print(f\"Epoch {epoch} Training loss: {np.round(train_loss, 4)} Training accuracy: {np.round(train_acc, 4)} Training F1: {np.round(train_f1, 4)}\")\n",
        "\n",
        "        valid_loss, valid_acc, valid_f1 = _test_epoch(model, valid_iterator, criterion, device, pad_id)\n",
        "\n",
        "        print(f\"Epoch {epoch} Validation loss: {np.round(valid_loss, 4)} Validation accuracy: {np.round(valid_acc, 4)} Validation F1: {np.round(valid_f1, 4)}\")\n",
        "\n",
        "        if valid_loss < prev_loss:\n",
        "          print(\"New record! Saving model\")\n",
        "          tt.save(model, 'cnn_embed_morph_model')\n",
        "\n",
        "        record = {'epoch': epoch, 'train_loss': train_loss, 'train_acc': train_acc, 'train_f1': train_f1,\n",
        "                  'valid_loss': valid_loss, 'valid_acc': valid_acc, 'valid_f1': valid_f1}\n",
        "        history = history.append(record, ignore_index=True)\n",
        "\n",
        "        if early_stopping > 0:\n",
        "            if valid_loss > prev_loss:\n",
        "                es_epochs += 1\n",
        "            else:\n",
        "                es_epochs = 0\n",
        "\n",
        "            if es_epochs >= early_stopping:\n",
        "                best_epoch = history[history.valid_loss == history.valid_loss.min()].iloc[0]\n",
        "                print('Early stopping! best epoch: %d val %.5f' % (best_epoch['epoch'], best_epoch['valid_loss']))\n",
        "                break\n",
        "                \n",
        "        prev_loss = min(prev_loss, valid_loss)\n",
        "    return history"
      ],
      "execution_count": 18,
      "outputs": []
    },
    {
      "cell_type": "code",
      "metadata": {
        "id": "ThP4bQnL3-XB"
      },
      "source": [
        "def map_word(word, mapping):\n",
        "  if word in mapping:\n",
        "    return mapping[word]\n",
        "  else:\n",
        "    return mapping['<unk>']\n",
        "\n",
        "def make_lm_dataset(sentences, word2id, seq_len):\n",
        "  text_new = []\n",
        "  for sent in sentences:\n",
        "    text_new += ['<pad>' for i in range(seq_len)]\n",
        "    new_sent = ['<bos>'] + sent\n",
        "    text_new += new_sent\n",
        "  \n",
        "  sents_in = []\n",
        "  sents_out = []\n",
        "\n",
        "  for word_id in range(len(text_new)-seq_len):\n",
        "    sents_in.append(text_new[word_id:word_id+seq_len])\n",
        "    sents_out.append(text_new[word_id+seq_len])\n",
        "  return [[map_word(word, word2id) for word in sent] for sent in sents_in], [map_word(word, word2id) for word in sents_out]"
      ],
      "execution_count": 19,
      "outputs": []
    },
    {
      "cell_type": "code",
      "metadata": {
        "id": "zPFzfHDQ1FVF"
      },
      "source": [
        "def pad_sentences(sents, pad_id, max_len, append_eos=False):\n",
        "  for sent_id, sent in enumerate(sents):\n",
        "    if len(sent) < max_len:\n",
        "      sents[sent_id] = sent + [pad_id for i in range(max_len-len(sent))]\n",
        "    elif len(sent) < max_len:\n",
        "      sents[sent_id] = sent[:max_len]\n",
        "  return sents\n",
        "\n",
        "\n",
        "def make_batch(batch_in, batch_out, pad_id, max_len):\n",
        "   max_len = max([len(sent) for sent in batch_in])\n",
        "   batch_in = pad_sentences(batch_in, pad_id, max_len)\n",
        "   #batch_out = pad_sentences(batch_out, pad_id, max_len)\n",
        "   return tt.LongTensor(batch_in), tt.LongTensor(batch_out)\n",
        "\n",
        "class MyBatchIterator:\n",
        "  def __init__(self, sents_in, sents_out, batch_size=128,\n",
        "              pad_id=word2id['<pad>'], max_len=5):\n",
        "    self.sents_in = sents_in\n",
        "    self.sents_out = sents_out\n",
        "    self.batch_size = batch_size\n",
        "    self.pad_id = pad_id\n",
        "    self.max_len = max_len\n",
        "  \n",
        "  def __iter__(self):\n",
        "    self.start = 0\n",
        "    return self\n",
        "  \n",
        "  def __next__(self):\n",
        "    if self.start >= len(self.sents_in):\n",
        "      raise StopIteration\n",
        "    batch_in = self.sents_in[self.start:self.start+self.batch_size]\n",
        "    batch_out = self.sents_out[self.start:self.start+self.batch_size]\n",
        "    self.start += self.batch_size\n",
        "    return make_batch(batch_in, batch_out, self.pad_id, self.max_len)\n",
        "  \n",
        "  def __len__(self):\n",
        "    return ceil(len(self.sents_in)/self.batch_size)"
      ],
      "execution_count": 20,
      "outputs": []
    },
    {
      "cell_type": "markdown",
      "metadata": {
        "id": "ROiKJxTk6Pu4"
      },
      "source": [
        "Let's prepare our dataset:"
      ]
    },
    {
      "cell_type": "code",
      "metadata": {
        "id": "JcjcVlBo23KY"
      },
      "source": [
        "sents_in, sents_out = make_lm_dataset(morph_sentences, word2id, SEQ_LEN)\n",
        "sents_in_dev, sents_out_dev = make_lm_dataset(dev_morph_sentences, word2id, SEQ_LEN)\n",
        "sents_in_test, sents_out_test = make_lm_dataset(test_morph_sentences, word2id, SEQ_LEN)\n",
        "\n",
        "X_train, y_train = sents_in, sents_out\n",
        "X_dev, y_dev = sents_in_dev, sents_out_dev"
      ],
      "execution_count": null,
      "outputs": []
    },
    {
      "cell_type": "code",
      "metadata": {
        "colab": {
          "base_uri": "https://localhost:8080/"
        },
        "id": "E37tMeevBiKX",
        "outputId": "2dca62b6-9f2c-4a04-cd4b-47dc2d5a6e40"
      },
      "source": [
        "sents_in[:10]"
      ],
      "execution_count": null,
      "outputs": [
        {
          "output_type": "execute_result",
          "data": {
            "text/plain": [
              "[[19489, 19489, 19489, 19489, 19489],\n",
              " [19489, 19489, 19489, 19489, 19487],\n",
              " [19489, 19489, 19489, 19487, 0],\n",
              " [19489, 19489, 19487, 0, 1],\n",
              " [19489, 19487, 0, 1, 2],\n",
              " [19487, 0, 1, 2, 3],\n",
              " [0, 1, 2, 3, 4],\n",
              " [1, 2, 3, 4, 5],\n",
              " [2, 3, 4, 5, 6],\n",
              " [3, 4, 5, 6, 7]]"
            ]
          },
          "metadata": {
            "tags": []
          },
          "execution_count": 28
        }
      ]
    },
    {
      "cell_type": "code",
      "metadata": {
        "colab": {
          "base_uri": "https://localhost:8080/"
        },
        "id": "sUesaHQ2BxtZ",
        "outputId": "d7ad9a4b-e715-476a-b0bb-06bf89786fef"
      },
      "source": [
        "sents_out[:10]"
      ],
      "execution_count": null,
      "outputs": [
        {
          "output_type": "execute_result",
          "data": {
            "text/plain": [
              "[19487, 0, 1, 2, 3, 4, 5, 6, 7, 19489]"
            ]
          },
          "metadata": {
            "tags": []
          },
          "execution_count": 29
        }
      ]
    },
    {
      "cell_type": "code",
      "metadata": {
        "id": "LQ310F75GfQj"
      },
      "source": [
        "train_iter = MyBatchIterator(X_train, y_train, max_len=SEQ_LEN)\n",
        "dev_iter = MyBatchIterator(X_dev, y_dev, max_len=SEQ_LEN)"
      ],
      "execution_count": null,
      "outputs": []
    },
    {
      "cell_type": "code",
      "metadata": {
        "id": "Uzo6jS-PI30g"
      },
      "source": [
        "device = tt.device('cuda')"
      ],
      "execution_count": null,
      "outputs": []
    },
    {
      "cell_type": "code",
      "metadata": {
        "id": "gDKsGF7SIjGv"
      },
      "source": [
        "model = MyModel(len(word2id), embed_size=100, kernel_size=20, dilation=1, padding=5, stride=1, n_kernels=10).to(device)"
      ],
      "execution_count": null,
      "outputs": []
    },
    {
      "cell_type": "code",
      "metadata": {
        "id": "IZ2ceS33IwOx"
      },
      "source": [
        "criterion = nn.CrossEntropyLoss(ignore_index=word2id[\"<pad>\"]).to(device)\n",
        "optimizer = tt.optim.Adam(model.parameters())\n",
        "scheduler = tt.optim.lr_scheduler.ReduceLROnPlateau(optimizer, patience=10)"
      ],
      "execution_count": null,
      "outputs": []
    },
    {
      "cell_type": "code",
      "metadata": {
        "colab": {
          "base_uri": "https://localhost:8080/",
          "height": 1000,
          "referenced_widgets": [
            "b9ff617acad7495680f4ccf1a787ce4d",
            "aebac6e30f1b4d4292f357fd74efb926",
            "ae2f8f3cb7dc444db24128c92b7cba13",
            "10d8005d90524b41aa77f94459a31a1c",
            "5f81ecd34a8b4c46a4efa298d8febb34",
            "c3edff36e61b45a2bb7508783e7223f0",
            "d23711cd37694105a89f8d72c46b4849",
            "6e92582aa19c4d10b50161d50509aeed",
            "91cb065b967d4fa0861d17ea59cdbb8c",
            "5f7459edfc9a40df979ec0bfd884fd3a",
            "69263388a88c482085c683cc88024c32",
            "43387726c54f444a9cd380f2f74fe847",
            "35c1520497b449d882e7a86de053d0ba",
            "eeb4d58b08ed4f3780e7eb8344fc9e4b",
            "e69c98db8ecb4c80a82ab74b12e49c60",
            "d74703f3ca974ca08b018cce34fa080d",
            "472e000d3e1f4bc5936f3e0ef68bc24d",
            "9d60f3bff65c4db8aaa13a9443849181",
            "9176285ad60a402fb57bb320a88548d1",
            "8a81376efd014fdea7b197e0ebebd780",
            "7202bcd3b565405cbf7eb85ef0949328",
            "13d1edcd915549b7a45ba2fdedc3058e",
            "f119b0bcd14843cb8d1d2ca1b25d3adc",
            "1aaa0b81dec04941bd2b7a6628b4e1bd",
            "a6be79eab123410f957f44513d01b3ae",
            "708c578beaec46b793eaa2e439be1508",
            "b75f3ad6d15d4ce0878d64ad50ffbc6c",
            "f0b0494719214074ae0b60977d2ef149",
            "5d3120ebf71848b6944e83617ef784f3",
            "e5313543299848b38eaa7c831ae87d60",
            "46b1eaa7c62a472dabc793e1d68e6f79",
            "c7cd19ebaffe42a4aaab027d95c0f23e",
            "d8aa599af9f54cf4bd5a8bb8a7f43601",
            "7d9ffcfc2af74135a17ab88c1dd0f517",
            "e8511c36de754749b3ebd9fe507a1de6",
            "40a693f8da194150a471162689a0aaeb",
            "ee1479b19a754aa19081ff34348e7ba1",
            "7d338e9e34a9472585ce5bca1b1fe6fb",
            "ffcf8350488a4bfe8221bbbf889c55aa",
            "e975b8b73f354e64bf232431abc4bd74",
            "e536d4ffc8754ffdb8d22f935442dff9",
            "a7326914600e469c9a2a308f531057b8",
            "a271a28ddb084a5292da1513305bcef0",
            "497bfd599e0348899de7b1ca0d8f5e5c",
            "b52de54869bc4be2a135e32aee8bafbf",
            "b6ac3a0f18334169b4f15dcefab672a2",
            "f37899aa3f66459bb700b70cc748d7e5",
            "c9820199008044038970daa7c5a36150",
            "dca440254768477aab8885600ffd6453",
            "2120094be40a43f4818e794ac89e6c20",
            "ee52cd5e74854fafa7bb4836d57a5241",
            "e1c9511231484ea6a657840f55ae0332",
            "cb641ae50ee94a64b05079d0bffc1e5f",
            "31b622b90f614c15ba98c5bc8837b643",
            "c7e4a8064bc04dc7b5c6192f9572fffa",
            "808693e7d2f74b44953e87b6e5592abb",
            "ff6f26190a68487a8e973671e18bd259",
            "b43fcd0a456b4be4a21d7b099cb87ac8",
            "e3a7606c41314ec5bb6613bf3f337f53",
            "3557048db9094cc79359e15a48672aae",
            "1c07120f812f41748568a80d6c84fb75",
            "f90e5ef9dbc34610b4a1bf3cb0e6a39d",
            "ef114eb8d58b46cfad07040f7c3815bf",
            "f7c8b3f987f24306b6f8d758bf83129a",
            "4445106b35184a20887aaa5203856623",
            "4cd0c51f28404e7f8a7f2b2b5b259279",
            "eff034525b6e4b8ebd0d4babf835690f",
            "cfa2251a5815481cb6fbac9b0981556c",
            "dd2943d6c48541968996c800db381cee",
            "fea1615bf742454b933282e9858baaa6",
            "620d6e33aa8c4c0cbd42249508d9d0a7",
            "cceb7c037e5948669fd960e37c1a028a",
            "ecebeef7823a4631a6305a9dd31bc315",
            "60d43df6f2814073936a723f94ef5892",
            "cd76ea52348e4bc0b4be6a1ab5d845aa",
            "46091e5141844689a9884d711b04bf43",
            "cd5504e0add44f499d67613aa7f3cd5f",
            "ea5260b03cc7416994d6f155c9efa690",
            "85c537abb6e347a7961afac605ca8dc3",
            "4186e51ce5394e4aa8a4dace3d485ee6"
          ]
        },
        "id": "GMHvYnqgKaSn",
        "outputId": "fbb70504-10ea-4e79-813e-2cbb2481ba13"
      },
      "source": [
        "nn_train(model, train_iter, dev_iter, criterion, optimizer, device, n_epochs=10, scheduler=scheduler)"
      ],
      "execution_count": null,
      "outputs": [
        {
          "output_type": "stream",
          "text": [
            "/usr/local/lib/python3.7/dist-packages/ipykernel_launcher.py:9: TqdmDeprecationWarning: This function will be removed in tqdm==5.0.0\n",
            "Please use `tqdm.notebook.tqdm` instead of `tqdm.tqdm_notebook`\n",
            "  if __name__ == '__main__':\n"
          ],
          "name": "stderr"
        },
        {
          "output_type": "display_data",
          "data": {
            "application/vnd.jupyter.widget-view+json": {
              "model_id": "b9ff617acad7495680f4ccf1a787ce4d",
              "version_minor": 0,
              "version_major": 2
            },
            "text/plain": [
              "HBox(children=(FloatProgress(value=0.0, description='epoch 0', max=3895.0, style=ProgressStyle(description_wid…"
            ]
          },
          "metadata": {
            "tags": []
          }
        },
        {
          "output_type": "stream",
          "text": [
            "\n",
            "Epoch 0 Training loss: 0.0 Training accuracy: 0.1882 Training F1: 0.1882\n",
            "Epoch 0 Validation loss: 4.5243 Validation accuracy: 0.2354 Validation F1: 0.2354\n",
            "New record! Saving model\n"
          ],
          "name": "stdout"
        },
        {
          "output_type": "display_data",
          "data": {
            "application/vnd.jupyter.widget-view+json": {
              "model_id": "91cb065b967d4fa0861d17ea59cdbb8c",
              "version_minor": 0,
              "version_major": 2
            },
            "text/plain": [
              "HBox(children=(FloatProgress(value=0.0, description='epoch 1', max=3895.0, style=ProgressStyle(description_wid…"
            ]
          },
          "metadata": {
            "tags": []
          }
        },
        {
          "output_type": "stream",
          "text": [
            "\n",
            "Epoch 1 Training loss: 0.0 Training accuracy: 0.2454 Training F1: 0.2454\n",
            "Epoch 1 Validation loss: 4.6239 Validation accuracy: 0.2433 Validation F1: 0.2433\n"
          ],
          "name": "stdout"
        },
        {
          "output_type": "display_data",
          "data": {
            "application/vnd.jupyter.widget-view+json": {
              "model_id": "472e000d3e1f4bc5936f3e0ef68bc24d",
              "version_minor": 0,
              "version_major": 2
            },
            "text/plain": [
              "HBox(children=(FloatProgress(value=0.0, description='epoch 2', max=3895.0, style=ProgressStyle(description_wid…"
            ]
          },
          "metadata": {
            "tags": []
          }
        },
        {
          "output_type": "stream",
          "text": [
            "\n",
            "Epoch 2 Training loss: 0.0 Training accuracy: 0.2949 Training F1: 0.2949\n",
            "Epoch 2 Validation loss: 4.8092 Validation accuracy: 0.2421 Validation F1: 0.2421\n"
          ],
          "name": "stdout"
        },
        {
          "output_type": "display_data",
          "data": {
            "application/vnd.jupyter.widget-view+json": {
              "model_id": "a6be79eab123410f957f44513d01b3ae",
              "version_minor": 0,
              "version_major": 2
            },
            "text/plain": [
              "HBox(children=(FloatProgress(value=0.0, description='epoch 3', max=3895.0, style=ProgressStyle(description_wid…"
            ]
          },
          "metadata": {
            "tags": []
          }
        },
        {
          "output_type": "stream",
          "text": [
            "\n",
            "Epoch 3 Training loss: 0.0 Training accuracy: 0.334 Training F1: 0.334\n",
            "Epoch 3 Validation loss: 5.0051 Validation accuracy: 0.2393 Validation F1: 0.2393\n"
          ],
          "name": "stdout"
        },
        {
          "output_type": "display_data",
          "data": {
            "application/vnd.jupyter.widget-view+json": {
              "model_id": "d8aa599af9f54cf4bd5a8bb8a7f43601",
              "version_minor": 0,
              "version_major": 2
            },
            "text/plain": [
              "HBox(children=(FloatProgress(value=0.0, description='epoch 4', max=3895.0, style=ProgressStyle(description_wid…"
            ]
          },
          "metadata": {
            "tags": []
          }
        },
        {
          "output_type": "stream",
          "text": [
            "\n",
            "Epoch 4 Training loss: 0.0 Training accuracy: 0.3635 Training F1: 0.3635\n",
            "Epoch 4 Validation loss: 5.2547 Validation accuracy: 0.2408 Validation F1: 0.2408\n"
          ],
          "name": "stdout"
        },
        {
          "output_type": "display_data",
          "data": {
            "application/vnd.jupyter.widget-view+json": {
              "model_id": "e536d4ffc8754ffdb8d22f935442dff9",
              "version_minor": 0,
              "version_major": 2
            },
            "text/plain": [
              "HBox(children=(FloatProgress(value=0.0, description='epoch 5', max=3895.0, style=ProgressStyle(description_wid…"
            ]
          },
          "metadata": {
            "tags": []
          }
        },
        {
          "output_type": "stream",
          "text": [
            "\n",
            "Epoch 5 Training loss: 0.0 Training accuracy: 0.3885 Training F1: 0.3885\n",
            "Epoch 5 Validation loss: 5.4937 Validation accuracy: 0.2387 Validation F1: 0.2387\n"
          ],
          "name": "stdout"
        },
        {
          "output_type": "display_data",
          "data": {
            "application/vnd.jupyter.widget-view+json": {
              "model_id": "dca440254768477aab8885600ffd6453",
              "version_minor": 0,
              "version_major": 2
            },
            "text/plain": [
              "HBox(children=(FloatProgress(value=0.0, description='epoch 6', max=3895.0, style=ProgressStyle(description_wid…"
            ]
          },
          "metadata": {
            "tags": []
          }
        },
        {
          "output_type": "stream",
          "text": [
            "\n",
            "Epoch 6 Training loss: 0.0 Training accuracy: 0.4088 Training F1: 0.4088\n",
            "Epoch 6 Validation loss: 5.7457 Validation accuracy: 0.2367 Validation F1: 0.2367\n"
          ],
          "name": "stdout"
        },
        {
          "output_type": "display_data",
          "data": {
            "application/vnd.jupyter.widget-view+json": {
              "model_id": "ff6f26190a68487a8e973671e18bd259",
              "version_minor": 0,
              "version_major": 2
            },
            "text/plain": [
              "HBox(children=(FloatProgress(value=0.0, description='epoch 7', max=3895.0, style=ProgressStyle(description_wid…"
            ]
          },
          "metadata": {
            "tags": []
          }
        },
        {
          "output_type": "stream",
          "text": [
            "\n",
            "Epoch 7 Training loss: 0.0 Training accuracy: 0.4264 Training F1: 0.4264\n",
            "Epoch 7 Validation loss: 6.2034 Validation accuracy: 0.239 Validation F1: 0.239\n"
          ],
          "name": "stdout"
        },
        {
          "output_type": "display_data",
          "data": {
            "application/vnd.jupyter.widget-view+json": {
              "model_id": "4445106b35184a20887aaa5203856623",
              "version_minor": 0,
              "version_major": 2
            },
            "text/plain": [
              "HBox(children=(FloatProgress(value=0.0, description='epoch 8', max=3895.0, style=ProgressStyle(description_wid…"
            ]
          },
          "metadata": {
            "tags": []
          }
        },
        {
          "output_type": "stream",
          "text": [
            "\n",
            "Epoch 8 Training loss: 0.0 Training accuracy: 0.4418 Training F1: 0.4418\n",
            "Epoch 8 Validation loss: 6.5363 Validation accuracy: 0.2391 Validation F1: 0.2391\n"
          ],
          "name": "stdout"
        },
        {
          "output_type": "display_data",
          "data": {
            "application/vnd.jupyter.widget-view+json": {
              "model_id": "ecebeef7823a4631a6305a9dd31bc315",
              "version_minor": 0,
              "version_major": 2
            },
            "text/plain": [
              "HBox(children=(FloatProgress(value=0.0, description='epoch 9', max=3895.0, style=ProgressStyle(description_wid…"
            ]
          },
          "metadata": {
            "tags": []
          }
        },
        {
          "output_type": "stream",
          "text": [
            "\n",
            "Epoch 9 Training loss: 0.0 Training accuracy: 0.4534 Training F1: 0.4534\n",
            "Epoch 9 Validation loss: 6.4245 Validation accuracy: 0.2367 Validation F1: 0.2367\n"
          ],
          "name": "stdout"
        },
        {
          "output_type": "execute_result",
          "data": {
            "text/html": [
              "<div>\n",
              "<style scoped>\n",
              "    .dataframe tbody tr th:only-of-type {\n",
              "        vertical-align: middle;\n",
              "    }\n",
              "\n",
              "    .dataframe tbody tr th {\n",
              "        vertical-align: top;\n",
              "    }\n",
              "\n",
              "    .dataframe thead th {\n",
              "        text-align: right;\n",
              "    }\n",
              "</style>\n",
              "<table border=\"1\" class=\"dataframe\">\n",
              "  <thead>\n",
              "    <tr style=\"text-align: right;\">\n",
              "      <th></th>\n",
              "      <th>epoch</th>\n",
              "      <th>train_acc</th>\n",
              "      <th>train_f1</th>\n",
              "      <th>train_loss</th>\n",
              "      <th>valid_acc</th>\n",
              "      <th>valid_f1</th>\n",
              "      <th>valid_loss</th>\n",
              "    </tr>\n",
              "  </thead>\n",
              "  <tbody>\n",
              "    <tr>\n",
              "      <th>0</th>\n",
              "      <td>0.0</td>\n",
              "      <td>0.188213</td>\n",
              "      <td>0.188213</td>\n",
              "      <td>0.0</td>\n",
              "      <td>0.235370</td>\n",
              "      <td>0.235370</td>\n",
              "      <td>4.524284</td>\n",
              "    </tr>\n",
              "    <tr>\n",
              "      <th>1</th>\n",
              "      <td>1.0</td>\n",
              "      <td>0.245362</td>\n",
              "      <td>0.245362</td>\n",
              "      <td>0.0</td>\n",
              "      <td>0.243275</td>\n",
              "      <td>0.243275</td>\n",
              "      <td>4.623910</td>\n",
              "    </tr>\n",
              "    <tr>\n",
              "      <th>2</th>\n",
              "      <td>2.0</td>\n",
              "      <td>0.294932</td>\n",
              "      <td>0.294932</td>\n",
              "      <td>0.0</td>\n",
              "      <td>0.242109</td>\n",
              "      <td>0.242109</td>\n",
              "      <td>4.809205</td>\n",
              "    </tr>\n",
              "    <tr>\n",
              "      <th>3</th>\n",
              "      <td>3.0</td>\n",
              "      <td>0.333995</td>\n",
              "      <td>0.333995</td>\n",
              "      <td>0.0</td>\n",
              "      <td>0.239252</td>\n",
              "      <td>0.239252</td>\n",
              "      <td>5.005091</td>\n",
              "    </tr>\n",
              "    <tr>\n",
              "      <th>4</th>\n",
              "      <td>4.0</td>\n",
              "      <td>0.363544</td>\n",
              "      <td>0.363544</td>\n",
              "      <td>0.0</td>\n",
              "      <td>0.240826</td>\n",
              "      <td>0.240826</td>\n",
              "      <td>5.254657</td>\n",
              "    </tr>\n",
              "    <tr>\n",
              "      <th>5</th>\n",
              "      <td>5.0</td>\n",
              "      <td>0.388503</td>\n",
              "      <td>0.388503</td>\n",
              "      <td>0.0</td>\n",
              "      <td>0.238669</td>\n",
              "      <td>0.238669</td>\n",
              "      <td>5.493657</td>\n",
              "    </tr>\n",
              "    <tr>\n",
              "      <th>6</th>\n",
              "      <td>6.0</td>\n",
              "      <td>0.408811</td>\n",
              "      <td>0.408811</td>\n",
              "      <td>0.0</td>\n",
              "      <td>0.236745</td>\n",
              "      <td>0.236745</td>\n",
              "      <td>5.745697</td>\n",
              "    </tr>\n",
              "    <tr>\n",
              "      <th>7</th>\n",
              "      <td>7.0</td>\n",
              "      <td>0.426423</td>\n",
              "      <td>0.426423</td>\n",
              "      <td>0.0</td>\n",
              "      <td>0.238961</td>\n",
              "      <td>0.238961</td>\n",
              "      <td>6.203356</td>\n",
              "    </tr>\n",
              "    <tr>\n",
              "      <th>8</th>\n",
              "      <td>8.0</td>\n",
              "      <td>0.441772</td>\n",
              "      <td>0.441772</td>\n",
              "      <td>0.0</td>\n",
              "      <td>0.239136</td>\n",
              "      <td>0.239136</td>\n",
              "      <td>6.536290</td>\n",
              "    </tr>\n",
              "    <tr>\n",
              "      <th>9</th>\n",
              "      <td>9.0</td>\n",
              "      <td>0.453362</td>\n",
              "      <td>0.453362</td>\n",
              "      <td>0.0</td>\n",
              "      <td>0.236745</td>\n",
              "      <td>0.236745</td>\n",
              "      <td>6.424514</td>\n",
              "    </tr>\n",
              "  </tbody>\n",
              "</table>\n",
              "</div>"
            ],
            "text/plain": [
              "   epoch  train_acc  train_f1  train_loss  valid_acc  valid_f1  valid_loss\n",
              "0    0.0   0.188213  0.188213         0.0   0.235370  0.235370    4.524284\n",
              "1    1.0   0.245362  0.245362         0.0   0.243275  0.243275    4.623910\n",
              "2    2.0   0.294932  0.294932         0.0   0.242109  0.242109    4.809205\n",
              "3    3.0   0.333995  0.333995         0.0   0.239252  0.239252    5.005091\n",
              "4    4.0   0.363544  0.363544         0.0   0.240826  0.240826    5.254657\n",
              "5    5.0   0.388503  0.388503         0.0   0.238669  0.238669    5.493657\n",
              "6    6.0   0.408811  0.408811         0.0   0.236745  0.236745    5.745697\n",
              "7    7.0   0.426423  0.426423         0.0   0.238961  0.238961    6.203356\n",
              "8    8.0   0.441772  0.441772         0.0   0.239136  0.239136    6.536290\n",
              "9    9.0   0.453362  0.453362         0.0   0.236745  0.236745    6.424514"
            ]
          },
          "metadata": {
            "tags": []
          },
          "execution_count": 34
        }
      ]
    },
    {
      "cell_type": "markdown",
      "metadata": {
        "id": "tWndh7fUI_dr"
      },
      "source": [
        "Npw let's write code for text prediction"
      ]
    },
    {
      "cell_type": "code",
      "metadata": {
        "id": "Hfoki1JRJ-0H",
        "colab": {
          "base_uri": "https://localhost:8080/"
        },
        "outputId": "8ea5e3d0-1edf-4201-c9a4-e08d651b83aa"
      },
      "source": [
        "help(make_lm_dataset)"
      ],
      "execution_count": null,
      "outputs": [
        {
          "output_type": "stream",
          "text": [
            "Help on function make_lm_dataset in module __main__:\n",
            "\n",
            "make_lm_dataset(sentences, word2id, seq_len)\n",
            "\n"
          ],
          "name": "stdout"
        }
      ]
    },
    {
      "cell_type": "code",
      "metadata": {
        "id": "h5E0F3JuKQ-m",
        "colab": {
          "base_uri": "https://localhost:8080/"
        },
        "outputId": "6fc600d2-d0bc-441e-e246-8843a36f1a0a"
      },
      "source": [
        "help(pad_sentences)"
      ],
      "execution_count": null,
      "outputs": [
        {
          "output_type": "stream",
          "text": [
            "Help on function pad_sentences in module __main__:\n",
            "\n",
            "pad_sentences(sents, pad_id, max_len, append_eos=False)\n",
            "\n"
          ],
          "name": "stdout"
        }
      ]
    },
    {
      "cell_type": "code",
      "metadata": {
        "id": "-rk0MJ2YqOPi"
      },
      "source": [
        "def relu(x):\n",
        "  if x > 0:\n",
        "    return x\n",
        "  else:\n",
        "    return 0"
      ],
      "execution_count": 21,
      "outputs": []
    },
    {
      "cell_type": "code",
      "metadata": {
        "id": "8Fxdclx6JDXw"
      },
      "source": [
        "class LMPredictor:\n",
        "  def __init__(self, model, id2word, word2id):\n",
        "    self.model = model\n",
        "    self.id2word = id2word\n",
        "    self.word2id = word2id\n",
        "\n",
        "  def predict(self, sent):\n",
        "    sent = [self.word2id['<pad>']] * relu(SEQ_LEN - len(sent) - 1) + [self.word2id['<bos>']] + [self.word2id[word] if word in self.word2id else self.word2id['<unk>'] for word in sent]\n",
        "    sent = [sent[-SEQ_LEN:]]\n",
        "    sent = tt.LongTensor(sent)\n",
        "    output = model(sent)\n",
        "    new_word = output.argmax(dim=1)[0]#[-1]\n",
        "    return self.id2word[new_word]"
      ],
      "execution_count": 22,
      "outputs": []
    },
    {
      "cell_type": "code",
      "metadata": {
        "id": "GvlP1w1pLSWS"
      },
      "source": [
        "cpu = tt.device('cpu')\n",
        "model = tt.load('cnn_embed_morph_model')\n",
        "model = model.to(cpu)"
      ],
      "execution_count": 23,
      "outputs": []
    },
    {
      "cell_type": "code",
      "metadata": {
        "id": "O6LwuvtsgYsX"
      },
      "source": [
        "predictor = LMPredictor(model, id2word, word2id)"
      ],
      "execution_count": 24,
      "outputs": []
    },
    {
      "cell_type": "code",
      "metadata": {
        "id": "wsQh9zO5oIwy",
        "colab": {
          "base_uri": "https://localhost:8080/"
        },
        "outputId": "83d359c4-a594-4f67-add7-a27440fad4f1"
      },
      "source": [
        "sent = dev_morph_sentences[0]\n",
        "\n",
        "for i in range(len(sent)):\n",
        "  feed = sent[:i]\n",
        "  predicted = predictor.predict(feed)\n",
        "  print(f\"Item: {sent[i]} Predicted: {predicted}\")"
      ],
      "execution_count": 25,
      "outputs": [
        {
          "output_type": "stream",
          "text": [
            "Item: ӄԓявыԓ Predicted: ны\n",
            "Item: >я Predicted: >я\n",
            "Item: риӄукэ Predicted: >ӄ\n",
            "Item: >тэ Predicted: >тэ\n",
            "Item: ив Predicted: н\n",
            "Item: >ни Predicted: >ни\n",
            "Item: >н Predicted: >н\n",
            "Item: ытри Predicted: вынэ\n",
            "Item: ын Predicted: вынэ\n",
            "Item: >кы Predicted: >кы\n",
            "Item: варкы Predicted: ва\n",
            "Item: >т Predicted: >т\n",
            "Item: гын Predicted: ны\n",
            "Item: >ин Predicted: >ин\n",
            "Item: ӈэвъэ Predicted: >ив\n",
            "Item: >н Predicted: >н\n",
            "Item: гэ Predicted: ынкъам\n",
            "Item: >ԓгы Predicted: >ӈэвъэн\n",
            "Item: >ԓин Predicted: >ԓин\n",
            "Item: мэмыԓ Predicted: ынӄо\n",
            "Item: >я Predicted: >тэ\n",
            "Item: ра Predicted: >ӄ\n",
            "Item: >гты Predicted: >гты\n",
            "Item: >гъэ Predicted: >гъэ\n"
          ],
          "name": "stdout"
        }
      ]
    },
    {
      "cell_type": "markdown",
      "metadata": {
        "id": "hjArvxsxwtsS"
      },
      "source": [
        "### Scoring on test set"
      ]
    },
    {
      "cell_type": "markdown",
      "metadata": {
        "id": "intEyo5lpBQF"
      },
      "source": [
        "Let's count word accuracy on test set:"
      ]
    },
    {
      "cell_type": "code",
      "metadata": {
        "id": "v3dk2vTjpFGa",
        "colab": {
          "base_uri": "https://localhost:8080/",
          "height": 117,
          "referenced_widgets": [
            "fbd4466718314ee3a523281826aafaba",
            "f62fbb9809db4cbc804d3f563d3aedb8",
            "3e4e94b93c5e47ceae982bac6336f49e",
            "6ebb7dd153c74f5c90602740b92281e5",
            "f1d0782cc99e408894b54c27b82e3199",
            "70b6aa22e57b4713ac65df30055c3654",
            "449c1b239b9e4da1b7982a4e7bb1f653",
            "62931bac0c284167840a228c628e4d0c"
          ]
        },
        "outputId": "714b48f7-5125-42c2-9a97-facd620f54c4"
      },
      "source": [
        "## count accuracy\n",
        "acc = 0\n",
        "output = []\n",
        "dev_test = []\n",
        "for sent in tqdm_notebook(test_morph_sentences, total=len(test_morph_sentences)):\n",
        "  sent_acc = 0\n",
        "  for i in range(len(sent)):\n",
        "    feed = sent[:i]\n",
        "    predicted = predictor.predict(feed)\n",
        "    if predicted == sent[i]:\n",
        "      output.append(predicted)\n",
        "      sent_acc += 1\n",
        "    else:\n",
        "      output += [c for c in sent[i]]\n",
        "    if i!=0:\n",
        "      if i == len(sent)-1:\n",
        "        output.append('_')\n",
        "      elif not sent[i+1].startswith('>'):\n",
        "        output.append('_')\n",
        "  output.append('\\n')\n",
        "  acc += sent_acc/len(sent)\n",
        "acc = acc/len(test_morph_sentences)\n",
        "listToStr = ' '.join(map(str, output)).replace('>',' ')\n",
        "listToStr = re.sub(' +', ' ', listToStr)"
      ],
      "execution_count": 26,
      "outputs": [
        {
          "output_type": "stream",
          "text": [
            "/usr/local/lib/python3.7/dist-packages/ipykernel_launcher.py:5: TqdmDeprecationWarning: This function will be removed in tqdm==5.0.0\n",
            "Please use `tqdm.notebook.tqdm` instead of `tqdm.tqdm_notebook`\n",
            "  \"\"\"\n"
          ],
          "name": "stderr"
        },
        {
          "output_type": "display_data",
          "data": {
            "application/vnd.jupyter.widget-view+json": {
              "model_id": "fbd4466718314ee3a523281826aafaba",
              "version_minor": 0,
              "version_major": 2
            },
            "text/plain": [
              "HBox(children=(FloatProgress(value=0.0, max=1006.0), HTML(value='')))"
            ]
          },
          "metadata": {
            "tags": []
          }
        },
        {
          "output_type": "stream",
          "text": [
            "\n"
          ],
          "name": "stdout"
        }
      ]
    },
    {
      "cell_type": "code",
      "metadata": {
        "id": "cIpitgQzKo_t"
      },
      "source": [
        "output1 = list(listToStr.split('\\n'))"
      ],
      "execution_count": 27,
      "outputs": []
    },
    {
      "cell_type": "code",
      "metadata": {
        "id": "RVmoo4tkKrRA",
        "colab": {
          "base_uri": "https://localhost:8080/"
        },
        "outputId": "6e6ee80a-5294-41de-ab58-cae7b5b3f612"
      },
      "source": [
        "output1[:10]"
      ],
      "execution_count": 28,
      "outputs": [
        {
          "output_type": "execute_result",
          "data": {
            "text/plain": [
              "['г ы м н и н _ ы т л ь а т _ ы ’ т т ъ у в и _ ы н к ъ а м _ о ’ м р ы т в а а л _ ',\n",
              " ' п у у р ъ у э п ы _ г ы м н и н _ о ’ м _ о ’ м р ы к в о т _ н э м ы ӄ э й _ ӄ о р а г ы н р э т ы л ь о _ н и т ӄ и н _ ',\n",
              " ' г ы м н и н _ ы т л ы г ы т _ ы т л ь ’ а т э _ ӄ о н п ы _ э м н у ӈ кы _ н ы м и г ч и р эт ӄ и н э т _ н э м ы ӄ э й _ ӄ о р а г ы н р э т ы л ь о _ н и т ӄ и н э т _ ',\n",
              " ' ы н к ъ а м м у р и _ г а ч а к э т т о м г а _ г э _ г э е г т э л ь м у р и _ к а в р а г ы р г ы н _ ы н к ъ а м _ г ы м _ ',\n",
              " ' ы т р ъ э ч е _ ӈ и р э ӄ _ н э н э н э т _ в а г ъ э т _ ',\n",
              " ' ы т р ъ э ч ',\n",
              " ' к ы т у р ы н ӈ ы т э ӄ э _ м э д в э д э в _ п р э з и д э н т о _ э н м а _ к а н ч а л я н э т ы _ г э р э м к и ч и л ь и н _ ',\n",
              " ' ы н к ъ а л ю у т _ ӈ ы р ъ а _ в э р т а л ё т т э _ в а к ъ о г ъ а т ӈ а _ ',\n",
              " ' ны н ы п ч е ӈ и в й и в ӄ и н _ к о л ё _ н ы м н ы м а _ м э д в э д э в ъ ы м _ ',\n",
              " ' г э ч е в кы _ н ы н т ы ӄ и н _ т а ӈ к о л ё _ ы н кы _ н ы г ы н р и т ӄ и н _ ']"
            ]
          },
          "metadata": {
            "tags": []
          },
          "execution_count": 28
        }
      ]
    },
    {
      "cell_type": "code",
      "metadata": {
        "id": "lrrXpegnK0tO",
        "colab": {
          "base_uri": "https://localhost:8080/"
        },
        "outputId": "24b6714c-13df-4361-ef74-f0278ac21420"
      },
      "source": [
        "!sed 10q < global-classroom/chukchi/data/test/test.tsv"
      ],
      "execution_count": 29,
      "outputs": [
        {
          "output_type": "stream",
          "text": [
            "гымнин ытльат ы’ттъуви ынкъам о’мрытваал\tгым>нин ытльа>т ы’ттъуви ынкъам о’мрытваал>\n",
            "пууръу эпы гымнин о’м о’мрыквот нэмыӄэй ӄорагынрэтыльо нитӄин\tпууръу эпы гым>нин о’м о’мрыквот нэмыӄэй ӄора>гынрэты>ль>о н>ит>ӄин\n",
            "гымнин ытлыгыт ытль’атэ ӄонпы эмнуӈкы нымигчирэтӄинэт нэмыӄэй ӄорагынрэтыльо нитӄинэт\tгым>нин ытлыгы>т ытль’а>т>э ӄонпы эмнуӈ>кы ны>мигчир>эт>ӄинэ>т нэмыӄэй ӄора>гынрэты>ль>о нитӄинэт\n",
            "ынкъам мури гачакэттомга гэ гэегтэльмури каврагыргын ынкъам гым\tынкъам мури га>чакэт>томг>а гэ гэ>егтэль>мури каврагыргы>н ынкъам гым\n",
            "ытръэче ӈирэӄ нэнэнэт вагъэт\tытръэч>е ӈирэӄ нэнэнэ>т ва>гъэ>т\n",
            "ытръэч\tытръэч\n",
            "кытур ынӈытэӄэ мэдвэдэв прэзидэнто энма канчалянэты гэрэмкичильин\tкытур ынӈытэӄ>э мэдвэдэв прэзидэнт>о эн>ма канчалян>эты гэ>рэмкичи>льин\n",
            "ынкъа люут ӈыръа вэрталёттэ вакъогъатӈа\tынкъа люут ӈыръа вэрталёт>тэ вакъо>гъа>т>ӈа\n",
            "ныныпчеӈивйивӄин колё нымныма мэдвэдэвъым\tны>ны>пчеӈи>в>йив>ӄин колё нымным>а мэдвэдэв>>ъым\n",
            "гэчевкы нынтыӄин таӈколё ынкы ныгынритӄин\tгэчев>кы ны>нты>ӄин таӈ>колё ын>кы ны>гынрит>ӄин\n"
          ],
          "name": "stdout"
        }
      ]
    },
    {
      "cell_type": "code",
      "metadata": {
        "id": "0VZtxIBNIKeA"
      },
      "source": [
        "with open(\"global-classroom/chukchi/data/test/test.tsv\") as inp:\n",
        "  for line in inp.readlines():\n",
        "    words, morphs = line.strip('\\n').split('\\t')\n",
        "    dev_test.append(words)\n",
        "  dev_test.append('\\n')\n",
        "\n",
        "with open('cnn_embed_test_output.tsv', 'w') as out_file:\n",
        "    tsv_writer = csv.writer(out_file, delimiter='\\t')\n",
        "    tsv_writer.writerows(zip(dev_test, output1))"
      ],
      "execution_count": 31,
      "outputs": []
    },
    {
      "cell_type": "code",
      "metadata": {
        "id": "JNI_wjt6_YHe",
        "colab": {
          "base_uri": "https://localhost:8080/"
        },
        "outputId": "b2274de2-b3c9-4b15-c08a-fa4651dff138"
      },
      "source": [
        "acc"
      ],
      "execution_count": 32,
      "outputs": [
        {
          "output_type": "execute_result",
          "data": {
            "text/plain": [
              "0.12720380904454967"
            ]
          },
          "metadata": {
            "tags": []
          },
          "execution_count": 32
        }
      ]
    },
    {
      "cell_type": "code",
      "metadata": {
        "id": "7u-WHrm_LPkh",
        "colab": {
          "base_uri": "https://localhost:8080/"
        },
        "outputId": "0f7e5b51-daad-4025-9084-bd63a673cd31"
      },
      "source": [
        "!sed 10q < cnn_embed_test_output.tsv"
      ],
      "execution_count": 33,
      "outputs": [
        {
          "output_type": "stream",
          "text": [
            "гымнин ытльат ы’ттъуви ынкъам о’мрытваал\tг ы м н и н _ ы т л ь а т _ ы ’ т т ъ у в и _ ы н к ъ а м _ о ’ м р ы т в а а л _ \r\n",
            "пууръу эпы гымнин о’м о’мрыквот нэмыӄэй ӄорагынрэтыльо нитӄин\t п у у р ъ у э п ы _ г ы м н и н _ о ’ м _ о ’ м р ы к в о т _ н э м ы ӄ э й _ ӄ о р а г ы н р э т ы л ь о _ н и т ӄ и н _ \r\n",
            "гымнин ытлыгыт ытль’атэ ӄонпы эмнуӈкы нымигчирэтӄинэт нэмыӄэй ӄорагынрэтыльо нитӄинэт\t г ы м н и н _ ы т л ы г ы т _ ы т л ь ’ а т э _ ӄ о н п ы _ э м н у ӈ кы _ н ы м и г ч и р эт ӄ и н э т _ н э м ы ӄ э й _ ӄ о р а г ы н р э т ы л ь о _ н и т ӄ и н э т _ \r\n",
            "ынкъам мури гачакэттомга гэ гэегтэльмури каврагыргын ынкъам гым\t ы н к ъ а м м у р и _ г а ч а к э т т о м г а _ г э _ г э е г т э л ь м у р и _ к а в р а г ы р г ы н _ ы н к ъ а м _ г ы м _ \r\n",
            "ытръэче ӈирэӄ нэнэнэт вагъэт\t ы т р ъ э ч е _ ӈ и р э ӄ _ н э н э н э т _ в а г ъ э т _ \r\n",
            "ытръэч\t ы т р ъ э ч \r\n",
            "кытур ынӈытэӄэ мэдвэдэв прэзидэнто энма канчалянэты гэрэмкичильин\t к ы т у р ы н ӈ ы т э ӄ э _ м э д в э д э в _ п р э з и д э н т о _ э н м а _ к а н ч а л я н э т ы _ г э р э м к и ч и л ь и н _ \r\n",
            "ынкъа люут ӈыръа вэрталёттэ вакъогъатӈа\t ы н к ъ а л ю у т _ ӈ ы р ъ а _ в э р т а л ё т т э _ в а к ъ о г ъ а т ӈ а _ \r\n",
            "ныныпчеӈивйивӄин колё нымныма мэдвэдэвъым\t ны н ы п ч е ӈ и в й и в ӄ и н _ к о л ё _ н ы м н ы м а _ м э д в э д э в ъ ы м _ \r\n",
            "гэчевкы нынтыӄин таӈколё ынкы ныгынритӄин\t г э ч е в кы _ н ы н т ы ӄ и н _ т а ӈ к о л ё _ ы н кы _ н ы г ы н р и т ӄ и н _ \r\n"
          ],
          "name": "stdout"
        }
      ]
    },
    {
      "cell_type": "code",
      "metadata": {
        "id": "qclX69nDMbvg",
        "colab": {
          "base_uri": "https://localhost:8080/"
        },
        "outputId": "c2761b28-4580-4573-8153-84a172316a7b"
      },
      "source": [
        "!sed 10q < global-classroom/chukchi/baseline/output_test.tsv"
      ],
      "execution_count": 34,
      "outputs": [
        {
          "output_type": "stream",
          "text": [
            "гымнин ытльат ы’ттъуви ынкъам о’мрытваал\tг ы м н и н _ ы т л ь а т _ ы ’ т т ъ у в и _ ынкъам _ о ’ м р ы т в а а л _\n",
            "пууръу эпы гымнин о’м о’мрыквот нэмыӄэй ӄорагынрэтыльо нитӄин\tп у у р ъ у _ э п ы _ г ы м н и н _ о ’ м _ о ’ м р ы к в о т _ н э м ы ӄ э й _ ӄ о р а г ы н р э т ы л ь о _ н и т ӄ и н _\n",
            "гымнин ытлыгыт ытль’атэ ӄонпы эмнуӈкы нымигчирэтӄинэт нэмыӄэй ӄорагынрэтыльо нитӄинэт\tг ы м н и н _ ы т л ы г ы т _ ы т л ь ’ а т э _ ӄ о н п ы _ э м н у ӈ к ы _ н ы м и г ч и р э т ӄ и н э т _ н э м ы ӄ э й _ ӄ о р а г ы н р э т ы л ь о _ н и т ӄ и н э т _\n",
            "ынкъам мури гачакэттомга гэ гэегтэльмури каврагыргын ынкъам гым\tынкъам _ м у р и _ г а ч а к э т т о м г а _ г э _ г э е г т э л ь м у р и _ к а в р а г ы р г ы н _ ынкъам _ г ы м _\n",
            "ытръэче ӈирэӄ нэнэнэт вагъэт\tы т р ъ э ч е _ ӈ и р э ӄ _ н э н э н э т _ в а г ъ э т _\n",
            "ытръэч\tы т р ъ э ч _\n",
            "кытур ынӈытэӄэ мэдвэдэв прэзидэнто энма канчалянэты гэрэмкичильин\tк ы т у р _ ы н ӈ ы т э ӄ э _ м э д в э д э в _ п р э з и д э н т о _ э н м а _ к а н ч а л я н э т ы _ г э р э м к и ч и л ь и н _\n",
            "ынкъа люут ӈыръа вэрталёттэ вакъогъатӈа\tы н к ъ а _ л ю у т _ ӈ ы р ъ а _ в э р т а л ё т т э _ в а к ъ о г ъ а т ӈ а _\n",
            "ныныпчеӈивйивӄин колё нымныма мэдвэдэвъым\tн ы н ы п ч е ӈ и в й и в ӄ и н _ к о л ё _ н ы м н ы м а _ м э д в э д э в ъ ы м _\n",
            "гэчевкы нынтыӄин таӈколё ынкы ныгынритӄин\tг э ч е в к ы _ н ы н т ы ӄ и н _ т а ӈ к о л ё _ ы н к ы _ н ы г ы н р и т ӄ и н _\n"
          ],
          "name": "stdout"
        }
      ]
    },
    {
      "cell_type": "code",
      "metadata": {
        "id": "7hrH3naWMiXA",
        "colab": {
          "base_uri": "https://localhost:8080/"
        },
        "outputId": "ceafcdf0-4ae8-48db-9e07-a2171044f50d"
      },
      "source": [
        "os.listdir()"
      ],
      "execution_count": 35,
      "outputs": [
        {
          "output_type": "execute_result",
          "data": {
            "text/plain": [
              "['global-classroom',\n",
              " 'lstm_morph_model',\n",
              " 'lstm_morph_model_freq_restricted',\n",
              " 'cnn_embed_morph_model',\n",
              " 'output1.tsv',\n",
              " 'dev_output1.tsv',\n",
              " 'output_test_lstm.tsv',\n",
              " 'output_dev_lstm.tsv',\n",
              " 'lstm_restricted_test_output.tsv',\n",
              " 'lstm_restricted_dev_output.tsv',\n",
              " 'cnn_morph_model',\n",
              " 'cnn_token_test_output.tsv',\n",
              " 'cnn_token_dev_output.tsv',\n",
              " 'cnn_embed_test_output.tsv']"
            ]
          },
          "metadata": {
            "tags": []
          },
          "execution_count": 35
        }
      ]
    },
    {
      "cell_type": "code",
      "metadata": {
        "id": "3hWwldQnczjC",
        "colab": {
          "base_uri": "https://localhost:8080/"
        },
        "outputId": "35e3a960-b28c-4f43-8ed9-2f98f303529e"
      },
      "source": [
        "!python3 global-classroom/chukchi/evaluate.py global-classroom/chukchi/data/test/test.tsv cnn_embed_test_output.tsv "
      ],
      "execution_count": 36,
      "outputs": [
        {
          "output_type": "stream",
          "text": [
            "Characters: 37927\n",
            "Tokens: 8374\n",
            "Clicks: 37367\n",
            "Clicks/Token: 4.462264150943396\n",
            "Clicks/Character: 0.985234793155272\n"
          ],
          "name": "stdout"
        }
      ]
    },
    {
      "cell_type": "markdown",
      "metadata": {
        "id": "gcfZ-lbLwzg0"
      },
      "source": [
        "### Scoring on dev set"
      ]
    },
    {
      "cell_type": "code",
      "metadata": {
        "id": "aA5-IzA3w2Th",
        "colab": {
          "base_uri": "https://localhost:8080/",
          "height": 117,
          "referenced_widgets": [
            "a5cec44738bb451080480a700a20e0cd",
            "d3bfada39c1d44fb977d2a9faa5b7270",
            "40713f25799342d78e7bd0ef5e342800",
            "7d143a3aa3564866897c36e96be97697",
            "aaa64be9f9654d528923e0744bc7d88c",
            "db831b2e5e1d4c6c8a3c9cef501dfc2d",
            "9b238e7a23124944ad48c14cd034fbc3",
            "6558bc62e1ad4ff3be5c9936e4112777"
          ]
        },
        "outputId": "07c47f91-12d4-4530-de11-e9e64249385b"
      },
      "source": [
        "## count accuracy\n",
        "dev_acc = 0\n",
        "output = []\n",
        "dev_test = []\n",
        "for sent in tqdm_notebook(dev_morph_sentences, total=len(dev_morph_sentences)):\n",
        "  sent_acc = 0\n",
        "  for i in range(len(sent)):\n",
        "    feed = sent[:i]\n",
        "    predicted = predictor.predict(feed)\n",
        "    if predicted == sent[i]:\n",
        "      output.append(predicted)\n",
        "      sent_acc += 1\n",
        "    else:\n",
        "      output += [c for c in sent[i]]\n",
        "    if i!=0:\n",
        "      if i == len(sent)-1:\n",
        "        output.append('_')\n",
        "      elif not sent[i+1].startswith('>'):\n",
        "        output.append('_')\n",
        "  output.append('\\n')\n",
        "  dev_acc += sent_acc/len(sent)\n",
        "dev_acc = dev_acc/len(dev_morph_sentences)\n",
        "listToStr = ' '.join(map(str, output)).replace('>',' ')\n",
        "listToStr = re.sub(' +', ' ', listToStr)"
      ],
      "execution_count": 37,
      "outputs": [
        {
          "output_type": "stream",
          "text": [
            "/usr/local/lib/python3.7/dist-packages/ipykernel_launcher.py:5: TqdmDeprecationWarning: This function will be removed in tqdm==5.0.0\n",
            "Please use `tqdm.notebook.tqdm` instead of `tqdm.tqdm_notebook`\n",
            "  \"\"\"\n"
          ],
          "name": "stderr"
        },
        {
          "output_type": "display_data",
          "data": {
            "application/vnd.jupyter.widget-view+json": {
              "model_id": "a5cec44738bb451080480a700a20e0cd",
              "version_minor": 0,
              "version_major": 2
            },
            "text/plain": [
              "HBox(children=(FloatProgress(value=0.0, max=1000.0), HTML(value='')))"
            ]
          },
          "metadata": {
            "tags": []
          }
        },
        {
          "output_type": "stream",
          "text": [
            "\n"
          ],
          "name": "stdout"
        }
      ]
    },
    {
      "cell_type": "code",
      "metadata": {
        "id": "5C0qlccQyK3d"
      },
      "source": [
        "output1 = list(listToStr.split('\\n'))"
      ],
      "execution_count": 38,
      "outputs": []
    },
    {
      "cell_type": "code",
      "metadata": {
        "id": "G3hWWwZ3xPV3",
        "colab": {
          "base_uri": "https://localhost:8080/"
        },
        "outputId": "289fdc66-a06d-4df2-9e7c-b3b358ccdac3"
      },
      "source": [
        "dev_acc"
      ],
      "execution_count": 39,
      "outputs": [
        {
          "output_type": "execute_result",
          "data": {
            "text/plain": [
              "0.2611775395732205"
            ]
          },
          "metadata": {
            "tags": []
          },
          "execution_count": 39
        }
      ]
    },
    {
      "cell_type": "code",
      "metadata": {
        "id": "43waeaxjxw6y"
      },
      "source": [
        "with open(\"global-classroom/chukchi/data/dev.tsv\") as inp:\n",
        "  for line in inp.readlines():\n",
        "    words, morphs = line.strip('\\n').split('\\t')\n",
        "    dev_test.append(words)\n",
        "  dev_test.append('\\n')\n",
        "\n",
        "with open('cnn_embed_dev_output.tsv', 'w') as out_file:\n",
        "    tsv_writer = csv.writer(out_file, delimiter='\\t')\n",
        "    tsv_writer.writerows(zip(dev_test, output1))"
      ],
      "execution_count": 40,
      "outputs": []
    },
    {
      "cell_type": "code",
      "metadata": {
        "id": "9OU3k4Fyx6Yg",
        "colab": {
          "base_uri": "https://localhost:8080/"
        },
        "outputId": "61acf728-639c-4817-e25a-40295dc9f321"
      },
      "source": [
        "!sed 10q < cnn_embed_dev_output.tsv"
      ],
      "execution_count": 41,
      "outputs": [
        {
          "output_type": "stream",
          "text": [
            "ӄԓявыԓя риӄукэтэ ивнин ытри ынкы варкыт гынин ӈэвъэн гэԓгыԓин мэмыԓя рагтыгъэ\tӄ ԓ я в ы ԓ я _ р и ӄ у к э тэ _ и в ни н _ ы т р и _ ы н кы _ в а р к ы т _ г ы н ин _ ӈ э в ъ э н _ г э ԓ г ы ԓин _ м э м ы ԓ я _ р а гты гъэ _ \r\n",
            "ӄԓявыԓ ынкъам купрэн ынанъомрычьын\t ӄ ԓ я в ы ԓ ы н к ъ а м _ к у п р э н _ ы н а н ъ о м р ы ч ь ы н _ \r\n",
            "рытэнмавнэн ынӄо эргатык эквэтгъэт копрантыватысӄэквъат\t р ы т э н м ав нэн _ ы н ӄ о _ э р г атык _ э к в э т г ъ э т _ к о п р а н т ы в а т ы с ӄ э к в ъ а т _ \r\n",
            "риӄукэтэ гамгаваны нэнайӈоткоӄэн ӄоԓ\t р и ӄ у к э тэ _ г а м г а в а н ы _ н эна й ӈ о т к о ӄэн _ ӄ о ԓ _ \r\n",
            "ԓьунин ынӄо йыӈотконэн\t ԓ ь у ни н _ ынӄо _ й ы ӈ о т к о н э н _ \r\n",
            " эвын коԓё\t э в ы н _ к о ԓ ё _ \r\n",
            "тыкгаткэта ивнин риӄукэтэ\t т ы к г а т к э т а _ и в ни н _ р и ӄ у к э тэ _ \r\n",
            "йыӈотконэн эвын коԓё\t й ы ӈ о т к о н э н _ э в ы н _ к о ԓ ё _ \r\n",
            "тыкгаткэта\t т ы к г а т к э т а _ \r\n",
            "ивнин риӄукэтэ ынкы\t и в ни н _ р и ӄ у к э тэ _ ы н кы _ \r\n"
          ],
          "name": "stdout"
        }
      ]
    },
    {
      "cell_type": "code",
      "metadata": {
        "id": "pjDvXBGqydMh",
        "colab": {
          "base_uri": "https://localhost:8080/"
        },
        "outputId": "5ea51c41-2280-42db-f249-5f89702ad052"
      },
      "source": [
        "!python3 global-classroom/chukchi/evaluate.py global-classroom/chukchi/data/dev.tsv cnn_embed_dev_output.tsv "
      ],
      "execution_count": 42,
      "outputs": [
        {
          "output_type": "stream",
          "text": [
            "Characters: 37897\n",
            "Tokens: 8788\n",
            "Clicks: 35834\n",
            "Clicks/Token: 4.077605826126536\n",
            "Clicks/Character: 0.9455629733224266\n"
          ],
          "name": "stdout"
        }
      ]
    }
  ]
}