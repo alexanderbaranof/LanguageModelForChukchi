{
  "nbformat": 4,
  "nbformat_minor": 0,
  "metadata": {
    "accelerator": "GPU",
    "colab": {
      "name": "Chukchi LSTM model BOS but no EOS Full Training Set FreqRestricted",
      "provenance": [],
      "collapsed_sections": []
    },
    "kernelspec": {
      "display_name": "Python 3",
      "name": "python3"
    },
    "widgets": {
      "application/vnd.jupyter.widget-state+json": {
        "705ef4e8090e4d0c8d84d2c0de686062": {
          "model_module": "@jupyter-widgets/controls",
          "model_name": "HBoxModel",
          "state": {
            "_dom_classes": [],
            "_model_module": "@jupyter-widgets/controls",
            "_model_module_version": "1.5.0",
            "_model_name": "HBoxModel",
            "_view_count": null,
            "_view_module": "@jupyter-widgets/controls",
            "_view_module_version": "1.5.0",
            "_view_name": "HBoxView",
            "box_style": "",
            "children": [
              "IPY_MODEL_cdb6aa698a84403eb7813db591013ef8",
              "IPY_MODEL_54e1654ec8fe4d18ad7516c312f733a5"
            ],
            "layout": "IPY_MODEL_4af66eb09eda4fb2a8ab73ae8baae5b9"
          }
        },
        "cdb6aa698a84403eb7813db591013ef8": {
          "model_module": "@jupyter-widgets/controls",
          "model_name": "FloatProgressModel",
          "state": {
            "_dom_classes": [],
            "_model_module": "@jupyter-widgets/controls",
            "_model_module_version": "1.5.0",
            "_model_name": "FloatProgressModel",
            "_view_count": null,
            "_view_module": "@jupyter-widgets/controls",
            "_view_module_version": "1.5.0",
            "_view_name": "ProgressView",
            "bar_style": "success",
            "description": "epoch 0: 100%",
            "description_tooltip": null,
            "layout": "IPY_MODEL_2fddd3b44b2448dfac4d683beec830af",
            "max": 3895,
            "min": 0,
            "orientation": "horizontal",
            "style": "IPY_MODEL_5fb9f565842c4521a6c92bb8004b6454",
            "value": 3895
          }
        },
        "54e1654ec8fe4d18ad7516c312f733a5": {
          "model_module": "@jupyter-widgets/controls",
          "model_name": "HTMLModel",
          "state": {
            "_dom_classes": [],
            "_model_module": "@jupyter-widgets/controls",
            "_model_module_version": "1.5.0",
            "_model_name": "HTMLModel",
            "_view_count": null,
            "_view_module": "@jupyter-widgets/controls",
            "_view_module_version": "1.5.0",
            "_view_name": "HTMLView",
            "description": "",
            "description_tooltip": null,
            "layout": "IPY_MODEL_3e7791d08063433ca479a0483bdd85e5",
            "placeholder": "​",
            "style": "IPY_MODEL_fd346fb266ef44d384eadef9183edae1",
            "value": " 3895/3895 [10:34&lt;00:00,  6.14it/s, acc=0.48750, f1=0.48750, loss=1.10560]"
          }
        },
        "4af66eb09eda4fb2a8ab73ae8baae5b9": {
          "model_module": "@jupyter-widgets/base",
          "model_name": "LayoutModel",
          "state": {
            "_model_module": "@jupyter-widgets/base",
            "_model_module_version": "1.2.0",
            "_model_name": "LayoutModel",
            "_view_count": null,
            "_view_module": "@jupyter-widgets/base",
            "_view_module_version": "1.2.0",
            "_view_name": "LayoutView",
            "align_content": null,
            "align_items": null,
            "align_self": null,
            "border": null,
            "bottom": null,
            "display": null,
            "flex": null,
            "flex_flow": null,
            "grid_area": null,
            "grid_auto_columns": null,
            "grid_auto_flow": null,
            "grid_auto_rows": null,
            "grid_column": null,
            "grid_gap": null,
            "grid_row": null,
            "grid_template_areas": null,
            "grid_template_columns": null,
            "grid_template_rows": null,
            "height": null,
            "justify_content": null,
            "justify_items": null,
            "left": null,
            "margin": null,
            "max_height": null,
            "max_width": null,
            "min_height": null,
            "min_width": null,
            "object_fit": null,
            "object_position": null,
            "order": null,
            "overflow": null,
            "overflow_x": null,
            "overflow_y": null,
            "padding": null,
            "right": null,
            "top": null,
            "visibility": null,
            "width": null
          }
        },
        "2fddd3b44b2448dfac4d683beec830af": {
          "model_module": "@jupyter-widgets/base",
          "model_name": "LayoutModel",
          "state": {
            "_model_module": "@jupyter-widgets/base",
            "_model_module_version": "1.2.0",
            "_model_name": "LayoutModel",
            "_view_count": null,
            "_view_module": "@jupyter-widgets/base",
            "_view_module_version": "1.2.0",
            "_view_name": "LayoutView",
            "align_content": null,
            "align_items": null,
            "align_self": null,
            "border": null,
            "bottom": null,
            "display": null,
            "flex": null,
            "flex_flow": null,
            "grid_area": null,
            "grid_auto_columns": null,
            "grid_auto_flow": null,
            "grid_auto_rows": null,
            "grid_column": null,
            "grid_gap": null,
            "grid_row": null,
            "grid_template_areas": null,
            "grid_template_columns": null,
            "grid_template_rows": null,
            "height": null,
            "justify_content": null,
            "justify_items": null,
            "left": null,
            "margin": null,
            "max_height": null,
            "max_width": null,
            "min_height": null,
            "min_width": null,
            "object_fit": null,
            "object_position": null,
            "order": null,
            "overflow": null,
            "overflow_x": null,
            "overflow_y": null,
            "padding": null,
            "right": null,
            "top": null,
            "visibility": null,
            "width": null
          }
        },
        "5fb9f565842c4521a6c92bb8004b6454": {
          "model_module": "@jupyter-widgets/controls",
          "model_name": "ProgressStyleModel",
          "state": {
            "_model_module": "@jupyter-widgets/controls",
            "_model_module_version": "1.5.0",
            "_model_name": "ProgressStyleModel",
            "_view_count": null,
            "_view_module": "@jupyter-widgets/base",
            "_view_module_version": "1.2.0",
            "_view_name": "StyleView",
            "bar_color": null,
            "description_width": "initial"
          }
        },
        "3e7791d08063433ca479a0483bdd85e5": {
          "model_module": "@jupyter-widgets/base",
          "model_name": "LayoutModel",
          "state": {
            "_model_module": "@jupyter-widgets/base",
            "_model_module_version": "1.2.0",
            "_model_name": "LayoutModel",
            "_view_count": null,
            "_view_module": "@jupyter-widgets/base",
            "_view_module_version": "1.2.0",
            "_view_name": "LayoutView",
            "align_content": null,
            "align_items": null,
            "align_self": null,
            "border": null,
            "bottom": null,
            "display": null,
            "flex": null,
            "flex_flow": null,
            "grid_area": null,
            "grid_auto_columns": null,
            "grid_auto_flow": null,
            "grid_auto_rows": null,
            "grid_column": null,
            "grid_gap": null,
            "grid_row": null,
            "grid_template_areas": null,
            "grid_template_columns": null,
            "grid_template_rows": null,
            "height": null,
            "justify_content": null,
            "justify_items": null,
            "left": null,
            "margin": null,
            "max_height": null,
            "max_width": null,
            "min_height": null,
            "min_width": null,
            "object_fit": null,
            "object_position": null,
            "order": null,
            "overflow": null,
            "overflow_x": null,
            "overflow_y": null,
            "padding": null,
            "right": null,
            "top": null,
            "visibility": null,
            "width": null
          }
        },
        "fd346fb266ef44d384eadef9183edae1": {
          "model_module": "@jupyter-widgets/controls",
          "model_name": "DescriptionStyleModel",
          "state": {
            "_model_module": "@jupyter-widgets/controls",
            "_model_module_version": "1.5.0",
            "_model_name": "DescriptionStyleModel",
            "_view_count": null,
            "_view_module": "@jupyter-widgets/base",
            "_view_module_version": "1.2.0",
            "_view_name": "StyleView",
            "description_width": ""
          }
        },
        "b506a06e86ae418a94274592297e7aef": {
          "model_module": "@jupyter-widgets/controls",
          "model_name": "HBoxModel",
          "state": {
            "_dom_classes": [],
            "_model_module": "@jupyter-widgets/controls",
            "_model_module_version": "1.5.0",
            "_model_name": "HBoxModel",
            "_view_count": null,
            "_view_module": "@jupyter-widgets/controls",
            "_view_module_version": "1.5.0",
            "_view_name": "HBoxView",
            "box_style": "",
            "children": [
              "IPY_MODEL_6cbad4d8f68c419ebd3d5177e1e5c853",
              "IPY_MODEL_4eaf1d17f0dd4eb9b48386fcf1d077d6"
            ],
            "layout": "IPY_MODEL_8e1b963d47534f478b7f0dea5a840fc2"
          }
        },
        "6cbad4d8f68c419ebd3d5177e1e5c853": {
          "model_module": "@jupyter-widgets/controls",
          "model_name": "FloatProgressModel",
          "state": {
            "_dom_classes": [],
            "_model_module": "@jupyter-widgets/controls",
            "_model_module_version": "1.5.0",
            "_model_name": "FloatProgressModel",
            "_view_count": null,
            "_view_module": "@jupyter-widgets/controls",
            "_view_module_version": "1.5.0",
            "_view_name": "ProgressView",
            "bar_style": "success",
            "description": "epoch 1: 100%",
            "description_tooltip": null,
            "layout": "IPY_MODEL_25c288b2de874d9f91182a9ffc886cd9",
            "max": 3895,
            "min": 0,
            "orientation": "horizontal",
            "style": "IPY_MODEL_2a65d81ee830417e82f8af53212f5121",
            "value": 3895
          }
        },
        "4eaf1d17f0dd4eb9b48386fcf1d077d6": {
          "model_module": "@jupyter-widgets/controls",
          "model_name": "HTMLModel",
          "state": {
            "_dom_classes": [],
            "_model_module": "@jupyter-widgets/controls",
            "_model_module_version": "1.5.0",
            "_model_name": "HTMLModel",
            "_view_count": null,
            "_view_module": "@jupyter-widgets/controls",
            "_view_module_version": "1.5.0",
            "_view_name": "HTMLView",
            "description": "",
            "description_tooltip": null,
            "layout": "IPY_MODEL_9914450c5cfd4a6f8da779f438972bec",
            "placeholder": "​",
            "style": "IPY_MODEL_18d29a30c72d4bcb9dd9916ee028b36b",
            "value": " 3895/3895 [02:06&lt;00:00, 30.81it/s, acc=0.51458, f1=0.51458, loss=0.66328]"
          }
        },
        "8e1b963d47534f478b7f0dea5a840fc2": {
          "model_module": "@jupyter-widgets/base",
          "model_name": "LayoutModel",
          "state": {
            "_model_module": "@jupyter-widgets/base",
            "_model_module_version": "1.2.0",
            "_model_name": "LayoutModel",
            "_view_count": null,
            "_view_module": "@jupyter-widgets/base",
            "_view_module_version": "1.2.0",
            "_view_name": "LayoutView",
            "align_content": null,
            "align_items": null,
            "align_self": null,
            "border": null,
            "bottom": null,
            "display": null,
            "flex": null,
            "flex_flow": null,
            "grid_area": null,
            "grid_auto_columns": null,
            "grid_auto_flow": null,
            "grid_auto_rows": null,
            "grid_column": null,
            "grid_gap": null,
            "grid_row": null,
            "grid_template_areas": null,
            "grid_template_columns": null,
            "grid_template_rows": null,
            "height": null,
            "justify_content": null,
            "justify_items": null,
            "left": null,
            "margin": null,
            "max_height": null,
            "max_width": null,
            "min_height": null,
            "min_width": null,
            "object_fit": null,
            "object_position": null,
            "order": null,
            "overflow": null,
            "overflow_x": null,
            "overflow_y": null,
            "padding": null,
            "right": null,
            "top": null,
            "visibility": null,
            "width": null
          }
        },
        "25c288b2de874d9f91182a9ffc886cd9": {
          "model_module": "@jupyter-widgets/base",
          "model_name": "LayoutModel",
          "state": {
            "_model_module": "@jupyter-widgets/base",
            "_model_module_version": "1.2.0",
            "_model_name": "LayoutModel",
            "_view_count": null,
            "_view_module": "@jupyter-widgets/base",
            "_view_module_version": "1.2.0",
            "_view_name": "LayoutView",
            "align_content": null,
            "align_items": null,
            "align_self": null,
            "border": null,
            "bottom": null,
            "display": null,
            "flex": null,
            "flex_flow": null,
            "grid_area": null,
            "grid_auto_columns": null,
            "grid_auto_flow": null,
            "grid_auto_rows": null,
            "grid_column": null,
            "grid_gap": null,
            "grid_row": null,
            "grid_template_areas": null,
            "grid_template_columns": null,
            "grid_template_rows": null,
            "height": null,
            "justify_content": null,
            "justify_items": null,
            "left": null,
            "margin": null,
            "max_height": null,
            "max_width": null,
            "min_height": null,
            "min_width": null,
            "object_fit": null,
            "object_position": null,
            "order": null,
            "overflow": null,
            "overflow_x": null,
            "overflow_y": null,
            "padding": null,
            "right": null,
            "top": null,
            "visibility": null,
            "width": null
          }
        },
        "2a65d81ee830417e82f8af53212f5121": {
          "model_module": "@jupyter-widgets/controls",
          "model_name": "ProgressStyleModel",
          "state": {
            "_model_module": "@jupyter-widgets/controls",
            "_model_module_version": "1.5.0",
            "_model_name": "ProgressStyleModel",
            "_view_count": null,
            "_view_module": "@jupyter-widgets/base",
            "_view_module_version": "1.2.0",
            "_view_name": "StyleView",
            "bar_color": null,
            "description_width": "initial"
          }
        },
        "9914450c5cfd4a6f8da779f438972bec": {
          "model_module": "@jupyter-widgets/base",
          "model_name": "LayoutModel",
          "state": {
            "_model_module": "@jupyter-widgets/base",
            "_model_module_version": "1.2.0",
            "_model_name": "LayoutModel",
            "_view_count": null,
            "_view_module": "@jupyter-widgets/base",
            "_view_module_version": "1.2.0",
            "_view_name": "LayoutView",
            "align_content": null,
            "align_items": null,
            "align_self": null,
            "border": null,
            "bottom": null,
            "display": null,
            "flex": null,
            "flex_flow": null,
            "grid_area": null,
            "grid_auto_columns": null,
            "grid_auto_flow": null,
            "grid_auto_rows": null,
            "grid_column": null,
            "grid_gap": null,
            "grid_row": null,
            "grid_template_areas": null,
            "grid_template_columns": null,
            "grid_template_rows": null,
            "height": null,
            "justify_content": null,
            "justify_items": null,
            "left": null,
            "margin": null,
            "max_height": null,
            "max_width": null,
            "min_height": null,
            "min_width": null,
            "object_fit": null,
            "object_position": null,
            "order": null,
            "overflow": null,
            "overflow_x": null,
            "overflow_y": null,
            "padding": null,
            "right": null,
            "top": null,
            "visibility": null,
            "width": null
          }
        },
        "18d29a30c72d4bcb9dd9916ee028b36b": {
          "model_module": "@jupyter-widgets/controls",
          "model_name": "DescriptionStyleModel",
          "state": {
            "_model_module": "@jupyter-widgets/controls",
            "_model_module_version": "1.5.0",
            "_model_name": "DescriptionStyleModel",
            "_view_count": null,
            "_view_module": "@jupyter-widgets/base",
            "_view_module_version": "1.2.0",
            "_view_name": "StyleView",
            "description_width": ""
          }
        },
        "b6bf01c2014e4e8abef32158b9d01c63": {
          "model_module": "@jupyter-widgets/controls",
          "model_name": "HBoxModel",
          "state": {
            "_dom_classes": [],
            "_model_module": "@jupyter-widgets/controls",
            "_model_module_version": "1.5.0",
            "_model_name": "HBoxModel",
            "_view_count": null,
            "_view_module": "@jupyter-widgets/controls",
            "_view_module_version": "1.5.0",
            "_view_name": "HBoxView",
            "box_style": "",
            "children": [
              "IPY_MODEL_184fedc0a7194118a0f8896606c4da9d",
              "IPY_MODEL_cf57e1f8c80946eabf76a812ac099b6d"
            ],
            "layout": "IPY_MODEL_96544fdb22bb47b79cb644b11938b59c"
          }
        },
        "184fedc0a7194118a0f8896606c4da9d": {
          "model_module": "@jupyter-widgets/controls",
          "model_name": "FloatProgressModel",
          "state": {
            "_dom_classes": [],
            "_model_module": "@jupyter-widgets/controls",
            "_model_module_version": "1.5.0",
            "_model_name": "FloatProgressModel",
            "_view_count": null,
            "_view_module": "@jupyter-widgets/controls",
            "_view_module_version": "1.5.0",
            "_view_name": "ProgressView",
            "bar_style": "success",
            "description": "epoch 2: 100%",
            "description_tooltip": null,
            "layout": "IPY_MODEL_e1b3a85cf6d1432c9c00342a0963d376",
            "max": 3895,
            "min": 0,
            "orientation": "horizontal",
            "style": "IPY_MODEL_34b8d8aeaf98468cbf2cda3ee8921715",
            "value": 3895
          }
        },
        "cf57e1f8c80946eabf76a812ac099b6d": {
          "model_module": "@jupyter-widgets/controls",
          "model_name": "HTMLModel",
          "state": {
            "_dom_classes": [],
            "_model_module": "@jupyter-widgets/controls",
            "_model_module_version": "1.5.0",
            "_model_name": "HTMLModel",
            "_view_count": null,
            "_view_module": "@jupyter-widgets/controls",
            "_view_module_version": "1.5.0",
            "_view_name": "HTMLView",
            "description": "",
            "description_tooltip": null,
            "layout": "IPY_MODEL_49ca3d46ee5f4758ab7cfe08d9e4c40e",
            "placeholder": "​",
            "style": "IPY_MODEL_526df4b0565145cfb2d21666983b6a83",
            "value": " 3895/3895 [06:20&lt;00:00, 10.24it/s, acc=0.52083, f1=0.52083, loss=0.56638]"
          }
        },
        "96544fdb22bb47b79cb644b11938b59c": {
          "model_module": "@jupyter-widgets/base",
          "model_name": "LayoutModel",
          "state": {
            "_model_module": "@jupyter-widgets/base",
            "_model_module_version": "1.2.0",
            "_model_name": "LayoutModel",
            "_view_count": null,
            "_view_module": "@jupyter-widgets/base",
            "_view_module_version": "1.2.0",
            "_view_name": "LayoutView",
            "align_content": null,
            "align_items": null,
            "align_self": null,
            "border": null,
            "bottom": null,
            "display": null,
            "flex": null,
            "flex_flow": null,
            "grid_area": null,
            "grid_auto_columns": null,
            "grid_auto_flow": null,
            "grid_auto_rows": null,
            "grid_column": null,
            "grid_gap": null,
            "grid_row": null,
            "grid_template_areas": null,
            "grid_template_columns": null,
            "grid_template_rows": null,
            "height": null,
            "justify_content": null,
            "justify_items": null,
            "left": null,
            "margin": null,
            "max_height": null,
            "max_width": null,
            "min_height": null,
            "min_width": null,
            "object_fit": null,
            "object_position": null,
            "order": null,
            "overflow": null,
            "overflow_x": null,
            "overflow_y": null,
            "padding": null,
            "right": null,
            "top": null,
            "visibility": null,
            "width": null
          }
        },
        "e1b3a85cf6d1432c9c00342a0963d376": {
          "model_module": "@jupyter-widgets/base",
          "model_name": "LayoutModel",
          "state": {
            "_model_module": "@jupyter-widgets/base",
            "_model_module_version": "1.2.0",
            "_model_name": "LayoutModel",
            "_view_count": null,
            "_view_module": "@jupyter-widgets/base",
            "_view_module_version": "1.2.0",
            "_view_name": "LayoutView",
            "align_content": null,
            "align_items": null,
            "align_self": null,
            "border": null,
            "bottom": null,
            "display": null,
            "flex": null,
            "flex_flow": null,
            "grid_area": null,
            "grid_auto_columns": null,
            "grid_auto_flow": null,
            "grid_auto_rows": null,
            "grid_column": null,
            "grid_gap": null,
            "grid_row": null,
            "grid_template_areas": null,
            "grid_template_columns": null,
            "grid_template_rows": null,
            "height": null,
            "justify_content": null,
            "justify_items": null,
            "left": null,
            "margin": null,
            "max_height": null,
            "max_width": null,
            "min_height": null,
            "min_width": null,
            "object_fit": null,
            "object_position": null,
            "order": null,
            "overflow": null,
            "overflow_x": null,
            "overflow_y": null,
            "padding": null,
            "right": null,
            "top": null,
            "visibility": null,
            "width": null
          }
        },
        "34b8d8aeaf98468cbf2cda3ee8921715": {
          "model_module": "@jupyter-widgets/controls",
          "model_name": "ProgressStyleModel",
          "state": {
            "_model_module": "@jupyter-widgets/controls",
            "_model_module_version": "1.5.0",
            "_model_name": "ProgressStyleModel",
            "_view_count": null,
            "_view_module": "@jupyter-widgets/base",
            "_view_module_version": "1.2.0",
            "_view_name": "StyleView",
            "bar_color": null,
            "description_width": "initial"
          }
        },
        "49ca3d46ee5f4758ab7cfe08d9e4c40e": {
          "model_module": "@jupyter-widgets/base",
          "model_name": "LayoutModel",
          "state": {
            "_model_module": "@jupyter-widgets/base",
            "_model_module_version": "1.2.0",
            "_model_name": "LayoutModel",
            "_view_count": null,
            "_view_module": "@jupyter-widgets/base",
            "_view_module_version": "1.2.0",
            "_view_name": "LayoutView",
            "align_content": null,
            "align_items": null,
            "align_self": null,
            "border": null,
            "bottom": null,
            "display": null,
            "flex": null,
            "flex_flow": null,
            "grid_area": null,
            "grid_auto_columns": null,
            "grid_auto_flow": null,
            "grid_auto_rows": null,
            "grid_column": null,
            "grid_gap": null,
            "grid_row": null,
            "grid_template_areas": null,
            "grid_template_columns": null,
            "grid_template_rows": null,
            "height": null,
            "justify_content": null,
            "justify_items": null,
            "left": null,
            "margin": null,
            "max_height": null,
            "max_width": null,
            "min_height": null,
            "min_width": null,
            "object_fit": null,
            "object_position": null,
            "order": null,
            "overflow": null,
            "overflow_x": null,
            "overflow_y": null,
            "padding": null,
            "right": null,
            "top": null,
            "visibility": null,
            "width": null
          }
        },
        "526df4b0565145cfb2d21666983b6a83": {
          "model_module": "@jupyter-widgets/controls",
          "model_name": "DescriptionStyleModel",
          "state": {
            "_model_module": "@jupyter-widgets/controls",
            "_model_module_version": "1.5.0",
            "_model_name": "DescriptionStyleModel",
            "_view_count": null,
            "_view_module": "@jupyter-widgets/base",
            "_view_module_version": "1.2.0",
            "_view_name": "StyleView",
            "description_width": ""
          }
        },
        "7de1c8b765e14832ab7b7db063e57fd8": {
          "model_module": "@jupyter-widgets/controls",
          "model_name": "HBoxModel",
          "state": {
            "_dom_classes": [],
            "_model_module": "@jupyter-widgets/controls",
            "_model_module_version": "1.5.0",
            "_model_name": "HBoxModel",
            "_view_count": null,
            "_view_module": "@jupyter-widgets/controls",
            "_view_module_version": "1.5.0",
            "_view_name": "HBoxView",
            "box_style": "",
            "children": [
              "IPY_MODEL_1aa1a12885c044529df7a1702a1b27aa",
              "IPY_MODEL_0966a37c8ca94951917adcc549c2daf3"
            ],
            "layout": "IPY_MODEL_1cc25a8ea07144e7955421873ea0243b"
          }
        },
        "1aa1a12885c044529df7a1702a1b27aa": {
          "model_module": "@jupyter-widgets/controls",
          "model_name": "FloatProgressModel",
          "state": {
            "_dom_classes": [],
            "_model_module": "@jupyter-widgets/controls",
            "_model_module_version": "1.5.0",
            "_model_name": "FloatProgressModel",
            "_view_count": null,
            "_view_module": "@jupyter-widgets/controls",
            "_view_module_version": "1.5.0",
            "_view_name": "ProgressView",
            "bar_style": "success",
            "description": "epoch 3: 100%",
            "description_tooltip": null,
            "layout": "IPY_MODEL_10386de39e0b488b811d7831c159522d",
            "max": 3895,
            "min": 0,
            "orientation": "horizontal",
            "style": "IPY_MODEL_387fef437e7b4755b43d680f034d81e9",
            "value": 3895
          }
        },
        "0966a37c8ca94951917adcc549c2daf3": {
          "model_module": "@jupyter-widgets/controls",
          "model_name": "HTMLModel",
          "state": {
            "_dom_classes": [],
            "_model_module": "@jupyter-widgets/controls",
            "_model_module_version": "1.5.0",
            "_model_name": "HTMLModel",
            "_view_count": null,
            "_view_module": "@jupyter-widgets/controls",
            "_view_module_version": "1.5.0",
            "_view_name": "HTMLView",
            "description": "",
            "description_tooltip": null,
            "layout": "IPY_MODEL_aeec684e3bec4d3f9b451bede7d76ebf",
            "placeholder": "​",
            "style": "IPY_MODEL_698bf6a5bd7c44a4afc6a10f0656f317",
            "value": " 3895/3895 [04:13&lt;00:00, 15.37it/s, acc=0.52292, f1=0.52292, loss=0.53543]"
          }
        },
        "1cc25a8ea07144e7955421873ea0243b": {
          "model_module": "@jupyter-widgets/base",
          "model_name": "LayoutModel",
          "state": {
            "_model_module": "@jupyter-widgets/base",
            "_model_module_version": "1.2.0",
            "_model_name": "LayoutModel",
            "_view_count": null,
            "_view_module": "@jupyter-widgets/base",
            "_view_module_version": "1.2.0",
            "_view_name": "LayoutView",
            "align_content": null,
            "align_items": null,
            "align_self": null,
            "border": null,
            "bottom": null,
            "display": null,
            "flex": null,
            "flex_flow": null,
            "grid_area": null,
            "grid_auto_columns": null,
            "grid_auto_flow": null,
            "grid_auto_rows": null,
            "grid_column": null,
            "grid_gap": null,
            "grid_row": null,
            "grid_template_areas": null,
            "grid_template_columns": null,
            "grid_template_rows": null,
            "height": null,
            "justify_content": null,
            "justify_items": null,
            "left": null,
            "margin": null,
            "max_height": null,
            "max_width": null,
            "min_height": null,
            "min_width": null,
            "object_fit": null,
            "object_position": null,
            "order": null,
            "overflow": null,
            "overflow_x": null,
            "overflow_y": null,
            "padding": null,
            "right": null,
            "top": null,
            "visibility": null,
            "width": null
          }
        },
        "10386de39e0b488b811d7831c159522d": {
          "model_module": "@jupyter-widgets/base",
          "model_name": "LayoutModel",
          "state": {
            "_model_module": "@jupyter-widgets/base",
            "_model_module_version": "1.2.0",
            "_model_name": "LayoutModel",
            "_view_count": null,
            "_view_module": "@jupyter-widgets/base",
            "_view_module_version": "1.2.0",
            "_view_name": "LayoutView",
            "align_content": null,
            "align_items": null,
            "align_self": null,
            "border": null,
            "bottom": null,
            "display": null,
            "flex": null,
            "flex_flow": null,
            "grid_area": null,
            "grid_auto_columns": null,
            "grid_auto_flow": null,
            "grid_auto_rows": null,
            "grid_column": null,
            "grid_gap": null,
            "grid_row": null,
            "grid_template_areas": null,
            "grid_template_columns": null,
            "grid_template_rows": null,
            "height": null,
            "justify_content": null,
            "justify_items": null,
            "left": null,
            "margin": null,
            "max_height": null,
            "max_width": null,
            "min_height": null,
            "min_width": null,
            "object_fit": null,
            "object_position": null,
            "order": null,
            "overflow": null,
            "overflow_x": null,
            "overflow_y": null,
            "padding": null,
            "right": null,
            "top": null,
            "visibility": null,
            "width": null
          }
        },
        "387fef437e7b4755b43d680f034d81e9": {
          "model_module": "@jupyter-widgets/controls",
          "model_name": "ProgressStyleModel",
          "state": {
            "_model_module": "@jupyter-widgets/controls",
            "_model_module_version": "1.5.0",
            "_model_name": "ProgressStyleModel",
            "_view_count": null,
            "_view_module": "@jupyter-widgets/base",
            "_view_module_version": "1.2.0",
            "_view_name": "StyleView",
            "bar_color": null,
            "description_width": "initial"
          }
        },
        "aeec684e3bec4d3f9b451bede7d76ebf": {
          "model_module": "@jupyter-widgets/base",
          "model_name": "LayoutModel",
          "state": {
            "_model_module": "@jupyter-widgets/base",
            "_model_module_version": "1.2.0",
            "_model_name": "LayoutModel",
            "_view_count": null,
            "_view_module": "@jupyter-widgets/base",
            "_view_module_version": "1.2.0",
            "_view_name": "LayoutView",
            "align_content": null,
            "align_items": null,
            "align_self": null,
            "border": null,
            "bottom": null,
            "display": null,
            "flex": null,
            "flex_flow": null,
            "grid_area": null,
            "grid_auto_columns": null,
            "grid_auto_flow": null,
            "grid_auto_rows": null,
            "grid_column": null,
            "grid_gap": null,
            "grid_row": null,
            "grid_template_areas": null,
            "grid_template_columns": null,
            "grid_template_rows": null,
            "height": null,
            "justify_content": null,
            "justify_items": null,
            "left": null,
            "margin": null,
            "max_height": null,
            "max_width": null,
            "min_height": null,
            "min_width": null,
            "object_fit": null,
            "object_position": null,
            "order": null,
            "overflow": null,
            "overflow_x": null,
            "overflow_y": null,
            "padding": null,
            "right": null,
            "top": null,
            "visibility": null,
            "width": null
          }
        },
        "698bf6a5bd7c44a4afc6a10f0656f317": {
          "model_module": "@jupyter-widgets/controls",
          "model_name": "DescriptionStyleModel",
          "state": {
            "_model_module": "@jupyter-widgets/controls",
            "_model_module_version": "1.5.0",
            "_model_name": "DescriptionStyleModel",
            "_view_count": null,
            "_view_module": "@jupyter-widgets/base",
            "_view_module_version": "1.2.0",
            "_view_name": "StyleView",
            "description_width": ""
          }
        },
        "6288f64e0eb745ca9781c7600752e4c6": {
          "model_module": "@jupyter-widgets/controls",
          "model_name": "HBoxModel",
          "state": {
            "_dom_classes": [],
            "_model_module": "@jupyter-widgets/controls",
            "_model_module_version": "1.5.0",
            "_model_name": "HBoxModel",
            "_view_count": null,
            "_view_module": "@jupyter-widgets/controls",
            "_view_module_version": "1.5.0",
            "_view_name": "HBoxView",
            "box_style": "",
            "children": [
              "IPY_MODEL_076c5e2cd17a40a89ae6a067c39afde0",
              "IPY_MODEL_ded417ffdd2b4b6184e659a40e3d88b9"
            ],
            "layout": "IPY_MODEL_3885169ec9c24205921262990b8f60b0"
          }
        },
        "076c5e2cd17a40a89ae6a067c39afde0": {
          "model_module": "@jupyter-widgets/controls",
          "model_name": "FloatProgressModel",
          "state": {
            "_dom_classes": [],
            "_model_module": "@jupyter-widgets/controls",
            "_model_module_version": "1.5.0",
            "_model_name": "FloatProgressModel",
            "_view_count": null,
            "_view_module": "@jupyter-widgets/controls",
            "_view_module_version": "1.5.0",
            "_view_name": "ProgressView",
            "bar_style": "success",
            "description": "epoch 4: 100%",
            "description_tooltip": null,
            "layout": "IPY_MODEL_04189b14894b44349c49f3f17764d4d7",
            "max": 3895,
            "min": 0,
            "orientation": "horizontal",
            "style": "IPY_MODEL_dbf1c4f2c3684478ae25da0146fb53fd",
            "value": 3895
          }
        },
        "ded417ffdd2b4b6184e659a40e3d88b9": {
          "model_module": "@jupyter-widgets/controls",
          "model_name": "HTMLModel",
          "state": {
            "_dom_classes": [],
            "_model_module": "@jupyter-widgets/controls",
            "_model_module_version": "1.5.0",
            "_model_name": "HTMLModel",
            "_view_count": null,
            "_view_module": "@jupyter-widgets/controls",
            "_view_module_version": "1.5.0",
            "_view_name": "HTMLView",
            "description": "",
            "description_tooltip": null,
            "layout": "IPY_MODEL_a7037171004d4b0b8e1b8df3527471d4",
            "placeholder": "​",
            "style": "IPY_MODEL_c63476c2050749ed955e4d05aec314cf",
            "value": " 3895/3895 [02:06&lt;00:00, 30.69it/s, acc=0.52500, f1=0.52500, loss=0.51838]"
          }
        },
        "3885169ec9c24205921262990b8f60b0": {
          "model_module": "@jupyter-widgets/base",
          "model_name": "LayoutModel",
          "state": {
            "_model_module": "@jupyter-widgets/base",
            "_model_module_version": "1.2.0",
            "_model_name": "LayoutModel",
            "_view_count": null,
            "_view_module": "@jupyter-widgets/base",
            "_view_module_version": "1.2.0",
            "_view_name": "LayoutView",
            "align_content": null,
            "align_items": null,
            "align_self": null,
            "border": null,
            "bottom": null,
            "display": null,
            "flex": null,
            "flex_flow": null,
            "grid_area": null,
            "grid_auto_columns": null,
            "grid_auto_flow": null,
            "grid_auto_rows": null,
            "grid_column": null,
            "grid_gap": null,
            "grid_row": null,
            "grid_template_areas": null,
            "grid_template_columns": null,
            "grid_template_rows": null,
            "height": null,
            "justify_content": null,
            "justify_items": null,
            "left": null,
            "margin": null,
            "max_height": null,
            "max_width": null,
            "min_height": null,
            "min_width": null,
            "object_fit": null,
            "object_position": null,
            "order": null,
            "overflow": null,
            "overflow_x": null,
            "overflow_y": null,
            "padding": null,
            "right": null,
            "top": null,
            "visibility": null,
            "width": null
          }
        },
        "04189b14894b44349c49f3f17764d4d7": {
          "model_module": "@jupyter-widgets/base",
          "model_name": "LayoutModel",
          "state": {
            "_model_module": "@jupyter-widgets/base",
            "_model_module_version": "1.2.0",
            "_model_name": "LayoutModel",
            "_view_count": null,
            "_view_module": "@jupyter-widgets/base",
            "_view_module_version": "1.2.0",
            "_view_name": "LayoutView",
            "align_content": null,
            "align_items": null,
            "align_self": null,
            "border": null,
            "bottom": null,
            "display": null,
            "flex": null,
            "flex_flow": null,
            "grid_area": null,
            "grid_auto_columns": null,
            "grid_auto_flow": null,
            "grid_auto_rows": null,
            "grid_column": null,
            "grid_gap": null,
            "grid_row": null,
            "grid_template_areas": null,
            "grid_template_columns": null,
            "grid_template_rows": null,
            "height": null,
            "justify_content": null,
            "justify_items": null,
            "left": null,
            "margin": null,
            "max_height": null,
            "max_width": null,
            "min_height": null,
            "min_width": null,
            "object_fit": null,
            "object_position": null,
            "order": null,
            "overflow": null,
            "overflow_x": null,
            "overflow_y": null,
            "padding": null,
            "right": null,
            "top": null,
            "visibility": null,
            "width": null
          }
        },
        "dbf1c4f2c3684478ae25da0146fb53fd": {
          "model_module": "@jupyter-widgets/controls",
          "model_name": "ProgressStyleModel",
          "state": {
            "_model_module": "@jupyter-widgets/controls",
            "_model_module_version": "1.5.0",
            "_model_name": "ProgressStyleModel",
            "_view_count": null,
            "_view_module": "@jupyter-widgets/base",
            "_view_module_version": "1.2.0",
            "_view_name": "StyleView",
            "bar_color": null,
            "description_width": "initial"
          }
        },
        "a7037171004d4b0b8e1b8df3527471d4": {
          "model_module": "@jupyter-widgets/base",
          "model_name": "LayoutModel",
          "state": {
            "_model_module": "@jupyter-widgets/base",
            "_model_module_version": "1.2.0",
            "_model_name": "LayoutModel",
            "_view_count": null,
            "_view_module": "@jupyter-widgets/base",
            "_view_module_version": "1.2.0",
            "_view_name": "LayoutView",
            "align_content": null,
            "align_items": null,
            "align_self": null,
            "border": null,
            "bottom": null,
            "display": null,
            "flex": null,
            "flex_flow": null,
            "grid_area": null,
            "grid_auto_columns": null,
            "grid_auto_flow": null,
            "grid_auto_rows": null,
            "grid_column": null,
            "grid_gap": null,
            "grid_row": null,
            "grid_template_areas": null,
            "grid_template_columns": null,
            "grid_template_rows": null,
            "height": null,
            "justify_content": null,
            "justify_items": null,
            "left": null,
            "margin": null,
            "max_height": null,
            "max_width": null,
            "min_height": null,
            "min_width": null,
            "object_fit": null,
            "object_position": null,
            "order": null,
            "overflow": null,
            "overflow_x": null,
            "overflow_y": null,
            "padding": null,
            "right": null,
            "top": null,
            "visibility": null,
            "width": null
          }
        },
        "c63476c2050749ed955e4d05aec314cf": {
          "model_module": "@jupyter-widgets/controls",
          "model_name": "DescriptionStyleModel",
          "state": {
            "_model_module": "@jupyter-widgets/controls",
            "_model_module_version": "1.5.0",
            "_model_name": "DescriptionStyleModel",
            "_view_count": null,
            "_view_module": "@jupyter-widgets/base",
            "_view_module_version": "1.2.0",
            "_view_name": "StyleView",
            "description_width": ""
          }
        },
        "c3a4b526c9904ffea677678cf5cf4ad7": {
          "model_module": "@jupyter-widgets/controls",
          "model_name": "HBoxModel",
          "state": {
            "_dom_classes": [],
            "_model_module": "@jupyter-widgets/controls",
            "_model_module_version": "1.5.0",
            "_model_name": "HBoxModel",
            "_view_count": null,
            "_view_module": "@jupyter-widgets/controls",
            "_view_module_version": "1.5.0",
            "_view_name": "HBoxView",
            "box_style": "",
            "children": [
              "IPY_MODEL_f579b6f33c76423d9cd4cb304d9b870a",
              "IPY_MODEL_dd8b953f7ddc43e88f1f7957cd563ed2"
            ],
            "layout": "IPY_MODEL_bc238ca6540f42d7ad15a116010b0aa0"
          }
        },
        "f579b6f33c76423d9cd4cb304d9b870a": {
          "model_module": "@jupyter-widgets/controls",
          "model_name": "FloatProgressModel",
          "state": {
            "_dom_classes": [],
            "_model_module": "@jupyter-widgets/controls",
            "_model_module_version": "1.5.0",
            "_model_name": "FloatProgressModel",
            "_view_count": null,
            "_view_module": "@jupyter-widgets/controls",
            "_view_module_version": "1.5.0",
            "_view_name": "ProgressView",
            "bar_style": "success",
            "description": "epoch 5: 100%",
            "description_tooltip": null,
            "layout": "IPY_MODEL_24fd1978963a41eba6b0b0621f00b480",
            "max": 3895,
            "min": 0,
            "orientation": "horizontal",
            "style": "IPY_MODEL_f69149c0e6a145069b1dc373e762f6a9",
            "value": 3895
          }
        },
        "dd8b953f7ddc43e88f1f7957cd563ed2": {
          "model_module": "@jupyter-widgets/controls",
          "model_name": "HTMLModel",
          "state": {
            "_dom_classes": [],
            "_model_module": "@jupyter-widgets/controls",
            "_model_module_version": "1.5.0",
            "_model_name": "HTMLModel",
            "_view_count": null,
            "_view_module": "@jupyter-widgets/controls",
            "_view_module_version": "1.5.0",
            "_view_name": "HTMLView",
            "description": "",
            "description_tooltip": null,
            "layout": "IPY_MODEL_e50a25dd9e664645997abb902008d820",
            "placeholder": "​",
            "style": "IPY_MODEL_ded781732ab14f9c9cf8b3f443f985d6",
            "value": " 3895/3895 [02:05&lt;00:00, 30.93it/s, acc=0.52500, f1=0.52500, loss=0.50614]"
          }
        },
        "bc238ca6540f42d7ad15a116010b0aa0": {
          "model_module": "@jupyter-widgets/base",
          "model_name": "LayoutModel",
          "state": {
            "_model_module": "@jupyter-widgets/base",
            "_model_module_version": "1.2.0",
            "_model_name": "LayoutModel",
            "_view_count": null,
            "_view_module": "@jupyter-widgets/base",
            "_view_module_version": "1.2.0",
            "_view_name": "LayoutView",
            "align_content": null,
            "align_items": null,
            "align_self": null,
            "border": null,
            "bottom": null,
            "display": null,
            "flex": null,
            "flex_flow": null,
            "grid_area": null,
            "grid_auto_columns": null,
            "grid_auto_flow": null,
            "grid_auto_rows": null,
            "grid_column": null,
            "grid_gap": null,
            "grid_row": null,
            "grid_template_areas": null,
            "grid_template_columns": null,
            "grid_template_rows": null,
            "height": null,
            "justify_content": null,
            "justify_items": null,
            "left": null,
            "margin": null,
            "max_height": null,
            "max_width": null,
            "min_height": null,
            "min_width": null,
            "object_fit": null,
            "object_position": null,
            "order": null,
            "overflow": null,
            "overflow_x": null,
            "overflow_y": null,
            "padding": null,
            "right": null,
            "top": null,
            "visibility": null,
            "width": null
          }
        },
        "24fd1978963a41eba6b0b0621f00b480": {
          "model_module": "@jupyter-widgets/base",
          "model_name": "LayoutModel",
          "state": {
            "_model_module": "@jupyter-widgets/base",
            "_model_module_version": "1.2.0",
            "_model_name": "LayoutModel",
            "_view_count": null,
            "_view_module": "@jupyter-widgets/base",
            "_view_module_version": "1.2.0",
            "_view_name": "LayoutView",
            "align_content": null,
            "align_items": null,
            "align_self": null,
            "border": null,
            "bottom": null,
            "display": null,
            "flex": null,
            "flex_flow": null,
            "grid_area": null,
            "grid_auto_columns": null,
            "grid_auto_flow": null,
            "grid_auto_rows": null,
            "grid_column": null,
            "grid_gap": null,
            "grid_row": null,
            "grid_template_areas": null,
            "grid_template_columns": null,
            "grid_template_rows": null,
            "height": null,
            "justify_content": null,
            "justify_items": null,
            "left": null,
            "margin": null,
            "max_height": null,
            "max_width": null,
            "min_height": null,
            "min_width": null,
            "object_fit": null,
            "object_position": null,
            "order": null,
            "overflow": null,
            "overflow_x": null,
            "overflow_y": null,
            "padding": null,
            "right": null,
            "top": null,
            "visibility": null,
            "width": null
          }
        },
        "f69149c0e6a145069b1dc373e762f6a9": {
          "model_module": "@jupyter-widgets/controls",
          "model_name": "ProgressStyleModel",
          "state": {
            "_model_module": "@jupyter-widgets/controls",
            "_model_module_version": "1.5.0",
            "_model_name": "ProgressStyleModel",
            "_view_count": null,
            "_view_module": "@jupyter-widgets/base",
            "_view_module_version": "1.2.0",
            "_view_name": "StyleView",
            "bar_color": null,
            "description_width": "initial"
          }
        },
        "e50a25dd9e664645997abb902008d820": {
          "model_module": "@jupyter-widgets/base",
          "model_name": "LayoutModel",
          "state": {
            "_model_module": "@jupyter-widgets/base",
            "_model_module_version": "1.2.0",
            "_model_name": "LayoutModel",
            "_view_count": null,
            "_view_module": "@jupyter-widgets/base",
            "_view_module_version": "1.2.0",
            "_view_name": "LayoutView",
            "align_content": null,
            "align_items": null,
            "align_self": null,
            "border": null,
            "bottom": null,
            "display": null,
            "flex": null,
            "flex_flow": null,
            "grid_area": null,
            "grid_auto_columns": null,
            "grid_auto_flow": null,
            "grid_auto_rows": null,
            "grid_column": null,
            "grid_gap": null,
            "grid_row": null,
            "grid_template_areas": null,
            "grid_template_columns": null,
            "grid_template_rows": null,
            "height": null,
            "justify_content": null,
            "justify_items": null,
            "left": null,
            "margin": null,
            "max_height": null,
            "max_width": null,
            "min_height": null,
            "min_width": null,
            "object_fit": null,
            "object_position": null,
            "order": null,
            "overflow": null,
            "overflow_x": null,
            "overflow_y": null,
            "padding": null,
            "right": null,
            "top": null,
            "visibility": null,
            "width": null
          }
        },
        "ded781732ab14f9c9cf8b3f443f985d6": {
          "model_module": "@jupyter-widgets/controls",
          "model_name": "DescriptionStyleModel",
          "state": {
            "_model_module": "@jupyter-widgets/controls",
            "_model_module_version": "1.5.0",
            "_model_name": "DescriptionStyleModel",
            "_view_count": null,
            "_view_module": "@jupyter-widgets/base",
            "_view_module_version": "1.2.0",
            "_view_name": "StyleView",
            "description_width": ""
          }
        },
        "5a6938c9c17c4201b0fc8513a40ddb17": {
          "model_module": "@jupyter-widgets/controls",
          "model_name": "HBoxModel",
          "state": {
            "_dom_classes": [],
            "_model_module": "@jupyter-widgets/controls",
            "_model_module_version": "1.5.0",
            "_model_name": "HBoxModel",
            "_view_count": null,
            "_view_module": "@jupyter-widgets/controls",
            "_view_module_version": "1.5.0",
            "_view_name": "HBoxView",
            "box_style": "",
            "children": [
              "IPY_MODEL_ffcbbe924a784f29820f0d62fc6721e0",
              "IPY_MODEL_73f3fc32da5e4d76a669fd7d0b968308"
            ],
            "layout": "IPY_MODEL_023c953a45a14071bb13d615e8d788cd"
          }
        },
        "ffcbbe924a784f29820f0d62fc6721e0": {
          "model_module": "@jupyter-widgets/controls",
          "model_name": "FloatProgressModel",
          "state": {
            "_dom_classes": [],
            "_model_module": "@jupyter-widgets/controls",
            "_model_module_version": "1.5.0",
            "_model_name": "FloatProgressModel",
            "_view_count": null,
            "_view_module": "@jupyter-widgets/controls",
            "_view_module_version": "1.5.0",
            "_view_name": "ProgressView",
            "bar_style": "success",
            "description": "epoch 6: 100%",
            "description_tooltip": null,
            "layout": "IPY_MODEL_739f87f25d5949aa895b97e5ba3a349f",
            "max": 3895,
            "min": 0,
            "orientation": "horizontal",
            "style": "IPY_MODEL_7623f3cd0c8641c0bda576df8f9d85ee",
            "value": 3895
          }
        },
        "73f3fc32da5e4d76a669fd7d0b968308": {
          "model_module": "@jupyter-widgets/controls",
          "model_name": "HTMLModel",
          "state": {
            "_dom_classes": [],
            "_model_module": "@jupyter-widgets/controls",
            "_model_module_version": "1.5.0",
            "_model_name": "HTMLModel",
            "_view_count": null,
            "_view_module": "@jupyter-widgets/controls",
            "_view_module_version": "1.5.0",
            "_view_name": "HTMLView",
            "description": "",
            "description_tooltip": null,
            "layout": "IPY_MODEL_1e458674d07c4c19b498423de87ed780",
            "placeholder": "​",
            "style": "IPY_MODEL_67d70f84c33e4c1d953eb8a73fe51c9c",
            "value": " 3895/3895 [04:15&lt;00:00, 15.23it/s, acc=0.52500, f1=0.52500, loss=0.49493]"
          }
        },
        "023c953a45a14071bb13d615e8d788cd": {
          "model_module": "@jupyter-widgets/base",
          "model_name": "LayoutModel",
          "state": {
            "_model_module": "@jupyter-widgets/base",
            "_model_module_version": "1.2.0",
            "_model_name": "LayoutModel",
            "_view_count": null,
            "_view_module": "@jupyter-widgets/base",
            "_view_module_version": "1.2.0",
            "_view_name": "LayoutView",
            "align_content": null,
            "align_items": null,
            "align_self": null,
            "border": null,
            "bottom": null,
            "display": null,
            "flex": null,
            "flex_flow": null,
            "grid_area": null,
            "grid_auto_columns": null,
            "grid_auto_flow": null,
            "grid_auto_rows": null,
            "grid_column": null,
            "grid_gap": null,
            "grid_row": null,
            "grid_template_areas": null,
            "grid_template_columns": null,
            "grid_template_rows": null,
            "height": null,
            "justify_content": null,
            "justify_items": null,
            "left": null,
            "margin": null,
            "max_height": null,
            "max_width": null,
            "min_height": null,
            "min_width": null,
            "object_fit": null,
            "object_position": null,
            "order": null,
            "overflow": null,
            "overflow_x": null,
            "overflow_y": null,
            "padding": null,
            "right": null,
            "top": null,
            "visibility": null,
            "width": null
          }
        },
        "739f87f25d5949aa895b97e5ba3a349f": {
          "model_module": "@jupyter-widgets/base",
          "model_name": "LayoutModel",
          "state": {
            "_model_module": "@jupyter-widgets/base",
            "_model_module_version": "1.2.0",
            "_model_name": "LayoutModel",
            "_view_count": null,
            "_view_module": "@jupyter-widgets/base",
            "_view_module_version": "1.2.0",
            "_view_name": "LayoutView",
            "align_content": null,
            "align_items": null,
            "align_self": null,
            "border": null,
            "bottom": null,
            "display": null,
            "flex": null,
            "flex_flow": null,
            "grid_area": null,
            "grid_auto_columns": null,
            "grid_auto_flow": null,
            "grid_auto_rows": null,
            "grid_column": null,
            "grid_gap": null,
            "grid_row": null,
            "grid_template_areas": null,
            "grid_template_columns": null,
            "grid_template_rows": null,
            "height": null,
            "justify_content": null,
            "justify_items": null,
            "left": null,
            "margin": null,
            "max_height": null,
            "max_width": null,
            "min_height": null,
            "min_width": null,
            "object_fit": null,
            "object_position": null,
            "order": null,
            "overflow": null,
            "overflow_x": null,
            "overflow_y": null,
            "padding": null,
            "right": null,
            "top": null,
            "visibility": null,
            "width": null
          }
        },
        "7623f3cd0c8641c0bda576df8f9d85ee": {
          "model_module": "@jupyter-widgets/controls",
          "model_name": "ProgressStyleModel",
          "state": {
            "_model_module": "@jupyter-widgets/controls",
            "_model_module_version": "1.5.0",
            "_model_name": "ProgressStyleModel",
            "_view_count": null,
            "_view_module": "@jupyter-widgets/base",
            "_view_module_version": "1.2.0",
            "_view_name": "StyleView",
            "bar_color": null,
            "description_width": "initial"
          }
        },
        "1e458674d07c4c19b498423de87ed780": {
          "model_module": "@jupyter-widgets/base",
          "model_name": "LayoutModel",
          "state": {
            "_model_module": "@jupyter-widgets/base",
            "_model_module_version": "1.2.0",
            "_model_name": "LayoutModel",
            "_view_count": null,
            "_view_module": "@jupyter-widgets/base",
            "_view_module_version": "1.2.0",
            "_view_name": "LayoutView",
            "align_content": null,
            "align_items": null,
            "align_self": null,
            "border": null,
            "bottom": null,
            "display": null,
            "flex": null,
            "flex_flow": null,
            "grid_area": null,
            "grid_auto_columns": null,
            "grid_auto_flow": null,
            "grid_auto_rows": null,
            "grid_column": null,
            "grid_gap": null,
            "grid_row": null,
            "grid_template_areas": null,
            "grid_template_columns": null,
            "grid_template_rows": null,
            "height": null,
            "justify_content": null,
            "justify_items": null,
            "left": null,
            "margin": null,
            "max_height": null,
            "max_width": null,
            "min_height": null,
            "min_width": null,
            "object_fit": null,
            "object_position": null,
            "order": null,
            "overflow": null,
            "overflow_x": null,
            "overflow_y": null,
            "padding": null,
            "right": null,
            "top": null,
            "visibility": null,
            "width": null
          }
        },
        "67d70f84c33e4c1d953eb8a73fe51c9c": {
          "model_module": "@jupyter-widgets/controls",
          "model_name": "DescriptionStyleModel",
          "state": {
            "_model_module": "@jupyter-widgets/controls",
            "_model_module_version": "1.5.0",
            "_model_name": "DescriptionStyleModel",
            "_view_count": null,
            "_view_module": "@jupyter-widgets/base",
            "_view_module_version": "1.2.0",
            "_view_name": "StyleView",
            "description_width": ""
          }
        },
        "5c257d44a7844ad6bc89253c4926e7ad": {
          "model_module": "@jupyter-widgets/controls",
          "model_name": "HBoxModel",
          "state": {
            "_dom_classes": [],
            "_model_module": "@jupyter-widgets/controls",
            "_model_module_version": "1.5.0",
            "_model_name": "HBoxModel",
            "_view_count": null,
            "_view_module": "@jupyter-widgets/controls",
            "_view_module_version": "1.5.0",
            "_view_name": "HBoxView",
            "box_style": "",
            "children": [
              "IPY_MODEL_d16b31da9faa4ffebd0cb2f9b4c583cd",
              "IPY_MODEL_209448ebfb66437d9b32843c1dc43aa4"
            ],
            "layout": "IPY_MODEL_bda7e73783874c92bfadc88598e2dae5"
          }
        },
        "d16b31da9faa4ffebd0cb2f9b4c583cd": {
          "model_module": "@jupyter-widgets/controls",
          "model_name": "FloatProgressModel",
          "state": {
            "_dom_classes": [],
            "_model_module": "@jupyter-widgets/controls",
            "_model_module_version": "1.5.0",
            "_model_name": "FloatProgressModel",
            "_view_count": null,
            "_view_module": "@jupyter-widgets/controls",
            "_view_module_version": "1.5.0",
            "_view_name": "ProgressView",
            "bar_style": "success",
            "description": "epoch 7: 100%",
            "description_tooltip": null,
            "layout": "IPY_MODEL_82d3979baea049318f9bed9c9532c167",
            "max": 3895,
            "min": 0,
            "orientation": "horizontal",
            "style": "IPY_MODEL_904dfd840c304370a3d8defe2562074f",
            "value": 3895
          }
        },
        "209448ebfb66437d9b32843c1dc43aa4": {
          "model_module": "@jupyter-widgets/controls",
          "model_name": "HTMLModel",
          "state": {
            "_dom_classes": [],
            "_model_module": "@jupyter-widgets/controls",
            "_model_module_version": "1.5.0",
            "_model_name": "HTMLModel",
            "_view_count": null,
            "_view_module": "@jupyter-widgets/controls",
            "_view_module_version": "1.5.0",
            "_view_name": "HTMLView",
            "description": "",
            "description_tooltip": null,
            "layout": "IPY_MODEL_74acb66ffa8b44a8bceee359d79b7d92",
            "placeholder": "​",
            "style": "IPY_MODEL_ab39b74477dd429f94acacc7e239fd1d",
            "value": " 3895/3895 [02:07&lt;00:00, 30.55it/s, acc=0.52500, f1=0.52500, loss=0.48383]"
          }
        },
        "bda7e73783874c92bfadc88598e2dae5": {
          "model_module": "@jupyter-widgets/base",
          "model_name": "LayoutModel",
          "state": {
            "_model_module": "@jupyter-widgets/base",
            "_model_module_version": "1.2.0",
            "_model_name": "LayoutModel",
            "_view_count": null,
            "_view_module": "@jupyter-widgets/base",
            "_view_module_version": "1.2.0",
            "_view_name": "LayoutView",
            "align_content": null,
            "align_items": null,
            "align_self": null,
            "border": null,
            "bottom": null,
            "display": null,
            "flex": null,
            "flex_flow": null,
            "grid_area": null,
            "grid_auto_columns": null,
            "grid_auto_flow": null,
            "grid_auto_rows": null,
            "grid_column": null,
            "grid_gap": null,
            "grid_row": null,
            "grid_template_areas": null,
            "grid_template_columns": null,
            "grid_template_rows": null,
            "height": null,
            "justify_content": null,
            "justify_items": null,
            "left": null,
            "margin": null,
            "max_height": null,
            "max_width": null,
            "min_height": null,
            "min_width": null,
            "object_fit": null,
            "object_position": null,
            "order": null,
            "overflow": null,
            "overflow_x": null,
            "overflow_y": null,
            "padding": null,
            "right": null,
            "top": null,
            "visibility": null,
            "width": null
          }
        },
        "82d3979baea049318f9bed9c9532c167": {
          "model_module": "@jupyter-widgets/base",
          "model_name": "LayoutModel",
          "state": {
            "_model_module": "@jupyter-widgets/base",
            "_model_module_version": "1.2.0",
            "_model_name": "LayoutModel",
            "_view_count": null,
            "_view_module": "@jupyter-widgets/base",
            "_view_module_version": "1.2.0",
            "_view_name": "LayoutView",
            "align_content": null,
            "align_items": null,
            "align_self": null,
            "border": null,
            "bottom": null,
            "display": null,
            "flex": null,
            "flex_flow": null,
            "grid_area": null,
            "grid_auto_columns": null,
            "grid_auto_flow": null,
            "grid_auto_rows": null,
            "grid_column": null,
            "grid_gap": null,
            "grid_row": null,
            "grid_template_areas": null,
            "grid_template_columns": null,
            "grid_template_rows": null,
            "height": null,
            "justify_content": null,
            "justify_items": null,
            "left": null,
            "margin": null,
            "max_height": null,
            "max_width": null,
            "min_height": null,
            "min_width": null,
            "object_fit": null,
            "object_position": null,
            "order": null,
            "overflow": null,
            "overflow_x": null,
            "overflow_y": null,
            "padding": null,
            "right": null,
            "top": null,
            "visibility": null,
            "width": null
          }
        },
        "904dfd840c304370a3d8defe2562074f": {
          "model_module": "@jupyter-widgets/controls",
          "model_name": "ProgressStyleModel",
          "state": {
            "_model_module": "@jupyter-widgets/controls",
            "_model_module_version": "1.5.0",
            "_model_name": "ProgressStyleModel",
            "_view_count": null,
            "_view_module": "@jupyter-widgets/base",
            "_view_module_version": "1.2.0",
            "_view_name": "StyleView",
            "bar_color": null,
            "description_width": "initial"
          }
        },
        "74acb66ffa8b44a8bceee359d79b7d92": {
          "model_module": "@jupyter-widgets/base",
          "model_name": "LayoutModel",
          "state": {
            "_model_module": "@jupyter-widgets/base",
            "_model_module_version": "1.2.0",
            "_model_name": "LayoutModel",
            "_view_count": null,
            "_view_module": "@jupyter-widgets/base",
            "_view_module_version": "1.2.0",
            "_view_name": "LayoutView",
            "align_content": null,
            "align_items": null,
            "align_self": null,
            "border": null,
            "bottom": null,
            "display": null,
            "flex": null,
            "flex_flow": null,
            "grid_area": null,
            "grid_auto_columns": null,
            "grid_auto_flow": null,
            "grid_auto_rows": null,
            "grid_column": null,
            "grid_gap": null,
            "grid_row": null,
            "grid_template_areas": null,
            "grid_template_columns": null,
            "grid_template_rows": null,
            "height": null,
            "justify_content": null,
            "justify_items": null,
            "left": null,
            "margin": null,
            "max_height": null,
            "max_width": null,
            "min_height": null,
            "min_width": null,
            "object_fit": null,
            "object_position": null,
            "order": null,
            "overflow": null,
            "overflow_x": null,
            "overflow_y": null,
            "padding": null,
            "right": null,
            "top": null,
            "visibility": null,
            "width": null
          }
        },
        "ab39b74477dd429f94acacc7e239fd1d": {
          "model_module": "@jupyter-widgets/controls",
          "model_name": "DescriptionStyleModel",
          "state": {
            "_model_module": "@jupyter-widgets/controls",
            "_model_module_version": "1.5.0",
            "_model_name": "DescriptionStyleModel",
            "_view_count": null,
            "_view_module": "@jupyter-widgets/base",
            "_view_module_version": "1.2.0",
            "_view_name": "StyleView",
            "description_width": ""
          }
        },
        "7eda724fae2a48418f3b9b1637b054b1": {
          "model_module": "@jupyter-widgets/controls",
          "model_name": "HBoxModel",
          "state": {
            "_dom_classes": [],
            "_model_module": "@jupyter-widgets/controls",
            "_model_module_version": "1.5.0",
            "_model_name": "HBoxModel",
            "_view_count": null,
            "_view_module": "@jupyter-widgets/controls",
            "_view_module_version": "1.5.0",
            "_view_name": "HBoxView",
            "box_style": "",
            "children": [
              "IPY_MODEL_97d57699cc824256b94a7f3ee83365ab",
              "IPY_MODEL_b7c1badf5ada4fe6a2d5451f4ac64a01"
            ],
            "layout": "IPY_MODEL_4a5340160bf844f8bcf3ab15a9b6f73c"
          }
        },
        "97d57699cc824256b94a7f3ee83365ab": {
          "model_module": "@jupyter-widgets/controls",
          "model_name": "FloatProgressModel",
          "state": {
            "_dom_classes": [],
            "_model_module": "@jupyter-widgets/controls",
            "_model_module_version": "1.5.0",
            "_model_name": "FloatProgressModel",
            "_view_count": null,
            "_view_module": "@jupyter-widgets/controls",
            "_view_module_version": "1.5.0",
            "_view_name": "ProgressView",
            "bar_style": "success",
            "description": "epoch 8: 100%",
            "description_tooltip": null,
            "layout": "IPY_MODEL_3b1d7e35f44f44e4b265fd3cd16024e6",
            "max": 3895,
            "min": 0,
            "orientation": "horizontal",
            "style": "IPY_MODEL_551f3aaeb7304fbd9b265da61feb84cf",
            "value": 3895
          }
        },
        "b7c1badf5ada4fe6a2d5451f4ac64a01": {
          "model_module": "@jupyter-widgets/controls",
          "model_name": "HTMLModel",
          "state": {
            "_dom_classes": [],
            "_model_module": "@jupyter-widgets/controls",
            "_model_module_version": "1.5.0",
            "_model_name": "HTMLModel",
            "_view_count": null,
            "_view_module": "@jupyter-widgets/controls",
            "_view_module_version": "1.5.0",
            "_view_name": "HTMLView",
            "description": "",
            "description_tooltip": null,
            "layout": "IPY_MODEL_9f121e4bb0ee435081cf8851e187465f",
            "placeholder": "​",
            "style": "IPY_MODEL_9830bedb65cb4e0cb48d9ee9d52e539d",
            "value": " 3895/3895 [24:03&lt;00:00,  2.70it/s, acc=0.52292, f1=0.52292, loss=0.48086]"
          }
        },
        "4a5340160bf844f8bcf3ab15a9b6f73c": {
          "model_module": "@jupyter-widgets/base",
          "model_name": "LayoutModel",
          "state": {
            "_model_module": "@jupyter-widgets/base",
            "_model_module_version": "1.2.0",
            "_model_name": "LayoutModel",
            "_view_count": null,
            "_view_module": "@jupyter-widgets/base",
            "_view_module_version": "1.2.0",
            "_view_name": "LayoutView",
            "align_content": null,
            "align_items": null,
            "align_self": null,
            "border": null,
            "bottom": null,
            "display": null,
            "flex": null,
            "flex_flow": null,
            "grid_area": null,
            "grid_auto_columns": null,
            "grid_auto_flow": null,
            "grid_auto_rows": null,
            "grid_column": null,
            "grid_gap": null,
            "grid_row": null,
            "grid_template_areas": null,
            "grid_template_columns": null,
            "grid_template_rows": null,
            "height": null,
            "justify_content": null,
            "justify_items": null,
            "left": null,
            "margin": null,
            "max_height": null,
            "max_width": null,
            "min_height": null,
            "min_width": null,
            "object_fit": null,
            "object_position": null,
            "order": null,
            "overflow": null,
            "overflow_x": null,
            "overflow_y": null,
            "padding": null,
            "right": null,
            "top": null,
            "visibility": null,
            "width": null
          }
        },
        "3b1d7e35f44f44e4b265fd3cd16024e6": {
          "model_module": "@jupyter-widgets/base",
          "model_name": "LayoutModel",
          "state": {
            "_model_module": "@jupyter-widgets/base",
            "_model_module_version": "1.2.0",
            "_model_name": "LayoutModel",
            "_view_count": null,
            "_view_module": "@jupyter-widgets/base",
            "_view_module_version": "1.2.0",
            "_view_name": "LayoutView",
            "align_content": null,
            "align_items": null,
            "align_self": null,
            "border": null,
            "bottom": null,
            "display": null,
            "flex": null,
            "flex_flow": null,
            "grid_area": null,
            "grid_auto_columns": null,
            "grid_auto_flow": null,
            "grid_auto_rows": null,
            "grid_column": null,
            "grid_gap": null,
            "grid_row": null,
            "grid_template_areas": null,
            "grid_template_columns": null,
            "grid_template_rows": null,
            "height": null,
            "justify_content": null,
            "justify_items": null,
            "left": null,
            "margin": null,
            "max_height": null,
            "max_width": null,
            "min_height": null,
            "min_width": null,
            "object_fit": null,
            "object_position": null,
            "order": null,
            "overflow": null,
            "overflow_x": null,
            "overflow_y": null,
            "padding": null,
            "right": null,
            "top": null,
            "visibility": null,
            "width": null
          }
        },
        "551f3aaeb7304fbd9b265da61feb84cf": {
          "model_module": "@jupyter-widgets/controls",
          "model_name": "ProgressStyleModel",
          "state": {
            "_model_module": "@jupyter-widgets/controls",
            "_model_module_version": "1.5.0",
            "_model_name": "ProgressStyleModel",
            "_view_count": null,
            "_view_module": "@jupyter-widgets/base",
            "_view_module_version": "1.2.0",
            "_view_name": "StyleView",
            "bar_color": null,
            "description_width": "initial"
          }
        },
        "9f121e4bb0ee435081cf8851e187465f": {
          "model_module": "@jupyter-widgets/base",
          "model_name": "LayoutModel",
          "state": {
            "_model_module": "@jupyter-widgets/base",
            "_model_module_version": "1.2.0",
            "_model_name": "LayoutModel",
            "_view_count": null,
            "_view_module": "@jupyter-widgets/base",
            "_view_module_version": "1.2.0",
            "_view_name": "LayoutView",
            "align_content": null,
            "align_items": null,
            "align_self": null,
            "border": null,
            "bottom": null,
            "display": null,
            "flex": null,
            "flex_flow": null,
            "grid_area": null,
            "grid_auto_columns": null,
            "grid_auto_flow": null,
            "grid_auto_rows": null,
            "grid_column": null,
            "grid_gap": null,
            "grid_row": null,
            "grid_template_areas": null,
            "grid_template_columns": null,
            "grid_template_rows": null,
            "height": null,
            "justify_content": null,
            "justify_items": null,
            "left": null,
            "margin": null,
            "max_height": null,
            "max_width": null,
            "min_height": null,
            "min_width": null,
            "object_fit": null,
            "object_position": null,
            "order": null,
            "overflow": null,
            "overflow_x": null,
            "overflow_y": null,
            "padding": null,
            "right": null,
            "top": null,
            "visibility": null,
            "width": null
          }
        },
        "9830bedb65cb4e0cb48d9ee9d52e539d": {
          "model_module": "@jupyter-widgets/controls",
          "model_name": "DescriptionStyleModel",
          "state": {
            "_model_module": "@jupyter-widgets/controls",
            "_model_module_version": "1.5.0",
            "_model_name": "DescriptionStyleModel",
            "_view_count": null,
            "_view_module": "@jupyter-widgets/base",
            "_view_module_version": "1.2.0",
            "_view_name": "StyleView",
            "description_width": ""
          }
        },
        "b2294d3c866240469a8f094d2c89f9e3": {
          "model_module": "@jupyter-widgets/controls",
          "model_name": "HBoxModel",
          "state": {
            "_dom_classes": [],
            "_model_module": "@jupyter-widgets/controls",
            "_model_module_version": "1.5.0",
            "_model_name": "HBoxModel",
            "_view_count": null,
            "_view_module": "@jupyter-widgets/controls",
            "_view_module_version": "1.5.0",
            "_view_name": "HBoxView",
            "box_style": "",
            "children": [
              "IPY_MODEL_cbf75164ce7c4b71baea4c638eb5a801",
              "IPY_MODEL_b5301dc88b3e493c969cf2f543c0296e"
            ],
            "layout": "IPY_MODEL_2053ff7f18564c2c9357e580c2b024e0"
          }
        },
        "cbf75164ce7c4b71baea4c638eb5a801": {
          "model_module": "@jupyter-widgets/controls",
          "model_name": "FloatProgressModel",
          "state": {
            "_dom_classes": [],
            "_model_module": "@jupyter-widgets/controls",
            "_model_module_version": "1.5.0",
            "_model_name": "FloatProgressModel",
            "_view_count": null,
            "_view_module": "@jupyter-widgets/controls",
            "_view_module_version": "1.5.0",
            "_view_name": "ProgressView",
            "bar_style": "success",
            "description": "epoch 9: 100%",
            "description_tooltip": null,
            "layout": "IPY_MODEL_03f8200ee12b44018a9b8144908b4056",
            "max": 3895,
            "min": 0,
            "orientation": "horizontal",
            "style": "IPY_MODEL_4158aba2ba124aeba6555f8a5b57dfa8",
            "value": 3895
          }
        },
        "b5301dc88b3e493c969cf2f543c0296e": {
          "model_module": "@jupyter-widgets/controls",
          "model_name": "HTMLModel",
          "state": {
            "_dom_classes": [],
            "_model_module": "@jupyter-widgets/controls",
            "_model_module_version": "1.5.0",
            "_model_name": "HTMLModel",
            "_view_count": null,
            "_view_module": "@jupyter-widgets/controls",
            "_view_module_version": "1.5.0",
            "_view_name": "HTMLView",
            "description": "",
            "description_tooltip": null,
            "layout": "IPY_MODEL_58205a77b1b24aa689c893aa4196a7b6",
            "placeholder": "​",
            "style": "IPY_MODEL_36fa801322ca430db26df45023bbdfcd",
            "value": " 3895/3895 [02:10&lt;00:00, 29.89it/s, acc=0.52708, f1=0.52708, loss=0.47869]"
          }
        },
        "2053ff7f18564c2c9357e580c2b024e0": {
          "model_module": "@jupyter-widgets/base",
          "model_name": "LayoutModel",
          "state": {
            "_model_module": "@jupyter-widgets/base",
            "_model_module_version": "1.2.0",
            "_model_name": "LayoutModel",
            "_view_count": null,
            "_view_module": "@jupyter-widgets/base",
            "_view_module_version": "1.2.0",
            "_view_name": "LayoutView",
            "align_content": null,
            "align_items": null,
            "align_self": null,
            "border": null,
            "bottom": null,
            "display": null,
            "flex": null,
            "flex_flow": null,
            "grid_area": null,
            "grid_auto_columns": null,
            "grid_auto_flow": null,
            "grid_auto_rows": null,
            "grid_column": null,
            "grid_gap": null,
            "grid_row": null,
            "grid_template_areas": null,
            "grid_template_columns": null,
            "grid_template_rows": null,
            "height": null,
            "justify_content": null,
            "justify_items": null,
            "left": null,
            "margin": null,
            "max_height": null,
            "max_width": null,
            "min_height": null,
            "min_width": null,
            "object_fit": null,
            "object_position": null,
            "order": null,
            "overflow": null,
            "overflow_x": null,
            "overflow_y": null,
            "padding": null,
            "right": null,
            "top": null,
            "visibility": null,
            "width": null
          }
        },
        "03f8200ee12b44018a9b8144908b4056": {
          "model_module": "@jupyter-widgets/base",
          "model_name": "LayoutModel",
          "state": {
            "_model_module": "@jupyter-widgets/base",
            "_model_module_version": "1.2.0",
            "_model_name": "LayoutModel",
            "_view_count": null,
            "_view_module": "@jupyter-widgets/base",
            "_view_module_version": "1.2.0",
            "_view_name": "LayoutView",
            "align_content": null,
            "align_items": null,
            "align_self": null,
            "border": null,
            "bottom": null,
            "display": null,
            "flex": null,
            "flex_flow": null,
            "grid_area": null,
            "grid_auto_columns": null,
            "grid_auto_flow": null,
            "grid_auto_rows": null,
            "grid_column": null,
            "grid_gap": null,
            "grid_row": null,
            "grid_template_areas": null,
            "grid_template_columns": null,
            "grid_template_rows": null,
            "height": null,
            "justify_content": null,
            "justify_items": null,
            "left": null,
            "margin": null,
            "max_height": null,
            "max_width": null,
            "min_height": null,
            "min_width": null,
            "object_fit": null,
            "object_position": null,
            "order": null,
            "overflow": null,
            "overflow_x": null,
            "overflow_y": null,
            "padding": null,
            "right": null,
            "top": null,
            "visibility": null,
            "width": null
          }
        },
        "4158aba2ba124aeba6555f8a5b57dfa8": {
          "model_module": "@jupyter-widgets/controls",
          "model_name": "ProgressStyleModel",
          "state": {
            "_model_module": "@jupyter-widgets/controls",
            "_model_module_version": "1.5.0",
            "_model_name": "ProgressStyleModel",
            "_view_count": null,
            "_view_module": "@jupyter-widgets/base",
            "_view_module_version": "1.2.0",
            "_view_name": "StyleView",
            "bar_color": null,
            "description_width": "initial"
          }
        },
        "58205a77b1b24aa689c893aa4196a7b6": {
          "model_module": "@jupyter-widgets/base",
          "model_name": "LayoutModel",
          "state": {
            "_model_module": "@jupyter-widgets/base",
            "_model_module_version": "1.2.0",
            "_model_name": "LayoutModel",
            "_view_count": null,
            "_view_module": "@jupyter-widgets/base",
            "_view_module_version": "1.2.0",
            "_view_name": "LayoutView",
            "align_content": null,
            "align_items": null,
            "align_self": null,
            "border": null,
            "bottom": null,
            "display": null,
            "flex": null,
            "flex_flow": null,
            "grid_area": null,
            "grid_auto_columns": null,
            "grid_auto_flow": null,
            "grid_auto_rows": null,
            "grid_column": null,
            "grid_gap": null,
            "grid_row": null,
            "grid_template_areas": null,
            "grid_template_columns": null,
            "grid_template_rows": null,
            "height": null,
            "justify_content": null,
            "justify_items": null,
            "left": null,
            "margin": null,
            "max_height": null,
            "max_width": null,
            "min_height": null,
            "min_width": null,
            "object_fit": null,
            "object_position": null,
            "order": null,
            "overflow": null,
            "overflow_x": null,
            "overflow_y": null,
            "padding": null,
            "right": null,
            "top": null,
            "visibility": null,
            "width": null
          }
        },
        "36fa801322ca430db26df45023bbdfcd": {
          "model_module": "@jupyter-widgets/controls",
          "model_name": "DescriptionStyleModel",
          "state": {
            "_model_module": "@jupyter-widgets/controls",
            "_model_module_version": "1.5.0",
            "_model_name": "DescriptionStyleModel",
            "_view_count": null,
            "_view_module": "@jupyter-widgets/base",
            "_view_module_version": "1.2.0",
            "_view_name": "StyleView",
            "description_width": ""
          }
        },
        "4eeab82f57864f2eb6ac2f35a0a5fd3c": {
          "model_module": "@jupyter-widgets/controls",
          "model_name": "HBoxModel",
          "state": {
            "_view_name": "HBoxView",
            "_dom_classes": [],
            "_model_name": "HBoxModel",
            "_view_module": "@jupyter-widgets/controls",
            "_model_module_version": "1.5.0",
            "_view_count": null,
            "_view_module_version": "1.5.0",
            "box_style": "",
            "layout": "IPY_MODEL_cf5c5e25604342bd95d036d73a738680",
            "_model_module": "@jupyter-widgets/controls",
            "children": [
              "IPY_MODEL_706c845d02bf4ced8926c00549f57f0e",
              "IPY_MODEL_dcda792a5a384240b18ba8d84bd058d6"
            ]
          }
        },
        "cf5c5e25604342bd95d036d73a738680": {
          "model_module": "@jupyter-widgets/base",
          "model_name": "LayoutModel",
          "state": {
            "_view_name": "LayoutView",
            "grid_template_rows": null,
            "right": null,
            "justify_content": null,
            "_view_module": "@jupyter-widgets/base",
            "overflow": null,
            "_model_module_version": "1.2.0",
            "_view_count": null,
            "flex_flow": null,
            "width": null,
            "min_width": null,
            "border": null,
            "align_items": null,
            "bottom": null,
            "_model_module": "@jupyter-widgets/base",
            "top": null,
            "grid_column": null,
            "overflow_y": null,
            "overflow_x": null,
            "grid_auto_flow": null,
            "grid_area": null,
            "grid_template_columns": null,
            "flex": null,
            "_model_name": "LayoutModel",
            "justify_items": null,
            "grid_row": null,
            "max_height": null,
            "align_content": null,
            "visibility": null,
            "align_self": null,
            "height": null,
            "min_height": null,
            "padding": null,
            "grid_auto_rows": null,
            "grid_gap": null,
            "max_width": null,
            "order": null,
            "_view_module_version": "1.2.0",
            "grid_template_areas": null,
            "object_position": null,
            "object_fit": null,
            "grid_auto_columns": null,
            "margin": null,
            "display": null,
            "left": null
          }
        },
        "706c845d02bf4ced8926c00549f57f0e": {
          "model_module": "@jupyter-widgets/controls",
          "model_name": "FloatProgressModel",
          "state": {
            "_view_name": "ProgressView",
            "style": "IPY_MODEL_fb171e47978b47d0b8f4d9cbf7cc6df0",
            "_dom_classes": [],
            "description": "100%",
            "_model_name": "FloatProgressModel",
            "bar_style": "success",
            "max": 1006,
            "_view_module": "@jupyter-widgets/controls",
            "_model_module_version": "1.5.0",
            "value": 1006,
            "_view_count": null,
            "_view_module_version": "1.5.0",
            "orientation": "horizontal",
            "min": 0,
            "description_tooltip": null,
            "_model_module": "@jupyter-widgets/controls",
            "layout": "IPY_MODEL_36dc78d462cb4dae92827924d2a546b8"
          }
        },
        "dcda792a5a384240b18ba8d84bd058d6": {
          "model_module": "@jupyter-widgets/controls",
          "model_name": "HTMLModel",
          "state": {
            "_view_name": "HTMLView",
            "style": "IPY_MODEL_43bef38b7e7647a3b7a85d29b0ddaa82",
            "_dom_classes": [],
            "description": "",
            "_model_name": "HTMLModel",
            "placeholder": "​",
            "_view_module": "@jupyter-widgets/controls",
            "_model_module_version": "1.5.0",
            "value": " 1006/1006 [01:21&lt;00:00, 12.36it/s]",
            "_view_count": null,
            "_view_module_version": "1.5.0",
            "description_tooltip": null,
            "_model_module": "@jupyter-widgets/controls",
            "layout": "IPY_MODEL_2c3bfbdb3e06462ab1f57b77741cb725"
          }
        },
        "fb171e47978b47d0b8f4d9cbf7cc6df0": {
          "model_module": "@jupyter-widgets/controls",
          "model_name": "ProgressStyleModel",
          "state": {
            "_view_name": "StyleView",
            "_model_name": "ProgressStyleModel",
            "description_width": "initial",
            "_view_module": "@jupyter-widgets/base",
            "_model_module_version": "1.5.0",
            "_view_count": null,
            "_view_module_version": "1.2.0",
            "bar_color": null,
            "_model_module": "@jupyter-widgets/controls"
          }
        },
        "36dc78d462cb4dae92827924d2a546b8": {
          "model_module": "@jupyter-widgets/base",
          "model_name": "LayoutModel",
          "state": {
            "_view_name": "LayoutView",
            "grid_template_rows": null,
            "right": null,
            "justify_content": null,
            "_view_module": "@jupyter-widgets/base",
            "overflow": null,
            "_model_module_version": "1.2.0",
            "_view_count": null,
            "flex_flow": null,
            "width": null,
            "min_width": null,
            "border": null,
            "align_items": null,
            "bottom": null,
            "_model_module": "@jupyter-widgets/base",
            "top": null,
            "grid_column": null,
            "overflow_y": null,
            "overflow_x": null,
            "grid_auto_flow": null,
            "grid_area": null,
            "grid_template_columns": null,
            "flex": null,
            "_model_name": "LayoutModel",
            "justify_items": null,
            "grid_row": null,
            "max_height": null,
            "align_content": null,
            "visibility": null,
            "align_self": null,
            "height": null,
            "min_height": null,
            "padding": null,
            "grid_auto_rows": null,
            "grid_gap": null,
            "max_width": null,
            "order": null,
            "_view_module_version": "1.2.0",
            "grid_template_areas": null,
            "object_position": null,
            "object_fit": null,
            "grid_auto_columns": null,
            "margin": null,
            "display": null,
            "left": null
          }
        },
        "43bef38b7e7647a3b7a85d29b0ddaa82": {
          "model_module": "@jupyter-widgets/controls",
          "model_name": "DescriptionStyleModel",
          "state": {
            "_view_name": "StyleView",
            "_model_name": "DescriptionStyleModel",
            "description_width": "",
            "_view_module": "@jupyter-widgets/base",
            "_model_module_version": "1.5.0",
            "_view_count": null,
            "_view_module_version": "1.2.0",
            "_model_module": "@jupyter-widgets/controls"
          }
        },
        "2c3bfbdb3e06462ab1f57b77741cb725": {
          "model_module": "@jupyter-widgets/base",
          "model_name": "LayoutModel",
          "state": {
            "_view_name": "LayoutView",
            "grid_template_rows": null,
            "right": null,
            "justify_content": null,
            "_view_module": "@jupyter-widgets/base",
            "overflow": null,
            "_model_module_version": "1.2.0",
            "_view_count": null,
            "flex_flow": null,
            "width": null,
            "min_width": null,
            "border": null,
            "align_items": null,
            "bottom": null,
            "_model_module": "@jupyter-widgets/base",
            "top": null,
            "grid_column": null,
            "overflow_y": null,
            "overflow_x": null,
            "grid_auto_flow": null,
            "grid_area": null,
            "grid_template_columns": null,
            "flex": null,
            "_model_name": "LayoutModel",
            "justify_items": null,
            "grid_row": null,
            "max_height": null,
            "align_content": null,
            "visibility": null,
            "align_self": null,
            "height": null,
            "min_height": null,
            "padding": null,
            "grid_auto_rows": null,
            "grid_gap": null,
            "max_width": null,
            "order": null,
            "_view_module_version": "1.2.0",
            "grid_template_areas": null,
            "object_position": null,
            "object_fit": null,
            "grid_auto_columns": null,
            "margin": null,
            "display": null,
            "left": null
          }
        },
        "49c9a119fd0a4e0293bc3aaea6487293": {
          "model_module": "@jupyter-widgets/controls",
          "model_name": "HBoxModel",
          "state": {
            "_view_name": "HBoxView",
            "_dom_classes": [],
            "_model_name": "HBoxModel",
            "_view_module": "@jupyter-widgets/controls",
            "_model_module_version": "1.5.0",
            "_view_count": null,
            "_view_module_version": "1.5.0",
            "box_style": "",
            "layout": "IPY_MODEL_1e4a0f62106f4473adf82d66ea06d97b",
            "_model_module": "@jupyter-widgets/controls",
            "children": [
              "IPY_MODEL_5c42c7e289994f4fb34976228f8841b1",
              "IPY_MODEL_7cb378677b0745bdb36317d16faadf19"
            ]
          }
        },
        "1e4a0f62106f4473adf82d66ea06d97b": {
          "model_module": "@jupyter-widgets/base",
          "model_name": "LayoutModel",
          "state": {
            "_view_name": "LayoutView",
            "grid_template_rows": null,
            "right": null,
            "justify_content": null,
            "_view_module": "@jupyter-widgets/base",
            "overflow": null,
            "_model_module_version": "1.2.0",
            "_view_count": null,
            "flex_flow": null,
            "width": null,
            "min_width": null,
            "border": null,
            "align_items": null,
            "bottom": null,
            "_model_module": "@jupyter-widgets/base",
            "top": null,
            "grid_column": null,
            "overflow_y": null,
            "overflow_x": null,
            "grid_auto_flow": null,
            "grid_area": null,
            "grid_template_columns": null,
            "flex": null,
            "_model_name": "LayoutModel",
            "justify_items": null,
            "grid_row": null,
            "max_height": null,
            "align_content": null,
            "visibility": null,
            "align_self": null,
            "height": null,
            "min_height": null,
            "padding": null,
            "grid_auto_rows": null,
            "grid_gap": null,
            "max_width": null,
            "order": null,
            "_view_module_version": "1.2.0",
            "grid_template_areas": null,
            "object_position": null,
            "object_fit": null,
            "grid_auto_columns": null,
            "margin": null,
            "display": null,
            "left": null
          }
        },
        "5c42c7e289994f4fb34976228f8841b1": {
          "model_module": "@jupyter-widgets/controls",
          "model_name": "FloatProgressModel",
          "state": {
            "_view_name": "ProgressView",
            "style": "IPY_MODEL_20de79e9619b4980aceeefc6a7d7c5c4",
            "_dom_classes": [],
            "description": "100%",
            "_model_name": "FloatProgressModel",
            "bar_style": "success",
            "max": 1000,
            "_view_module": "@jupyter-widgets/controls",
            "_model_module_version": "1.5.0",
            "value": 1000,
            "_view_count": null,
            "_view_module_version": "1.5.0",
            "orientation": "horizontal",
            "min": 0,
            "description_tooltip": null,
            "_model_module": "@jupyter-widgets/controls",
            "layout": "IPY_MODEL_f042dc9c21bb4d6685fe7289a729c90e"
          }
        },
        "7cb378677b0745bdb36317d16faadf19": {
          "model_module": "@jupyter-widgets/controls",
          "model_name": "HTMLModel",
          "state": {
            "_view_name": "HTMLView",
            "style": "IPY_MODEL_4ff95ee7330b4700b864ab4df86a1a65",
            "_dom_classes": [],
            "description": "",
            "_model_name": "HTMLModel",
            "placeholder": "​",
            "_view_module": "@jupyter-widgets/controls",
            "_model_module_version": "1.5.0",
            "value": " 1000/1000 [00:34&lt;00:00, 29.03it/s]",
            "_view_count": null,
            "_view_module_version": "1.5.0",
            "description_tooltip": null,
            "_model_module": "@jupyter-widgets/controls",
            "layout": "IPY_MODEL_93b2f0ee701b47b7a1fc31c7a3acadac"
          }
        },
        "20de79e9619b4980aceeefc6a7d7c5c4": {
          "model_module": "@jupyter-widgets/controls",
          "model_name": "ProgressStyleModel",
          "state": {
            "_view_name": "StyleView",
            "_model_name": "ProgressStyleModel",
            "description_width": "initial",
            "_view_module": "@jupyter-widgets/base",
            "_model_module_version": "1.5.0",
            "_view_count": null,
            "_view_module_version": "1.2.0",
            "bar_color": null,
            "_model_module": "@jupyter-widgets/controls"
          }
        },
        "f042dc9c21bb4d6685fe7289a729c90e": {
          "model_module": "@jupyter-widgets/base",
          "model_name": "LayoutModel",
          "state": {
            "_view_name": "LayoutView",
            "grid_template_rows": null,
            "right": null,
            "justify_content": null,
            "_view_module": "@jupyter-widgets/base",
            "overflow": null,
            "_model_module_version": "1.2.0",
            "_view_count": null,
            "flex_flow": null,
            "width": null,
            "min_width": null,
            "border": null,
            "align_items": null,
            "bottom": null,
            "_model_module": "@jupyter-widgets/base",
            "top": null,
            "grid_column": null,
            "overflow_y": null,
            "overflow_x": null,
            "grid_auto_flow": null,
            "grid_area": null,
            "grid_template_columns": null,
            "flex": null,
            "_model_name": "LayoutModel",
            "justify_items": null,
            "grid_row": null,
            "max_height": null,
            "align_content": null,
            "visibility": null,
            "align_self": null,
            "height": null,
            "min_height": null,
            "padding": null,
            "grid_auto_rows": null,
            "grid_gap": null,
            "max_width": null,
            "order": null,
            "_view_module_version": "1.2.0",
            "grid_template_areas": null,
            "object_position": null,
            "object_fit": null,
            "grid_auto_columns": null,
            "margin": null,
            "display": null,
            "left": null
          }
        },
        "4ff95ee7330b4700b864ab4df86a1a65": {
          "model_module": "@jupyter-widgets/controls",
          "model_name": "DescriptionStyleModel",
          "state": {
            "_view_name": "StyleView",
            "_model_name": "DescriptionStyleModel",
            "description_width": "",
            "_view_module": "@jupyter-widgets/base",
            "_model_module_version": "1.5.0",
            "_view_count": null,
            "_view_module_version": "1.2.0",
            "_model_module": "@jupyter-widgets/controls"
          }
        },
        "93b2f0ee701b47b7a1fc31c7a3acadac": {
          "model_module": "@jupyter-widgets/base",
          "model_name": "LayoutModel",
          "state": {
            "_view_name": "LayoutView",
            "grid_template_rows": null,
            "right": null,
            "justify_content": null,
            "_view_module": "@jupyter-widgets/base",
            "overflow": null,
            "_model_module_version": "1.2.0",
            "_view_count": null,
            "flex_flow": null,
            "width": null,
            "min_width": null,
            "border": null,
            "align_items": null,
            "bottom": null,
            "_model_module": "@jupyter-widgets/base",
            "top": null,
            "grid_column": null,
            "overflow_y": null,
            "overflow_x": null,
            "grid_auto_flow": null,
            "grid_area": null,
            "grid_template_columns": null,
            "flex": null,
            "_model_name": "LayoutModel",
            "justify_items": null,
            "grid_row": null,
            "max_height": null,
            "align_content": null,
            "visibility": null,
            "align_self": null,
            "height": null,
            "min_height": null,
            "padding": null,
            "grid_auto_rows": null,
            "grid_gap": null,
            "max_width": null,
            "order": null,
            "_view_module_version": "1.2.0",
            "grid_template_areas": null,
            "object_position": null,
            "object_fit": null,
            "grid_auto_columns": null,
            "margin": null,
            "display": null,
            "left": null
          }
        }
      }
    }
  },
  "cells": [
    {
      "cell_type": "markdown",
      "metadata": {
        "id": "0t0VPMzIGF5q"
      },
      "source": [
        "<a href=\"https://colab.research.google.com/drive/1LDkMq7SnkWV7AMbh46hBn1ESil_cE7Hj?usp=sharing\"><img src=\"https://colab.research.google.com/assets/colab-badge.svg\" alt=\"Open in Colab\"></a>"
      ]
    },
    {
      "cell_type": "markdown",
      "metadata": {
        "id": "21GeBxezQyiT"
      },
      "source": [
        "If we want to save data to Google drive, first we should do this:"
      ]
    },
    {
      "cell_type": "code",
      "metadata": {
        "id": "738e3BHVQpzj"
      },
      "source": [
        "import os\n",
        "from google.colab import drive"
      ],
      "execution_count": null,
      "outputs": []
    },
    {
      "cell_type": "code",
      "metadata": {
        "colab": {
          "base_uri": "https://localhost:8080/"
        },
        "id": "hqQbROrmQwQ2",
        "outputId": "79c8e392-7d4f-4fdc-840f-944e9b5d2945"
      },
      "source": [
        "drive.mount('/content/drive')\n",
        "os.chdir('drive/My Drive/ChukchiLM')"
      ],
      "execution_count": null,
      "outputs": [
        {
          "output_type": "stream",
          "text": [
            "Mounted at /content/drive\n"
          ],
          "name": "stdout"
        }
      ]
    },
    {
      "cell_type": "code",
      "metadata": {
        "colab": {
          "base_uri": "https://localhost:8080/"
        },
        "id": "Z_FIGEF4MTLX",
        "outputId": "bf19fd05-c8e9-40c3-d4e3-843b1d7b12be"
      },
      "source": [
        "!git clone https://github.com/ftyers/global-classroom.git"
      ],
      "execution_count": null,
      "outputs": [
        {
          "output_type": "stream",
          "text": [
            "fatal: destination path 'global-classroom' already exists and is not an empty directory.\n"
          ],
          "name": "stdout"
        }
      ]
    },
    {
      "cell_type": "markdown",
      "metadata": {
        "id": "u9dRW_bjBVFX"
      },
      "source": [
        "# Baseline"
      ]
    },
    {
      "cell_type": "code",
      "metadata": {
        "colab": {
          "base_uri": "https://localhost:8080/"
        },
        "id": "WWVQjF8PBbj2",
        "outputId": "0dc5e3b7-aae1-4bd4-ee42-28d427992ef8"
      },
      "source": [
        "os.listdir()"
      ],
      "execution_count": null,
      "outputs": [
        {
          "output_type": "execute_result",
          "data": {
            "text/plain": [
              "['global-classroom',\n",
              " 'lstm_morph_model',\n",
              " 'lstm_morph_model_freq_restricted',\n",
              " 'output1.tsv',\n",
              " 'dev_output1.tsv']"
            ]
          },
          "metadata": {
            "tags": []
          },
          "execution_count": 4
        }
      ]
    },
    {
      "cell_type": "code",
      "metadata": {
        "colab": {
          "base_uri": "https://localhost:8080/"
        },
        "id": "ECM5Y6VHBntK",
        "outputId": "1cbeb3bc-74d3-47ad-8a68-fa8a2ac13b01"
      },
      "source": [
        "os.chdir('global-classroom/chukchi/baseline')\n",
        "!python3 train.py ../data/train.tsv model.dat\n",
        "!python3 predict.py model.dat < ../data/dev.tsv > output.tsv\n",
        "!python3 ../evaluate.py ../data/dev.tsv output.tsv "
      ],
      "execution_count": null,
      "outputs": [
        {
          "output_type": "stream",
          "text": [
            "Written 33724 unigrams and 107835 bigrams to model.dat.\n",
            "Hits: 33 ; Tokens: 4504\n",
            "Characters: 37897\n",
            "Tokens: 8788\n",
            "Clicks: 37754\n",
            "Clicks/Token: 4.2960855712335\n",
            "Clicks/Character: 0.9962266142438716\n"
          ],
          "name": "stdout"
        }
      ]
    },
    {
      "cell_type": "code",
      "metadata": {
        "colab": {
          "base_uri": "https://localhost:8080/"
        },
        "id": "oI_Pai61E9If",
        "outputId": "ed361b9e-ce6f-4b62-c639-258eab094ad6"
      },
      "source": [
        "!python3 predict.py model.dat < ../data/test/test.tsv > output_test.tsv\n",
        "!python3 ../evaluate.py ../data/test/test.tsv output_test.tsv"
      ],
      "execution_count": null,
      "outputs": [
        {
          "output_type": "stream",
          "text": [
            "Hits: 33 ; Tokens: 4187\n",
            "Characters: 37927\n",
            "Tokens: 8374\n",
            "Clicks: 37768\n",
            "Clicks/Token: 4.510150465727251\n",
            "Clicks/Character: 0.995807735913729\n"
          ],
          "name": "stdout"
        }
      ]
    },
    {
      "cell_type": "code",
      "metadata": {
        "colab": {
          "base_uri": "https://localhost:8080/"
        },
        "id": "0zSr0VBcCJLJ",
        "outputId": "4e3b913f-a031-41ae-a99d-fdb14a010df6"
      },
      "source": [
        "!sed 20q < ../data/dev.tsv output.tsv "
      ],
      "execution_count": null,
      "outputs": [
        {
          "output_type": "stream",
          "text": [
            "ӄԓявыԓя риӄукэтэ ивнин ытри ынкы варкыт гынин ӈэвъэн гэԓгыԓин мэмыԓя рагтыгъэ\tӄ ԓ я в ы ԓ я _ р и ӄ у к э т э _ и в н и н _ ы т р и _ ы н к ы _ в а р к ы т _ г ы н и н _ ӈ э в ъ э н _ г э ԓ г ы ԓ и н _ м э м ы ԓ я _ р а г т ы г ъ э _\n",
            "ӄԓявыԓ ынкъам купрэн ынанъомрычьын\tӄ ԓ я в ы ԓ _ ы н к ъ а м _ к у п р э н _ ы н а н ъ о м р ы ч ь ы н _\n",
            "рытэнмавнэн ынӄо эргатык эквэтгъэт копрантыватысӄэквъат\tр ы т э н м а в н э н _ ы н ӄ о _ э р г а т ы к _ э к в э т г ъ э т _ к о п р а н т ы в а т ы с ӄ э к в ъ а т _\n",
            "риӄукэтэ гамгаваны нэнайӈоткоӄэн ӄоԓ\tр и ӄ у к э т э _ г а м г а в а н ы _ н э н а й ӈ о т к о ӄ э н _ ӄ о ԓ _\n",
            "ԓьунин ынӄо йыӈотконэн\tԓ ь у н и н _ ы н ӄ о _ й ы ӈ о т к о н э н _\n",
            "эвын коԓё\tэ в ы н _ к о ԓ ё _\n",
            "тыкгаткэта ивнин риӄукэтэ\tт ы к г а т к э т а _ и в н и н _ р и ӄ у к э т э _\n",
            "йыӈотконэн эвын коԓё\tй ы ӈ о т к о н э н _ э в ы н _ к о ԓ ё _\n",
            "тыкгаткэта\tт ы к г а т к э т а _\n",
            "ивнин риӄукэтэ ынкы\tи в н и н _ р и ӄ у к э т э _ ы н к ы _\n",
            "рытваннэнат риӄукэтэ ивнин\tр ы т в а н н э н а т _ р и ӄ у к э т э _ и в н и н _\n",
            "мачынан ынкы нытваркын ынӄо\tм а ч ы н а н _ ы н к ы _ н ы т в а р к ы н _ ы н ӄ о _\n",
            "эргатык купрэт ёпаннэнат эвын гакваԓен\tэ р г а т ы к _ к у п р э т _ ё п а н н э н а т _ э в ы н _ г а к в а ԓ е н _\n",
            "ӈавмэмыԓчыӈын ынӄо рырагтаннэн ынкъам\tӈ а в м э м ы ԓ ч ы ӈ ы н _ ы н ӄ о _ р ы р а г т а н н э н _ ы н к ъ а м _\n",
            "тэнуйгын йыннин\tт э н у й г ы н _ й ы н н и н _\n",
            "ыттъын ратвынэн рывэнӈынин\tы т т ъ ы н _ р а т в ы н э н _ р ы в э н ӈ ы н и н _\n",
            "авынаёԓьэты ԓинԓиӈ йытонэн мэмыԓыткынык рытриԓнин ынӄо ӄԓявыԓ\tа в ы н а ё ԓ ь э т ы _ ԓ и н ԓ и ӈ _ й ы т о н э н _ м э м ы ԓ ы т к ы н ы к _ р ы т р и ԓ н и н _ ы н ӄ о _ ӄ ԓ я в ы ԓ _\n",
            "ӈытогъэ этъоӄайӄын рэсӄиквъи ԓюур\tӈ ы т о г ъ э _ э т ъ о ӄ а й ӄ ы н _ р э с ӄ и к в ъ и _ ԓ ю у р _\n",
            "рымъэйӈэнин ӄԓявыԓя\tр ы м ъ э й ӈ э н и н _ ӄ ԓ я в ы ԓ я _\n",
            "ивнин ивнин ӈэвъэнйыръэ с амыным\tи в н и н _ и в н и н _ ӈ э в ъ э н й ы р ъ э _ с _ а м ы н ы м _\n"
          ],
          "name": "stdout"
        }
      ]
    },
    {
      "cell_type": "markdown",
      "metadata": {
        "id": "koHat64nEat9"
      },
      "source": [
        "In output.tsv we should have the original sentence and model output separated by tab. If the model's next word guess was right we append the whole word to output. If the model's guess was wrong, we append to the output each character separately. Between words we should add an underscore"
      ]
    },
    {
      "cell_type": "markdown",
      "metadata": {
        "id": "G3XIGnSfBYol"
      },
      "source": [
        "# Our model"
      ]
    },
    {
      "cell_type": "code",
      "metadata": {
        "id": "3Qh_IDLEFx0T"
      },
      "source": [
        "os.chdir('..')\n",
        "os.chdir('..')\n",
        "os.chdir('..')"
      ],
      "execution_count": null,
      "outputs": []
    },
    {
      "cell_type": "code",
      "metadata": {
        "id": "o25pfr3HNAwn"
      },
      "source": [
        "import os\n",
        "import re\n",
        "import csv\n",
        "\n",
        "import torch as tt\n",
        "import torch.nn as nn\n",
        "import torch.optim as optim\n",
        "import pandas as pd\n",
        "\n",
        "from math import ceil\n",
        "from tqdm import tqdm_notebook\n",
        "\n",
        "from sklearn.metrics import accuracy_score, f1_score\n",
        "from sklearn.model_selection import train_test_split\n",
        "from torch.nn.utils import clip_grad_norm_\n",
        "\n",
        "from collections import Counter\n",
        "\n",
        "import numpy as np"
      ],
      "execution_count": null,
      "outputs": []
    },
    {
      "cell_type": "code",
      "metadata": {
        "colab": {
          "base_uri": "https://localhost:8080/"
        },
        "id": "8PgtE8CAM8EY",
        "outputId": "203afe21-5ffa-4352-8598-a74f5311bb7e"
      },
      "source": [
        "os.listdir(\"global-classroom/chukchi/data\")"
      ],
      "execution_count": null,
      "outputs": [
        {
          "output_type": "execute_result",
          "data": {
            "text/plain": [
              "['dev.tsv', 'test', 'train.tsv']"
            ]
          },
          "metadata": {
            "tags": []
          },
          "execution_count": 11
        }
      ]
    },
    {
      "cell_type": "code",
      "metadata": {
        "id": "IaDqLO25NL4p"
      },
      "source": [
        "with open(\"global-classroom/chukchi/data/train.tsv\") as inp:\n",
        "  word_sentences = []\n",
        "  morph_sentences = []\n",
        "  for line in inp.readlines():\n",
        "    words, morphs = line.strip('\\n').split('\\t')\n",
        "    word_sentences.append(words.split(' '))\n",
        "    morph_sentences.append(morphs.replace('>',' >').split(' '))\n",
        "\n",
        "with open(\"global-classroom/chukchi/data/dev.tsv\") as inp:\n",
        "  dev_word_sentences = []\n",
        "  dev_morph_sentences = []\n",
        "  for line in inp.readlines():\n",
        "    words, morphs = line.strip('\\n').split('\\t')\n",
        "    dev_word_sentences.append(words.split(' '))\n",
        "    dev_morph_sentences.append(morphs.replace('>',' >').split(' '))\n",
        "\n",
        "with open(\"global-classroom/chukchi/data/test/test.tsv\") as inp:\n",
        "  test_word_sentences = []\n",
        "  test_morph_sentences = []\n",
        "  for line in inp.readlines():\n",
        "    words, morphs = line.strip('\\n').split('\\t')\n",
        "    test_word_sentences.append(words.split(' '))\n",
        "    test_morph_sentences.append(morphs.replace('>',' >').split(' '))"
      ],
      "execution_count": null,
      "outputs": []
    },
    {
      "cell_type": "code",
      "metadata": {
        "colab": {
          "base_uri": "https://localhost:8080/"
        },
        "id": "pfwWe0gpGX-I",
        "outputId": "5c84cea1-5b15-4040-a4ed-02dd00e75a95"
      },
      "source": [
        "len(morph_sentences), len(dev_morph_sentences), len(test_morph_sentences)"
      ],
      "execution_count": null,
      "outputs": [
        {
          "output_type": "execute_result",
          "data": {
            "text/plain": [
              "(30000, 1000, 1006)"
            ]
          },
          "metadata": {
            "tags": []
          },
          "execution_count": 13
        }
      ]
    },
    {
      "cell_type": "code",
      "metadata": {
        "colab": {
          "base_uri": "https://localhost:8080/"
        },
        "id": "Bl7SMeakisY6",
        "outputId": "c447783f-2831-4187-a335-0d43a6d882d4"
      },
      "source": [
        "print(word_sentences[:3])"
      ],
      "execution_count": null,
      "outputs": [
        {
          "output_type": "stream",
          "text": [
            "[['амаравкэваратэн', 'таа’койӈын'], ['йъйыӄык', 'ныӄэԓпэратӄэн', 'вытэчгытрыӄэргыԓьын', 'йыӈэттэт'], ['мыкыӈ', 'нывытрэтӄин', 'чеԓгатвытрыԓьо', 'ынӄорыым', 'вытэчгытрыԓьо']]\n"
          ],
          "name": "stdout"
        }
      ]
    },
    {
      "cell_type": "code",
      "metadata": {
        "colab": {
          "base_uri": "https://localhost:8080/"
        },
        "id": "wNeOwK_ji_oH",
        "outputId": "96899b07-6b4a-4be0-e1a5-b594f27217ce"
      },
      "source": [
        "print(morph_sentences[:3])"
      ],
      "execution_count": null,
      "outputs": [
        {
          "output_type": "stream",
          "text": [
            "[['а', '>маравкэва', '>ра', '>тэн', 'таа', '>’ко', '>йӈы', '>н'], ['йъйыӄы', '>к', 'ны', '>ӄэԓпэр', '>ат', '>ӄэн', 'вытэч', '>гытры', '>ӄэргы', '>ԓьы', '>н', 'йыӈэт', '>тэ', '>т'], ['мык', '>ы', '>ӈ', 'ны', '>вытрэт', '>ӄин', 'чеԓг', '>ат', '>вытры', '>ԓь', '>о', 'ынӄор', '>ыым', 'вытэч', '>гытры', '>ԓь', '>о']]\n"
          ],
          "name": "stdout"
        }
      ]
    },
    {
      "cell_type": "code",
      "metadata": {
        "id": "Rhk4odypVmJh"
      },
      "source": [
        "class MyModel(nn.Module):\n",
        "    \n",
        "    def __init__(self, vocab_size, embed_size, hidden_size):\n",
        "        super(MyModel, self).__init__()\n",
        "        self.embedding = nn.Embedding(vocab_size, embed_size)\n",
        "        \n",
        "        self.rnn = nn.LSTM(input_size=embed_size,\n",
        "                           hidden_size=hidden_size,\n",
        "                           bidirectional=True,\n",
        "                           batch_first=True)\n",
        "        \n",
        "        self.fc = nn.Linear(hidden_size * 2, vocab_size)\n",
        "        \n",
        "        self.init_weights()\n",
        "        \n",
        "    def init_weights(self):\n",
        "        nn.init.uniform_(self.embedding.weight)\n",
        "        nn.init.xavier_uniform_(self.fc.weight)\n",
        "        nn.init.zeros_(self.fc.bias)\n",
        "        \n",
        "    def forward(self, x):\n",
        "        \n",
        "        batch_size = x.size(1)\n",
        "        total_length = x.size(0)\n",
        "\n",
        "        x = self.embedding(x)\n",
        "            \n",
        "        x, _ = self.rnn(x)\n",
        "        \n",
        "        #x, _ = nn.utils.rnn.pad_packed_sequence(x, total_length=total_length, batch_first=True)\n",
        "        \n",
        "        #x = x.contiguous().view(batch_size * total_length, -1)\n",
        "        x = self.fc(x)\n",
        "        #x = x.contiguous().view(total_length, batch_size, -1)\n",
        "        return x#.transpose(1,2)"
      ],
      "execution_count": null,
      "outputs": []
    },
    {
      "cell_type": "markdown",
      "metadata": {
        "id": "vV2x44aGhs_W"
      },
      "source": [
        "Now, let's build a vocab"
      ]
    },
    {
      "cell_type": "code",
      "metadata": {
        "id": "OnXTHomGhv89"
      },
      "source": [
        "vocab = Counter([morph for sent in morph_sentences for morph in sent])"
      ],
      "execution_count": null,
      "outputs": []
    },
    {
      "cell_type": "code",
      "metadata": {
        "colab": {
          "base_uri": "https://localhost:8080/"
        },
        "id": "2k-7N8wUijFB",
        "outputId": "3d252f47-969b-4c6c-9c55-c533cccb1d89"
      },
      "source": [
        "len(vocab), sum([v for k,v in vocab.items()])"
      ],
      "execution_count": null,
      "outputs": [
        {
          "output_type": "execute_result",
          "data": {
            "text/plain": [
              "(19487, 318530)"
            ]
          },
          "metadata": {
            "tags": []
          },
          "execution_count": 9
        }
      ]
    },
    {
      "cell_type": "code",
      "metadata": {
        "colab": {
          "base_uri": "https://localhost:8080/"
        },
        "id": "fXUh9RNsG0az",
        "outputId": "8143c78c-cefd-43fa-bfc3-82d0ae37eb63"
      },
      "source": [
        "pd.Series(vocab).describe()"
      ],
      "execution_count": null,
      "outputs": [
        {
          "output_type": "execute_result",
          "data": {
            "text/plain": [
              "count    19487.000000\n",
              "mean        16.345769\n",
              "std        189.081036\n",
              "min          1.000000\n",
              "25%          1.000000\n",
              "50%          1.000000\n",
              "75%          4.000000\n",
              "max      15991.000000\n",
              "dtype: float64"
            ]
          },
          "metadata": {
            "tags": []
          },
          "execution_count": 10
        }
      ]
    },
    {
      "cell_type": "code",
      "metadata": {
        "id": "Idx-Xom_3X9-"
      },
      "source": [
        "MIN_COUNT = 2 # Results fixed for min count=2"
      ],
      "execution_count": null,
      "outputs": []
    },
    {
      "cell_type": "markdown",
      "metadata": {
        "id": "14agEgfwG-k8"
      },
      "source": [
        "50% of words appear no more than once - might consider throwing them out"
      ]
    },
    {
      "cell_type": "code",
      "metadata": {
        "id": "dmSywNktyJau"
      },
      "source": [
        "id2word = [i for i in vocab if vocab[i]>=MIN_COUNT] + ['<bos>','<eos>','<pad>','<unk>']\n",
        "word2id = {v:k for k,v in enumerate(id2word)}"
      ],
      "execution_count": null,
      "outputs": []
    },
    {
      "cell_type": "code",
      "metadata": {
        "colab": {
          "base_uri": "https://localhost:8080/"
        },
        "id": "tnNYpPVZ7kg-",
        "outputId": "53ad556c-394d-4236-e15b-ede054d1330d"
      },
      "source": [
        "word2id['<bos>'], word2id['<eos>'], word2id['<pad>'], word2id['<unk>']"
      ],
      "execution_count": null,
      "outputs": [
        {
          "output_type": "execute_result",
          "data": {
            "text/plain": [
              "(9629, 9630, 9631, 9632)"
            ]
          },
          "metadata": {
            "tags": []
          },
          "execution_count": 13
        }
      ]
    },
    {
      "cell_type": "markdown",
      "metadata": {
        "id": "-uP3hfFhGFK3"
      },
      "source": [
        "Now let's see the ditribution of sentence length in the training set:"
      ]
    },
    {
      "cell_type": "code",
      "metadata": {
        "id": "kret0tHWGNmT"
      },
      "source": [
        "sent_lens = [len(sent) for sent in morph_sentences]"
      ],
      "execution_count": null,
      "outputs": []
    },
    {
      "cell_type": "code",
      "metadata": {
        "colab": {
          "base_uri": "https://localhost:8080/"
        },
        "id": "-aWAbbKWG_lz",
        "outputId": "faffb7d6-760f-47d0-9d3b-e62124191e13"
      },
      "source": [
        "pd.Series(sent_lens).describe()"
      ],
      "execution_count": null,
      "outputs": [
        {
          "output_type": "execute_result",
          "data": {
            "text/plain": [
              "count    30000.000000\n",
              "mean        10.617667\n",
              "std          7.877840\n",
              "min          1.000000\n",
              "25%          5.000000\n",
              "50%          9.000000\n",
              "75%         14.000000\n",
              "max         94.000000\n",
              "dtype: float64"
            ]
          },
          "metadata": {
            "tags": []
          },
          "execution_count": 24
        }
      ]
    },
    {
      "cell_type": "code",
      "metadata": {
        "id": "fJkaoP9CfMok"
      },
      "source": [
        "def _train_epoch(model, iterator, optimizer, criterion, curr_epoch, device, clip,\n",
        "                 pad_id):\n",
        "\n",
        "    model.train()\n",
        "    \n",
        "    epoch_loss, accuracy, f1score = 0, 0, 0\n",
        "\n",
        "    n_batches = len(iterator)\n",
        "    iterator = tqdm_notebook(iterator, total=n_batches, desc='epoch %d' % (curr_epoch), leave=True)\n",
        "\n",
        "    for i, (batch_in, batch_out) in enumerate(iterator):\n",
        "        optimizer.zero_grad()\n",
        "        \n",
        "        x = batch_in.to(device)\n",
        "        pred = model(x)\n",
        "        \n",
        "        y = batch_out.to(device)\n",
        "\n",
        "        loss = criterion(pred.transpose(2,1), y)\n",
        "\n",
        "        loss.backward()\n",
        "\n",
        "        clip_grad_norm_(model.parameters(), clip)\n",
        "\n",
        "        optimizer.step()\n",
        "\n",
        "        curr_loss = loss.data.cpu().detach().item()\n",
        "\n",
        "        y_flat, ypred_flat = batch_out.flatten().numpy(), pred.detach().cpu().argmax(dim=2).flatten().numpy()\n",
        "\n",
        "        curr_acc = accuracy_score(y_flat, ypred_flat)\n",
        "        curr_f1 = f1_score(y_flat, ypred_flat, average='micro')\n",
        "\n",
        "        accuracy += curr_acc\n",
        "        f1score += curr_f1\n",
        "\n",
        "        iterator.set_postfix(loss='%.5f' % curr_loss, acc='%.5f' % curr_acc, f1='%.5f'%curr_f1)\n",
        "\n",
        "    return epoch_loss/n_batches, accuracy/n_batches, f1score/n_batches\n",
        "\n",
        "def _test_epoch(model, iterator, criterion, device, pad_id):\n",
        "    model.eval()\n",
        "    epoch_loss = 0\n",
        "\n",
        "    epoch_loss, accuracy, f1score = 0, 0, 0\n",
        "\n",
        "    n_batches = len(iterator)\n",
        "    with tt.no_grad():\n",
        "        for batch_in, batch_out in iterator:\n",
        "            \n",
        "            x, y = batch_in.to(device), batch_out.to(device)\n",
        "            pred = model(x)\n",
        "            loss = criterion(pred.transpose(2,1), y)\n",
        "            epoch_loss += loss.data.cpu().detach().item()\n",
        "\n",
        "            y_flat, ypred_flat = batch_out.flatten().numpy(), pred.detach().cpu().argmax(dim=2).flatten().numpy()\n",
        "\n",
        "            curr_acc = accuracy_score(y_flat, ypred_flat)\n",
        "            curr_f1 = f1_score(y_flat, ypred_flat, average='micro')\n",
        "\n",
        "            accuracy += curr_acc\n",
        "            f1score += curr_f1\n",
        "\n",
        "    return epoch_loss / n_batches, accuracy/n_batches, f1score/n_batches\n",
        "\n",
        "\n",
        "def nn_train(model, train_iterator, valid_iterator, criterion, optimizer, device, n_epochs=100,\n",
        "          scheduler=None, early_stopping=0, clip=1.0, pad_id=word2id['<pad>']):\n",
        "\n",
        "    prev_loss = float('inf')\n",
        "\n",
        "    es_epochs = 0\n",
        "    best_epoch = None\n",
        "    history = pd.DataFrame()\n",
        "\n",
        "    for epoch in range(n_epochs):\n",
        "        train_loss, train_acc, train_f1 = _train_epoch(model, train_iterator, optimizer, criterion, epoch, device, clip, pad_id)\n",
        "\n",
        "        print(f\"Epoch {epoch} Training loss: {np.round(train_loss, 4)} Training accuracy: {np.round(train_acc, 4)} Training F1: {np.round(train_f1, 4)}\")\n",
        "\n",
        "        valid_loss, valid_acc, valid_f1 = _test_epoch(model, valid_iterator, criterion, device, pad_id)\n",
        "\n",
        "        print(f\"Epoch {epoch} Validation loss: {np.round(valid_loss, 4)} Validation accuracy: {np.round(valid_acc, 4)} Validation F1: {np.round(valid_f1, 4)}\")\n",
        "\n",
        "        if valid_loss < prev_loss:\n",
        "          print(\"New record! Saving model\")\n",
        "          tt.save(model, 'lstm_morph_model_freq_restricted')\n",
        "\n",
        "        record = {'epoch': epoch, 'train_loss': train_loss, 'train_acc': train_acc, 'train_f1': train_f1,\n",
        "                  'valid_loss': valid_loss, 'valid_acc': valid_acc, 'valid_f1': valid_f1}\n",
        "        history = history.append(record, ignore_index=True)\n",
        "\n",
        "        if early_stopping > 0:\n",
        "            if valid_loss > prev_loss:\n",
        "                es_epochs += 1\n",
        "            else:\n",
        "                es_epochs = 0\n",
        "\n",
        "            if es_epochs >= early_stopping:\n",
        "                best_epoch = history[history.valid_loss == history.valid_loss.min()].iloc[0]\n",
        "                print('Early stopping! best epoch: %d val %.5f' % (best_epoch['epoch'], best_epoch['valid_loss']))\n",
        "                break\n",
        "                \n",
        "        prev_loss = min(prev_loss, valid_loss)\n",
        "    return history"
      ],
      "execution_count": null,
      "outputs": []
    },
    {
      "cell_type": "code",
      "metadata": {
        "id": "ThP4bQnL3-XB"
      },
      "source": [
        "def code_sentences(sentences, mapping):\n",
        "  out = []\n",
        "  for sent in sentences:\n",
        "    sent_out = []\n",
        "    for word in sent:\n",
        "      if word in mapping:\n",
        "        sent_out.append(mapping[word])\n",
        "      else:\n",
        "        sent_out.append(mapping['<unk>'])\n",
        "    out.append(sent_out)\n",
        "  return out\n",
        "\n",
        "def make_lm_dataset(sentences, word2id, seq_len):\n",
        "  text_new = []\n",
        "  for sent in sentences:\n",
        "    new_sent = ['<bos>'] + sent\n",
        "    text_new += new_sent\n",
        "    text_new += ['<pad>' for i in range(seq_len)]\n",
        "  \n",
        "  sents_in = []\n",
        "  sents_out = []\n",
        "\n",
        "  for word_id in range(len(text_new)-1):\n",
        "    sents_in.append(text_new[word_id:word_id+seq_len])\n",
        "    sents_out.append(text_new[word_id+1:word_id+seq_len+1])\n",
        "  return code_sentences(sents_in, word2id), code_sentences(sents_out, word2id)"
      ],
      "execution_count": null,
      "outputs": []
    },
    {
      "cell_type": "code",
      "metadata": {
        "id": "zPFzfHDQ1FVF"
      },
      "source": [
        "def pad_sentences(sents, pad_id, max_len, append_eos=False):\n",
        "  for sent_id, sent in enumerate(sents):\n",
        "    if len(sent) < max_len:\n",
        "      sents[sent_id] = sent + [pad_id for i in range(max_len-len(sent))]\n",
        "    elif len(sent) < max_len:\n",
        "      sents[sent_id] = sent[:max_len]\n",
        "  return sents\n",
        "\n",
        "\n",
        "def make_batch(batch_in, batch_out, pad_id, max_len):\n",
        "   max_len = min(max_len, max([len(sent) for sent in batch_in]))\n",
        "   batch_in = pad_sentences(batch_in, pad_id, max_len)\n",
        "   batch_out = pad_sentences(batch_out, pad_id, max_len)\n",
        "   return tt.LongTensor(batch_in), tt.LongTensor(batch_out)\n",
        "\n",
        "class MyBatchIterator:\n",
        "  def __init__(self, sents_in, sents_out, batch_size=128,\n",
        "              pad_id=word2id['<pad>'], max_len=5):\n",
        "    self.sents_in = sents_in\n",
        "    self.sents_out = sents_out\n",
        "    self.batch_size = batch_size\n",
        "    self.pad_id = pad_id\n",
        "    self.max_len = max_len\n",
        "  \n",
        "  def __iter__(self):\n",
        "    self.start = 0\n",
        "    return self\n",
        "  \n",
        "  def __next__(self):\n",
        "    if self.start >= len(self.sents_in):\n",
        "      raise StopIteration\n",
        "    batch_in = self.sents_in[self.start:self.start+self.batch_size]\n",
        "    batch_out = self.sents_out[self.start:self.start+self.batch_size]\n",
        "    self.start += self.batch_size\n",
        "    return make_batch(batch_in, batch_out, self.pad_id, self.max_len)\n",
        "  \n",
        "  def __len__(self):\n",
        "    return ceil(len(self.sents_in)/self.batch_size)"
      ],
      "execution_count": null,
      "outputs": []
    },
    {
      "cell_type": "markdown",
      "metadata": {
        "id": "4EbPDNrl6EVp"
      },
      "source": [
        "A hyperparameter: length of input sequence"
      ]
    },
    {
      "cell_type": "code",
      "metadata": {
        "id": "tj-xg4nr6JIA"
      },
      "source": [
        "# SEQ_LEN = 5 0.28 accuracy on dev set (after 50 epochs); 0.248 after 1 epoch\n",
        "SEQ_LEN = 5"
      ],
      "execution_count": null,
      "outputs": []
    },
    {
      "cell_type": "markdown",
      "metadata": {
        "id": "ROiKJxTk6Pu4"
      },
      "source": [
        "Let's prepare our dataset:"
      ]
    },
    {
      "cell_type": "code",
      "metadata": {
        "id": "JcjcVlBo23KY"
      },
      "source": [
        "sents_in, sents_out = make_lm_dataset(morph_sentences, word2id, SEQ_LEN)\n",
        "sents_in_dev, sents_out_dev = make_lm_dataset(dev_morph_sentences, word2id, SEQ_LEN)\n",
        "sents_in_test, sents_out_test = make_lm_dataset(test_morph_sentences, word2id, SEQ_LEN)"
      ],
      "execution_count": null,
      "outputs": []
    },
    {
      "cell_type": "code",
      "metadata": {
        "colab": {
          "base_uri": "https://localhost:8080/"
        },
        "id": "E37tMeevBiKX",
        "outputId": "2b8c7b6c-00c2-4c62-a8f2-588043ff68be"
      },
      "source": [
        "sents_in[:4]"
      ],
      "execution_count": null,
      "outputs": [
        {
          "output_type": "execute_result",
          "data": {
            "text/plain": [
              "[[9629, 0, 1, 2, 3], [0, 1, 2, 3, 4], [1, 2, 3, 4, 9632], [2, 3, 4, 9632, 5]]"
            ]
          },
          "metadata": {
            "tags": []
          },
          "execution_count": 30
        }
      ]
    },
    {
      "cell_type": "code",
      "metadata": {
        "colab": {
          "base_uri": "https://localhost:8080/"
        },
        "id": "sUesaHQ2BxtZ",
        "outputId": "18f6019c-99f0-4b50-b0a4-e0f3d3bf7b73"
      },
      "source": [
        "sents_out[:4]"
      ],
      "execution_count": null,
      "outputs": [
        {
          "output_type": "execute_result",
          "data": {
            "text/plain": [
              "[[0, 1, 2, 3, 4], [1, 2, 3, 4, 9632], [2, 3, 4, 9632, 5], [3, 4, 9632, 5, 6]]"
            ]
          },
          "metadata": {
            "tags": []
          },
          "execution_count": 31
        }
      ]
    },
    {
      "cell_type": "code",
      "metadata": {
        "id": "_jKmus5gB1ij"
      },
      "source": [
        "X_train, y_train = sents_in, sents_out\n",
        "X_dev, y_dev = sents_in_dev, sents_out_dev\n",
        "X_test, y_test = sents_in_test, sents_out_test"
      ],
      "execution_count": null,
      "outputs": []
    },
    {
      "cell_type": "code",
      "metadata": {
        "colab": {
          "base_uri": "https://localhost:8080/"
        },
        "id": "-Ps_qZ4sGrO1",
        "outputId": "c7f7ccf7-f3da-4efa-9b6f-a3173ff8ff8a"
      },
      "source": [
        "len(X_train), len(X_test)"
      ],
      "execution_count": null,
      "outputs": [
        {
          "output_type": "execute_result",
          "data": {
            "text/plain": [
              "(498529, 16567)"
            ]
          },
          "metadata": {
            "tags": []
          },
          "execution_count": 33
        }
      ]
    },
    {
      "cell_type": "code",
      "metadata": {
        "id": "LQ310F75GfQj"
      },
      "source": [
        "train_iter = MyBatchIterator(X_train[:-1], y_train[:-1], max_len=SEQ_LEN)\n",
        "test_iter = MyBatchIterator(X_dev, y_dev, max_len=SEQ_LEN)"
      ],
      "execution_count": null,
      "outputs": []
    },
    {
      "cell_type": "code",
      "metadata": {
        "id": "Uzo6jS-PI30g"
      },
      "source": [
        "device = tt.device('cuda')"
      ],
      "execution_count": null,
      "outputs": []
    },
    {
      "cell_type": "code",
      "metadata": {
        "id": "gDKsGF7SIjGv"
      },
      "source": [
        "model = MyModel(len(word2id), 100, 100).to(device)"
      ],
      "execution_count": null,
      "outputs": []
    },
    {
      "cell_type": "code",
      "metadata": {
        "id": "IZ2ceS33IwOx"
      },
      "source": [
        "criterion = nn.CrossEntropyLoss(ignore_index=word2id[\"<pad>\"]).to(device)\n",
        "optimizer = tt.optim.Adam(model.parameters())\n",
        "scheduler = tt.optim.lr_scheduler.ReduceLROnPlateau(optimizer, patience=10)"
      ],
      "execution_count": null,
      "outputs": []
    },
    {
      "cell_type": "code",
      "metadata": {
        "colab": {
          "base_uri": "https://localhost:8080/"
        },
        "id": "svwtdHExA20w",
        "outputId": "2e21d4cd-3b26-4133-9550-d8e9553de45b"
      },
      "source": [
        "len(word2id)"
      ],
      "execution_count": null,
      "outputs": [
        {
          "output_type": "execute_result",
          "data": {
            "text/plain": [
              "9633"
            ]
          },
          "metadata": {
            "tags": []
          },
          "execution_count": 38
        }
      ]
    },
    {
      "cell_type": "code",
      "metadata": {
        "colab": {
          "base_uri": "https://localhost:8080/"
        },
        "id": "R8Sg7IxRA5KC",
        "outputId": "b0d65498-3915-47b5-830f-1a876fe78357"
      },
      "source": [
        "max([i for sent in sents_in for i in sent])"
      ],
      "execution_count": null,
      "outputs": [
        {
          "output_type": "execute_result",
          "data": {
            "text/plain": [
              "9632"
            ]
          },
          "metadata": {
            "tags": []
          },
          "execution_count": 39
        }
      ]
    },
    {
      "cell_type": "code",
      "metadata": {
        "colab": {
          "base_uri": "https://localhost:8080/"
        },
        "id": "5tkCYGPSBX4e",
        "outputId": "b6a01f8b-0ed5-4ba7-a6a3-856968a7e6ea"
      },
      "source": [
        "model"
      ],
      "execution_count": null,
      "outputs": [
        {
          "output_type": "execute_result",
          "data": {
            "text/plain": [
              "MyModel(\n",
              "  (embedding): Embedding(9633, 100)\n",
              "  (rnn): LSTM(100, 100, batch_first=True, bidirectional=True)\n",
              "  (fc): Linear(in_features=200, out_features=9633, bias=True)\n",
              ")"
            ]
          },
          "metadata": {
            "tags": []
          },
          "execution_count": 40
        }
      ]
    },
    {
      "cell_type": "code",
      "metadata": {
        "colab": {
          "background_save": true,
          "base_uri": "https://localhost:8080/",
          "height": 934,
          "referenced_widgets": [
            "705ef4e8090e4d0c8d84d2c0de686062",
            "cdb6aa698a84403eb7813db591013ef8",
            "54e1654ec8fe4d18ad7516c312f733a5",
            "4af66eb09eda4fb2a8ab73ae8baae5b9",
            "2fddd3b44b2448dfac4d683beec830af",
            "5fb9f565842c4521a6c92bb8004b6454",
            "3e7791d08063433ca479a0483bdd85e5",
            "fd346fb266ef44d384eadef9183edae1",
            "b506a06e86ae418a94274592297e7aef",
            "6cbad4d8f68c419ebd3d5177e1e5c853",
            "4eaf1d17f0dd4eb9b48386fcf1d077d6",
            "8e1b963d47534f478b7f0dea5a840fc2",
            "25c288b2de874d9f91182a9ffc886cd9",
            "2a65d81ee830417e82f8af53212f5121",
            "9914450c5cfd4a6f8da779f438972bec",
            "18d29a30c72d4bcb9dd9916ee028b36b",
            "b6bf01c2014e4e8abef32158b9d01c63",
            "184fedc0a7194118a0f8896606c4da9d",
            "cf57e1f8c80946eabf76a812ac099b6d",
            "96544fdb22bb47b79cb644b11938b59c",
            "e1b3a85cf6d1432c9c00342a0963d376",
            "34b8d8aeaf98468cbf2cda3ee8921715",
            "49ca3d46ee5f4758ab7cfe08d9e4c40e",
            "526df4b0565145cfb2d21666983b6a83",
            "7de1c8b765e14832ab7b7db063e57fd8",
            "1aa1a12885c044529df7a1702a1b27aa",
            "0966a37c8ca94951917adcc549c2daf3",
            "1cc25a8ea07144e7955421873ea0243b",
            "10386de39e0b488b811d7831c159522d",
            "387fef437e7b4755b43d680f034d81e9",
            "aeec684e3bec4d3f9b451bede7d76ebf",
            "698bf6a5bd7c44a4afc6a10f0656f317",
            "6288f64e0eb745ca9781c7600752e4c6",
            "076c5e2cd17a40a89ae6a067c39afde0",
            "ded417ffdd2b4b6184e659a40e3d88b9",
            "3885169ec9c24205921262990b8f60b0",
            "04189b14894b44349c49f3f17764d4d7",
            "dbf1c4f2c3684478ae25da0146fb53fd",
            "a7037171004d4b0b8e1b8df3527471d4",
            "c63476c2050749ed955e4d05aec314cf",
            "c3a4b526c9904ffea677678cf5cf4ad7",
            "f579b6f33c76423d9cd4cb304d9b870a",
            "dd8b953f7ddc43e88f1f7957cd563ed2",
            "bc238ca6540f42d7ad15a116010b0aa0",
            "24fd1978963a41eba6b0b0621f00b480",
            "f69149c0e6a145069b1dc373e762f6a9",
            "e50a25dd9e664645997abb902008d820",
            "ded781732ab14f9c9cf8b3f443f985d6",
            "5a6938c9c17c4201b0fc8513a40ddb17",
            "ffcbbe924a784f29820f0d62fc6721e0",
            "73f3fc32da5e4d76a669fd7d0b968308",
            "023c953a45a14071bb13d615e8d788cd",
            "739f87f25d5949aa895b97e5ba3a349f",
            "7623f3cd0c8641c0bda576df8f9d85ee",
            "1e458674d07c4c19b498423de87ed780",
            "67d70f84c33e4c1d953eb8a73fe51c9c",
            "5c257d44a7844ad6bc89253c4926e7ad",
            "d16b31da9faa4ffebd0cb2f9b4c583cd",
            "209448ebfb66437d9b32843c1dc43aa4",
            "bda7e73783874c92bfadc88598e2dae5",
            "82d3979baea049318f9bed9c9532c167",
            "904dfd840c304370a3d8defe2562074f",
            "74acb66ffa8b44a8bceee359d79b7d92",
            "ab39b74477dd429f94acacc7e239fd1d",
            "7eda724fae2a48418f3b9b1637b054b1",
            "97d57699cc824256b94a7f3ee83365ab",
            "b7c1badf5ada4fe6a2d5451f4ac64a01",
            "4a5340160bf844f8bcf3ab15a9b6f73c",
            "3b1d7e35f44f44e4b265fd3cd16024e6",
            "551f3aaeb7304fbd9b265da61feb84cf",
            "9f121e4bb0ee435081cf8851e187465f",
            "9830bedb65cb4e0cb48d9ee9d52e539d",
            "b2294d3c866240469a8f094d2c89f9e3",
            "cbf75164ce7c4b71baea4c638eb5a801",
            "b5301dc88b3e493c969cf2f543c0296e",
            "2053ff7f18564c2c9357e580c2b024e0",
            "03f8200ee12b44018a9b8144908b4056",
            "4158aba2ba124aeba6555f8a5b57dfa8",
            "58205a77b1b24aa689c893aa4196a7b6",
            "36fa801322ca430db26df45023bbdfcd"
          ]
        },
        "id": "GMHvYnqgKaSn",
        "outputId": "fec6322a-281f-42e1-ef96-3ce796af23e5"
      },
      "source": [
        "history_df = nn_train(model, train_iter, test_iter, criterion, optimizer, device, n_epochs=10, scheduler=scheduler)"
      ],
      "execution_count": null,
      "outputs": [
        {
          "output_type": "stream",
          "text": [
            "/usr/local/lib/python3.7/dist-packages/ipykernel_launcher.py:9: TqdmDeprecationWarning: This function will be removed in tqdm==5.0.0\n",
            "Please use `tqdm.notebook.tqdm` instead of `tqdm.tqdm_notebook`\n",
            "  if __name__ == '__main__':\n"
          ],
          "name": "stderr"
        },
        {
          "output_type": "display_data",
          "data": {
            "application/vnd.jupyter.widget-view+json": {
              "model_id": "705ef4e8090e4d0c8d84d2c0de686062",
              "version_major": 2,
              "version_minor": 0
            },
            "text/plain": [
              "HBox(children=(FloatProgress(value=0.0, description='epoch 0', max=3895.0, style=ProgressStyle(description_wid…"
            ]
          },
          "metadata": {
            "tags": []
          }
        },
        {
          "output_type": "stream",
          "text": [
            "\n",
            "Epoch 0 Training loss: 0.0 Training accuracy: 0.3456 Training F1: 0.3456\n",
            "Epoch 0 Validation loss: 1.7181 Validation accuracy: 0.5207 Validation F1: 0.5207\n",
            "New record! Saving model\n"
          ],
          "name": "stdout"
        },
        {
          "output_type": "display_data",
          "data": {
            "application/vnd.jupyter.widget-view+json": {
              "model_id": "b506a06e86ae418a94274592297e7aef",
              "version_major": 2,
              "version_minor": 0
            },
            "text/plain": [
              "HBox(children=(FloatProgress(value=0.0, description='epoch 1', max=3895.0, style=ProgressStyle(description_wid…"
            ]
          },
          "metadata": {
            "tags": []
          }
        },
        {
          "output_type": "stream",
          "text": [
            "\n",
            "Epoch 1 Training loss: 0.0 Training accuracy: 0.5237 Training F1: 0.5237\n",
            "Epoch 1 Validation loss: 1.2411 Validation accuracy: 0.5692 Validation F1: 0.5692\n",
            "New record! Saving model\n"
          ],
          "name": "stdout"
        },
        {
          "output_type": "display_data",
          "data": {
            "application/vnd.jupyter.widget-view+json": {
              "model_id": "b6bf01c2014e4e8abef32158b9d01c63",
              "version_major": 2,
              "version_minor": 0
            },
            "text/plain": [
              "HBox(children=(FloatProgress(value=0.0, description='epoch 2', max=3895.0, style=ProgressStyle(description_wid…"
            ]
          },
          "metadata": {
            "tags": []
          }
        },
        {
          "output_type": "stream",
          "text": [
            "\n",
            "Epoch 2 Training loss: 0.0 Training accuracy: 0.5656 Training F1: 0.5656\n",
            "Epoch 2 Validation loss: 1.0737 Validation accuracy: 0.5849 Validation F1: 0.5849\n",
            "New record! Saving model\n"
          ],
          "name": "stdout"
        },
        {
          "output_type": "display_data",
          "data": {
            "application/vnd.jupyter.widget-view+json": {
              "model_id": "7de1c8b765e14832ab7b7db063e57fd8",
              "version_major": 2,
              "version_minor": 0
            },
            "text/plain": [
              "HBox(children=(FloatProgress(value=0.0, description='epoch 3', max=3895.0, style=ProgressStyle(description_wid…"
            ]
          },
          "metadata": {
            "tags": []
          }
        },
        {
          "output_type": "stream",
          "text": [
            "\n",
            "Epoch 3 Training loss: 0.0 Training accuracy: 0.5885 Training F1: 0.5885\n",
            "Epoch 3 Validation loss: 0.9954 Validation accuracy: 0.5923 Validation F1: 0.5923\n",
            "New record! Saving model\n"
          ],
          "name": "stdout"
        },
        {
          "output_type": "display_data",
          "data": {
            "application/vnd.jupyter.widget-view+json": {
              "model_id": "6288f64e0eb745ca9781c7600752e4c6",
              "version_major": 2,
              "version_minor": 0
            },
            "text/plain": [
              "HBox(children=(FloatProgress(value=0.0, description='epoch 4', max=3895.0, style=ProgressStyle(description_wid…"
            ]
          },
          "metadata": {
            "tags": []
          }
        },
        {
          "output_type": "stream",
          "text": [
            "\n",
            "Epoch 4 Training loss: 0.0 Training accuracy: 0.6025 Training F1: 0.6025\n",
            "Epoch 4 Validation loss: 0.9514 Validation accuracy: 0.5956 Validation F1: 0.5956\n",
            "New record! Saving model\n"
          ],
          "name": "stdout"
        },
        {
          "output_type": "display_data",
          "data": {
            "application/vnd.jupyter.widget-view+json": {
              "model_id": "c3a4b526c9904ffea677678cf5cf4ad7",
              "version_major": 2,
              "version_minor": 0
            },
            "text/plain": [
              "HBox(children=(FloatProgress(value=0.0, description='epoch 5', max=3895.0, style=ProgressStyle(description_wid…"
            ]
          },
          "metadata": {
            "tags": []
          }
        },
        {
          "output_type": "stream",
          "text": [
            "\n",
            "Epoch 5 Training loss: 0.0 Training accuracy: 0.6096 Training F1: 0.6096\n",
            "Epoch 5 Validation loss: 0.9303 Validation accuracy: 0.5976 Validation F1: 0.5976\n",
            "New record! Saving model\n"
          ],
          "name": "stdout"
        },
        {
          "output_type": "display_data",
          "data": {
            "application/vnd.jupyter.widget-view+json": {
              "model_id": "5a6938c9c17c4201b0fc8513a40ddb17",
              "version_major": 2,
              "version_minor": 0
            },
            "text/plain": [
              "HBox(children=(FloatProgress(value=0.0, description='epoch 6', max=3895.0, style=ProgressStyle(description_wid…"
            ]
          },
          "metadata": {
            "tags": []
          }
        },
        {
          "output_type": "stream",
          "text": [
            "\n",
            "Epoch 6 Training loss: 0.0 Training accuracy: 0.6127 Training F1: 0.6127\n",
            "Epoch 6 Validation loss: 0.9229 Validation accuracy: 0.5983 Validation F1: 0.5983\n",
            "New record! Saving model\n"
          ],
          "name": "stdout"
        },
        {
          "output_type": "display_data",
          "data": {
            "application/vnd.jupyter.widget-view+json": {
              "model_id": "5c257d44a7844ad6bc89253c4926e7ad",
              "version_major": 2,
              "version_minor": 0
            },
            "text/plain": [
              "HBox(children=(FloatProgress(value=0.0, description='epoch 7', max=3895.0, style=ProgressStyle(description_wid…"
            ]
          },
          "metadata": {
            "tags": []
          }
        },
        {
          "output_type": "stream",
          "text": [
            "\n",
            "Epoch 7 Training loss: 0.0 Training accuracy: 0.6145 Training F1: 0.6145\n",
            "Epoch 7 Validation loss: 0.9237 Validation accuracy: 0.5987 Validation F1: 0.5987\n"
          ],
          "name": "stdout"
        },
        {
          "output_type": "display_data",
          "data": {
            "application/vnd.jupyter.widget-view+json": {
              "model_id": "7eda724fae2a48418f3b9b1637b054b1",
              "version_major": 2,
              "version_minor": 0
            },
            "text/plain": [
              "HBox(children=(FloatProgress(value=0.0, description='epoch 8', max=3895.0, style=ProgressStyle(description_wid…"
            ]
          },
          "metadata": {
            "tags": []
          }
        },
        {
          "output_type": "stream",
          "text": [
            "\n",
            "Epoch 8 Training loss: 0.0 Training accuracy: 0.6159 Training F1: 0.6159\n",
            "Epoch 8 Validation loss: 0.9283 Validation accuracy: 0.5984 Validation F1: 0.5984\n"
          ],
          "name": "stdout"
        },
        {
          "output_type": "display_data",
          "data": {
            "application/vnd.jupyter.widget-view+json": {
              "model_id": "b2294d3c866240469a8f094d2c89f9e3",
              "version_major": 2,
              "version_minor": 0
            },
            "text/plain": [
              "HBox(children=(FloatProgress(value=0.0, description='epoch 9', max=3895.0, style=ProgressStyle(description_wid…"
            ]
          },
          "metadata": {
            "tags": []
          }
        },
        {
          "output_type": "stream",
          "text": [
            "\n",
            "Epoch 9 Training loss: 0.0 Training accuracy: 0.6173 Training F1: 0.6173\n",
            "Epoch 9 Validation loss: 0.9347 Validation accuracy: 0.5984 Validation F1: 0.5984\n"
          ],
          "name": "stdout"
        }
      ]
    },
    {
      "cell_type": "markdown",
      "metadata": {
        "id": "tWndh7fUI_dr"
      },
      "source": [
        "Npw let's write code for text prediction"
      ]
    },
    {
      "cell_type": "code",
      "metadata": {
        "colab": {
          "base_uri": "https://localhost:8080/"
        },
        "id": "Hfoki1JRJ-0H",
        "outputId": "369d002e-a010-445a-db31-53422bce0bb8"
      },
      "source": [
        "help(make_lm_dataset)"
      ],
      "execution_count": null,
      "outputs": [
        {
          "output_type": "stream",
          "text": [
            "Help on function make_lm_dataset in module __main__:\n",
            "\n",
            "make_lm_dataset(sentences, word2id, seq_len)\n",
            "\n"
          ],
          "name": "stdout"
        }
      ]
    },
    {
      "cell_type": "code",
      "metadata": {
        "colab": {
          "base_uri": "https://localhost:8080/"
        },
        "id": "h5E0F3JuKQ-m",
        "outputId": "fa82a92b-d959-4e22-899a-97ecc629a8ce"
      },
      "source": [
        "help(pad_sentences)"
      ],
      "execution_count": null,
      "outputs": [
        {
          "output_type": "stream",
          "text": [
            "Help on function pad_sentences in module __main__:\n",
            "\n",
            "pad_sentences(sents, pad_id, max_len, append_eos=False)\n",
            "\n"
          ],
          "name": "stdout"
        }
      ]
    },
    {
      "cell_type": "code",
      "metadata": {
        "id": "8Fxdclx6JDXw"
      },
      "source": [
        "class LMPredictor:\n",
        "  def __init__(self, model, id2word, word2id):\n",
        "    self.model = model\n",
        "    self.id2word = id2word\n",
        "    self.word2id = word2id\n",
        "\n",
        "  def predict(self, sent):\n",
        "    sent = [self.word2id['<bos>']] + [self.word2id[word] if word in self.word2id else self.word2id['<unk>'] for word in sent]\n",
        "    sent = [sent]\n",
        "    sent = tt.LongTensor(sent)\n",
        "    output = model(sent)\n",
        "    new_word = output.argmax(dim=2)[0][-1]\n",
        "    return self.id2word[new_word]"
      ],
      "execution_count": null,
      "outputs": []
    },
    {
      "cell_type": "code",
      "metadata": {
        "id": "GvlP1w1pLSWS"
      },
      "source": [
        "device = tt.device('cpu')\n",
        "model = tt.load('lstm_morph_model_freq_restricted').to(device)"
      ],
      "execution_count": null,
      "outputs": []
    },
    {
      "cell_type": "code",
      "metadata": {
        "id": "O6LwuvtsgYsX"
      },
      "source": [
        "predictor = LMPredictor(model, id2word, word2id)"
      ],
      "execution_count": null,
      "outputs": []
    },
    {
      "cell_type": "code",
      "metadata": {
        "colab": {
          "base_uri": "https://localhost:8080/"
        },
        "id": "wsQh9zO5oIwy",
        "outputId": "4028f6c2-7645-430b-bd3e-9f46e3108f58"
      },
      "source": [
        "sent = dev_morph_sentences[0]\n",
        "\n",
        "for i in range(len(sent)):\n",
        "  feed = sent[:i]\n",
        "  predicted = predictor.predict(feed)\n",
        "  print(f\"Item: {sent[i]} Predicted: {predicted}\")"
      ],
      "execution_count": null,
      "outputs": [
        {
          "output_type": "stream",
          "text": [
            "Item: ӄԓявыԓ Predicted: <unk>\n",
            "Item: >я Predicted: >я\n",
            "Item: риӄукэ Predicted: >ӄыт\n",
            "Item: >тэ Predicted: >тэ\n",
            "Item: ив Predicted: ив\n",
            "Item: >ни Predicted: >ни\n",
            "Item: >н Predicted: >н\n",
            "Item: ытри Predicted: вынэ\n",
            "Item: ын Predicted: ны\n",
            "Item: >кы Predicted: >кы\n",
            "Item: варкы Predicted: ны\n",
            "Item: >т Predicted: >т\n",
            "Item: гын Predicted: ынкъам\n",
            "Item: >ин Predicted: >ин\n",
            "Item: ӈэвъэ Predicted: >рин\n",
            "Item: >н Predicted: >н\n",
            "Item: гэ Predicted: ив\n",
            "Item: >ԓгы Predicted: >ԓги\n",
            "Item: >ԓин Predicted: >ԓин\n",
            "Item: мэмыԓ Predicted: ынӄо\n",
            "Item: >я Predicted: >тэ\n",
            "Item: ра Predicted: >ӄыт\n",
            "Item: >гты Predicted: >гты\n",
            "Item: >гъэ Predicted: >гъэ\n"
          ],
          "name": "stdout"
        }
      ]
    },
    {
      "cell_type": "markdown",
      "metadata": {
        "id": "hjArvxsxwtsS"
      },
      "source": [
        "### Scoring on test set"
      ]
    },
    {
      "cell_type": "markdown",
      "metadata": {
        "id": "intEyo5lpBQF"
      },
      "source": [
        "Let's count word accuracy on test set:"
      ]
    },
    {
      "cell_type": "code",
      "metadata": {
        "colab": {
          "base_uri": "https://localhost:8080/",
          "height": 117,
          "referenced_widgets": [
            "4eeab82f57864f2eb6ac2f35a0a5fd3c",
            "cf5c5e25604342bd95d036d73a738680",
            "706c845d02bf4ced8926c00549f57f0e",
            "dcda792a5a384240b18ba8d84bd058d6",
            "fb171e47978b47d0b8f4d9cbf7cc6df0",
            "36dc78d462cb4dae92827924d2a546b8",
            "43bef38b7e7647a3b7a85d29b0ddaa82",
            "2c3bfbdb3e06462ab1f57b77741cb725"
          ]
        },
        "id": "v3dk2vTjpFGa",
        "outputId": "190da9ec-d446-44e2-c154-15bc18403b1f"
      },
      "source": [
        "## count accuracy\n",
        "acc = 0\n",
        "output = []\n",
        "dev_test = []\n",
        "for sent in tqdm_notebook(test_morph_sentences, total=len(test_morph_sentences)):\n",
        "  sent_acc = 0\n",
        "  for i in range(len(sent)):\n",
        "    feed = sent[:i]\n",
        "    predicted = predictor.predict(feed)\n",
        "    if predicted == sent[i]:\n",
        "      output.append(predicted)\n",
        "      sent_acc += 1\n",
        "    else:\n",
        "      output += [c for c in sent[i]]\n",
        "    if i!=0:\n",
        "      if i == len(sent)-1:\n",
        "        output.append('_')\n",
        "      elif not sent[i+1].startswith('>'):\n",
        "        output.append('_')\n",
        "  output.append('\\n')\n",
        "  acc += sent_acc/len(sent)\n",
        "acc = acc/len(test_morph_sentences)\n",
        "listToStr = ' '.join(map(str, output)).replace('>',' ')\n",
        "listToStr = re.sub(' +', ' ', listToStr)"
      ],
      "execution_count": null,
      "outputs": [
        {
          "output_type": "stream",
          "text": [
            "/usr/local/lib/python3.7/dist-packages/ipykernel_launcher.py:5: TqdmDeprecationWarning: This function will be removed in tqdm==5.0.0\n",
            "Please use `tqdm.notebook.tqdm` instead of `tqdm.tqdm_notebook`\n",
            "  \"\"\"\n"
          ],
          "name": "stderr"
        },
        {
          "output_type": "display_data",
          "data": {
            "application/vnd.jupyter.widget-view+json": {
              "model_id": "4eeab82f57864f2eb6ac2f35a0a5fd3c",
              "version_minor": 0,
              "version_major": 2
            },
            "text/plain": [
              "HBox(children=(FloatProgress(value=0.0, max=1006.0), HTML(value='')))"
            ]
          },
          "metadata": {
            "tags": []
          }
        },
        {
          "output_type": "stream",
          "text": [
            "\n"
          ],
          "name": "stdout"
        }
      ]
    },
    {
      "cell_type": "code",
      "metadata": {
        "id": "cIpitgQzKo_t"
      },
      "source": [
        "output1 = list(listToStr.split('\\n'))"
      ],
      "execution_count": null,
      "outputs": []
    },
    {
      "cell_type": "code",
      "metadata": {
        "colab": {
          "base_uri": "https://localhost:8080/"
        },
        "id": "RVmoo4tkKrRA",
        "outputId": "09547952-54de-4ea0-c93d-c70a73c6bb32"
      },
      "source": [
        "output1[:10]"
      ],
      "execution_count": null,
      "outputs": [
        {
          "output_type": "execute_result",
          "data": {
            "text/plain": [
              "['г ы м нин _ ы т л ь а т _ ы ’ т т ъ у в и _ ы н к ъ а м _ о ’ м р ы т в а а л _ ',\n",
              " ' п у у р ъ у э п ы _ г ы м нин _ о ’ м _ о ’ м р ы к в о т _ н э м ы ӄ э й _ ӄ о р а г ы н р э т ы л ь о _ н и т ӄ и н _ ',\n",
              " ' г ы м нин _ ы т л ы г ы т _ ы т л ь ’ а т э _ ӄ о н п ы _ э м н у ӈ кы _ ны м и г ч и р эт ӄ и н э т _ н э м ы ӄ э й _ ӄ о р а г ы н р э т ы л ь о _ н и т ӄ и н э т _ ',\n",
              " ' ы н к ъ а м м у р и _ г а ч а к э т т о м г а _ г э _ г э е г т э л ь м у р и _ к а в р а г ы р г ы н _ ынкъам _ г ы м _ ',\n",
              " ' ы т р ъ э ч е _ ӈ и р э ӄ _ нэнэнэ т _ в а г ъ э т _ ',\n",
              " ' ы т р ъ э ч ',\n",
              " ' к ы т у р ы н ӈ ы т э ӄ э _ м э д в э д э в _ п р э з и д э н т о _ э н м а _ к а н ч а л я н э т ы _ г э р э м к и ч и л ь и н _ ',\n",
              " ' ы н к ъ а л ю у т _ ӈ ы р ъ а _ в э р т а л ё т т э _ в а к ъ о г ъ а т ӈ а _ ',\n",
              " ' н ы н ы п ч е ӈ и в й и в ӄ и н _ к о л ё _ н ы м н ы м а _ м э д в э д э в ъ ы м _ ',\n",
              " ' г э ч е в кы _ н ы н т ы ӄин _ т а ӈ к о л ё _ ы н кы _ н ы г ы н р и т ӄин _ ']"
            ]
          },
          "metadata": {
            "tags": []
          },
          "execution_count": 25
        }
      ]
    },
    {
      "cell_type": "code",
      "metadata": {
        "colab": {
          "base_uri": "https://localhost:8080/"
        },
        "id": "lrrXpegnK0tO",
        "outputId": "54c4a8c5-a39f-44aa-d44e-8ea67ae625a4"
      },
      "source": [
        "!sed 10q < global-classroom/chukchi/data/test/test.tsv"
      ],
      "execution_count": null,
      "outputs": [
        {
          "output_type": "stream",
          "text": [
            "гымнин ытльат ы’ттъуви ынкъам о’мрытваал\tгым>нин ытльа>т ы’ттъуви ынкъам о’мрытваал>\n",
            "пууръу эпы гымнин о’м о’мрыквот нэмыӄэй ӄорагынрэтыльо нитӄин\tпууръу эпы гым>нин о’м о’мрыквот нэмыӄэй ӄора>гынрэты>ль>о н>ит>ӄин\n",
            "гымнин ытлыгыт ытль’атэ ӄонпы эмнуӈкы нымигчирэтӄинэт нэмыӄэй ӄорагынрэтыльо нитӄинэт\tгым>нин ытлыгы>т ытль’а>т>э ӄонпы эмнуӈ>кы ны>мигчир>эт>ӄинэ>т нэмыӄэй ӄора>гынрэты>ль>о нитӄинэт\n",
            "ынкъам мури гачакэттомга гэ гэегтэльмури каврагыргын ынкъам гым\tынкъам мури га>чакэт>томг>а гэ гэ>егтэль>мури каврагыргы>н ынкъам гым\n",
            "ытръэче ӈирэӄ нэнэнэт вагъэт\tытръэч>е ӈирэӄ нэнэнэ>т ва>гъэ>т\n",
            "ытръэч\tытръэч\n",
            "кытур ынӈытэӄэ мэдвэдэв прэзидэнто энма канчалянэты гэрэмкичильин\tкытур ынӈытэӄ>э мэдвэдэв прэзидэнт>о эн>ма канчалян>эты гэ>рэмкичи>льин\n",
            "ынкъа люут ӈыръа вэрталёттэ вакъогъатӈа\tынкъа люут ӈыръа вэрталёт>тэ вакъо>гъа>т>ӈа\n",
            "ныныпчеӈивйивӄин колё нымныма мэдвэдэвъым\tны>ны>пчеӈи>в>йив>ӄин колё нымным>а мэдвэдэв>>ъым\n",
            "гэчевкы нынтыӄин таӈколё ынкы ныгынритӄин\tгэчев>кы ны>нты>ӄин таӈ>колё ын>кы ны>гынрит>ӄин\n"
          ],
          "name": "stdout"
        }
      ]
    },
    {
      "cell_type": "code",
      "metadata": {
        "id": "0VZtxIBNIKeA"
      },
      "source": [
        "with open(\"global-classroom/chukchi/data/test/test.tsv\") as inp:\n",
        "  for line in inp.readlines():\n",
        "    words, morphs = line.strip('\\n').split('\\t')\n",
        "    dev_test.append(words)\n",
        "  dev_test.append('\\n')\n",
        "with open('lstm_restricted_test_output.tsv', 'w') as out_file:\n",
        "    tsv_writer = csv.writer(out_file, delimiter='\\t')\n",
        "    tsv_writer.writerows(zip(dev_test, output1))"
      ],
      "execution_count": null,
      "outputs": []
    },
    {
      "cell_type": "code",
      "metadata": {
        "colab": {
          "base_uri": "https://localhost:8080/"
        },
        "id": "JNI_wjt6_YHe",
        "outputId": "e0af3de5-e0e7-48f3-aa28-b029dc9fe188"
      },
      "source": [
        "acc"
      ],
      "execution_count": null,
      "outputs": [
        {
          "output_type": "execute_result",
          "data": {
            "text/plain": [
              "0.1302987738364059"
            ]
          },
          "metadata": {
            "tags": []
          },
          "execution_count": 28
        }
      ]
    },
    {
      "cell_type": "code",
      "metadata": {
        "colab": {
          "base_uri": "https://localhost:8080/"
        },
        "id": "7u-WHrm_LPkh",
        "outputId": "0fca59eb-e78f-4c60-b5ad-ca5f10ebfd81"
      },
      "source": [
        "!sed 10q < lstm_restricted_test_output.tsv"
      ],
      "execution_count": null,
      "outputs": [
        {
          "output_type": "stream",
          "text": [
            "гымнин ытльат ы’ттъуви ынкъам о’мрытваал\tг ы м нин _ ы т л ь а т _ ы ’ т т ъ у в и _ ы н к ъ а м _ о ’ м р ы т в а а л _ \r\n",
            "пууръу эпы гымнин о’м о’мрыквот нэмыӄэй ӄорагынрэтыльо нитӄин\t п у у р ъ у э п ы _ г ы м нин _ о ’ м _ о ’ м р ы к в о т _ н э м ы ӄ э й _ ӄ о р а г ы н р э т ы л ь о _ н и т ӄ и н _ \r\n",
            "гымнин ытлыгыт ытль’атэ ӄонпы эмнуӈкы нымигчирэтӄинэт нэмыӄэй ӄорагынрэтыльо нитӄинэт\t г ы м нин _ ы т л ы г ы т _ ы т л ь ’ а т э _ ӄ о н п ы _ э м н у ӈ кы _ ны м и г ч и р эт ӄ и н э т _ н э м ы ӄ э й _ ӄ о р а г ы н р э т ы л ь о _ н и т ӄ и н э т _ \r\n",
            "ынкъам мури гачакэттомга гэ гэегтэльмури каврагыргын ынкъам гым\t ы н к ъ а м м у р и _ г а ч а к э т т о м г а _ г э _ г э е г т э л ь м у р и _ к а в р а г ы р г ы н _ ынкъам _ г ы м _ \r\n",
            "ытръэче ӈирэӄ нэнэнэт вагъэт\t ы т р ъ э ч е _ ӈ и р э ӄ _ нэнэнэ т _ в а г ъ э т _ \r\n",
            "ытръэч\t ы т р ъ э ч \r\n",
            "кытур ынӈытэӄэ мэдвэдэв прэзидэнто энма канчалянэты гэрэмкичильин\t к ы т у р ы н ӈ ы т э ӄ э _ м э д в э д э в _ п р э з и д э н т о _ э н м а _ к а н ч а л я н э т ы _ г э р э м к и ч и л ь и н _ \r\n",
            "ынкъа люут ӈыръа вэрталёттэ вакъогъатӈа\t ы н к ъ а л ю у т _ ӈ ы р ъ а _ в э р т а л ё т т э _ в а к ъ о г ъ а т ӈ а _ \r\n",
            "ныныпчеӈивйивӄин колё нымныма мэдвэдэвъым\t н ы н ы п ч е ӈ и в й и в ӄ и н _ к о л ё _ н ы м н ы м а _ м э д в э д э в ъ ы м _ \r\n",
            "гэчевкы нынтыӄин таӈколё ынкы ныгынритӄин\t г э ч е в кы _ н ы н т ы ӄин _ т а ӈ к о л ё _ ы н кы _ н ы г ы н р и т ӄин _ \r\n"
          ],
          "name": "stdout"
        }
      ]
    },
    {
      "cell_type": "code",
      "metadata": {
        "colab": {
          "base_uri": "https://localhost:8080/"
        },
        "id": "qclX69nDMbvg",
        "outputId": "ba979989-d319-49ba-dc9c-0aea5212df4b"
      },
      "source": [
        "!sed 10q < global-classroom/chukchi/baseline/output_test.tsv"
      ],
      "execution_count": null,
      "outputs": [
        {
          "output_type": "stream",
          "text": [
            "гымнин ытльат ы’ттъуви ынкъам о’мрытваал\tг ы м н и н _ ы т л ь а т _ ы ’ т т ъ у в и _ ынкъам _ о ’ м р ы т в а а л _\n",
            "пууръу эпы гымнин о’м о’мрыквот нэмыӄэй ӄорагынрэтыльо нитӄин\tп у у р ъ у _ э п ы _ г ы м н и н _ о ’ м _ о ’ м р ы к в о т _ н э м ы ӄ э й _ ӄ о р а г ы н р э т ы л ь о _ н и т ӄ и н _\n",
            "гымнин ытлыгыт ытль’атэ ӄонпы эмнуӈкы нымигчирэтӄинэт нэмыӄэй ӄорагынрэтыльо нитӄинэт\tг ы м н и н _ ы т л ы г ы т _ ы т л ь ’ а т э _ ӄ о н п ы _ э м н у ӈ к ы _ н ы м и г ч и р э т ӄ и н э т _ н э м ы ӄ э й _ ӄ о р а г ы н р э т ы л ь о _ н и т ӄ и н э т _\n",
            "ынкъам мури гачакэттомга гэ гэегтэльмури каврагыргын ынкъам гым\tынкъам _ м у р и _ г а ч а к э т т о м г а _ г э _ г э е г т э л ь м у р и _ к а в р а г ы р г ы н _ ынкъам _ г ы м _\n",
            "ытръэче ӈирэӄ нэнэнэт вагъэт\tы т р ъ э ч е _ ӈ и р э ӄ _ н э н э н э т _ в а г ъ э т _\n",
            "ытръэч\tы т р ъ э ч _\n",
            "кытур ынӈытэӄэ мэдвэдэв прэзидэнто энма канчалянэты гэрэмкичильин\tк ы т у р _ ы н ӈ ы т э ӄ э _ м э д в э д э в _ п р э з и д э н т о _ э н м а _ к а н ч а л я н э т ы _ г э р э м к и ч и л ь и н _\n",
            "ынкъа люут ӈыръа вэрталёттэ вакъогъатӈа\tы н к ъ а _ л ю у т _ ӈ ы р ъ а _ в э р т а л ё т т э _ в а к ъ о г ъ а т ӈ а _\n",
            "ныныпчеӈивйивӄин колё нымныма мэдвэдэвъым\tн ы н ы п ч е ӈ и в й и в ӄ и н _ к о л ё _ н ы м н ы м а _ м э д в э д э в ъ ы м _\n",
            "гэчевкы нынтыӄин таӈколё ынкы ныгынритӄин\tг э ч е в к ы _ н ы н т ы ӄ и н _ т а ӈ к о л ё _ ы н к ы _ н ы г ы н р и т ӄ и н _\n"
          ],
          "name": "stdout"
        }
      ]
    },
    {
      "cell_type": "code",
      "metadata": {
        "colab": {
          "base_uri": "https://localhost:8080/"
        },
        "id": "7hrH3naWMiXA",
        "outputId": "b0acb972-1f28-4953-f178-9e9c18983535"
      },
      "source": [
        "os.listdir()"
      ],
      "execution_count": null,
      "outputs": [
        {
          "output_type": "execute_result",
          "data": {
            "text/plain": [
              "['global-classroom',\n",
              " 'lstm_morph_model',\n",
              " 'lstm_morph_model_freq_restricted',\n",
              " 'cnn_embed_morph_model',\n",
              " 'output1.tsv',\n",
              " 'dev_output1.tsv',\n",
              " 'cnn_token_morph_model',\n",
              " 'output_test_lstm.tsv',\n",
              " 'output_dev_lstm.tsv',\n",
              " 'lstm_restricted_test_output.tsv']"
            ]
          },
          "metadata": {
            "tags": []
          },
          "execution_count": 31
        }
      ]
    },
    {
      "cell_type": "code",
      "metadata": {
        "colab": {
          "base_uri": "https://localhost:8080/"
        },
        "id": "3hWwldQnczjC",
        "outputId": "dd0e682f-104b-4940-b42a-e725371e1a68"
      },
      "source": [
        "!python3 global-classroom/chukchi/evaluate.py global-classroom/chukchi/data/test/test.tsv lstm_restricted_test_output.tsv "
      ],
      "execution_count": null,
      "outputs": [
        {
          "output_type": "stream",
          "text": [
            "Characters: 37927\n",
            "Tokens: 8374\n",
            "Clicks: 37265\n",
            "Clicks/Token: 4.450083592070695\n",
            "Clicks/Character: 0.9825454161942679\n"
          ],
          "name": "stdout"
        }
      ]
    },
    {
      "cell_type": "markdown",
      "metadata": {
        "id": "gcfZ-lbLwzg0"
      },
      "source": [
        "### Scoring on dev set"
      ]
    },
    {
      "cell_type": "code",
      "metadata": {
        "colab": {
          "base_uri": "https://localhost:8080/",
          "height": 117,
          "referenced_widgets": [
            "49c9a119fd0a4e0293bc3aaea6487293",
            "1e4a0f62106f4473adf82d66ea06d97b",
            "5c42c7e289994f4fb34976228f8841b1",
            "7cb378677b0745bdb36317d16faadf19",
            "20de79e9619b4980aceeefc6a7d7c5c4",
            "f042dc9c21bb4d6685fe7289a729c90e",
            "4ff95ee7330b4700b864ab4df86a1a65",
            "93b2f0ee701b47b7a1fc31c7a3acadac"
          ]
        },
        "id": "aA5-IzA3w2Th",
        "outputId": "fc2c5964-04ac-4a94-8d18-793c5160755a"
      },
      "source": [
        "## count accuracy\n",
        "dev_acc = 0\n",
        "output = []\n",
        "dev_test = []\n",
        "for sent in tqdm_notebook(dev_morph_sentences, total=len(dev_morph_sentences)):\n",
        "  sent_acc = 0\n",
        "  for i in range(len(sent)):\n",
        "    feed = sent[:i]\n",
        "    predicted = predictor.predict(feed)\n",
        "    if predicted == sent[i]:\n",
        " #     if predicted == '<eos>':\n",
        " #       continue\n",
        " #     sent_acc += 1\n",
        " #     else:\n",
        "      output.append(predicted)\n",
        "      sent_acc += 1\n",
        "    else:\n",
        "      output += [c for c in sent[i]]\n",
        "    if i!=0:\n",
        "      if i == len(sent)-1:\n",
        "        output.append('_')\n",
        "      elif not sent[i+1].startswith('>'):\n",
        "        output.append('_')\n",
        "  output.append('\\n')\n",
        "  dev_acc += sent_acc/len(sent)\n",
        "dev_acc = dev_acc/len(dev_morph_sentences)\n",
        "listToStr = ' '.join(map(str, output)).replace('>',' ')\n",
        "listToStr = re.sub(' +', ' ', listToStr)"
      ],
      "execution_count": null,
      "outputs": [
        {
          "output_type": "stream",
          "text": [
            "/usr/local/lib/python3.7/dist-packages/ipykernel_launcher.py:5: TqdmDeprecationWarning: This function will be removed in tqdm==5.0.0\n",
            "Please use `tqdm.notebook.tqdm` instead of `tqdm.tqdm_notebook`\n",
            "  \"\"\"\n"
          ],
          "name": "stderr"
        },
        {
          "output_type": "display_data",
          "data": {
            "application/vnd.jupyter.widget-view+json": {
              "model_id": "49c9a119fd0a4e0293bc3aaea6487293",
              "version_minor": 0,
              "version_major": 2
            },
            "text/plain": [
              "HBox(children=(FloatProgress(value=0.0, max=1000.0), HTML(value='')))"
            ]
          },
          "metadata": {
            "tags": []
          }
        },
        {
          "output_type": "stream",
          "text": [
            "\n"
          ],
          "name": "stdout"
        }
      ]
    },
    {
      "cell_type": "code",
      "metadata": {
        "id": "5C0qlccQyK3d"
      },
      "source": [
        "output1 = list(listToStr.split('\\n'))"
      ],
      "execution_count": null,
      "outputs": []
    },
    {
      "cell_type": "code",
      "metadata": {
        "colab": {
          "base_uri": "https://localhost:8080/"
        },
        "id": "G3hWWwZ3xPV3",
        "outputId": "fe42f920-8b6e-4f63-e4c5-f6ae07c9a9b9"
      },
      "source": [
        "dev_acc"
      ],
      "execution_count": null,
      "outputs": [
        {
          "output_type": "execute_result",
          "data": {
            "text/plain": [
              "0.2697600744928495"
            ]
          },
          "metadata": {
            "tags": []
          },
          "execution_count": 35
        }
      ]
    },
    {
      "cell_type": "code",
      "metadata": {
        "id": "43waeaxjxw6y"
      },
      "source": [
        "## write output.tsv\n",
        "\n",
        "#print(output1)\n",
        "with open(\"global-classroom/chukchi/data/dev.tsv\") as inp:\n",
        "  for line in inp.readlines():\n",
        "    words, morphs = line.strip('\\n').split('\\t')\n",
        "    dev_test.append(words)\n",
        "  dev_test.append('\\n')\n",
        "import csv\n",
        "with open('lstm_restricted_dev_output.tsv', 'w') as out_file:\n",
        "    tsv_writer = csv.writer(out_file, delimiter='\\t')\n",
        "    tsv_writer.writerows(zip(dev_test, output1))"
      ],
      "execution_count": null,
      "outputs": []
    },
    {
      "cell_type": "code",
      "metadata": {
        "colab": {
          "base_uri": "https://localhost:8080/"
        },
        "id": "9OU3k4Fyx6Yg",
        "outputId": "495e16e1-d432-48cc-a2a4-8a38b05ad412"
      },
      "source": [
        "!sed 10q < lstm_restricted_dev_output.tsv"
      ],
      "execution_count": null,
      "outputs": [
        {
          "output_type": "stream",
          "text": [
            "ӄԓявыԓя риӄукэтэ ивнин ытри ынкы варкыт гынин ӈэвъэн гэԓгыԓин мэмыԓя рагтыгъэ\tӄ ԓ я в ы ԓ я _ р и ӄ у к э тэ _ ив ни н _ ы т р и _ ы н кы _ в а р к ы т _ г ы н ин _ ӈ э в ъ э н _ г э ԓ г ы ԓин _ м э м ы ԓ я _ р а гты гъэ _ \r\n",
            "ӄԓявыԓ ынкъам купрэн ынанъомрычьын\t ӄ ԓ я в ы ԓ ы н к ъ а м _ к у п р э н _ ы н а н ъ о м р ы ч ь ы н _ \r\n",
            "рытэнмавнэн ынӄо эргатык эквэтгъэт копрантыватысӄэквъат\t р ы т э нм ав н э н _ ы н ӄ о _ э р г атык _ э к в э т г ъ э т _ к о п р а н т ы в а т ы с ӄ э к в ъ а т _ \r\n",
            "риӄукэтэ гамгаваны нэнайӈоткоӄэн ӄоԓ\t р и ӄ у к э т э _ г а м г а в а н ы _ н эна й ӈ о т к о ӄ э н _ ӄ о ԓ _ \r\n",
            "ԓьунин ынӄо йыӈотконэн\t ԓ ь у ни н _ ы н ӄ о _ й ы ӈ о тко н э н _ \r\n",
            " эвын коԓё\t эвын _ к о ԓ ё _ \r\n",
            "тыкгаткэта ивнин риӄукэтэ\t т ы к г а т к э т а _ ив ни н _ р и ӄ у к э тэ _ \r\n",
            "йыӈотконэн эвын коԓё\t й ы ӈ о тко н э н _ э в ы н _ к о ԓ ё _ \r\n",
            "тыкгаткэта\t т ы к г а т к э т а _ \r\n",
            "ивнин риӄукэтэ ынкы\t и в ни н _ р и ӄ у к э тэ _ ы н кы _ \r\n"
          ],
          "name": "stdout"
        }
      ]
    },
    {
      "cell_type": "code",
      "metadata": {
        "colab": {
          "base_uri": "https://localhost:8080/"
        },
        "id": "pjDvXBGqydMh",
        "outputId": "df6a4659-36a7-42c3-8131-d94177f6228c"
      },
      "source": [
        "!python3 global-classroom/chukchi/evaluate.py global-classroom/chukchi/data/dev.tsv lstm_restricted_dev_output.tsv "
      ],
      "execution_count": null,
      "outputs": [
        {
          "output_type": "stream",
          "text": [
            "Characters: 37897\n",
            "Tokens: 8788\n",
            "Clicks: 35535\n",
            "Clicks/Token: 4.043582157487483\n",
            "Clicks/Character: 0.9376731667414308\n"
          ],
          "name": "stdout"
        }
      ]
    }
  ]
}