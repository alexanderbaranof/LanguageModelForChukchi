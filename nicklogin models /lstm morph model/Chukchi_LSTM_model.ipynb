{
  "nbformat": 4,
  "nbformat_minor": 0,
  "metadata": {
    "colab": {
      "name": "Chukchi LSTM model BOS but no EOS Full Training Set",
      "provenance": [],
      "collapsed_sections": []
    },
    "kernelspec": {
      "name": "python3",
      "display_name": "Python 3"
    },
    "accelerator": "GPU",
    "widgets": {
      "application/vnd.jupyter.widget-state+json": {
        "97167efc9e6749bbb2a2d99c41c0aacf": {
          "model_module": "@jupyter-widgets/controls",
          "model_name": "HBoxModel",
          "state": {
            "_view_name": "HBoxView",
            "_dom_classes": [],
            "_model_name": "HBoxModel",
            "_view_module": "@jupyter-widgets/controls",
            "_model_module_version": "1.5.0",
            "_view_count": null,
            "_view_module_version": "1.5.0",
            "box_style": "",
            "layout": "IPY_MODEL_4b6442e33a4e4e06bec14c83cd698ad8",
            "_model_module": "@jupyter-widgets/controls",
            "children": [
              "IPY_MODEL_8e06e62905ab46b382c88a633b6ef32b",
              "IPY_MODEL_f44c8d34fd36442aa28479edf2ad7ff7"
            ]
          }
        },
        "4b6442e33a4e4e06bec14c83cd698ad8": {
          "model_module": "@jupyter-widgets/base",
          "model_name": "LayoutModel",
          "state": {
            "_view_name": "LayoutView",
            "grid_template_rows": null,
            "right": null,
            "justify_content": null,
            "_view_module": "@jupyter-widgets/base",
            "overflow": null,
            "_model_module_version": "1.2.0",
            "_view_count": null,
            "flex_flow": null,
            "width": null,
            "min_width": null,
            "border": null,
            "align_items": null,
            "bottom": null,
            "_model_module": "@jupyter-widgets/base",
            "top": null,
            "grid_column": null,
            "overflow_y": null,
            "overflow_x": null,
            "grid_auto_flow": null,
            "grid_area": null,
            "grid_template_columns": null,
            "flex": null,
            "_model_name": "LayoutModel",
            "justify_items": null,
            "grid_row": null,
            "max_height": null,
            "align_content": null,
            "visibility": null,
            "align_self": null,
            "height": null,
            "min_height": null,
            "padding": null,
            "grid_auto_rows": null,
            "grid_gap": null,
            "max_width": null,
            "order": null,
            "_view_module_version": "1.2.0",
            "grid_template_areas": null,
            "object_position": null,
            "object_fit": null,
            "grid_auto_columns": null,
            "margin": null,
            "display": null,
            "left": null
          }
        },
        "8e06e62905ab46b382c88a633b6ef32b": {
          "model_module": "@jupyter-widgets/controls",
          "model_name": "FloatProgressModel",
          "state": {
            "_view_name": "ProgressView",
            "style": "IPY_MODEL_b8f58d335755409a83634f6126a74ce6",
            "_dom_classes": [],
            "description": "epoch 0: 100%",
            "_model_name": "FloatProgressModel",
            "bar_style": "success",
            "max": 3895,
            "_view_module": "@jupyter-widgets/controls",
            "_model_module_version": "1.5.0",
            "value": 3895,
            "_view_count": null,
            "_view_module_version": "1.5.0",
            "orientation": "horizontal",
            "min": 0,
            "description_tooltip": null,
            "_model_module": "@jupyter-widgets/controls",
            "layout": "IPY_MODEL_ebd9b7b6d187406f98918b6c404c66de"
          }
        },
        "f44c8d34fd36442aa28479edf2ad7ff7": {
          "model_module": "@jupyter-widgets/controls",
          "model_name": "HTMLModel",
          "state": {
            "_view_name": "HTMLView",
            "style": "IPY_MODEL_3318dd17d78d4499a2fadac70566d9da",
            "_dom_classes": [],
            "description": "",
            "_model_name": "HTMLModel",
            "placeholder": "​",
            "_view_module": "@jupyter-widgets/controls",
            "_model_module_version": "1.5.0",
            "value": " 3895/3895 [1:03:08&lt;00:00,  1.03it/s, acc=0.47708, f1=0.47708, loss=1.65969]",
            "_view_count": null,
            "_view_module_version": "1.5.0",
            "description_tooltip": null,
            "_model_module": "@jupyter-widgets/controls",
            "layout": "IPY_MODEL_7718edae5b114806b6c8e3d4c36c6c75"
          }
        },
        "b8f58d335755409a83634f6126a74ce6": {
          "model_module": "@jupyter-widgets/controls",
          "model_name": "ProgressStyleModel",
          "state": {
            "_view_name": "StyleView",
            "_model_name": "ProgressStyleModel",
            "description_width": "initial",
            "_view_module": "@jupyter-widgets/base",
            "_model_module_version": "1.5.0",
            "_view_count": null,
            "_view_module_version": "1.2.0",
            "bar_color": null,
            "_model_module": "@jupyter-widgets/controls"
          }
        },
        "ebd9b7b6d187406f98918b6c404c66de": {
          "model_module": "@jupyter-widgets/base",
          "model_name": "LayoutModel",
          "state": {
            "_view_name": "LayoutView",
            "grid_template_rows": null,
            "right": null,
            "justify_content": null,
            "_view_module": "@jupyter-widgets/base",
            "overflow": null,
            "_model_module_version": "1.2.0",
            "_view_count": null,
            "flex_flow": null,
            "width": null,
            "min_width": null,
            "border": null,
            "align_items": null,
            "bottom": null,
            "_model_module": "@jupyter-widgets/base",
            "top": null,
            "grid_column": null,
            "overflow_y": null,
            "overflow_x": null,
            "grid_auto_flow": null,
            "grid_area": null,
            "grid_template_columns": null,
            "flex": null,
            "_model_name": "LayoutModel",
            "justify_items": null,
            "grid_row": null,
            "max_height": null,
            "align_content": null,
            "visibility": null,
            "align_self": null,
            "height": null,
            "min_height": null,
            "padding": null,
            "grid_auto_rows": null,
            "grid_gap": null,
            "max_width": null,
            "order": null,
            "_view_module_version": "1.2.0",
            "grid_template_areas": null,
            "object_position": null,
            "object_fit": null,
            "grid_auto_columns": null,
            "margin": null,
            "display": null,
            "left": null
          }
        },
        "3318dd17d78d4499a2fadac70566d9da": {
          "model_module": "@jupyter-widgets/controls",
          "model_name": "DescriptionStyleModel",
          "state": {
            "_view_name": "StyleView",
            "_model_name": "DescriptionStyleModel",
            "description_width": "",
            "_view_module": "@jupyter-widgets/base",
            "_model_module_version": "1.5.0",
            "_view_count": null,
            "_view_module_version": "1.2.0",
            "_model_module": "@jupyter-widgets/controls"
          }
        },
        "7718edae5b114806b6c8e3d4c36c6c75": {
          "model_module": "@jupyter-widgets/base",
          "model_name": "LayoutModel",
          "state": {
            "_view_name": "LayoutView",
            "grid_template_rows": null,
            "right": null,
            "justify_content": null,
            "_view_module": "@jupyter-widgets/base",
            "overflow": null,
            "_model_module_version": "1.2.0",
            "_view_count": null,
            "flex_flow": null,
            "width": null,
            "min_width": null,
            "border": null,
            "align_items": null,
            "bottom": null,
            "_model_module": "@jupyter-widgets/base",
            "top": null,
            "grid_column": null,
            "overflow_y": null,
            "overflow_x": null,
            "grid_auto_flow": null,
            "grid_area": null,
            "grid_template_columns": null,
            "flex": null,
            "_model_name": "LayoutModel",
            "justify_items": null,
            "grid_row": null,
            "max_height": null,
            "align_content": null,
            "visibility": null,
            "align_self": null,
            "height": null,
            "min_height": null,
            "padding": null,
            "grid_auto_rows": null,
            "grid_gap": null,
            "max_width": null,
            "order": null,
            "_view_module_version": "1.2.0",
            "grid_template_areas": null,
            "object_position": null,
            "object_fit": null,
            "grid_auto_columns": null,
            "margin": null,
            "display": null,
            "left": null
          }
        },
        "94e9435d44c541d8b73ce2baf05a6767": {
          "model_module": "@jupyter-widgets/controls",
          "model_name": "HBoxModel",
          "state": {
            "_view_name": "HBoxView",
            "_dom_classes": [],
            "_model_name": "HBoxModel",
            "_view_module": "@jupyter-widgets/controls",
            "_model_module_version": "1.5.0",
            "_view_count": null,
            "_view_module_version": "1.5.0",
            "box_style": "",
            "layout": "IPY_MODEL_90463b0bd0624db5a90ab0d656b0bac0",
            "_model_module": "@jupyter-widgets/controls",
            "children": [
              "IPY_MODEL_e571bc55850a4bcd9782f50f62ad06ea",
              "IPY_MODEL_9d610bb76d254d7392a65d526e8cc5f0"
            ]
          }
        },
        "90463b0bd0624db5a90ab0d656b0bac0": {
          "model_module": "@jupyter-widgets/base",
          "model_name": "LayoutModel",
          "state": {
            "_view_name": "LayoutView",
            "grid_template_rows": null,
            "right": null,
            "justify_content": null,
            "_view_module": "@jupyter-widgets/base",
            "overflow": null,
            "_model_module_version": "1.2.0",
            "_view_count": null,
            "flex_flow": null,
            "width": null,
            "min_width": null,
            "border": null,
            "align_items": null,
            "bottom": null,
            "_model_module": "@jupyter-widgets/base",
            "top": null,
            "grid_column": null,
            "overflow_y": null,
            "overflow_x": null,
            "grid_auto_flow": null,
            "grid_area": null,
            "grid_template_columns": null,
            "flex": null,
            "_model_name": "LayoutModel",
            "justify_items": null,
            "grid_row": null,
            "max_height": null,
            "align_content": null,
            "visibility": null,
            "align_self": null,
            "height": null,
            "min_height": null,
            "padding": null,
            "grid_auto_rows": null,
            "grid_gap": null,
            "max_width": null,
            "order": null,
            "_view_module_version": "1.2.0",
            "grid_template_areas": null,
            "object_position": null,
            "object_fit": null,
            "grid_auto_columns": null,
            "margin": null,
            "display": null,
            "left": null
          }
        },
        "e571bc55850a4bcd9782f50f62ad06ea": {
          "model_module": "@jupyter-widgets/controls",
          "model_name": "FloatProgressModel",
          "state": {
            "_view_name": "ProgressView",
            "style": "IPY_MODEL_0597c6959f754dafbc951f11810b431f",
            "_dom_classes": [],
            "description": "epoch 1: 100%",
            "_model_name": "FloatProgressModel",
            "bar_style": "success",
            "max": 3895,
            "_view_module": "@jupyter-widgets/controls",
            "_model_module_version": "1.5.0",
            "value": 3895,
            "_view_count": null,
            "_view_module_version": "1.5.0",
            "orientation": "horizontal",
            "min": 0,
            "description_tooltip": null,
            "_model_module": "@jupyter-widgets/controls",
            "layout": "IPY_MODEL_0a3f20a786d54576b3f566c23d4fdc8c"
          }
        },
        "9d610bb76d254d7392a65d526e8cc5f0": {
          "model_module": "@jupyter-widgets/controls",
          "model_name": "HTMLModel",
          "state": {
            "_view_name": "HTMLView",
            "style": "IPY_MODEL_e460823fa76646edb4f88d5d93339fbe",
            "_dom_classes": [],
            "description": "",
            "_model_name": "HTMLModel",
            "placeholder": "​",
            "_view_module": "@jupyter-widgets/controls",
            "_model_module_version": "1.5.0",
            "value": " 3895/3895 [09:45&lt;00:00,  6.65it/s, acc=0.51875, f1=0.51875, loss=1.01869]",
            "_view_count": null,
            "_view_module_version": "1.5.0",
            "description_tooltip": null,
            "_model_module": "@jupyter-widgets/controls",
            "layout": "IPY_MODEL_299dc7b6de3e4b519a16c48995a73c04"
          }
        },
        "0597c6959f754dafbc951f11810b431f": {
          "model_module": "@jupyter-widgets/controls",
          "model_name": "ProgressStyleModel",
          "state": {
            "_view_name": "StyleView",
            "_model_name": "ProgressStyleModel",
            "description_width": "initial",
            "_view_module": "@jupyter-widgets/base",
            "_model_module_version": "1.5.0",
            "_view_count": null,
            "_view_module_version": "1.2.0",
            "bar_color": null,
            "_model_module": "@jupyter-widgets/controls"
          }
        },
        "0a3f20a786d54576b3f566c23d4fdc8c": {
          "model_module": "@jupyter-widgets/base",
          "model_name": "LayoutModel",
          "state": {
            "_view_name": "LayoutView",
            "grid_template_rows": null,
            "right": null,
            "justify_content": null,
            "_view_module": "@jupyter-widgets/base",
            "overflow": null,
            "_model_module_version": "1.2.0",
            "_view_count": null,
            "flex_flow": null,
            "width": null,
            "min_width": null,
            "border": null,
            "align_items": null,
            "bottom": null,
            "_model_module": "@jupyter-widgets/base",
            "top": null,
            "grid_column": null,
            "overflow_y": null,
            "overflow_x": null,
            "grid_auto_flow": null,
            "grid_area": null,
            "grid_template_columns": null,
            "flex": null,
            "_model_name": "LayoutModel",
            "justify_items": null,
            "grid_row": null,
            "max_height": null,
            "align_content": null,
            "visibility": null,
            "align_self": null,
            "height": null,
            "min_height": null,
            "padding": null,
            "grid_auto_rows": null,
            "grid_gap": null,
            "max_width": null,
            "order": null,
            "_view_module_version": "1.2.0",
            "grid_template_areas": null,
            "object_position": null,
            "object_fit": null,
            "grid_auto_columns": null,
            "margin": null,
            "display": null,
            "left": null
          }
        },
        "e460823fa76646edb4f88d5d93339fbe": {
          "model_module": "@jupyter-widgets/controls",
          "model_name": "DescriptionStyleModel",
          "state": {
            "_view_name": "StyleView",
            "_model_name": "DescriptionStyleModel",
            "description_width": "",
            "_view_module": "@jupyter-widgets/base",
            "_model_module_version": "1.5.0",
            "_view_count": null,
            "_view_module_version": "1.2.0",
            "_model_module": "@jupyter-widgets/controls"
          }
        },
        "299dc7b6de3e4b519a16c48995a73c04": {
          "model_module": "@jupyter-widgets/base",
          "model_name": "LayoutModel",
          "state": {
            "_view_name": "LayoutView",
            "grid_template_rows": null,
            "right": null,
            "justify_content": null,
            "_view_module": "@jupyter-widgets/base",
            "overflow": null,
            "_model_module_version": "1.2.0",
            "_view_count": null,
            "flex_flow": null,
            "width": null,
            "min_width": null,
            "border": null,
            "align_items": null,
            "bottom": null,
            "_model_module": "@jupyter-widgets/base",
            "top": null,
            "grid_column": null,
            "overflow_y": null,
            "overflow_x": null,
            "grid_auto_flow": null,
            "grid_area": null,
            "grid_template_columns": null,
            "flex": null,
            "_model_name": "LayoutModel",
            "justify_items": null,
            "grid_row": null,
            "max_height": null,
            "align_content": null,
            "visibility": null,
            "align_self": null,
            "height": null,
            "min_height": null,
            "padding": null,
            "grid_auto_rows": null,
            "grid_gap": null,
            "max_width": null,
            "order": null,
            "_view_module_version": "1.2.0",
            "grid_template_areas": null,
            "object_position": null,
            "object_fit": null,
            "grid_auto_columns": null,
            "margin": null,
            "display": null,
            "left": null
          }
        },
        "3b77a3de1bd34bd7b09c4813e4187fcd": {
          "model_module": "@jupyter-widgets/controls",
          "model_name": "HBoxModel",
          "state": {
            "_view_name": "HBoxView",
            "_dom_classes": [],
            "_model_name": "HBoxModel",
            "_view_module": "@jupyter-widgets/controls",
            "_model_module_version": "1.5.0",
            "_view_count": null,
            "_view_module_version": "1.5.0",
            "box_style": "",
            "layout": "IPY_MODEL_1390db7bde6d4f82916551ae1ac924dd",
            "_model_module": "@jupyter-widgets/controls",
            "children": [
              "IPY_MODEL_66e9e6aeb13845d7a6bf836896e95f85",
              "IPY_MODEL_bec4e7d1101c47deb4bba00e7bbeda25"
            ]
          }
        },
        "1390db7bde6d4f82916551ae1ac924dd": {
          "model_module": "@jupyter-widgets/base",
          "model_name": "LayoutModel",
          "state": {
            "_view_name": "LayoutView",
            "grid_template_rows": null,
            "right": null,
            "justify_content": null,
            "_view_module": "@jupyter-widgets/base",
            "overflow": null,
            "_model_module_version": "1.2.0",
            "_view_count": null,
            "flex_flow": null,
            "width": null,
            "min_width": null,
            "border": null,
            "align_items": null,
            "bottom": null,
            "_model_module": "@jupyter-widgets/base",
            "top": null,
            "grid_column": null,
            "overflow_y": null,
            "overflow_x": null,
            "grid_auto_flow": null,
            "grid_area": null,
            "grid_template_columns": null,
            "flex": null,
            "_model_name": "LayoutModel",
            "justify_items": null,
            "grid_row": null,
            "max_height": null,
            "align_content": null,
            "visibility": null,
            "align_self": null,
            "height": null,
            "min_height": null,
            "padding": null,
            "grid_auto_rows": null,
            "grid_gap": null,
            "max_width": null,
            "order": null,
            "_view_module_version": "1.2.0",
            "grid_template_areas": null,
            "object_position": null,
            "object_fit": null,
            "grid_auto_columns": null,
            "margin": null,
            "display": null,
            "left": null
          }
        },
        "66e9e6aeb13845d7a6bf836896e95f85": {
          "model_module": "@jupyter-widgets/controls",
          "model_name": "FloatProgressModel",
          "state": {
            "_view_name": "ProgressView",
            "style": "IPY_MODEL_9096189aec53433394a2939bcdb16052",
            "_dom_classes": [],
            "description": "epoch 2: 100%",
            "_model_name": "FloatProgressModel",
            "bar_style": "success",
            "max": 3895,
            "_view_module": "@jupyter-widgets/controls",
            "_model_module_version": "1.5.0",
            "value": 3895,
            "_view_count": null,
            "_view_module_version": "1.5.0",
            "orientation": "horizontal",
            "min": 0,
            "description_tooltip": null,
            "_model_module": "@jupyter-widgets/controls",
            "layout": "IPY_MODEL_d143f6b1f2d34ac8b0b8923ca8b9283b"
          }
        },
        "bec4e7d1101c47deb4bba00e7bbeda25": {
          "model_module": "@jupyter-widgets/controls",
          "model_name": "HTMLModel",
          "state": {
            "_view_name": "HTMLView",
            "style": "IPY_MODEL_dfd890c34ab046778e4c1a1bb088305a",
            "_dom_classes": [],
            "description": "",
            "_model_name": "HTMLModel",
            "placeholder": "​",
            "_view_module": "@jupyter-widgets/controls",
            "_model_module_version": "1.5.0",
            "value": " 3895/3895 [05:01&lt;00:00, 12.94it/s, acc=0.51875, f1=0.51875, loss=0.83653]",
            "_view_count": null,
            "_view_module_version": "1.5.0",
            "description_tooltip": null,
            "_model_module": "@jupyter-widgets/controls",
            "layout": "IPY_MODEL_7da117ba1fa94127bd708a91a6a30a58"
          }
        },
        "9096189aec53433394a2939bcdb16052": {
          "model_module": "@jupyter-widgets/controls",
          "model_name": "ProgressStyleModel",
          "state": {
            "_view_name": "StyleView",
            "_model_name": "ProgressStyleModel",
            "description_width": "initial",
            "_view_module": "@jupyter-widgets/base",
            "_model_module_version": "1.5.0",
            "_view_count": null,
            "_view_module_version": "1.2.0",
            "bar_color": null,
            "_model_module": "@jupyter-widgets/controls"
          }
        },
        "d143f6b1f2d34ac8b0b8923ca8b9283b": {
          "model_module": "@jupyter-widgets/base",
          "model_name": "LayoutModel",
          "state": {
            "_view_name": "LayoutView",
            "grid_template_rows": null,
            "right": null,
            "justify_content": null,
            "_view_module": "@jupyter-widgets/base",
            "overflow": null,
            "_model_module_version": "1.2.0",
            "_view_count": null,
            "flex_flow": null,
            "width": null,
            "min_width": null,
            "border": null,
            "align_items": null,
            "bottom": null,
            "_model_module": "@jupyter-widgets/base",
            "top": null,
            "grid_column": null,
            "overflow_y": null,
            "overflow_x": null,
            "grid_auto_flow": null,
            "grid_area": null,
            "grid_template_columns": null,
            "flex": null,
            "_model_name": "LayoutModel",
            "justify_items": null,
            "grid_row": null,
            "max_height": null,
            "align_content": null,
            "visibility": null,
            "align_self": null,
            "height": null,
            "min_height": null,
            "padding": null,
            "grid_auto_rows": null,
            "grid_gap": null,
            "max_width": null,
            "order": null,
            "_view_module_version": "1.2.0",
            "grid_template_areas": null,
            "object_position": null,
            "object_fit": null,
            "grid_auto_columns": null,
            "margin": null,
            "display": null,
            "left": null
          }
        },
        "dfd890c34ab046778e4c1a1bb088305a": {
          "model_module": "@jupyter-widgets/controls",
          "model_name": "DescriptionStyleModel",
          "state": {
            "_view_name": "StyleView",
            "_model_name": "DescriptionStyleModel",
            "description_width": "",
            "_view_module": "@jupyter-widgets/base",
            "_model_module_version": "1.5.0",
            "_view_count": null,
            "_view_module_version": "1.2.0",
            "_model_module": "@jupyter-widgets/controls"
          }
        },
        "7da117ba1fa94127bd708a91a6a30a58": {
          "model_module": "@jupyter-widgets/base",
          "model_name": "LayoutModel",
          "state": {
            "_view_name": "LayoutView",
            "grid_template_rows": null,
            "right": null,
            "justify_content": null,
            "_view_module": "@jupyter-widgets/base",
            "overflow": null,
            "_model_module_version": "1.2.0",
            "_view_count": null,
            "flex_flow": null,
            "width": null,
            "min_width": null,
            "border": null,
            "align_items": null,
            "bottom": null,
            "_model_module": "@jupyter-widgets/base",
            "top": null,
            "grid_column": null,
            "overflow_y": null,
            "overflow_x": null,
            "grid_auto_flow": null,
            "grid_area": null,
            "grid_template_columns": null,
            "flex": null,
            "_model_name": "LayoutModel",
            "justify_items": null,
            "grid_row": null,
            "max_height": null,
            "align_content": null,
            "visibility": null,
            "align_self": null,
            "height": null,
            "min_height": null,
            "padding": null,
            "grid_auto_rows": null,
            "grid_gap": null,
            "max_width": null,
            "order": null,
            "_view_module_version": "1.2.0",
            "grid_template_areas": null,
            "object_position": null,
            "object_fit": null,
            "grid_auto_columns": null,
            "margin": null,
            "display": null,
            "left": null
          }
        },
        "d47fbb4695eb4cee95492e937a2b9826": {
          "model_module": "@jupyter-widgets/controls",
          "model_name": "HBoxModel",
          "state": {
            "_view_name": "HBoxView",
            "_dom_classes": [],
            "_model_name": "HBoxModel",
            "_view_module": "@jupyter-widgets/controls",
            "_model_module_version": "1.5.0",
            "_view_count": null,
            "_view_module_version": "1.5.0",
            "box_style": "",
            "layout": "IPY_MODEL_06d5382ac5904dc1b2f2aec2e5b53fec",
            "_model_module": "@jupyter-widgets/controls",
            "children": [
              "IPY_MODEL_db0ad7a1842b4f0ab6065a383fb35337",
              "IPY_MODEL_eec70a3a2de74c189ff7e301ac1adfbe"
            ]
          }
        },
        "06d5382ac5904dc1b2f2aec2e5b53fec": {
          "model_module": "@jupyter-widgets/base",
          "model_name": "LayoutModel",
          "state": {
            "_view_name": "LayoutView",
            "grid_template_rows": null,
            "right": null,
            "justify_content": null,
            "_view_module": "@jupyter-widgets/base",
            "overflow": null,
            "_model_module_version": "1.2.0",
            "_view_count": null,
            "flex_flow": null,
            "width": null,
            "min_width": null,
            "border": null,
            "align_items": null,
            "bottom": null,
            "_model_module": "@jupyter-widgets/base",
            "top": null,
            "grid_column": null,
            "overflow_y": null,
            "overflow_x": null,
            "grid_auto_flow": null,
            "grid_area": null,
            "grid_template_columns": null,
            "flex": null,
            "_model_name": "LayoutModel",
            "justify_items": null,
            "grid_row": null,
            "max_height": null,
            "align_content": null,
            "visibility": null,
            "align_self": null,
            "height": null,
            "min_height": null,
            "padding": null,
            "grid_auto_rows": null,
            "grid_gap": null,
            "max_width": null,
            "order": null,
            "_view_module_version": "1.2.0",
            "grid_template_areas": null,
            "object_position": null,
            "object_fit": null,
            "grid_auto_columns": null,
            "margin": null,
            "display": null,
            "left": null
          }
        },
        "db0ad7a1842b4f0ab6065a383fb35337": {
          "model_module": "@jupyter-widgets/controls",
          "model_name": "FloatProgressModel",
          "state": {
            "_view_name": "ProgressView",
            "style": "IPY_MODEL_416a72d1ced045b88fb92d6872b0a28a",
            "_dom_classes": [],
            "description": "epoch 3: 100%",
            "_model_name": "FloatProgressModel",
            "bar_style": "success",
            "max": 3895,
            "_view_module": "@jupyter-widgets/controls",
            "_model_module_version": "1.5.0",
            "value": 3895,
            "_view_count": null,
            "_view_module_version": "1.5.0",
            "orientation": "horizontal",
            "min": 0,
            "description_tooltip": null,
            "_model_module": "@jupyter-widgets/controls",
            "layout": "IPY_MODEL_b0ca20028c1f40c0987954a2eb8ed44a"
          }
        },
        "eec70a3a2de74c189ff7e301ac1adfbe": {
          "model_module": "@jupyter-widgets/controls",
          "model_name": "HTMLModel",
          "state": {
            "_view_name": "HTMLView",
            "style": "IPY_MODEL_e5ecea60f02d401fbad2baf6b5ea5024",
            "_dom_classes": [],
            "description": "",
            "_model_name": "HTMLModel",
            "placeholder": "​",
            "_view_module": "@jupyter-widgets/controls",
            "_model_module_version": "1.5.0",
            "value": " 3895/3895 [48:52&lt;00:00,  1.33it/s, acc=0.52292, f1=0.52292, loss=0.73348]",
            "_view_count": null,
            "_view_module_version": "1.5.0",
            "description_tooltip": null,
            "_model_module": "@jupyter-widgets/controls",
            "layout": "IPY_MODEL_85724895186944c8b99b63a265482d78"
          }
        },
        "416a72d1ced045b88fb92d6872b0a28a": {
          "model_module": "@jupyter-widgets/controls",
          "model_name": "ProgressStyleModel",
          "state": {
            "_view_name": "StyleView",
            "_model_name": "ProgressStyleModel",
            "description_width": "initial",
            "_view_module": "@jupyter-widgets/base",
            "_model_module_version": "1.5.0",
            "_view_count": null,
            "_view_module_version": "1.2.0",
            "bar_color": null,
            "_model_module": "@jupyter-widgets/controls"
          }
        },
        "b0ca20028c1f40c0987954a2eb8ed44a": {
          "model_module": "@jupyter-widgets/base",
          "model_name": "LayoutModel",
          "state": {
            "_view_name": "LayoutView",
            "grid_template_rows": null,
            "right": null,
            "justify_content": null,
            "_view_module": "@jupyter-widgets/base",
            "overflow": null,
            "_model_module_version": "1.2.0",
            "_view_count": null,
            "flex_flow": null,
            "width": null,
            "min_width": null,
            "border": null,
            "align_items": null,
            "bottom": null,
            "_model_module": "@jupyter-widgets/base",
            "top": null,
            "grid_column": null,
            "overflow_y": null,
            "overflow_x": null,
            "grid_auto_flow": null,
            "grid_area": null,
            "grid_template_columns": null,
            "flex": null,
            "_model_name": "LayoutModel",
            "justify_items": null,
            "grid_row": null,
            "max_height": null,
            "align_content": null,
            "visibility": null,
            "align_self": null,
            "height": null,
            "min_height": null,
            "padding": null,
            "grid_auto_rows": null,
            "grid_gap": null,
            "max_width": null,
            "order": null,
            "_view_module_version": "1.2.0",
            "grid_template_areas": null,
            "object_position": null,
            "object_fit": null,
            "grid_auto_columns": null,
            "margin": null,
            "display": null,
            "left": null
          }
        },
        "e5ecea60f02d401fbad2baf6b5ea5024": {
          "model_module": "@jupyter-widgets/controls",
          "model_name": "DescriptionStyleModel",
          "state": {
            "_view_name": "StyleView",
            "_model_name": "DescriptionStyleModel",
            "description_width": "",
            "_view_module": "@jupyter-widgets/base",
            "_model_module_version": "1.5.0",
            "_view_count": null,
            "_view_module_version": "1.2.0",
            "_model_module": "@jupyter-widgets/controls"
          }
        },
        "85724895186944c8b99b63a265482d78": {
          "model_module": "@jupyter-widgets/base",
          "model_name": "LayoutModel",
          "state": {
            "_view_name": "LayoutView",
            "grid_template_rows": null,
            "right": null,
            "justify_content": null,
            "_view_module": "@jupyter-widgets/base",
            "overflow": null,
            "_model_module_version": "1.2.0",
            "_view_count": null,
            "flex_flow": null,
            "width": null,
            "min_width": null,
            "border": null,
            "align_items": null,
            "bottom": null,
            "_model_module": "@jupyter-widgets/base",
            "top": null,
            "grid_column": null,
            "overflow_y": null,
            "overflow_x": null,
            "grid_auto_flow": null,
            "grid_area": null,
            "grid_template_columns": null,
            "flex": null,
            "_model_name": "LayoutModel",
            "justify_items": null,
            "grid_row": null,
            "max_height": null,
            "align_content": null,
            "visibility": null,
            "align_self": null,
            "height": null,
            "min_height": null,
            "padding": null,
            "grid_auto_rows": null,
            "grid_gap": null,
            "max_width": null,
            "order": null,
            "_view_module_version": "1.2.0",
            "grid_template_areas": null,
            "object_position": null,
            "object_fit": null,
            "grid_auto_columns": null,
            "margin": null,
            "display": null,
            "left": null
          }
        },
        "3f9810f62eec45ee876186c2b2354938": {
          "model_module": "@jupyter-widgets/controls",
          "model_name": "HBoxModel",
          "state": {
            "_view_name": "HBoxView",
            "_dom_classes": [],
            "_model_name": "HBoxModel",
            "_view_module": "@jupyter-widgets/controls",
            "_model_module_version": "1.5.0",
            "_view_count": null,
            "_view_module_version": "1.5.0",
            "box_style": "",
            "layout": "IPY_MODEL_a98a2f14243b4724be546849c9e74a38",
            "_model_module": "@jupyter-widgets/controls",
            "children": [
              "IPY_MODEL_1ff68b1134df4ca6a81ffa7578ef69fc",
              "IPY_MODEL_2ba469e5306341f3a4b2414f9c40e0ec"
            ]
          }
        },
        "a98a2f14243b4724be546849c9e74a38": {
          "model_module": "@jupyter-widgets/base",
          "model_name": "LayoutModel",
          "state": {
            "_view_name": "LayoutView",
            "grid_template_rows": null,
            "right": null,
            "justify_content": null,
            "_view_module": "@jupyter-widgets/base",
            "overflow": null,
            "_model_module_version": "1.2.0",
            "_view_count": null,
            "flex_flow": null,
            "width": null,
            "min_width": null,
            "border": null,
            "align_items": null,
            "bottom": null,
            "_model_module": "@jupyter-widgets/base",
            "top": null,
            "grid_column": null,
            "overflow_y": null,
            "overflow_x": null,
            "grid_auto_flow": null,
            "grid_area": null,
            "grid_template_columns": null,
            "flex": null,
            "_model_name": "LayoutModel",
            "justify_items": null,
            "grid_row": null,
            "max_height": null,
            "align_content": null,
            "visibility": null,
            "align_self": null,
            "height": null,
            "min_height": null,
            "padding": null,
            "grid_auto_rows": null,
            "grid_gap": null,
            "max_width": null,
            "order": null,
            "_view_module_version": "1.2.0",
            "grid_template_areas": null,
            "object_position": null,
            "object_fit": null,
            "grid_auto_columns": null,
            "margin": null,
            "display": null,
            "left": null
          }
        },
        "1ff68b1134df4ca6a81ffa7578ef69fc": {
          "model_module": "@jupyter-widgets/controls",
          "model_name": "FloatProgressModel",
          "state": {
            "_view_name": "ProgressView",
            "style": "IPY_MODEL_c70c5fa716a6420ca8ad9abe22095ede",
            "_dom_classes": [],
            "description": "epoch 4: 100%",
            "_model_name": "FloatProgressModel",
            "bar_style": "success",
            "max": 3895,
            "_view_module": "@jupyter-widgets/controls",
            "_model_module_version": "1.5.0",
            "value": 3895,
            "_view_count": null,
            "_view_module_version": "1.5.0",
            "orientation": "horizontal",
            "min": 0,
            "description_tooltip": null,
            "_model_module": "@jupyter-widgets/controls",
            "layout": "IPY_MODEL_072422f0322642639bb91d8fe545afdd"
          }
        },
        "2ba469e5306341f3a4b2414f9c40e0ec": {
          "model_module": "@jupyter-widgets/controls",
          "model_name": "HTMLModel",
          "state": {
            "_view_name": "HTMLView",
            "style": "IPY_MODEL_50f40a440b6441b4b510074cbf8caac5",
            "_dom_classes": [],
            "description": "",
            "_model_name": "HTMLModel",
            "placeholder": "​",
            "_view_module": "@jupyter-widgets/controls",
            "_model_module_version": "1.5.0",
            "value": " 3895/3895 [14:10&lt;00:00,  4.58it/s, acc=0.52292, f1=0.52292, loss=0.65386]",
            "_view_count": null,
            "_view_module_version": "1.5.0",
            "description_tooltip": null,
            "_model_module": "@jupyter-widgets/controls",
            "layout": "IPY_MODEL_5e715cb933c8431a8baeda8788926747"
          }
        },
        "c70c5fa716a6420ca8ad9abe22095ede": {
          "model_module": "@jupyter-widgets/controls",
          "model_name": "ProgressStyleModel",
          "state": {
            "_view_name": "StyleView",
            "_model_name": "ProgressStyleModel",
            "description_width": "initial",
            "_view_module": "@jupyter-widgets/base",
            "_model_module_version": "1.5.0",
            "_view_count": null,
            "_view_module_version": "1.2.0",
            "bar_color": null,
            "_model_module": "@jupyter-widgets/controls"
          }
        },
        "072422f0322642639bb91d8fe545afdd": {
          "model_module": "@jupyter-widgets/base",
          "model_name": "LayoutModel",
          "state": {
            "_view_name": "LayoutView",
            "grid_template_rows": null,
            "right": null,
            "justify_content": null,
            "_view_module": "@jupyter-widgets/base",
            "overflow": null,
            "_model_module_version": "1.2.0",
            "_view_count": null,
            "flex_flow": null,
            "width": null,
            "min_width": null,
            "border": null,
            "align_items": null,
            "bottom": null,
            "_model_module": "@jupyter-widgets/base",
            "top": null,
            "grid_column": null,
            "overflow_y": null,
            "overflow_x": null,
            "grid_auto_flow": null,
            "grid_area": null,
            "grid_template_columns": null,
            "flex": null,
            "_model_name": "LayoutModel",
            "justify_items": null,
            "grid_row": null,
            "max_height": null,
            "align_content": null,
            "visibility": null,
            "align_self": null,
            "height": null,
            "min_height": null,
            "padding": null,
            "grid_auto_rows": null,
            "grid_gap": null,
            "max_width": null,
            "order": null,
            "_view_module_version": "1.2.0",
            "grid_template_areas": null,
            "object_position": null,
            "object_fit": null,
            "grid_auto_columns": null,
            "margin": null,
            "display": null,
            "left": null
          }
        },
        "50f40a440b6441b4b510074cbf8caac5": {
          "model_module": "@jupyter-widgets/controls",
          "model_name": "DescriptionStyleModel",
          "state": {
            "_view_name": "StyleView",
            "_model_name": "DescriptionStyleModel",
            "description_width": "",
            "_view_module": "@jupyter-widgets/base",
            "_model_module_version": "1.5.0",
            "_view_count": null,
            "_view_module_version": "1.2.0",
            "_model_module": "@jupyter-widgets/controls"
          }
        },
        "5e715cb933c8431a8baeda8788926747": {
          "model_module": "@jupyter-widgets/base",
          "model_name": "LayoutModel",
          "state": {
            "_view_name": "LayoutView",
            "grid_template_rows": null,
            "right": null,
            "justify_content": null,
            "_view_module": "@jupyter-widgets/base",
            "overflow": null,
            "_model_module_version": "1.2.0",
            "_view_count": null,
            "flex_flow": null,
            "width": null,
            "min_width": null,
            "border": null,
            "align_items": null,
            "bottom": null,
            "_model_module": "@jupyter-widgets/base",
            "top": null,
            "grid_column": null,
            "overflow_y": null,
            "overflow_x": null,
            "grid_auto_flow": null,
            "grid_area": null,
            "grid_template_columns": null,
            "flex": null,
            "_model_name": "LayoutModel",
            "justify_items": null,
            "grid_row": null,
            "max_height": null,
            "align_content": null,
            "visibility": null,
            "align_self": null,
            "height": null,
            "min_height": null,
            "padding": null,
            "grid_auto_rows": null,
            "grid_gap": null,
            "max_width": null,
            "order": null,
            "_view_module_version": "1.2.0",
            "grid_template_areas": null,
            "object_position": null,
            "object_fit": null,
            "grid_auto_columns": null,
            "margin": null,
            "display": null,
            "left": null
          }
        },
        "5f3e3d0ce63140caa446ec3fcd9fa0af": {
          "model_module": "@jupyter-widgets/controls",
          "model_name": "HBoxModel",
          "state": {
            "_view_name": "HBoxView",
            "_dom_classes": [],
            "_model_name": "HBoxModel",
            "_view_module": "@jupyter-widgets/controls",
            "_model_module_version": "1.5.0",
            "_view_count": null,
            "_view_module_version": "1.5.0",
            "box_style": "",
            "layout": "IPY_MODEL_eb06adcb1987412fa7f7a5cd6c7f8e77",
            "_model_module": "@jupyter-widgets/controls",
            "children": [
              "IPY_MODEL_108df31346874f2481d50951b8514062",
              "IPY_MODEL_a1811f4bf98a49249244ba0e469bba8b"
            ]
          }
        },
        "eb06adcb1987412fa7f7a5cd6c7f8e77": {
          "model_module": "@jupyter-widgets/base",
          "model_name": "LayoutModel",
          "state": {
            "_view_name": "LayoutView",
            "grid_template_rows": null,
            "right": null,
            "justify_content": null,
            "_view_module": "@jupyter-widgets/base",
            "overflow": null,
            "_model_module_version": "1.2.0",
            "_view_count": null,
            "flex_flow": null,
            "width": null,
            "min_width": null,
            "border": null,
            "align_items": null,
            "bottom": null,
            "_model_module": "@jupyter-widgets/base",
            "top": null,
            "grid_column": null,
            "overflow_y": null,
            "overflow_x": null,
            "grid_auto_flow": null,
            "grid_area": null,
            "grid_template_columns": null,
            "flex": null,
            "_model_name": "LayoutModel",
            "justify_items": null,
            "grid_row": null,
            "max_height": null,
            "align_content": null,
            "visibility": null,
            "align_self": null,
            "height": null,
            "min_height": null,
            "padding": null,
            "grid_auto_rows": null,
            "grid_gap": null,
            "max_width": null,
            "order": null,
            "_view_module_version": "1.2.0",
            "grid_template_areas": null,
            "object_position": null,
            "object_fit": null,
            "grid_auto_columns": null,
            "margin": null,
            "display": null,
            "left": null
          }
        },
        "108df31346874f2481d50951b8514062": {
          "model_module": "@jupyter-widgets/controls",
          "model_name": "FloatProgressModel",
          "state": {
            "_view_name": "ProgressView",
            "style": "IPY_MODEL_0b498b047a14439a9d6a944b23453295",
            "_dom_classes": [],
            "description": "epoch 5: 100%",
            "_model_name": "FloatProgressModel",
            "bar_style": "success",
            "max": 3895,
            "_view_module": "@jupyter-widgets/controls",
            "_model_module_version": "1.5.0",
            "value": 3895,
            "_view_count": null,
            "_view_module_version": "1.5.0",
            "orientation": "horizontal",
            "min": 0,
            "description_tooltip": null,
            "_model_module": "@jupyter-widgets/controls",
            "layout": "IPY_MODEL_a76c2b65e6ea4d50be3f0d1be968d10a"
          }
        },
        "a1811f4bf98a49249244ba0e469bba8b": {
          "model_module": "@jupyter-widgets/controls",
          "model_name": "HTMLModel",
          "state": {
            "_view_name": "HTMLView",
            "style": "IPY_MODEL_52604fc122274fd3a4a12bd2f2158366",
            "_dom_classes": [],
            "description": "",
            "_model_name": "HTMLModel",
            "placeholder": "​",
            "_view_module": "@jupyter-widgets/controls",
            "_model_module_version": "1.5.0",
            "value": " 3895/3895 [09:26&lt;00:00,  6.87it/s, acc=0.53125, f1=0.53125, loss=0.61437]",
            "_view_count": null,
            "_view_module_version": "1.5.0",
            "description_tooltip": null,
            "_model_module": "@jupyter-widgets/controls",
            "layout": "IPY_MODEL_468c93c3916f49469d53411167043cf2"
          }
        },
        "0b498b047a14439a9d6a944b23453295": {
          "model_module": "@jupyter-widgets/controls",
          "model_name": "ProgressStyleModel",
          "state": {
            "_view_name": "StyleView",
            "_model_name": "ProgressStyleModel",
            "description_width": "initial",
            "_view_module": "@jupyter-widgets/base",
            "_model_module_version": "1.5.0",
            "_view_count": null,
            "_view_module_version": "1.2.0",
            "bar_color": null,
            "_model_module": "@jupyter-widgets/controls"
          }
        },
        "a76c2b65e6ea4d50be3f0d1be968d10a": {
          "model_module": "@jupyter-widgets/base",
          "model_name": "LayoutModel",
          "state": {
            "_view_name": "LayoutView",
            "grid_template_rows": null,
            "right": null,
            "justify_content": null,
            "_view_module": "@jupyter-widgets/base",
            "overflow": null,
            "_model_module_version": "1.2.0",
            "_view_count": null,
            "flex_flow": null,
            "width": null,
            "min_width": null,
            "border": null,
            "align_items": null,
            "bottom": null,
            "_model_module": "@jupyter-widgets/base",
            "top": null,
            "grid_column": null,
            "overflow_y": null,
            "overflow_x": null,
            "grid_auto_flow": null,
            "grid_area": null,
            "grid_template_columns": null,
            "flex": null,
            "_model_name": "LayoutModel",
            "justify_items": null,
            "grid_row": null,
            "max_height": null,
            "align_content": null,
            "visibility": null,
            "align_self": null,
            "height": null,
            "min_height": null,
            "padding": null,
            "grid_auto_rows": null,
            "grid_gap": null,
            "max_width": null,
            "order": null,
            "_view_module_version": "1.2.0",
            "grid_template_areas": null,
            "object_position": null,
            "object_fit": null,
            "grid_auto_columns": null,
            "margin": null,
            "display": null,
            "left": null
          }
        },
        "52604fc122274fd3a4a12bd2f2158366": {
          "model_module": "@jupyter-widgets/controls",
          "model_name": "DescriptionStyleModel",
          "state": {
            "_view_name": "StyleView",
            "_model_name": "DescriptionStyleModel",
            "description_width": "",
            "_view_module": "@jupyter-widgets/base",
            "_model_module_version": "1.5.0",
            "_view_count": null,
            "_view_module_version": "1.2.0",
            "_model_module": "@jupyter-widgets/controls"
          }
        },
        "468c93c3916f49469d53411167043cf2": {
          "model_module": "@jupyter-widgets/base",
          "model_name": "LayoutModel",
          "state": {
            "_view_name": "LayoutView",
            "grid_template_rows": null,
            "right": null,
            "justify_content": null,
            "_view_module": "@jupyter-widgets/base",
            "overflow": null,
            "_model_module_version": "1.2.0",
            "_view_count": null,
            "flex_flow": null,
            "width": null,
            "min_width": null,
            "border": null,
            "align_items": null,
            "bottom": null,
            "_model_module": "@jupyter-widgets/base",
            "top": null,
            "grid_column": null,
            "overflow_y": null,
            "overflow_x": null,
            "grid_auto_flow": null,
            "grid_area": null,
            "grid_template_columns": null,
            "flex": null,
            "_model_name": "LayoutModel",
            "justify_items": null,
            "grid_row": null,
            "max_height": null,
            "align_content": null,
            "visibility": null,
            "align_self": null,
            "height": null,
            "min_height": null,
            "padding": null,
            "grid_auto_rows": null,
            "grid_gap": null,
            "max_width": null,
            "order": null,
            "_view_module_version": "1.2.0",
            "grid_template_areas": null,
            "object_position": null,
            "object_fit": null,
            "grid_auto_columns": null,
            "margin": null,
            "display": null,
            "left": null
          }
        },
        "d76b46559dd346f7ad59bdd016880021": {
          "model_module": "@jupyter-widgets/controls",
          "model_name": "HBoxModel",
          "state": {
            "_view_name": "HBoxView",
            "_dom_classes": [],
            "_model_name": "HBoxModel",
            "_view_module": "@jupyter-widgets/controls",
            "_model_module_version": "1.5.0",
            "_view_count": null,
            "_view_module_version": "1.5.0",
            "box_style": "",
            "layout": "IPY_MODEL_05f6cc8465ac40eea6780544eeb6f209",
            "_model_module": "@jupyter-widgets/controls",
            "children": [
              "IPY_MODEL_30469314735245e1a5ec1e49eaf44345",
              "IPY_MODEL_a576090b54374207b775c13616e7786a"
            ]
          }
        },
        "05f6cc8465ac40eea6780544eeb6f209": {
          "model_module": "@jupyter-widgets/base",
          "model_name": "LayoutModel",
          "state": {
            "_view_name": "LayoutView",
            "grid_template_rows": null,
            "right": null,
            "justify_content": null,
            "_view_module": "@jupyter-widgets/base",
            "overflow": null,
            "_model_module_version": "1.2.0",
            "_view_count": null,
            "flex_flow": null,
            "width": null,
            "min_width": null,
            "border": null,
            "align_items": null,
            "bottom": null,
            "_model_module": "@jupyter-widgets/base",
            "top": null,
            "grid_column": null,
            "overflow_y": null,
            "overflow_x": null,
            "grid_auto_flow": null,
            "grid_area": null,
            "grid_template_columns": null,
            "flex": null,
            "_model_name": "LayoutModel",
            "justify_items": null,
            "grid_row": null,
            "max_height": null,
            "align_content": null,
            "visibility": null,
            "align_self": null,
            "height": null,
            "min_height": null,
            "padding": null,
            "grid_auto_rows": null,
            "grid_gap": null,
            "max_width": null,
            "order": null,
            "_view_module_version": "1.2.0",
            "grid_template_areas": null,
            "object_position": null,
            "object_fit": null,
            "grid_auto_columns": null,
            "margin": null,
            "display": null,
            "left": null
          }
        },
        "30469314735245e1a5ec1e49eaf44345": {
          "model_module": "@jupyter-widgets/controls",
          "model_name": "FloatProgressModel",
          "state": {
            "_view_name": "ProgressView",
            "style": "IPY_MODEL_83ef1081415b4c7a9ea8f091dcbf339d",
            "_dom_classes": [],
            "description": "epoch 6: 100%",
            "_model_name": "FloatProgressModel",
            "bar_style": "success",
            "max": 3895,
            "_view_module": "@jupyter-widgets/controls",
            "_model_module_version": "1.5.0",
            "value": 3895,
            "_view_count": null,
            "_view_module_version": "1.5.0",
            "orientation": "horizontal",
            "min": 0,
            "description_tooltip": null,
            "_model_module": "@jupyter-widgets/controls",
            "layout": "IPY_MODEL_9571a95090584a4f9d7ad86be2c861e2"
          }
        },
        "a576090b54374207b775c13616e7786a": {
          "model_module": "@jupyter-widgets/controls",
          "model_name": "HTMLModel",
          "state": {
            "_view_name": "HTMLView",
            "style": "IPY_MODEL_5d63d0953fac464282cf27b26fd6d851",
            "_dom_classes": [],
            "description": "",
            "_model_name": "HTMLModel",
            "placeholder": "​",
            "_view_module": "@jupyter-widgets/controls",
            "_model_module_version": "1.5.0",
            "value": " 3895/3895 [34:43&lt;00:00,  1.87it/s, acc=0.53125, f1=0.53125, loss=0.59736]",
            "_view_count": null,
            "_view_module_version": "1.5.0",
            "description_tooltip": null,
            "_model_module": "@jupyter-widgets/controls",
            "layout": "IPY_MODEL_0d2c8bac1fc644fb949c86c34c95df9b"
          }
        },
        "83ef1081415b4c7a9ea8f091dcbf339d": {
          "model_module": "@jupyter-widgets/controls",
          "model_name": "ProgressStyleModel",
          "state": {
            "_view_name": "StyleView",
            "_model_name": "ProgressStyleModel",
            "description_width": "initial",
            "_view_module": "@jupyter-widgets/base",
            "_model_module_version": "1.5.0",
            "_view_count": null,
            "_view_module_version": "1.2.0",
            "bar_color": null,
            "_model_module": "@jupyter-widgets/controls"
          }
        },
        "9571a95090584a4f9d7ad86be2c861e2": {
          "model_module": "@jupyter-widgets/base",
          "model_name": "LayoutModel",
          "state": {
            "_view_name": "LayoutView",
            "grid_template_rows": null,
            "right": null,
            "justify_content": null,
            "_view_module": "@jupyter-widgets/base",
            "overflow": null,
            "_model_module_version": "1.2.0",
            "_view_count": null,
            "flex_flow": null,
            "width": null,
            "min_width": null,
            "border": null,
            "align_items": null,
            "bottom": null,
            "_model_module": "@jupyter-widgets/base",
            "top": null,
            "grid_column": null,
            "overflow_y": null,
            "overflow_x": null,
            "grid_auto_flow": null,
            "grid_area": null,
            "grid_template_columns": null,
            "flex": null,
            "_model_name": "LayoutModel",
            "justify_items": null,
            "grid_row": null,
            "max_height": null,
            "align_content": null,
            "visibility": null,
            "align_self": null,
            "height": null,
            "min_height": null,
            "padding": null,
            "grid_auto_rows": null,
            "grid_gap": null,
            "max_width": null,
            "order": null,
            "_view_module_version": "1.2.0",
            "grid_template_areas": null,
            "object_position": null,
            "object_fit": null,
            "grid_auto_columns": null,
            "margin": null,
            "display": null,
            "left": null
          }
        },
        "5d63d0953fac464282cf27b26fd6d851": {
          "model_module": "@jupyter-widgets/controls",
          "model_name": "DescriptionStyleModel",
          "state": {
            "_view_name": "StyleView",
            "_model_name": "DescriptionStyleModel",
            "description_width": "",
            "_view_module": "@jupyter-widgets/base",
            "_model_module_version": "1.5.0",
            "_view_count": null,
            "_view_module_version": "1.2.0",
            "_model_module": "@jupyter-widgets/controls"
          }
        },
        "0d2c8bac1fc644fb949c86c34c95df9b": {
          "model_module": "@jupyter-widgets/base",
          "model_name": "LayoutModel",
          "state": {
            "_view_name": "LayoutView",
            "grid_template_rows": null,
            "right": null,
            "justify_content": null,
            "_view_module": "@jupyter-widgets/base",
            "overflow": null,
            "_model_module_version": "1.2.0",
            "_view_count": null,
            "flex_flow": null,
            "width": null,
            "min_width": null,
            "border": null,
            "align_items": null,
            "bottom": null,
            "_model_module": "@jupyter-widgets/base",
            "top": null,
            "grid_column": null,
            "overflow_y": null,
            "overflow_x": null,
            "grid_auto_flow": null,
            "grid_area": null,
            "grid_template_columns": null,
            "flex": null,
            "_model_name": "LayoutModel",
            "justify_items": null,
            "grid_row": null,
            "max_height": null,
            "align_content": null,
            "visibility": null,
            "align_self": null,
            "height": null,
            "min_height": null,
            "padding": null,
            "grid_auto_rows": null,
            "grid_gap": null,
            "max_width": null,
            "order": null,
            "_view_module_version": "1.2.0",
            "grid_template_areas": null,
            "object_position": null,
            "object_fit": null,
            "grid_auto_columns": null,
            "margin": null,
            "display": null,
            "left": null
          }
        },
        "59f35cfb672f49d69ada7d9645b0f5aa": {
          "model_module": "@jupyter-widgets/controls",
          "model_name": "HBoxModel",
          "state": {
            "_view_name": "HBoxView",
            "_dom_classes": [],
            "_model_name": "HBoxModel",
            "_view_module": "@jupyter-widgets/controls",
            "_model_module_version": "1.5.0",
            "_view_count": null,
            "_view_module_version": "1.5.0",
            "box_style": "",
            "layout": "IPY_MODEL_4e9fa322d3614b0ca880ef517f6fa8dc",
            "_model_module": "@jupyter-widgets/controls",
            "children": [
              "IPY_MODEL_e5e04364f3c84d4295954eb9f311c893",
              "IPY_MODEL_0ca837eecf8e4578b63de358bcf5ae81"
            ]
          }
        },
        "4e9fa322d3614b0ca880ef517f6fa8dc": {
          "model_module": "@jupyter-widgets/base",
          "model_name": "LayoutModel",
          "state": {
            "_view_name": "LayoutView",
            "grid_template_rows": null,
            "right": null,
            "justify_content": null,
            "_view_module": "@jupyter-widgets/base",
            "overflow": null,
            "_model_module_version": "1.2.0",
            "_view_count": null,
            "flex_flow": null,
            "width": null,
            "min_width": null,
            "border": null,
            "align_items": null,
            "bottom": null,
            "_model_module": "@jupyter-widgets/base",
            "top": null,
            "grid_column": null,
            "overflow_y": null,
            "overflow_x": null,
            "grid_auto_flow": null,
            "grid_area": null,
            "grid_template_columns": null,
            "flex": null,
            "_model_name": "LayoutModel",
            "justify_items": null,
            "grid_row": null,
            "max_height": null,
            "align_content": null,
            "visibility": null,
            "align_self": null,
            "height": null,
            "min_height": null,
            "padding": null,
            "grid_auto_rows": null,
            "grid_gap": null,
            "max_width": null,
            "order": null,
            "_view_module_version": "1.2.0",
            "grid_template_areas": null,
            "object_position": null,
            "object_fit": null,
            "grid_auto_columns": null,
            "margin": null,
            "display": null,
            "left": null
          }
        },
        "e5e04364f3c84d4295954eb9f311c893": {
          "model_module": "@jupyter-widgets/controls",
          "model_name": "FloatProgressModel",
          "state": {
            "_view_name": "ProgressView",
            "style": "IPY_MODEL_944ffc2f90f54d39ad9a9bbead84e448",
            "_dom_classes": [],
            "description": "epoch 7: 100%",
            "_model_name": "FloatProgressModel",
            "bar_style": "success",
            "max": 3895,
            "_view_module": "@jupyter-widgets/controls",
            "_model_module_version": "1.5.0",
            "value": 3895,
            "_view_count": null,
            "_view_module_version": "1.5.0",
            "orientation": "horizontal",
            "min": 0,
            "description_tooltip": null,
            "_model_module": "@jupyter-widgets/controls",
            "layout": "IPY_MODEL_b3b61a3ac2594c42816021c3b6cfb8bb"
          }
        },
        "0ca837eecf8e4578b63de358bcf5ae81": {
          "model_module": "@jupyter-widgets/controls",
          "model_name": "HTMLModel",
          "state": {
            "_view_name": "HTMLView",
            "style": "IPY_MODEL_4da16020dc494e3aafa0f2027acc1046",
            "_dom_classes": [],
            "description": "",
            "_model_name": "HTMLModel",
            "placeholder": "​",
            "_view_module": "@jupyter-widgets/controls",
            "_model_module_version": "1.5.0",
            "value": " 3895/3895 [30:00&lt;00:00,  2.16it/s, acc=0.53542, f1=0.53542, loss=0.57058]",
            "_view_count": null,
            "_view_module_version": "1.5.0",
            "description_tooltip": null,
            "_model_module": "@jupyter-widgets/controls",
            "layout": "IPY_MODEL_280b4372100f4ec69be6d036e81a72db"
          }
        },
        "944ffc2f90f54d39ad9a9bbead84e448": {
          "model_module": "@jupyter-widgets/controls",
          "model_name": "ProgressStyleModel",
          "state": {
            "_view_name": "StyleView",
            "_model_name": "ProgressStyleModel",
            "description_width": "initial",
            "_view_module": "@jupyter-widgets/base",
            "_model_module_version": "1.5.0",
            "_view_count": null,
            "_view_module_version": "1.2.0",
            "bar_color": null,
            "_model_module": "@jupyter-widgets/controls"
          }
        },
        "b3b61a3ac2594c42816021c3b6cfb8bb": {
          "model_module": "@jupyter-widgets/base",
          "model_name": "LayoutModel",
          "state": {
            "_view_name": "LayoutView",
            "grid_template_rows": null,
            "right": null,
            "justify_content": null,
            "_view_module": "@jupyter-widgets/base",
            "overflow": null,
            "_model_module_version": "1.2.0",
            "_view_count": null,
            "flex_flow": null,
            "width": null,
            "min_width": null,
            "border": null,
            "align_items": null,
            "bottom": null,
            "_model_module": "@jupyter-widgets/base",
            "top": null,
            "grid_column": null,
            "overflow_y": null,
            "overflow_x": null,
            "grid_auto_flow": null,
            "grid_area": null,
            "grid_template_columns": null,
            "flex": null,
            "_model_name": "LayoutModel",
            "justify_items": null,
            "grid_row": null,
            "max_height": null,
            "align_content": null,
            "visibility": null,
            "align_self": null,
            "height": null,
            "min_height": null,
            "padding": null,
            "grid_auto_rows": null,
            "grid_gap": null,
            "max_width": null,
            "order": null,
            "_view_module_version": "1.2.0",
            "grid_template_areas": null,
            "object_position": null,
            "object_fit": null,
            "grid_auto_columns": null,
            "margin": null,
            "display": null,
            "left": null
          }
        },
        "4da16020dc494e3aafa0f2027acc1046": {
          "model_module": "@jupyter-widgets/controls",
          "model_name": "DescriptionStyleModel",
          "state": {
            "_view_name": "StyleView",
            "_model_name": "DescriptionStyleModel",
            "description_width": "",
            "_view_module": "@jupyter-widgets/base",
            "_model_module_version": "1.5.0",
            "_view_count": null,
            "_view_module_version": "1.2.0",
            "_model_module": "@jupyter-widgets/controls"
          }
        },
        "280b4372100f4ec69be6d036e81a72db": {
          "model_module": "@jupyter-widgets/base",
          "model_name": "LayoutModel",
          "state": {
            "_view_name": "LayoutView",
            "grid_template_rows": null,
            "right": null,
            "justify_content": null,
            "_view_module": "@jupyter-widgets/base",
            "overflow": null,
            "_model_module_version": "1.2.0",
            "_view_count": null,
            "flex_flow": null,
            "width": null,
            "min_width": null,
            "border": null,
            "align_items": null,
            "bottom": null,
            "_model_module": "@jupyter-widgets/base",
            "top": null,
            "grid_column": null,
            "overflow_y": null,
            "overflow_x": null,
            "grid_auto_flow": null,
            "grid_area": null,
            "grid_template_columns": null,
            "flex": null,
            "_model_name": "LayoutModel",
            "justify_items": null,
            "grid_row": null,
            "max_height": null,
            "align_content": null,
            "visibility": null,
            "align_self": null,
            "height": null,
            "min_height": null,
            "padding": null,
            "grid_auto_rows": null,
            "grid_gap": null,
            "max_width": null,
            "order": null,
            "_view_module_version": "1.2.0",
            "grid_template_areas": null,
            "object_position": null,
            "object_fit": null,
            "grid_auto_columns": null,
            "margin": null,
            "display": null,
            "left": null
          }
        },
        "c7eda23b913449c09167aa6ab9fb6967": {
          "model_module": "@jupyter-widgets/controls",
          "model_name": "HBoxModel",
          "state": {
            "_view_name": "HBoxView",
            "_dom_classes": [],
            "_model_name": "HBoxModel",
            "_view_module": "@jupyter-widgets/controls",
            "_model_module_version": "1.5.0",
            "_view_count": null,
            "_view_module_version": "1.5.0",
            "box_style": "",
            "layout": "IPY_MODEL_2dda4b311b0d4f90a8ec6e6b91299eb2",
            "_model_module": "@jupyter-widgets/controls",
            "children": [
              "IPY_MODEL_3c40969335e64c2d8f7e2b9994eb9670",
              "IPY_MODEL_9183993302954630a0a6008cf166ecda"
            ]
          }
        },
        "2dda4b311b0d4f90a8ec6e6b91299eb2": {
          "model_module": "@jupyter-widgets/base",
          "model_name": "LayoutModel",
          "state": {
            "_view_name": "LayoutView",
            "grid_template_rows": null,
            "right": null,
            "justify_content": null,
            "_view_module": "@jupyter-widgets/base",
            "overflow": null,
            "_model_module_version": "1.2.0",
            "_view_count": null,
            "flex_flow": null,
            "width": null,
            "min_width": null,
            "border": null,
            "align_items": null,
            "bottom": null,
            "_model_module": "@jupyter-widgets/base",
            "top": null,
            "grid_column": null,
            "overflow_y": null,
            "overflow_x": null,
            "grid_auto_flow": null,
            "grid_area": null,
            "grid_template_columns": null,
            "flex": null,
            "_model_name": "LayoutModel",
            "justify_items": null,
            "grid_row": null,
            "max_height": null,
            "align_content": null,
            "visibility": null,
            "align_self": null,
            "height": null,
            "min_height": null,
            "padding": null,
            "grid_auto_rows": null,
            "grid_gap": null,
            "max_width": null,
            "order": null,
            "_view_module_version": "1.2.0",
            "grid_template_areas": null,
            "object_position": null,
            "object_fit": null,
            "grid_auto_columns": null,
            "margin": null,
            "display": null,
            "left": null
          }
        },
        "3c40969335e64c2d8f7e2b9994eb9670": {
          "model_module": "@jupyter-widgets/controls",
          "model_name": "FloatProgressModel",
          "state": {
            "_view_name": "ProgressView",
            "style": "IPY_MODEL_7ed93044546b4c09bf604687a7aede7c",
            "_dom_classes": [],
            "description": "epoch 8: 100%",
            "_model_name": "FloatProgressModel",
            "bar_style": "success",
            "max": 3895,
            "_view_module": "@jupyter-widgets/controls",
            "_model_module_version": "1.5.0",
            "value": 3895,
            "_view_count": null,
            "_view_module_version": "1.5.0",
            "orientation": "horizontal",
            "min": 0,
            "description_tooltip": null,
            "_model_module": "@jupyter-widgets/controls",
            "layout": "IPY_MODEL_9e576913998f47ebbb25ede49b17b930"
          }
        },
        "9183993302954630a0a6008cf166ecda": {
          "model_module": "@jupyter-widgets/controls",
          "model_name": "HTMLModel",
          "state": {
            "_view_name": "HTMLView",
            "style": "IPY_MODEL_f00d429aba56453d80c079c871b08f30",
            "_dom_classes": [],
            "description": "",
            "_model_name": "HTMLModel",
            "placeholder": "​",
            "_view_module": "@jupyter-widgets/controls",
            "_model_module_version": "1.5.0",
            "value": " 3895/3895 [09:23&lt;00:00,  6.92it/s, acc=0.53333, f1=0.53333, loss=0.57558]",
            "_view_count": null,
            "_view_module_version": "1.5.0",
            "description_tooltip": null,
            "_model_module": "@jupyter-widgets/controls",
            "layout": "IPY_MODEL_32d3cca9f979421698e8963fa3a57f9a"
          }
        },
        "7ed93044546b4c09bf604687a7aede7c": {
          "model_module": "@jupyter-widgets/controls",
          "model_name": "ProgressStyleModel",
          "state": {
            "_view_name": "StyleView",
            "_model_name": "ProgressStyleModel",
            "description_width": "initial",
            "_view_module": "@jupyter-widgets/base",
            "_model_module_version": "1.5.0",
            "_view_count": null,
            "_view_module_version": "1.2.0",
            "bar_color": null,
            "_model_module": "@jupyter-widgets/controls"
          }
        },
        "9e576913998f47ebbb25ede49b17b930": {
          "model_module": "@jupyter-widgets/base",
          "model_name": "LayoutModel",
          "state": {
            "_view_name": "LayoutView",
            "grid_template_rows": null,
            "right": null,
            "justify_content": null,
            "_view_module": "@jupyter-widgets/base",
            "overflow": null,
            "_model_module_version": "1.2.0",
            "_view_count": null,
            "flex_flow": null,
            "width": null,
            "min_width": null,
            "border": null,
            "align_items": null,
            "bottom": null,
            "_model_module": "@jupyter-widgets/base",
            "top": null,
            "grid_column": null,
            "overflow_y": null,
            "overflow_x": null,
            "grid_auto_flow": null,
            "grid_area": null,
            "grid_template_columns": null,
            "flex": null,
            "_model_name": "LayoutModel",
            "justify_items": null,
            "grid_row": null,
            "max_height": null,
            "align_content": null,
            "visibility": null,
            "align_self": null,
            "height": null,
            "min_height": null,
            "padding": null,
            "grid_auto_rows": null,
            "grid_gap": null,
            "max_width": null,
            "order": null,
            "_view_module_version": "1.2.0",
            "grid_template_areas": null,
            "object_position": null,
            "object_fit": null,
            "grid_auto_columns": null,
            "margin": null,
            "display": null,
            "left": null
          }
        },
        "f00d429aba56453d80c079c871b08f30": {
          "model_module": "@jupyter-widgets/controls",
          "model_name": "DescriptionStyleModel",
          "state": {
            "_view_name": "StyleView",
            "_model_name": "DescriptionStyleModel",
            "description_width": "",
            "_view_module": "@jupyter-widgets/base",
            "_model_module_version": "1.5.0",
            "_view_count": null,
            "_view_module_version": "1.2.0",
            "_model_module": "@jupyter-widgets/controls"
          }
        },
        "32d3cca9f979421698e8963fa3a57f9a": {
          "model_module": "@jupyter-widgets/base",
          "model_name": "LayoutModel",
          "state": {
            "_view_name": "LayoutView",
            "grid_template_rows": null,
            "right": null,
            "justify_content": null,
            "_view_module": "@jupyter-widgets/base",
            "overflow": null,
            "_model_module_version": "1.2.0",
            "_view_count": null,
            "flex_flow": null,
            "width": null,
            "min_width": null,
            "border": null,
            "align_items": null,
            "bottom": null,
            "_model_module": "@jupyter-widgets/base",
            "top": null,
            "grid_column": null,
            "overflow_y": null,
            "overflow_x": null,
            "grid_auto_flow": null,
            "grid_area": null,
            "grid_template_columns": null,
            "flex": null,
            "_model_name": "LayoutModel",
            "justify_items": null,
            "grid_row": null,
            "max_height": null,
            "align_content": null,
            "visibility": null,
            "align_self": null,
            "height": null,
            "min_height": null,
            "padding": null,
            "grid_auto_rows": null,
            "grid_gap": null,
            "max_width": null,
            "order": null,
            "_view_module_version": "1.2.0",
            "grid_template_areas": null,
            "object_position": null,
            "object_fit": null,
            "grid_auto_columns": null,
            "margin": null,
            "display": null,
            "left": null
          }
        },
        "62fe8ae3791744f5a52d95af8678a8a9": {
          "model_module": "@jupyter-widgets/controls",
          "model_name": "HBoxModel",
          "state": {
            "_view_name": "HBoxView",
            "_dom_classes": [],
            "_model_name": "HBoxModel",
            "_view_module": "@jupyter-widgets/controls",
            "_model_module_version": "1.5.0",
            "_view_count": null,
            "_view_module_version": "1.5.0",
            "box_style": "",
            "layout": "IPY_MODEL_0b4797baf8cd4b1fa0925b4e726c28e4",
            "_model_module": "@jupyter-widgets/controls",
            "children": [
              "IPY_MODEL_4cc9743e760e4505898102f1d57cf163",
              "IPY_MODEL_415e401bcaf5454b87d0fb72f4a9fe8b"
            ]
          }
        },
        "0b4797baf8cd4b1fa0925b4e726c28e4": {
          "model_module": "@jupyter-widgets/base",
          "model_name": "LayoutModel",
          "state": {
            "_view_name": "LayoutView",
            "grid_template_rows": null,
            "right": null,
            "justify_content": null,
            "_view_module": "@jupyter-widgets/base",
            "overflow": null,
            "_model_module_version": "1.2.0",
            "_view_count": null,
            "flex_flow": null,
            "width": null,
            "min_width": null,
            "border": null,
            "align_items": null,
            "bottom": null,
            "_model_module": "@jupyter-widgets/base",
            "top": null,
            "grid_column": null,
            "overflow_y": null,
            "overflow_x": null,
            "grid_auto_flow": null,
            "grid_area": null,
            "grid_template_columns": null,
            "flex": null,
            "_model_name": "LayoutModel",
            "justify_items": null,
            "grid_row": null,
            "max_height": null,
            "align_content": null,
            "visibility": null,
            "align_self": null,
            "height": null,
            "min_height": null,
            "padding": null,
            "grid_auto_rows": null,
            "grid_gap": null,
            "max_width": null,
            "order": null,
            "_view_module_version": "1.2.0",
            "grid_template_areas": null,
            "object_position": null,
            "object_fit": null,
            "grid_auto_columns": null,
            "margin": null,
            "display": null,
            "left": null
          }
        },
        "4cc9743e760e4505898102f1d57cf163": {
          "model_module": "@jupyter-widgets/controls",
          "model_name": "FloatProgressModel",
          "state": {
            "_view_name": "ProgressView",
            "style": "IPY_MODEL_c2f1cecceb374b4b9d0af4b78e68425c",
            "_dom_classes": [],
            "description": "epoch 9: 100%",
            "_model_name": "FloatProgressModel",
            "bar_style": "success",
            "max": 3895,
            "_view_module": "@jupyter-widgets/controls",
            "_model_module_version": "1.5.0",
            "value": 3895,
            "_view_count": null,
            "_view_module_version": "1.5.0",
            "orientation": "horizontal",
            "min": 0,
            "description_tooltip": null,
            "_model_module": "@jupyter-widgets/controls",
            "layout": "IPY_MODEL_d108ff2833944340bb464322ba65cd45"
          }
        },
        "415e401bcaf5454b87d0fb72f4a9fe8b": {
          "model_module": "@jupyter-widgets/controls",
          "model_name": "HTMLModel",
          "state": {
            "_view_name": "HTMLView",
            "style": "IPY_MODEL_6f045d6dd7d14ec188384d31b29677a2",
            "_dom_classes": [],
            "description": "",
            "_model_name": "HTMLModel",
            "placeholder": "​",
            "_view_module": "@jupyter-widgets/controls",
            "_model_module_version": "1.5.0",
            "value": " 3895/3895 [04:43&lt;00:00, 13.76it/s, acc=0.53542, f1=0.53542, loss=0.55284]",
            "_view_count": null,
            "_view_module_version": "1.5.0",
            "description_tooltip": null,
            "_model_module": "@jupyter-widgets/controls",
            "layout": "IPY_MODEL_30303a422afb405caabcd22725811a02"
          }
        },
        "c2f1cecceb374b4b9d0af4b78e68425c": {
          "model_module": "@jupyter-widgets/controls",
          "model_name": "ProgressStyleModel",
          "state": {
            "_view_name": "StyleView",
            "_model_name": "ProgressStyleModel",
            "description_width": "initial",
            "_view_module": "@jupyter-widgets/base",
            "_model_module_version": "1.5.0",
            "_view_count": null,
            "_view_module_version": "1.2.0",
            "bar_color": null,
            "_model_module": "@jupyter-widgets/controls"
          }
        },
        "d108ff2833944340bb464322ba65cd45": {
          "model_module": "@jupyter-widgets/base",
          "model_name": "LayoutModel",
          "state": {
            "_view_name": "LayoutView",
            "grid_template_rows": null,
            "right": null,
            "justify_content": null,
            "_view_module": "@jupyter-widgets/base",
            "overflow": null,
            "_model_module_version": "1.2.0",
            "_view_count": null,
            "flex_flow": null,
            "width": null,
            "min_width": null,
            "border": null,
            "align_items": null,
            "bottom": null,
            "_model_module": "@jupyter-widgets/base",
            "top": null,
            "grid_column": null,
            "overflow_y": null,
            "overflow_x": null,
            "grid_auto_flow": null,
            "grid_area": null,
            "grid_template_columns": null,
            "flex": null,
            "_model_name": "LayoutModel",
            "justify_items": null,
            "grid_row": null,
            "max_height": null,
            "align_content": null,
            "visibility": null,
            "align_self": null,
            "height": null,
            "min_height": null,
            "padding": null,
            "grid_auto_rows": null,
            "grid_gap": null,
            "max_width": null,
            "order": null,
            "_view_module_version": "1.2.0",
            "grid_template_areas": null,
            "object_position": null,
            "object_fit": null,
            "grid_auto_columns": null,
            "margin": null,
            "display": null,
            "left": null
          }
        },
        "6f045d6dd7d14ec188384d31b29677a2": {
          "model_module": "@jupyter-widgets/controls",
          "model_name": "DescriptionStyleModel",
          "state": {
            "_view_name": "StyleView",
            "_model_name": "DescriptionStyleModel",
            "description_width": "",
            "_view_module": "@jupyter-widgets/base",
            "_model_module_version": "1.5.0",
            "_view_count": null,
            "_view_module_version": "1.2.0",
            "_model_module": "@jupyter-widgets/controls"
          }
        },
        "30303a422afb405caabcd22725811a02": {
          "model_module": "@jupyter-widgets/base",
          "model_name": "LayoutModel",
          "state": {
            "_view_name": "LayoutView",
            "grid_template_rows": null,
            "right": null,
            "justify_content": null,
            "_view_module": "@jupyter-widgets/base",
            "overflow": null,
            "_model_module_version": "1.2.0",
            "_view_count": null,
            "flex_flow": null,
            "width": null,
            "min_width": null,
            "border": null,
            "align_items": null,
            "bottom": null,
            "_model_module": "@jupyter-widgets/base",
            "top": null,
            "grid_column": null,
            "overflow_y": null,
            "overflow_x": null,
            "grid_auto_flow": null,
            "grid_area": null,
            "grid_template_columns": null,
            "flex": null,
            "_model_name": "LayoutModel",
            "justify_items": null,
            "grid_row": null,
            "max_height": null,
            "align_content": null,
            "visibility": null,
            "align_self": null,
            "height": null,
            "min_height": null,
            "padding": null,
            "grid_auto_rows": null,
            "grid_gap": null,
            "max_width": null,
            "order": null,
            "_view_module_version": "1.2.0",
            "grid_template_areas": null,
            "object_position": null,
            "object_fit": null,
            "grid_auto_columns": null,
            "margin": null,
            "display": null,
            "left": null
          }
        },
        "a5605ad7c4d74d9b8948391ae8b02e7a": {
          "model_module": "@jupyter-widgets/controls",
          "model_name": "HBoxModel",
          "state": {
            "_view_name": "HBoxView",
            "_dom_classes": [],
            "_model_name": "HBoxModel",
            "_view_module": "@jupyter-widgets/controls",
            "_model_module_version": "1.5.0",
            "_view_count": null,
            "_view_module_version": "1.5.0",
            "box_style": "",
            "layout": "IPY_MODEL_a793ef62d57a4424b60bfceacbd966b0",
            "_model_module": "@jupyter-widgets/controls",
            "children": [
              "IPY_MODEL_62c55f8098b04403b69c6a9943624a41",
              "IPY_MODEL_42381155f8884eb9b0d2c4dfdd455004"
            ]
          }
        },
        "a793ef62d57a4424b60bfceacbd966b0": {
          "model_module": "@jupyter-widgets/base",
          "model_name": "LayoutModel",
          "state": {
            "_view_name": "LayoutView",
            "grid_template_rows": null,
            "right": null,
            "justify_content": null,
            "_view_module": "@jupyter-widgets/base",
            "overflow": null,
            "_model_module_version": "1.2.0",
            "_view_count": null,
            "flex_flow": null,
            "width": null,
            "min_width": null,
            "border": null,
            "align_items": null,
            "bottom": null,
            "_model_module": "@jupyter-widgets/base",
            "top": null,
            "grid_column": null,
            "overflow_y": null,
            "overflow_x": null,
            "grid_auto_flow": null,
            "grid_area": null,
            "grid_template_columns": null,
            "flex": null,
            "_model_name": "LayoutModel",
            "justify_items": null,
            "grid_row": null,
            "max_height": null,
            "align_content": null,
            "visibility": null,
            "align_self": null,
            "height": null,
            "min_height": null,
            "padding": null,
            "grid_auto_rows": null,
            "grid_gap": null,
            "max_width": null,
            "order": null,
            "_view_module_version": "1.2.0",
            "grid_template_areas": null,
            "object_position": null,
            "object_fit": null,
            "grid_auto_columns": null,
            "margin": null,
            "display": null,
            "left": null
          }
        },
        "62c55f8098b04403b69c6a9943624a41": {
          "model_module": "@jupyter-widgets/controls",
          "model_name": "FloatProgressModel",
          "state": {
            "_view_name": "ProgressView",
            "style": "IPY_MODEL_50a752e5aaa0415e91de01fee5adb477",
            "_dom_classes": [],
            "description": "100%",
            "_model_name": "FloatProgressModel",
            "bar_style": "success",
            "max": 1006,
            "_view_module": "@jupyter-widgets/controls",
            "_model_module_version": "1.5.0",
            "value": 1006,
            "_view_count": null,
            "_view_module_version": "1.5.0",
            "orientation": "horizontal",
            "min": 0,
            "description_tooltip": null,
            "_model_module": "@jupyter-widgets/controls",
            "layout": "IPY_MODEL_6304fd3a3cc645039e15c2fcfb035459"
          }
        },
        "42381155f8884eb9b0d2c4dfdd455004": {
          "model_module": "@jupyter-widgets/controls",
          "model_name": "HTMLModel",
          "state": {
            "_view_name": "HTMLView",
            "style": "IPY_MODEL_a411b5a750f24003bbde603ae03f2c26",
            "_dom_classes": [],
            "description": "",
            "_model_name": "HTMLModel",
            "placeholder": "​",
            "_view_module": "@jupyter-widgets/controls",
            "_model_module_version": "1.5.0",
            "value": " 1006/1006 [05:09&lt;00:00,  3.25it/s]",
            "_view_count": null,
            "_view_module_version": "1.5.0",
            "description_tooltip": null,
            "_model_module": "@jupyter-widgets/controls",
            "layout": "IPY_MODEL_8a09ef87e6144304a6d230ffde60b7e9"
          }
        },
        "50a752e5aaa0415e91de01fee5adb477": {
          "model_module": "@jupyter-widgets/controls",
          "model_name": "ProgressStyleModel",
          "state": {
            "_view_name": "StyleView",
            "_model_name": "ProgressStyleModel",
            "description_width": "initial",
            "_view_module": "@jupyter-widgets/base",
            "_model_module_version": "1.5.0",
            "_view_count": null,
            "_view_module_version": "1.2.0",
            "bar_color": null,
            "_model_module": "@jupyter-widgets/controls"
          }
        },
        "6304fd3a3cc645039e15c2fcfb035459": {
          "model_module": "@jupyter-widgets/base",
          "model_name": "LayoutModel",
          "state": {
            "_view_name": "LayoutView",
            "grid_template_rows": null,
            "right": null,
            "justify_content": null,
            "_view_module": "@jupyter-widgets/base",
            "overflow": null,
            "_model_module_version": "1.2.0",
            "_view_count": null,
            "flex_flow": null,
            "width": null,
            "min_width": null,
            "border": null,
            "align_items": null,
            "bottom": null,
            "_model_module": "@jupyter-widgets/base",
            "top": null,
            "grid_column": null,
            "overflow_y": null,
            "overflow_x": null,
            "grid_auto_flow": null,
            "grid_area": null,
            "grid_template_columns": null,
            "flex": null,
            "_model_name": "LayoutModel",
            "justify_items": null,
            "grid_row": null,
            "max_height": null,
            "align_content": null,
            "visibility": null,
            "align_self": null,
            "height": null,
            "min_height": null,
            "padding": null,
            "grid_auto_rows": null,
            "grid_gap": null,
            "max_width": null,
            "order": null,
            "_view_module_version": "1.2.0",
            "grid_template_areas": null,
            "object_position": null,
            "object_fit": null,
            "grid_auto_columns": null,
            "margin": null,
            "display": null,
            "left": null
          }
        },
        "a411b5a750f24003bbde603ae03f2c26": {
          "model_module": "@jupyter-widgets/controls",
          "model_name": "DescriptionStyleModel",
          "state": {
            "_view_name": "StyleView",
            "_model_name": "DescriptionStyleModel",
            "description_width": "",
            "_view_module": "@jupyter-widgets/base",
            "_model_module_version": "1.5.0",
            "_view_count": null,
            "_view_module_version": "1.2.0",
            "_model_module": "@jupyter-widgets/controls"
          }
        },
        "8a09ef87e6144304a6d230ffde60b7e9": {
          "model_module": "@jupyter-widgets/base",
          "model_name": "LayoutModel",
          "state": {
            "_view_name": "LayoutView",
            "grid_template_rows": null,
            "right": null,
            "justify_content": null,
            "_view_module": "@jupyter-widgets/base",
            "overflow": null,
            "_model_module_version": "1.2.0",
            "_view_count": null,
            "flex_flow": null,
            "width": null,
            "min_width": null,
            "border": null,
            "align_items": null,
            "bottom": null,
            "_model_module": "@jupyter-widgets/base",
            "top": null,
            "grid_column": null,
            "overflow_y": null,
            "overflow_x": null,
            "grid_auto_flow": null,
            "grid_area": null,
            "grid_template_columns": null,
            "flex": null,
            "_model_name": "LayoutModel",
            "justify_items": null,
            "grid_row": null,
            "max_height": null,
            "align_content": null,
            "visibility": null,
            "align_self": null,
            "height": null,
            "min_height": null,
            "padding": null,
            "grid_auto_rows": null,
            "grid_gap": null,
            "max_width": null,
            "order": null,
            "_view_module_version": "1.2.0",
            "grid_template_areas": null,
            "object_position": null,
            "object_fit": null,
            "grid_auto_columns": null,
            "margin": null,
            "display": null,
            "left": null
          }
        },
        "a78b0e6723ea42ce8b9b2973af37e091": {
          "model_module": "@jupyter-widgets/controls",
          "model_name": "HBoxModel",
          "state": {
            "_view_name": "HBoxView",
            "_dom_classes": [],
            "_model_name": "HBoxModel",
            "_view_module": "@jupyter-widgets/controls",
            "_model_module_version": "1.5.0",
            "_view_count": null,
            "_view_module_version": "1.5.0",
            "box_style": "",
            "layout": "IPY_MODEL_060be92623d54d199cb919fa4850805e",
            "_model_module": "@jupyter-widgets/controls",
            "children": [
              "IPY_MODEL_1650e72aae734b3b969bd0818d5017c1",
              "IPY_MODEL_f69ceeea085d49bf8d938d6fe89a63bf"
            ]
          }
        },
        "060be92623d54d199cb919fa4850805e": {
          "model_module": "@jupyter-widgets/base",
          "model_name": "LayoutModel",
          "state": {
            "_view_name": "LayoutView",
            "grid_template_rows": null,
            "right": null,
            "justify_content": null,
            "_view_module": "@jupyter-widgets/base",
            "overflow": null,
            "_model_module_version": "1.2.0",
            "_view_count": null,
            "flex_flow": null,
            "width": null,
            "min_width": null,
            "border": null,
            "align_items": null,
            "bottom": null,
            "_model_module": "@jupyter-widgets/base",
            "top": null,
            "grid_column": null,
            "overflow_y": null,
            "overflow_x": null,
            "grid_auto_flow": null,
            "grid_area": null,
            "grid_template_columns": null,
            "flex": null,
            "_model_name": "LayoutModel",
            "justify_items": null,
            "grid_row": null,
            "max_height": null,
            "align_content": null,
            "visibility": null,
            "align_self": null,
            "height": null,
            "min_height": null,
            "padding": null,
            "grid_auto_rows": null,
            "grid_gap": null,
            "max_width": null,
            "order": null,
            "_view_module_version": "1.2.0",
            "grid_template_areas": null,
            "object_position": null,
            "object_fit": null,
            "grid_auto_columns": null,
            "margin": null,
            "display": null,
            "left": null
          }
        },
        "1650e72aae734b3b969bd0818d5017c1": {
          "model_module": "@jupyter-widgets/controls",
          "model_name": "FloatProgressModel",
          "state": {
            "_view_name": "ProgressView",
            "style": "IPY_MODEL_d12d7fb948ed4fe1981fab1633311831",
            "_dom_classes": [],
            "description": "100%",
            "_model_name": "FloatProgressModel",
            "bar_style": "success",
            "max": 1000,
            "_view_module": "@jupyter-widgets/controls",
            "_model_module_version": "1.5.0",
            "value": 1000,
            "_view_count": null,
            "_view_module_version": "1.5.0",
            "orientation": "horizontal",
            "min": 0,
            "description_tooltip": null,
            "_model_module": "@jupyter-widgets/controls",
            "layout": "IPY_MODEL_cc875cc7beac49f7a36821de6f7104a3"
          }
        },
        "f69ceeea085d49bf8d938d6fe89a63bf": {
          "model_module": "@jupyter-widgets/controls",
          "model_name": "HTMLModel",
          "state": {
            "_view_name": "HTMLView",
            "style": "IPY_MODEL_75af8c451af24859b5534f71570f5845",
            "_dom_classes": [],
            "description": "",
            "_model_name": "HTMLModel",
            "placeholder": "​",
            "_view_module": "@jupyter-widgets/controls",
            "_model_module_version": "1.5.0",
            "value": " 1000/1000 [03:52&lt;00:00,  4.30it/s]",
            "_view_count": null,
            "_view_module_version": "1.5.0",
            "description_tooltip": null,
            "_model_module": "@jupyter-widgets/controls",
            "layout": "IPY_MODEL_97263275aabd4b82914c36c1aac7e8ed"
          }
        },
        "d12d7fb948ed4fe1981fab1633311831": {
          "model_module": "@jupyter-widgets/controls",
          "model_name": "ProgressStyleModel",
          "state": {
            "_view_name": "StyleView",
            "_model_name": "ProgressStyleModel",
            "description_width": "initial",
            "_view_module": "@jupyter-widgets/base",
            "_model_module_version": "1.5.0",
            "_view_count": null,
            "_view_module_version": "1.2.0",
            "bar_color": null,
            "_model_module": "@jupyter-widgets/controls"
          }
        },
        "cc875cc7beac49f7a36821de6f7104a3": {
          "model_module": "@jupyter-widgets/base",
          "model_name": "LayoutModel",
          "state": {
            "_view_name": "LayoutView",
            "grid_template_rows": null,
            "right": null,
            "justify_content": null,
            "_view_module": "@jupyter-widgets/base",
            "overflow": null,
            "_model_module_version": "1.2.0",
            "_view_count": null,
            "flex_flow": null,
            "width": null,
            "min_width": null,
            "border": null,
            "align_items": null,
            "bottom": null,
            "_model_module": "@jupyter-widgets/base",
            "top": null,
            "grid_column": null,
            "overflow_y": null,
            "overflow_x": null,
            "grid_auto_flow": null,
            "grid_area": null,
            "grid_template_columns": null,
            "flex": null,
            "_model_name": "LayoutModel",
            "justify_items": null,
            "grid_row": null,
            "max_height": null,
            "align_content": null,
            "visibility": null,
            "align_self": null,
            "height": null,
            "min_height": null,
            "padding": null,
            "grid_auto_rows": null,
            "grid_gap": null,
            "max_width": null,
            "order": null,
            "_view_module_version": "1.2.0",
            "grid_template_areas": null,
            "object_position": null,
            "object_fit": null,
            "grid_auto_columns": null,
            "margin": null,
            "display": null,
            "left": null
          }
        },
        "75af8c451af24859b5534f71570f5845": {
          "model_module": "@jupyter-widgets/controls",
          "model_name": "DescriptionStyleModel",
          "state": {
            "_view_name": "StyleView",
            "_model_name": "DescriptionStyleModel",
            "description_width": "",
            "_view_module": "@jupyter-widgets/base",
            "_model_module_version": "1.5.0",
            "_view_count": null,
            "_view_module_version": "1.2.0",
            "_model_module": "@jupyter-widgets/controls"
          }
        },
        "97263275aabd4b82914c36c1aac7e8ed": {
          "model_module": "@jupyter-widgets/base",
          "model_name": "LayoutModel",
          "state": {
            "_view_name": "LayoutView",
            "grid_template_rows": null,
            "right": null,
            "justify_content": null,
            "_view_module": "@jupyter-widgets/base",
            "overflow": null,
            "_model_module_version": "1.2.0",
            "_view_count": null,
            "flex_flow": null,
            "width": null,
            "min_width": null,
            "border": null,
            "align_items": null,
            "bottom": null,
            "_model_module": "@jupyter-widgets/base",
            "top": null,
            "grid_column": null,
            "overflow_y": null,
            "overflow_x": null,
            "grid_auto_flow": null,
            "grid_area": null,
            "grid_template_columns": null,
            "flex": null,
            "_model_name": "LayoutModel",
            "justify_items": null,
            "grid_row": null,
            "max_height": null,
            "align_content": null,
            "visibility": null,
            "align_self": null,
            "height": null,
            "min_height": null,
            "padding": null,
            "grid_auto_rows": null,
            "grid_gap": null,
            "max_width": null,
            "order": null,
            "_view_module_version": "1.2.0",
            "grid_template_areas": null,
            "object_position": null,
            "object_fit": null,
            "grid_auto_columns": null,
            "margin": null,
            "display": null,
            "left": null
          }
        }
      }
    }
  },
  "cells": [
    {
      "cell_type": "markdown",
      "metadata": {
        "id": "0t0VPMzIGF5q"
      },
      "source": [
        "<a href=\"https://colab.research.google.com/drive/1EAovK1wc4DtuEXaL2iwLSttUrlQZDuY4?usp=sharing\"><img src=\"https://colab.research.google.com/assets/colab-badge.svg\" alt=\"Open in Colab\"></a>"
      ]
    },
    {
      "cell_type": "markdown",
      "metadata": {
        "id": "21GeBxezQyiT"
      },
      "source": [
        "If we want to save data to Google drive, first we should do this:"
      ]
    },
    {
      "cell_type": "code",
      "metadata": {
        "id": "738e3BHVQpzj"
      },
      "source": [
        "import os\n",
        "from google.colab import drive"
      ],
      "execution_count": 1,
      "outputs": []
    },
    {
      "cell_type": "code",
      "metadata": {
        "colab": {
          "base_uri": "https://localhost:8080/"
        },
        "id": "hqQbROrmQwQ2",
        "outputId": "302d34d3-6351-45c0-ba6e-0ba1b2232b17"
      },
      "source": [
        "drive.mount('/content/drive')\n",
        "os.chdir('drive/My Drive/ChukchiLM')"
      ],
      "execution_count": 2,
      "outputs": [
        {
          "output_type": "stream",
          "text": [
            "Drive already mounted at /content/drive; to attempt to forcibly remount, call drive.mount(\"/content/drive\", force_remount=True).\n"
          ],
          "name": "stdout"
        }
      ]
    },
    {
      "cell_type": "markdown",
      "metadata": {
        "id": "pM0VbCB_Fp9T"
      },
      "source": [
        "Download data and baseline implementation from Github:"
      ]
    },
    {
      "cell_type": "code",
      "metadata": {
        "colab": {
          "base_uri": "https://localhost:8080/"
        },
        "id": "Z_FIGEF4MTLX",
        "outputId": "f2a84c61-6f4c-4f98-f50e-d595b1a6017c"
      },
      "source": [
        "!git clone https://github.com/ftyers/global-classroom.git"
      ],
      "execution_count": 7,
      "outputs": [
        {
          "output_type": "stream",
          "text": [
            "Cloning into 'global-classroom'...\n",
            "remote: Enumerating objects: 42, done.\u001b[K\n",
            "remote: Counting objects: 100% (42/42), done.\u001b[K\n",
            "remote: Compressing objects: 100% (28/28), done.\u001b[K\n",
            "remote: Total 306 (delta 10), reused 39 (delta 7), pack-reused 264\u001b[K\n",
            "Receiving objects: 100% (306/306), 1.61 MiB | 20.08 MiB/s, done.\n",
            "Resolving deltas: 100% (131/131), done.\n"
          ],
          "name": "stdout"
        }
      ]
    },
    {
      "cell_type": "markdown",
      "metadata": {
        "id": "u9dRW_bjBVFX"
      },
      "source": [
        "# Baseline"
      ]
    },
    {
      "cell_type": "code",
      "metadata": {
        "colab": {
          "base_uri": "https://localhost:8080/"
        },
        "id": "WWVQjF8PBbj2",
        "outputId": "0eb6a832-b4b1-4db0-b728-43e2032078b5"
      },
      "source": [
        "os.listdir()"
      ],
      "execution_count": null,
      "outputs": [
        {
          "output_type": "execute_result",
          "data": {
            "text/plain": [
              "['global-classroom']"
            ]
          },
          "metadata": {
            "tags": []
          },
          "execution_count": 120
        }
      ]
    },
    {
      "cell_type": "code",
      "metadata": {
        "colab": {
          "base_uri": "https://localhost:8080/"
        },
        "id": "ECM5Y6VHBntK",
        "outputId": "22d19b7a-a2c9-46c3-80fc-96642dffe80f"
      },
      "source": [
        "os.chdir('global-classroom/chukchi/baseline')\n",
        "!python3 train.py ../data/train.tsv model.dat\n",
        "!python3 predict.py model.dat < ../data/dev.tsv > output.tsv\n",
        "!python3 ../evaluate.py ../data/dev.tsv output.tsv "
      ],
      "execution_count": 3,
      "outputs": [
        {
          "output_type": "stream",
          "text": [
            "Written 33724 unigrams and 107835 bigrams to model.dat.\n",
            "Hits: 33 ; Tokens: 4504\n",
            "Characters: 37897\n",
            "Tokens: 8788\n",
            "Clicks: 37754\n",
            "Clicks/Token: 4.2960855712335\n",
            "Clicks/Character: 0.9962266142438716\n"
          ],
          "name": "stdout"
        }
      ]
    },
    {
      "cell_type": "code",
      "metadata": {
        "colab": {
          "base_uri": "https://localhost:8080/"
        },
        "id": "oI_Pai61E9If",
        "outputId": "31f4ba71-657b-4eb5-e2e7-bb5af662dfbf"
      },
      "source": [
        "!python3 predict.py model.dat < ../data/test/test.tsv > output_test.tsv\n",
        "!python3 ../evaluate.py ../data/test/test.tsv output_test.tsv"
      ],
      "execution_count": null,
      "outputs": [
        {
          "output_type": "stream",
          "text": [
            "Hits: 33 ; Tokens: 4187\n",
            "Characters: 37927\n",
            "Tokens: 8374\n",
            "Clicks: 37768\n",
            "Clicks/Token: 4.510150465727251\n",
            "Clicks/Character: 0.995807735913729\n"
          ],
          "name": "stdout"
        }
      ]
    },
    {
      "cell_type": "code",
      "metadata": {
        "colab": {
          "base_uri": "https://localhost:8080/"
        },
        "id": "0zSr0VBcCJLJ",
        "outputId": "a3f1c171-c920-4f83-dc65-1674f5f18b05"
      },
      "source": [
        "!sed 20q < ../data/dev.tsv output.tsv "
      ],
      "execution_count": null,
      "outputs": [
        {
          "output_type": "stream",
          "text": [
            "ӄԓявыԓя риӄукэтэ ивнин ытри ынкы варкыт гынин ӈэвъэн гэԓгыԓин мэмыԓя рагтыгъэ\tӄԓявыԓ>я риӄукэ>тэ ив>ни>н ытри ын>кы варкы>т гын>ин ӈэвъэ>н гэ>ԓгы>ԓин мэмыԓ>я ра>гты>гъэ\n",
            "ӄԓявыԓ ынкъам купрэн ынанъомрычьын\tӄԓявыԓ ынкъам купрэн ынанъомры>чьы>н\n",
            "рытэнмавнэн ынӄо эргатык эквэтгъэт копрантыватысӄэквъат\tрытэ>нм>ав>нэн ынӄо эрг>атык эквэт>гъэ>т копра>нтыв>аты>сӄэк>въа>т\n",
            "риӄукэтэ гамгаваны нэнайӈоткоӄэн ӄоԓ\tриӄукэ>тэ га>мгав>аны н>эна>йӈо>тко>ӄэн ӄоԓ\n",
            "ԓьунин ынӄо йыӈотконэн\tԓьу>ни>н ынӄо йыӈо>тко>нэ>н\n",
            " эвын коԓё\t эвын коԓё\n",
            "тыкгаткэта ивнин риӄукэтэ\tты>кгат>кэ>та ив>ни>н риӄукэ>тэ\n",
            "йыӈотконэн эвын коԓё\tйыӈо>тко>нэ>н эвын коԓё\n",
            "тыкгаткэта\tты>кгат>кэ>та\n",
            "ивнин риӄукэтэ ынкы\tив>ни>н риӄукэ>тэ ын>кы\n",
            "рытваннэнат риӄукэтэ ивнин\tрытва>н>нэ>на>т риӄукэ>тэ ив>ни>н\n",
            "мачынан ынкы нытваркын ынӄо\tмачы>нан ын>кы ны>тва>ркын ынӄо\n",
            "эргатык купрэт ёпаннэнат эвын гакваԓен\tэрг>атык купрэт ё>пан>нэ>на>т эвын гаква>ԓен\n",
            "ӈавмэмыԓчыӈын ынӄо рырагтаннэн ынкъам\tӈавмэмы>ԓчы>ӈы>н ынӄо ры>ра>гт>ан>нэ>н ынкъам\n",
            "тэнуйгын йыннин\tтэну>йгы>н йын>ни>н\n",
            "ыттъын ратвынэн рывэнӈынин\tыттъы>н ра>твы>нэн рывэнӈы>нин\n",
            "авынаёԓьэты ԓинԓиӈ йытонэн мэмыԓыткынык рытриԓнин ынӄо ӄԓявыԓ\tавынаёԓь>эты ԓин>ԓиӈ йыто>нэ>н мэмы>ԓыткыны>к рыт>риԓ>ни>н ынӄо ӄԓявыԓ\n",
            "ӈытогъэ этъоӄайӄын рэсӄиквъи ԓюур\tӈыто>гъ>э этъо>ӄай>ӄын рэс>ӄ>ик>въ>и ԓюур\n",
            "рымъэйӈэнин ӄԓявыԓя\tрым>ъэйӈэ>ни>н ӄԓявыԓ>я\n",
            "ивнин ивнин ӈэвъэнйыръэ с амыным\tив>ни>н ив>ни>н ӈэвъэн>йыръ>э с ам>ыным\n"
          ],
          "name": "stdout"
        }
      ]
    },
    {
      "cell_type": "markdown",
      "metadata": {
        "id": "koHat64nEat9"
      },
      "source": [
        "In output.tsv we should have the original sentence and model output separated by tab. If the model's next word guess was right we append the whole word to output. If the model's guess was wrong, we append to the output each character separately. Between words we should add an underscore"
      ]
    },
    {
      "cell_type": "markdown",
      "metadata": {
        "id": "G3XIGnSfBYol"
      },
      "source": [
        "# Our model"
      ]
    },
    {
      "cell_type": "markdown",
      "metadata": {
        "id": "XGtWS7McI71p"
      },
      "source": [
        "## Data loading"
      ]
    },
    {
      "cell_type": "code",
      "metadata": {
        "id": "3Qh_IDLEFx0T"
      },
      "source": [
        "## Go three directories up\n",
        "os.chdir('..')\n",
        "os.chdir('..')\n",
        "os.chdir('..')"
      ],
      "execution_count": 4,
      "outputs": []
    },
    {
      "cell_type": "code",
      "metadata": {
        "id": "o25pfr3HNAwn"
      },
      "source": [
        "import os\n",
        "import re\n",
        "\n",
        "import torch as tt\n",
        "import torch.nn as nn\n",
        "import torch.optim as optim\n",
        "import pandas as pd\n",
        "\n",
        "from math import ceil\n",
        "from tqdm import tqdm_notebook\n",
        "\n",
        "from sklearn.metrics import accuracy_score, f1_score\n",
        "from sklearn.model_selection import train_test_split\n",
        "from torch.nn.utils import clip_grad_norm_\n",
        "\n",
        "from collections import Counter\n",
        "\n",
        "import numpy as np"
      ],
      "execution_count": 5,
      "outputs": []
    },
    {
      "cell_type": "code",
      "metadata": {
        "colab": {
          "base_uri": "https://localhost:8080/"
        },
        "id": "8PgtE8CAM8EY",
        "outputId": "2030d1cf-9512-4f8c-84cd-f90d38fb1a84"
      },
      "source": [
        "os.listdir(\"global-classroom/chukchi/data\")"
      ],
      "execution_count": null,
      "outputs": [
        {
          "output_type": "execute_result",
          "data": {
            "text/plain": [
              "['dev.tsv', 'test', 'train.tsv']"
            ]
          },
          "metadata": {
            "tags": []
          },
          "execution_count": 126
        }
      ]
    },
    {
      "cell_type": "markdown",
      "metadata": {
        "id": "BroCsayoxstY"
      },
      "source": [
        "Now, we load the train data and write both word tokenized and morph tokenized sentences to two lists - word_sentences and morph_sentences"
      ]
    },
    {
      "cell_type": "code",
      "metadata": {
        "id": "IaDqLO25NL4p"
      },
      "source": [
        "with open(\"global-classroom/chukchi/data/train.tsv\") as inp:\n",
        "  word_sentences = []\n",
        "  morph_sentences = []\n",
        "  for line in inp.readlines():\n",
        "    words, morphs = line.strip('\\n').split('\\t')\n",
        "    word_sentences.append(words.split(' '))\n",
        "    morph_sentences.append(morphs.replace('>',' >').split(' '))\n",
        "\n",
        "with open(\"global-classroom/chukchi/data/dev.tsv\") as inp:\n",
        "  dev_word_sentences = []\n",
        "  dev_morph_sentences = []\n",
        "  for line in inp.readlines():\n",
        "    words, morphs = line.strip('\\n').split('\\t')\n",
        "    dev_word_sentences.append(words.split(' '))\n",
        "    dev_morph_sentences.append(morphs.replace('>',' >').split(' '))\n",
        "\n",
        "with open(\"global-classroom/chukchi/data/test/test.tsv\") as inp:\n",
        "  test_word_sentences = []\n",
        "  test_morph_sentences = []\n",
        "  for line in inp.readlines():\n",
        "    words, morphs = line.strip('\\n').split('\\t')\n",
        "    test_word_sentences.append(words.split(' '))\n",
        "    test_morph_sentences.append(morphs.replace('>',' >').split(' '))"
      ],
      "execution_count": 6,
      "outputs": []
    },
    {
      "cell_type": "code",
      "metadata": {
        "colab": {
          "base_uri": "https://localhost:8080/"
        },
        "id": "pfwWe0gpGX-I",
        "outputId": "d8e4b030-364f-433e-abd4-dbfd09130c83"
      },
      "source": [
        "len(morph_sentences), len(dev_morph_sentences), len(test_morph_sentences)"
      ],
      "execution_count": null,
      "outputs": [
        {
          "output_type": "execute_result",
          "data": {
            "text/plain": [
              "(30000, 1000, 1006)"
            ]
          },
          "metadata": {
            "tags": []
          },
          "execution_count": 128
        }
      ]
    },
    {
      "cell_type": "markdown",
      "metadata": {
        "id": "PkQmeXg8x_ck"
      },
      "source": [
        "Let's see how our data looks by outputting the first three examples:"
      ]
    },
    {
      "cell_type": "code",
      "metadata": {
        "colab": {
          "base_uri": "https://localhost:8080/"
        },
        "id": "Bl7SMeakisY6",
        "outputId": "dcc53e8f-3bf4-4a60-89f2-800ade660423"
      },
      "source": [
        "print(word_sentences[:3])"
      ],
      "execution_count": null,
      "outputs": [
        {
          "output_type": "stream",
          "text": [
            "[['амаравкэваратэн', 'таа’койӈын'], ['йъйыӄык', 'ныӄэԓпэратӄэн', 'вытэчгытрыӄэргыԓьын', 'йыӈэттэт'], ['мыкыӈ', 'нывытрэтӄин', 'чеԓгатвытрыԓьо', 'ынӄорыым', 'вытэчгытрыԓьо']]\n"
          ],
          "name": "stdout"
        }
      ]
    },
    {
      "cell_type": "code",
      "metadata": {
        "colab": {
          "base_uri": "https://localhost:8080/"
        },
        "id": "wNeOwK_ji_oH",
        "outputId": "ce63879c-9d29-445c-ccb1-f5d26dfd38c2"
      },
      "source": [
        "print(morph_sentences[:3])"
      ],
      "execution_count": null,
      "outputs": [
        {
          "output_type": "stream",
          "text": [
            "[['а', '>маравкэва', '>ра', '>тэн', 'таа', '>’ко', '>йӈы', '>н'], ['йъйыӄы', '>к', 'ны', '>ӄэԓпэр', '>ат', '>ӄэн', 'вытэч', '>гытры', '>ӄэргы', '>ԓьы', '>н', 'йыӈэт', '>тэ', '>т'], ['мык', '>ы', '>ӈ', 'ны', '>вытрэт', '>ӄин', 'чеԓг', '>ат', '>вытры', '>ԓь', '>о', 'ынӄор', '>ыым', 'вытэч', '>гытры', '>ԓь', '>о']]\n"
          ],
          "name": "stdout"
        }
      ]
    },
    {
      "cell_type": "markdown",
      "metadata": {
        "id": "_4z-7s_QIY-b"
      },
      "source": [
        "Now, let's build a vocab. Let's count every unique word in sentences and create a two-way map from words to indices:"
      ]
    },
    {
      "cell_type": "code",
      "metadata": {
        "id": "OnXTHomGhv89"
      },
      "source": [
        "vocab = Counter([morph for sent in morph_sentences for morph in sent])"
      ],
      "execution_count": 9,
      "outputs": []
    },
    {
      "cell_type": "code",
      "metadata": {
        "colab": {
          "base_uri": "https://localhost:8080/"
        },
        "id": "2k-7N8wUijFB",
        "outputId": "c0894edc-4bf2-4cd2-aec9-4a87ab4f5f05"
      },
      "source": [
        "len(vocab), sum([v for k,v in vocab.items()])"
      ],
      "execution_count": 10,
      "outputs": [
        {
          "output_type": "execute_result",
          "data": {
            "text/plain": [
              "(19487, 318530)"
            ]
          },
          "metadata": {
            "tags": []
          },
          "execution_count": 10
        }
      ]
    },
    {
      "cell_type": "code",
      "metadata": {
        "colab": {
          "base_uri": "https://localhost:8080/"
        },
        "id": "fXUh9RNsG0az",
        "outputId": "4d67e3f8-f554-4696-c658-ed7653c63491"
      },
      "source": [
        "pd.Series(vocab).describe()"
      ],
      "execution_count": 11,
      "outputs": [
        {
          "output_type": "execute_result",
          "data": {
            "text/plain": [
              "count    19487.000000\n",
              "mean        16.345769\n",
              "std        189.081036\n",
              "min          1.000000\n",
              "25%          1.000000\n",
              "50%          1.000000\n",
              "75%          4.000000\n",
              "max      15991.000000\n",
              "dtype: float64"
            ]
          },
          "metadata": {
            "tags": []
          },
          "execution_count": 11
        }
      ]
    },
    {
      "cell_type": "markdown",
      "metadata": {
        "id": "14agEgfwG-k8"
      },
      "source": [
        "50% of words appear no more than once - might consider throwing them out"
      ]
    },
    {
      "cell_type": "code",
      "metadata": {
        "id": "dmSywNktyJau"
      },
      "source": [
        "id2word = [i for i in vocab] + ['<bos>','<eos>','<pad>','<unk>']\n",
        "word2id = {v:k for k,v in enumerate(id2word)}"
      ],
      "execution_count": 12,
      "outputs": []
    },
    {
      "cell_type": "markdown",
      "metadata": {
        "id": "t03WroZqIkTV"
      },
      "source": [
        "Here we use some special tokens:\n",
        "\n",
        "<b>\\<bos\\></b> - Begininng of sequence - so the model could predct first word in sentence\n",
        "\n",
        "<b>\\<eos\\></b> - End of sequence - so the model would know where to stop\n",
        "\n",
        "<b>\\<pad\\></b> - If the sentences in batch are of different length (which is almost always the case) insert \\<pad\\> tokens right before eos until the sentences are of equal length"
      ]
    },
    {
      "cell_type": "code",
      "metadata": {
        "colab": {
          "base_uri": "https://localhost:8080/"
        },
        "id": "tnNYpPVZ7kg-",
        "outputId": "2f12be1b-c144-427b-e30f-d97b205e0320"
      },
      "source": [
        "word2id['<bos>'], word2id['<eos>'], word2id['<pad>']"
      ],
      "execution_count": 13,
      "outputs": [
        {
          "output_type": "execute_result",
          "data": {
            "text/plain": [
              "(19487, 19488, 19489)"
            ]
          },
          "metadata": {
            "tags": []
          },
          "execution_count": 13
        }
      ]
    },
    {
      "cell_type": "markdown",
      "metadata": {
        "id": "-uP3hfFhGFK3"
      },
      "source": [
        "Now let's see the ditribution of sentence length in the training set:"
      ]
    },
    {
      "cell_type": "code",
      "metadata": {
        "id": "kret0tHWGNmT"
      },
      "source": [
        "sent_lens = [len(sent) for sent in morph_sentences]"
      ],
      "execution_count": null,
      "outputs": []
    },
    {
      "cell_type": "code",
      "metadata": {
        "colab": {
          "base_uri": "https://localhost:8080/"
        },
        "id": "-aWAbbKWG_lz",
        "outputId": "43f5027d-aae8-4cd3-fcc4-edfecf5990e9"
      },
      "source": [
        "pd.Series(sent_lens).describe()"
      ],
      "execution_count": null,
      "outputs": [
        {
          "output_type": "execute_result",
          "data": {
            "text/plain": [
              "count    30000.000000\n",
              "mean        10.617667\n",
              "std          7.877840\n",
              "min          1.000000\n",
              "25%          5.000000\n",
              "50%          9.000000\n",
              "75%         14.000000\n",
              "max         94.000000\n",
              "dtype: float64"
            ]
          },
          "metadata": {
            "tags": []
          },
          "execution_count": 138
        }
      ]
    },
    {
      "cell_type": "markdown",
      "metadata": {
        "id": "uiCLYASCIwLR"
      },
      "source": [
        "The average length of a sentence in dataset is 10.6 tokens, whereas the maximum length is 94 tokens."
      ]
    },
    {
      "cell_type": "markdown",
      "metadata": {
        "id": "3e1WQL0LJAZ7"
      },
      "source": [
        "## Model definition"
      ]
    },
    {
      "cell_type": "markdown",
      "metadata": {
        "id": "XRd3nYTJIcTU"
      },
      "source": [
        "Let's define our model"
      ]
    },
    {
      "cell_type": "code",
      "metadata": {
        "id": "Rhk4odypVmJh"
      },
      "source": [
        "class MyModel(nn.Module):\n",
        "    \n",
        "    def __init__(self, vocab_size, embed_size, hidden_size):\n",
        "        super(MyModel, self).__init__()\n",
        "        ## Learnable parameters:\n",
        "\n",
        "        # Embeddings:\n",
        "        self.embedding = nn.Embedding(vocab_size, embed_size)\n",
        "        \n",
        "        # LSTM layer - the recurrent part:\n",
        "        self.rnn = nn.LSTM(input_size=embed_size,\n",
        "                           hidden_size=hidden_size,\n",
        "                           bidirectional=True,\n",
        "                           batch_first=True)\n",
        "        \n",
        "        # Fully connected (linear) layer - for final decision\n",
        "        self.fc = nn.Linear(hidden_size * 2, vocab_size)\n",
        "        \n",
        "        # Set the initial values of weigths\n",
        "        self.init_weights()\n",
        "        \n",
        "    def init_weights(self):\n",
        "        '''Sets intitial values of model parameters'''\n",
        "        nn.init.uniform_(self.embedding.weight)\n",
        "        nn.init.xavier_uniform_(self.fc.weight)\n",
        "        nn.init.zeros_(self.fc.bias)\n",
        "        \n",
        "    def forward(self, x):\n",
        "        # how many sentences are in batch\n",
        "        batch_size = x.size(1)\n",
        "        # get length of a single sentence\n",
        "        total_length = x.size(0)\n",
        "        \n",
        "        # apply embedding layer to inputs:\n",
        "        x = self.embedding(x)\n",
        "\n",
        "        # apply recurrent layer to inputs:  \n",
        "        x, _ = self.rnn(x)\n",
        "        \n",
        "        # apply linear layer to inputs:\n",
        "        x = self.fc(x)\n",
        "        \n",
        "        return x#.transpose(1,2)"
      ],
      "execution_count": 14,
      "outputs": []
    },
    {
      "cell_type": "markdown",
      "metadata": {
        "id": "4VYMhbaEJFkC"
      },
      "source": [
        "## Training utils definition"
      ]
    },
    {
      "cell_type": "code",
      "metadata": {
        "id": "fJkaoP9CfMok"
      },
      "source": [
        "def _train_epoch(model, iterator, optimizer, criterion, curr_epoch, device, clip,\n",
        "                 pad_id):\n",
        "    '''\n",
        "    Function that runs model on train set for one epoch,\n",
        "    backpropagates gradient, updates weigths\n",
        "    and calcultes scores for train set\n",
        "\n",
        "    Arguments:\n",
        "\n",
        "    model - instance of MyModel\n",
        "    iterator - instance of MyBatchIterator\n",
        "    optimizer - instance of Torch optimizer (implements update of model weights)\n",
        "    criterion - Loss function from Torch\n",
        "    curr_epoch - number of current training epoch\n",
        "    device - an interface to device that performs calculations (CPU or GPU)\n",
        "    clip - a constant by which we clip the model gradient (to prevent it from 'exploding')\n",
        "    pad_id - index of padding token in our mapping\n",
        "    '''\n",
        "\n",
        "    model.train()\n",
        "    \n",
        "    epoch_loss, accuracy, f1score = 0, 0, 0\n",
        "\n",
        "    n_batches = len(iterator)\n",
        "    iterator = tqdm_notebook(iterator, total=n_batches, desc='epoch %d' % (curr_epoch), leave=True)\n",
        "\n",
        "    for i, (batch_in, batch_out) in enumerate(iterator):\n",
        "        optimizer.zero_grad()\n",
        "        \n",
        "        x = batch_in.to(device)\n",
        "        pred = model(x)\n",
        "        \n",
        "        y = batch_out.to(device)\n",
        "\n",
        "        loss = criterion(pred.transpose(2,1), y)\n",
        "\n",
        "        loss.backward()\n",
        "\n",
        "        clip_grad_norm_(model.parameters(), clip)\n",
        "\n",
        "        optimizer.step()\n",
        "\n",
        "        curr_loss = loss.data.cpu().detach().item()\n",
        "\n",
        "        y_flat, ypred_flat = batch_out.flatten().numpy(), pred.detach().cpu().argmax(dim=2).flatten().numpy()\n",
        "\n",
        "        curr_acc = accuracy_score(y_flat, ypred_flat)\n",
        "        curr_f1 = f1_score(y_flat, ypred_flat, average='micro')\n",
        "\n",
        "        accuracy += curr_acc\n",
        "        f1score += curr_f1\n",
        "\n",
        "        iterator.set_postfix(loss='%.5f' % curr_loss, acc='%.5f' % curr_acc, f1='%.5f'%curr_f1)\n",
        "\n",
        "    return epoch_loss/n_batches, accuracy/n_batches, f1score/n_batches\n",
        "\n",
        "def _test_epoch(model, iterator, criterion, device, pad_id):\n",
        "    '''Function that runs model on test set for one epoch and calcualtes scores on it\n",
        "\n",
        "    Arguments:\n",
        "\n",
        "    model - instance of MyModel\n",
        "    iterator - instance of MyBatchIterator\n",
        "    criterion - Loss function from Torch\n",
        "    device - an interface to device that performs calculations (CPU or GPU)\n",
        "    pad_id - index of padding token in our mapping'''\n",
        "    model.eval()\n",
        "    epoch_loss = 0\n",
        "\n",
        "    epoch_loss, accuracy, f1score = 0, 0, 0\n",
        "\n",
        "    n_batches = len(iterator)\n",
        "    with tt.no_grad():\n",
        "        for batch_in, batch_out in iterator:\n",
        "            \n",
        "            x, y = batch_in.to(device), batch_out.to(device)\n",
        "            pred = model(x)\n",
        "            loss = criterion(pred.transpose(2,1), y)\n",
        "            epoch_loss += loss.data.cpu().detach().item()\n",
        "\n",
        "            y_flat, ypred_flat = batch_out.flatten().numpy(), pred.detach().cpu().argmax(dim=2).flatten().numpy()\n",
        "\n",
        "            curr_acc = accuracy_score(y_flat, ypred_flat)\n",
        "            curr_f1 = f1_score(y_flat, ypred_flat, average='micro')\n",
        "\n",
        "            accuracy += curr_acc\n",
        "            f1score += curr_f1\n",
        "\n",
        "    return epoch_loss / n_batches, accuracy/n_batches, f1score/n_batches\n",
        "\n",
        "\n",
        "def nn_train(model, train_iterator, valid_iterator, criterion, optimizer, device, n_epochs=100,\n",
        "          scheduler=None, early_stopping=0, clip=1.0, pad_id=word2id['<pad>']):\n",
        "    '''\n",
        "    Train the model for specified number of epochs\n",
        "\n",
        "    Arguments:\n",
        "\n",
        "    model - instance of MyModel\n",
        "    train_iterator - instance of MyBatchIterator with training data\n",
        "    valid_iterator - instance of MyBatchIterator with validation data\n",
        "    criterion - Loss function from Torch\n",
        "    optimizer - instance of Torch optimizer (implements update of model weights)\n",
        "    curr_epoch - number of current training epoch\n",
        "    device - an interface to device that performs calculations (CPU or GPU)\n",
        "    n_epochs - number of training epochs\n",
        "    scheduler - a PyTorch learning rate scheduler (for manipulating learning rate)\n",
        "    early_stopping - number of epochs to wait before stopping training if the loss doesn't reduce\n",
        "    clip - a constant by which we clip the model gradient (to prevent it from 'exploding')\n",
        "    pad_id - index of padding token in our mapping\n",
        "    '''\n",
        "\n",
        "    prev_loss = float('inf')\n",
        "\n",
        "    es_epochs = 0\n",
        "    best_epoch = None\n",
        "    history = pd.DataFrame()\n",
        "\n",
        "    for epoch in range(n_epochs):\n",
        "        train_loss, train_acc, train_f1 = _train_epoch(model, train_iterator, optimizer, criterion, epoch, device, clip, pad_id)\n",
        "\n",
        "        print(f\"Epoch {epoch} Training loss: {np.round(train_loss, 4)} Training accuracy: {np.round(train_acc, 4)} Training F1: {np.round(train_f1, 4)}\")\n",
        "\n",
        "        valid_loss, valid_acc, valid_f1 = _test_epoch(model, valid_iterator, criterion, device, pad_id)\n",
        "\n",
        "        print(f\"Epoch {epoch} Validation loss: {np.round(valid_loss, 4)} Validation accuracy: {np.round(valid_acc, 4)} Validation F1: {np.round(valid_f1, 4)}\")\n",
        "\n",
        "        if valid_loss < prev_loss:\n",
        "          print(\"New record! Saving model\")\n",
        "          tt.save(model, 'lstm_morph_model')\n",
        "\n",
        "        record = {'epoch': epoch, 'train_loss': train_loss, 'train_acc': train_acc, 'train_f1': train_f1,\n",
        "                  'valid_loss': valid_loss, 'valid_acc': valid_acc, 'valid_f1': valid_f1}\n",
        "        history = history.append(record, ignore_index=True)\n",
        "\n",
        "        if early_stopping > 0:\n",
        "            if valid_loss > prev_loss:\n",
        "                es_epochs += 1\n",
        "            else:\n",
        "                es_epochs = 0\n",
        "\n",
        "            if es_epochs >= early_stopping:\n",
        "                best_epoch = history[history.valid_loss == history.valid_loss.min()].iloc[0]\n",
        "                print('Early stopping! best epoch: %d val %.5f' % (best_epoch['epoch'], best_epoch['valid_loss']))\n",
        "                break\n",
        "                \n",
        "        prev_loss = min(prev_loss, valid_loss)\n",
        "    return history"
      ],
      "execution_count": 15,
      "outputs": []
    },
    {
      "cell_type": "markdown",
      "metadata": {
        "id": "zhCIszTrJx-t"
      },
      "source": [
        "## Prepare data for training:"
      ]
    },
    {
      "cell_type": "code",
      "metadata": {
        "id": "ThP4bQnL3-XB"
      },
      "source": [
        "def code_sentences(sentences, mapping):\n",
        "  '''\n",
        "  Map tokens in our sentences to their indices\n",
        "  '''\n",
        "  out = []\n",
        "  for sent in sentences:\n",
        "    sent_out = []\n",
        "    for word in sent:\n",
        "      if word in mapping:\n",
        "        sent_out.append(mapping[word])\n",
        "      else:\n",
        "        sent_out.append(mapping['<unk>'])\n",
        "    out.append(sent_out)\n",
        "  return out\n",
        "\n",
        "def make_lm_dataset(sentences, word2id, seq_len):\n",
        "  '''Prepares data - creates sequences of selected length'''\n",
        "  text_new = []\n",
        "  for sent in sentences:\n",
        "    new_sent = ['<bos>'] + sent\n",
        "    text_new += new_sent\n",
        "    text_new += ['<pad>' for i in range(seq_len)]\n",
        "  \n",
        "  sents_in = []\n",
        "  sents_out = []\n",
        "\n",
        "  for word_id in range(len(text_new)-1):\n",
        "    sents_in.append(text_new[word_id:word_id+seq_len])\n",
        "    sents_out.append(text_new[word_id+1:word_id+seq_len+1])\n",
        "  return code_sentences(sents_in, word2id), code_sentences(sents_out, word2id)"
      ],
      "execution_count": 17,
      "outputs": []
    },
    {
      "cell_type": "code",
      "metadata": {
        "id": "zPFzfHDQ1FVF"
      },
      "source": [
        "def pad_sentences(sents, pad_id, max_len, append_eos=False):\n",
        "  '''Function that makes sentences same length'''\n",
        "  for sent_id, sent in enumerate(sents):\n",
        "    if len(sent) < max_len:\n",
        "      sents[sent_id] = sent + [pad_id for i in range(max_len-len(sent))]\n",
        "    elif len(sent) < max_len:\n",
        "      sents[sent_id] = sent[:max_len]\n",
        "  return sents\n",
        "\n",
        "\n",
        "def make_batch(batch_in, batch_out, pad_id, max_len):\n",
        "   '''\n",
        "   Function that converts Python lists to Torch tensors\n",
        "\n",
        "   batch_in - list of sequences (w_i,...,w_j) words from original text\n",
        "   batch_out - list of sequnces of (w_{i+1},...,w_{j+1}) words from original text\n",
        "   pad_id - id of <pad> token\n",
        "   max_len - maximum length of sentence\n",
        "   '''\n",
        "   max_len = min(max_len, max([len(sent) for sent in batch_in]))\n",
        "   batch_in = pad_sentences(batch_in, pad_id, max_len)\n",
        "   batch_out = pad_sentences(batch_out, pad_id, max_len)\n",
        "   return tt.LongTensor(batch_in), tt.LongTensor(batch_out)\n",
        "\n",
        "class MyBatchIterator:\n",
        "  def __init__(self, sents_in, sents_out, batch_size=128,\n",
        "              pad_id=word2id['<pad>'], max_len=5):\n",
        "    '''\n",
        "    An object that will return a new portion of our input and target data with every loop\n",
        "    '''\n",
        "    self.sents_in = sents_in\n",
        "    self.sents_out = sents_out\n",
        "    self.batch_size = batch_size\n",
        "    self.pad_id = pad_id\n",
        "    self.max_len = max_len\n",
        "  \n",
        "  def __iter__(self):\n",
        "    self.start = 0\n",
        "    return self\n",
        "  \n",
        "  def __next__(self):\n",
        "    if self.start >= len(self.sents_in):\n",
        "      raise StopIteration\n",
        "    batch_in = self.sents_in[self.start:self.start+self.batch_size]\n",
        "    batch_out = self.sents_out[self.start:self.start+self.batch_size]\n",
        "    self.start += self.batch_size\n",
        "    return make_batch(batch_in, batch_out, self.pad_id, self.max_len)\n",
        "  \n",
        "  def __len__(self):\n",
        "    return ceil(len(self.sents_in)/self.batch_size)"
      ],
      "execution_count": 22,
      "outputs": []
    },
    {
      "cell_type": "markdown",
      "metadata": {
        "id": "4EbPDNrl6EVp"
      },
      "source": [
        "A hyperparameter: length of input sequence"
      ]
    },
    {
      "cell_type": "code",
      "metadata": {
        "id": "tj-xg4nr6JIA"
      },
      "source": [
        "SEQ_LEN = 5"
      ],
      "execution_count": 23,
      "outputs": []
    },
    {
      "cell_type": "markdown",
      "metadata": {
        "id": "ROiKJxTk6Pu4"
      },
      "source": [
        "Let's prepare our dataset:"
      ]
    },
    {
      "cell_type": "code",
      "metadata": {
        "id": "JcjcVlBo23KY"
      },
      "source": [
        "sents_in, sents_out = make_lm_dataset(morph_sentences, word2id, SEQ_LEN)\n",
        "sents_in_dev, sents_out_dev = make_lm_dataset(dev_morph_sentences, word2id, SEQ_LEN)\n",
        "sents_in_test, sents_out_test = make_lm_dataset(test_morph_sentences, word2id, SEQ_LEN)"
      ],
      "execution_count": 24,
      "outputs": []
    },
    {
      "cell_type": "code",
      "metadata": {
        "colab": {
          "base_uri": "https://localhost:8080/"
        },
        "id": "E37tMeevBiKX",
        "outputId": "8d4d0d15-279b-4eb4-d10c-e0de7bb34fde"
      },
      "source": [
        "sents_in[:4]"
      ],
      "execution_count": null,
      "outputs": [
        {
          "output_type": "execute_result",
          "data": {
            "text/plain": [
              "[[19487, 0, 1, 2, 3], [0, 1, 2, 3, 4], [1, 2, 3, 4, 5], [2, 3, 4, 5, 6]]"
            ]
          },
          "metadata": {
            "tags": []
          },
          "execution_count": 144
        }
      ]
    },
    {
      "cell_type": "code",
      "metadata": {
        "colab": {
          "base_uri": "https://localhost:8080/"
        },
        "id": "sUesaHQ2BxtZ",
        "outputId": "99d0144b-64d0-4fea-94d9-aecd4bbc23d8"
      },
      "source": [
        "sents_out[:4]"
      ],
      "execution_count": null,
      "outputs": [
        {
          "output_type": "execute_result",
          "data": {
            "text/plain": [
              "[[0, 1, 2, 3, 4], [1, 2, 3, 4, 5], [2, 3, 4, 5, 6], [3, 4, 5, 6, 7]]"
            ]
          },
          "metadata": {
            "tags": []
          },
          "execution_count": 145
        }
      ]
    },
    {
      "cell_type": "code",
      "metadata": {
        "id": "_jKmus5gB1ij"
      },
      "source": [
        "X_train, y_train = sents_in, sents_out\n",
        "X_dev, y_dev = sents_in_dev, sents_out_dev\n",
        "X_test, y_test = sents_in_test, sents_out_test"
      ],
      "execution_count": null,
      "outputs": []
    },
    {
      "cell_type": "code",
      "metadata": {
        "colab": {
          "base_uri": "https://localhost:8080/"
        },
        "id": "-Ps_qZ4sGrO1",
        "outputId": "e791d21c-8c5a-4126-f7c4-8536f5a07c0e"
      },
      "source": [
        "len(X_train), len(X_test)"
      ],
      "execution_count": null,
      "outputs": [
        {
          "output_type": "execute_result",
          "data": {
            "text/plain": [
              "(498529, 16567)"
            ]
          },
          "metadata": {
            "tags": []
          },
          "execution_count": 147
        }
      ]
    },
    {
      "cell_type": "markdown",
      "metadata": {
        "id": "OXdPggamJfQc"
      },
      "source": [
        "## Training model on data"
      ]
    },
    {
      "cell_type": "markdown",
      "metadata": {
        "id": "qS5iYvFfLJ08"
      },
      "source": [
        "Create batch iterators for data:"
      ]
    },
    {
      "cell_type": "code",
      "metadata": {
        "id": "LQ310F75GfQj"
      },
      "source": [
        "train_iter = MyBatchIterator(X_train[:-1], y_train[:-1], max_len=SEQ_LEN)\n",
        "test_iter = MyBatchIterator(X_dev, y_dev, max_len=SEQ_LEN)"
      ],
      "execution_count": null,
      "outputs": []
    },
    {
      "cell_type": "markdown",
      "metadata": {
        "id": "7QHh8QixLONJ"
      },
      "source": [
        "Select device for training:"
      ]
    },
    {
      "cell_type": "code",
      "metadata": {
        "id": "Uzo6jS-PI30g"
      },
      "source": [
        "device = tt.device('cuda')"
      ],
      "execution_count": null,
      "outputs": []
    },
    {
      "cell_type": "markdown",
      "metadata": {
        "id": "g2r76984LRpz"
      },
      "source": [
        "Initalize model:"
      ]
    },
    {
      "cell_type": "code",
      "metadata": {
        "id": "gDKsGF7SIjGv"
      },
      "source": [
        "model = MyModel(len(word2id), 100, 100).to(device)"
      ],
      "execution_count": null,
      "outputs": []
    },
    {
      "cell_type": "code",
      "metadata": {
        "id": "IZ2ceS33IwOx"
      },
      "source": [
        "criterion = nn.CrossEntropyLoss(ignore_index=word2id[\"<pad>\"]).to(device)\n",
        "optimizer = tt.optim.Adam(model.parameters())\n",
        "scheduler = tt.optim.lr_scheduler.ReduceLROnPlateau(optimizer, patience=10)"
      ],
      "execution_count": null,
      "outputs": []
    },
    {
      "cell_type": "markdown",
      "metadata": {
        "id": "feekUc-tLV_M"
      },
      "source": [
        "Start training:"
      ]
    },
    {
      "cell_type": "code",
      "metadata": {
        "colab": {
          "base_uri": "https://localhost:8080/",
          "height": 1000,
          "referenced_widgets": [
            "97167efc9e6749bbb2a2d99c41c0aacf",
            "4b6442e33a4e4e06bec14c83cd698ad8",
            "8e06e62905ab46b382c88a633b6ef32b",
            "f44c8d34fd36442aa28479edf2ad7ff7",
            "b8f58d335755409a83634f6126a74ce6",
            "ebd9b7b6d187406f98918b6c404c66de",
            "3318dd17d78d4499a2fadac70566d9da",
            "7718edae5b114806b6c8e3d4c36c6c75",
            "94e9435d44c541d8b73ce2baf05a6767",
            "90463b0bd0624db5a90ab0d656b0bac0",
            "e571bc55850a4bcd9782f50f62ad06ea",
            "9d610bb76d254d7392a65d526e8cc5f0",
            "0597c6959f754dafbc951f11810b431f",
            "0a3f20a786d54576b3f566c23d4fdc8c",
            "e460823fa76646edb4f88d5d93339fbe",
            "299dc7b6de3e4b519a16c48995a73c04",
            "3b77a3de1bd34bd7b09c4813e4187fcd",
            "1390db7bde6d4f82916551ae1ac924dd",
            "66e9e6aeb13845d7a6bf836896e95f85",
            "bec4e7d1101c47deb4bba00e7bbeda25",
            "9096189aec53433394a2939bcdb16052",
            "d143f6b1f2d34ac8b0b8923ca8b9283b",
            "dfd890c34ab046778e4c1a1bb088305a",
            "7da117ba1fa94127bd708a91a6a30a58",
            "d47fbb4695eb4cee95492e937a2b9826",
            "06d5382ac5904dc1b2f2aec2e5b53fec",
            "db0ad7a1842b4f0ab6065a383fb35337",
            "eec70a3a2de74c189ff7e301ac1adfbe",
            "416a72d1ced045b88fb92d6872b0a28a",
            "b0ca20028c1f40c0987954a2eb8ed44a",
            "e5ecea60f02d401fbad2baf6b5ea5024",
            "85724895186944c8b99b63a265482d78",
            "3f9810f62eec45ee876186c2b2354938",
            "a98a2f14243b4724be546849c9e74a38",
            "1ff68b1134df4ca6a81ffa7578ef69fc",
            "2ba469e5306341f3a4b2414f9c40e0ec",
            "c70c5fa716a6420ca8ad9abe22095ede",
            "072422f0322642639bb91d8fe545afdd",
            "50f40a440b6441b4b510074cbf8caac5",
            "5e715cb933c8431a8baeda8788926747",
            "5f3e3d0ce63140caa446ec3fcd9fa0af",
            "eb06adcb1987412fa7f7a5cd6c7f8e77",
            "108df31346874f2481d50951b8514062",
            "a1811f4bf98a49249244ba0e469bba8b",
            "0b498b047a14439a9d6a944b23453295",
            "a76c2b65e6ea4d50be3f0d1be968d10a",
            "52604fc122274fd3a4a12bd2f2158366",
            "468c93c3916f49469d53411167043cf2",
            "d76b46559dd346f7ad59bdd016880021",
            "05f6cc8465ac40eea6780544eeb6f209",
            "30469314735245e1a5ec1e49eaf44345",
            "a576090b54374207b775c13616e7786a",
            "83ef1081415b4c7a9ea8f091dcbf339d",
            "9571a95090584a4f9d7ad86be2c861e2",
            "5d63d0953fac464282cf27b26fd6d851",
            "0d2c8bac1fc644fb949c86c34c95df9b",
            "59f35cfb672f49d69ada7d9645b0f5aa",
            "4e9fa322d3614b0ca880ef517f6fa8dc",
            "e5e04364f3c84d4295954eb9f311c893",
            "0ca837eecf8e4578b63de358bcf5ae81",
            "944ffc2f90f54d39ad9a9bbead84e448",
            "b3b61a3ac2594c42816021c3b6cfb8bb",
            "4da16020dc494e3aafa0f2027acc1046",
            "280b4372100f4ec69be6d036e81a72db",
            "c7eda23b913449c09167aa6ab9fb6967",
            "2dda4b311b0d4f90a8ec6e6b91299eb2",
            "3c40969335e64c2d8f7e2b9994eb9670",
            "9183993302954630a0a6008cf166ecda",
            "7ed93044546b4c09bf604687a7aede7c",
            "9e576913998f47ebbb25ede49b17b930",
            "f00d429aba56453d80c079c871b08f30",
            "32d3cca9f979421698e8963fa3a57f9a",
            "62fe8ae3791744f5a52d95af8678a8a9",
            "0b4797baf8cd4b1fa0925b4e726c28e4",
            "4cc9743e760e4505898102f1d57cf163",
            "415e401bcaf5454b87d0fb72f4a9fe8b",
            "c2f1cecceb374b4b9d0af4b78e68425c",
            "d108ff2833944340bb464322ba65cd45",
            "6f045d6dd7d14ec188384d31b29677a2",
            "30303a422afb405caabcd22725811a02"
          ]
        },
        "id": "GMHvYnqgKaSn",
        "outputId": "5789d9c7-cbd2-4bad-b502-e3825c317535"
      },
      "source": [
        "history_df = nn_train(model, train_iter, test_iter, criterion, optimizer, device, n_epochs=10, scheduler=scheduler)"
      ],
      "execution_count": null,
      "outputs": [
        {
          "output_type": "stream",
          "text": [
            "/usr/local/lib/python3.7/dist-packages/ipykernel_launcher.py:9: TqdmDeprecationWarning: This function will be removed in tqdm==5.0.0\n",
            "Please use `tqdm.notebook.tqdm` instead of `tqdm.tqdm_notebook`\n",
            "  if __name__ == '__main__':\n"
          ],
          "name": "stderr"
        },
        {
          "output_type": "display_data",
          "data": {
            "application/vnd.jupyter.widget-view+json": {
              "model_id": "97167efc9e6749bbb2a2d99c41c0aacf",
              "version_minor": 0,
              "version_major": 2
            },
            "text/plain": [
              "HBox(children=(FloatProgress(value=0.0, description='epoch 0', max=3895.0, style=ProgressStyle(description_wid…"
            ]
          },
          "metadata": {
            "tags": []
          }
        },
        {
          "output_type": "stream",
          "text": [
            "\n",
            "Epoch 0 Training loss: 0.0 Training accuracy: 0.3038 Training F1: 0.3038\n",
            "Epoch 0 Validation loss: 2.5042 Validation accuracy: 0.4712 Validation F1: 0.4712\n",
            "New record! Saving model\n"
          ],
          "name": "stdout"
        },
        {
          "output_type": "display_data",
          "data": {
            "application/vnd.jupyter.widget-view+json": {
              "model_id": "94e9435d44c541d8b73ce2baf05a6767",
              "version_minor": 0,
              "version_major": 2
            },
            "text/plain": [
              "HBox(children=(FloatProgress(value=0.0, description='epoch 1', max=3895.0, style=ProgressStyle(description_wid…"
            ]
          },
          "metadata": {
            "tags": []
          }
        },
        {
          "output_type": "stream",
          "text": [
            "\n",
            "Epoch 1 Training loss: 0.0 Training accuracy: 0.4927 Training F1: 0.4927\n",
            "Epoch 1 Validation loss: 2.0647 Validation accuracy: 0.5265 Validation F1: 0.5265\n",
            "New record! Saving model\n"
          ],
          "name": "stdout"
        },
        {
          "output_type": "display_data",
          "data": {
            "application/vnd.jupyter.widget-view+json": {
              "model_id": "3b77a3de1bd34bd7b09c4813e4187fcd",
              "version_minor": 0,
              "version_major": 2
            },
            "text/plain": [
              "HBox(children=(FloatProgress(value=0.0, description='epoch 2', max=3895.0, style=ProgressStyle(description_wid…"
            ]
          },
          "metadata": {
            "tags": []
          }
        },
        {
          "output_type": "stream",
          "text": [
            "\n",
            "Epoch 2 Training loss: 0.0 Training accuracy: 0.5415 Training F1: 0.5415\n",
            "Epoch 2 Validation loss: 1.9748 Validation accuracy: 0.5474 Validation F1: 0.5474\n",
            "New record! Saving model\n"
          ],
          "name": "stdout"
        },
        {
          "output_type": "display_data",
          "data": {
            "application/vnd.jupyter.widget-view+json": {
              "model_id": "d47fbb4695eb4cee95492e937a2b9826",
              "version_minor": 0,
              "version_major": 2
            },
            "text/plain": [
              "HBox(children=(FloatProgress(value=0.0, description='epoch 3', max=3895.0, style=ProgressStyle(description_wid…"
            ]
          },
          "metadata": {
            "tags": []
          }
        },
        {
          "output_type": "stream",
          "text": [
            "\n",
            "Epoch 3 Training loss: 0.0 Training accuracy: 0.5681 Training F1: 0.5681\n",
            "Epoch 3 Validation loss: 1.9498 Validation accuracy: 0.5573 Validation F1: 0.5573\n",
            "New record! Saving model\n"
          ],
          "name": "stdout"
        },
        {
          "output_type": "display_data",
          "data": {
            "application/vnd.jupyter.widget-view+json": {
              "model_id": "3f9810f62eec45ee876186c2b2354938",
              "version_minor": 0,
              "version_major": 2
            },
            "text/plain": [
              "HBox(children=(FloatProgress(value=0.0, description='epoch 4', max=3895.0, style=ProgressStyle(description_wid…"
            ]
          },
          "metadata": {
            "tags": []
          }
        },
        {
          "output_type": "stream",
          "text": [
            "\n",
            "Epoch 4 Training loss: 0.0 Training accuracy: 0.5894 Training F1: 0.5894\n",
            "Epoch 4 Validation loss: 1.9361 Validation accuracy: 0.5613 Validation F1: 0.5613\n",
            "New record! Saving model\n"
          ],
          "name": "stdout"
        },
        {
          "output_type": "display_data",
          "data": {
            "application/vnd.jupyter.widget-view+json": {
              "model_id": "5f3e3d0ce63140caa446ec3fcd9fa0af",
              "version_minor": 0,
              "version_major": 2
            },
            "text/plain": [
              "HBox(children=(FloatProgress(value=0.0, description='epoch 5', max=3895.0, style=ProgressStyle(description_wid…"
            ]
          },
          "metadata": {
            "tags": []
          }
        },
        {
          "output_type": "stream",
          "text": [
            "\n",
            "Epoch 5 Training loss: 0.0 Training accuracy: 0.6041 Training F1: 0.6041\n",
            "Epoch 5 Validation loss: 1.9251 Validation accuracy: 0.5636 Validation F1: 0.5636\n",
            "New record! Saving model\n"
          ],
          "name": "stdout"
        },
        {
          "output_type": "display_data",
          "data": {
            "application/vnd.jupyter.widget-view+json": {
              "model_id": "d76b46559dd346f7ad59bdd016880021",
              "version_minor": 0,
              "version_major": 2
            },
            "text/plain": [
              "HBox(children=(FloatProgress(value=0.0, description='epoch 6', max=3895.0, style=ProgressStyle(description_wid…"
            ]
          },
          "metadata": {
            "tags": []
          }
        },
        {
          "output_type": "stream",
          "text": [
            "\n",
            "Epoch 6 Training loss: 0.0 Training accuracy: 0.6117 Training F1: 0.6117\n",
            "Epoch 6 Validation loss: 1.9177 Validation accuracy: 0.5647 Validation F1: 0.5647\n",
            "New record! Saving model\n"
          ],
          "name": "stdout"
        },
        {
          "output_type": "display_data",
          "data": {
            "application/vnd.jupyter.widget-view+json": {
              "model_id": "59f35cfb672f49d69ada7d9645b0f5aa",
              "version_minor": 0,
              "version_major": 2
            },
            "text/plain": [
              "HBox(children=(FloatProgress(value=0.0, description='epoch 7', max=3895.0, style=ProgressStyle(description_wid…"
            ]
          },
          "metadata": {
            "tags": []
          }
        },
        {
          "output_type": "stream",
          "text": [
            "\n",
            "Epoch 7 Training loss: 0.0 Training accuracy: 0.6156 Training F1: 0.6156\n",
            "Epoch 7 Validation loss: 1.9198 Validation accuracy: 0.5648 Validation F1: 0.5648\n"
          ],
          "name": "stdout"
        },
        {
          "output_type": "display_data",
          "data": {
            "application/vnd.jupyter.widget-view+json": {
              "model_id": "c7eda23b913449c09167aa6ab9fb6967",
              "version_minor": 0,
              "version_major": 2
            },
            "text/plain": [
              "HBox(children=(FloatProgress(value=0.0, description='epoch 8', max=3895.0, style=ProgressStyle(description_wid…"
            ]
          },
          "metadata": {
            "tags": []
          }
        },
        {
          "output_type": "stream",
          "text": [
            "\n",
            "Epoch 8 Training loss: 0.0 Training accuracy: 0.618 Training F1: 0.618\n",
            "Epoch 8 Validation loss: 1.9366 Validation accuracy: 0.5647 Validation F1: 0.5647\n"
          ],
          "name": "stdout"
        },
        {
          "output_type": "display_data",
          "data": {
            "application/vnd.jupyter.widget-view+json": {
              "model_id": "62fe8ae3791744f5a52d95af8678a8a9",
              "version_minor": 0,
              "version_major": 2
            },
            "text/plain": [
              "HBox(children=(FloatProgress(value=0.0, description='epoch 9', max=3895.0, style=ProgressStyle(description_wid…"
            ]
          },
          "metadata": {
            "tags": []
          }
        },
        {
          "output_type": "stream",
          "text": [
            "\n",
            "Epoch 9 Training loss: 0.0 Training accuracy: 0.6199 Training F1: 0.6199\n",
            "Epoch 9 Validation loss: 1.9216 Validation accuracy: 0.5649 Validation F1: 0.5649\n"
          ],
          "name": "stdout"
        }
      ]
    },
    {
      "cell_type": "markdown",
      "metadata": {
        "id": "CxcnT7gUNeUO"
      },
      "source": [
        "## Example of model prediction:"
      ]
    },
    {
      "cell_type": "markdown",
      "metadata": {
        "id": "tWndh7fUI_dr"
      },
      "source": [
        "Now let's write code for text prediction"
      ]
    },
    {
      "cell_type": "code",
      "metadata": {
        "id": "8Fxdclx6JDXw"
      },
      "source": [
        "class LMPredictor:\n",
        "  def __init__(self, model, id2word, word2id):\n",
        "    self.model = model\n",
        "    self.id2word = id2word\n",
        "    self.word2id = word2id\n",
        "\n",
        "  def predict(self, sent):\n",
        "    sent = [self.word2id['<bos>']] + [self.word2id[word] if word in self.word2id else self.word2id['<unk>'] for word in sent]\n",
        "    sent = [sent]\n",
        "    sent = tt.LongTensor(sent)\n",
        "    output = model(sent)\n",
        "    new_word = output.argmax(dim=2)[0][-1]\n",
        "    return self.id2word[new_word]"
      ],
      "execution_count": 25,
      "outputs": []
    },
    {
      "cell_type": "code",
      "metadata": {
        "id": "GvlP1w1pLSWS"
      },
      "source": [
        "device = tt.device('cpu')\n",
        "model = tt.load('lstm_morph_model').to(device)"
      ],
      "execution_count": 26,
      "outputs": []
    },
    {
      "cell_type": "code",
      "metadata": {
        "id": "O6LwuvtsgYsX"
      },
      "source": [
        "predictor = LMPredictor(model, id2word, word2id)"
      ],
      "execution_count": 27,
      "outputs": []
    },
    {
      "cell_type": "markdown",
      "metadata": {
        "id": "LzJDS223LdVH"
      },
      "source": [
        "Let's see how model works on one sentence from dev set"
      ]
    },
    {
      "cell_type": "code",
      "metadata": {
        "id": "wsQh9zO5oIwy",
        "colab": {
          "base_uri": "https://localhost:8080/"
        },
        "outputId": "14c4d51e-9af8-4048-c788-14f33ba4e77c"
      },
      "source": [
        "sent = dev_morph_sentences[0]\n",
        "for i in range(len(sent)):\n",
        "  feed = sent[:i]\n",
        "  predicted = predictor.predict(feed)\n",
        "  print(f\"Item: {sent[i]} Predicted: {predicted}\")"
      ],
      "execution_count": 28,
      "outputs": [
        {
          "output_type": "stream",
          "text": [
            "Item: ӄԓявыԓ Predicted: ны\n",
            "Item: >я Predicted: >я\n",
            "Item: риӄукэ Predicted: ынкъам\n",
            "Item: >тэ Predicted: >тэ\n",
            "Item: ив Predicted: ив\n",
            "Item: >ни Predicted: >ни\n",
            "Item: >н Predicted: >н\n",
            "Item: ытри Predicted: ӈин\n",
            "Item: ын Predicted: гэ\n",
            "Item: >кы Predicted: >кы\n",
            "Item: варкы Predicted: >ри\n",
            "Item: >т Predicted: >т\n",
            "Item: гын Predicted: ынкъам\n",
            "Item: >ин Predicted: >ин\n",
            "Item: ӈэвъэ Predicted: >рин\n",
            "Item: >н Predicted: >н\n",
            "Item: гэ Predicted: ынкъам\n",
            "Item: >ԓгы Predicted: >мо\n",
            "Item: >ԓин Predicted: >ԓин\n",
            "Item: мэмыԓ Predicted: ԓыгэн\n",
            "Item: >я Predicted: >тэ\n",
            "Item: ра Predicted: ынкъам\n",
            "Item: >гты Predicted: >гты\n",
            "Item: >гъэ Predicted: >гъэ\n"
          ],
          "name": "stdout"
        }
      ]
    },
    {
      "cell_type": "markdown",
      "metadata": {
        "id": "hjArvxsxwtsS"
      },
      "source": [
        "## Scoring on test set"
      ]
    },
    {
      "cell_type": "markdown",
      "metadata": {
        "id": "intEyo5lpBQF"
      },
      "source": [
        "Let's count word accuracy on test set:"
      ]
    },
    {
      "cell_type": "code",
      "metadata": {
        "id": "v3dk2vTjpFGa",
        "colab": {
          "base_uri": "https://localhost:8080/",
          "height": 117,
          "referenced_widgets": [
            "a5605ad7c4d74d9b8948391ae8b02e7a",
            "a793ef62d57a4424b60bfceacbd966b0",
            "62c55f8098b04403b69c6a9943624a41",
            "42381155f8884eb9b0d2c4dfdd455004",
            "50a752e5aaa0415e91de01fee5adb477",
            "6304fd3a3cc645039e15c2fcfb035459",
            "a411b5a750f24003bbde603ae03f2c26",
            "8a09ef87e6144304a6d230ffde60b7e9"
          ]
        },
        "outputId": "1cc24085-6348-4aba-9891-f0871bc356a6"
      },
      "source": [
        "## count accuracy\n",
        "acc = 0\n",
        "output = []\n",
        "dev_test = []\n",
        "for sent in tqdm_notebook(test_morph_sentences, total=len(test_morph_sentences)):\n",
        "  sent_acc = 0\n",
        "  for i in range(len(sent)):\n",
        "    feed = sent[:i]\n",
        "    predicted = predictor.predict(feed)\n",
        "    if predicted == sent[i]:\n",
        " #     if predicted == '<eos>':\n",
        " #       continue\n",
        " #     sent_acc += 1\n",
        " #     else:\n",
        "      output.append(predicted)\n",
        "      sent_acc += 1\n",
        "    else:\n",
        "      output += [c for c in sent[i]]\n",
        "    if i!=0:\n",
        "      if i == len(sent)-1:\n",
        "        output.append('_')\n",
        "      elif not sent[i+1].startswith('>'):\n",
        "        output.append('_')\n",
        "  output.append('\\n')\n",
        "  acc += sent_acc/len(sent)\n",
        "acc = acc/len(test_morph_sentences)\n",
        "listToStr = ' '.join(map(str, output)).replace('>',' ')\n",
        "listToStr = re.sub(' +', ' ', listToStr)"
      ],
      "execution_count": 29,
      "outputs": [
        {
          "output_type": "stream",
          "text": [
            "/usr/local/lib/python3.7/dist-packages/ipykernel_launcher.py:5: TqdmDeprecationWarning: This function will be removed in tqdm==5.0.0\n",
            "Please use `tqdm.notebook.tqdm` instead of `tqdm.tqdm_notebook`\n",
            "  \"\"\"\n"
          ],
          "name": "stderr"
        },
        {
          "output_type": "display_data",
          "data": {
            "application/vnd.jupyter.widget-view+json": {
              "model_id": "a5605ad7c4d74d9b8948391ae8b02e7a",
              "version_minor": 0,
              "version_major": 2
            },
            "text/plain": [
              "HBox(children=(FloatProgress(value=0.0, max=1006.0), HTML(value='')))"
            ]
          },
          "metadata": {
            "tags": []
          }
        },
        {
          "output_type": "stream",
          "text": [
            "\n"
          ],
          "name": "stdout"
        }
      ]
    },
    {
      "cell_type": "code",
      "metadata": {
        "id": "cIpitgQzKo_t"
      },
      "source": [
        "output1 = list(listToStr.split('\\n'))"
      ],
      "execution_count": 30,
      "outputs": []
    },
    {
      "cell_type": "code",
      "metadata": {
        "colab": {
          "base_uri": "https://localhost:8080/"
        },
        "id": "RVmoo4tkKrRA",
        "outputId": "98979186-a263-41cb-9176-c78832f6f4de"
      },
      "source": [
        "output1[:10]"
      ],
      "execution_count": 31,
      "outputs": [
        {
          "output_type": "execute_result",
          "data": {
            "text/plain": [
              "['г ы м нин _ ы т л ь а т _ ы ’ т т ъ у в и _ ы н к ъ а м _ о ’ м р ы т в а а л _ ',\n",
              " ' п у у р ъ у э п ы _ г ы м нин _ о ’ м _ о ’ м р ы к в о т _ н э м ы ӄ э й _ ӄ о р а г ы н р э т ы л ь о _ н и т ӄин _ ',\n",
              " ' г ы м нин _ ы т л ы г ы т _ ы т л ь ’ а т э _ ӄ о н п ы _ э м н у ӈ кы _ н ы м и г ч и р эт ӄ и н э т _ н э м ы ӄ э й _ ӄ о р а г ы н р э т ы л ь о _ н и т ӄ и н э т _ ',\n",
              " ' ы н к ъ а м м у р и _ г а ч а к э т т о м г а _ г э _ г э е г т э л ь м у р и _ к а в р а г ы р г ы н _ ы н к ъ а м _ г ы м _ ',\n",
              " ' ы т р ъ э ч е _ ӈ и р э ӄ _ н э н э н э т _ в а г ъ э т _ ',\n",
              " ' ы т р ъ э ч ',\n",
              " ' к ы т у р ы н ӈ ы т э ӄ э _ м э д в э д э в _ п р э з и д э н т о _ э н м а _ к а н ч а л я н э т ы _ г э р э м к и ч и л ь и н _ ',\n",
              " ' ы н к ъ а л ю у т _ ӈ ы р ъ а _ в э р т а л ё т т э _ в а к ъ о г ъ а т ӈ а _ ',\n",
              " ' ны н ы п ч е ӈ и в й и в ӄ и н _ к о л ё _ н ы м н ы м а _ м э д в э д э в ъ ы м _ ',\n",
              " ' г э ч е в кы _ н ы н т ы ӄ и н _ т а ӈ к о л ё _ ы н кы _ н ы г ы н р и т ӄ и н _ ']"
            ]
          },
          "metadata": {
            "tags": []
          },
          "execution_count": 31
        }
      ]
    },
    {
      "cell_type": "code",
      "metadata": {
        "colab": {
          "base_uri": "https://localhost:8080/"
        },
        "id": "lrrXpegnK0tO",
        "outputId": "3b9e6e56-1740-4ad0-f396-7304e4f7097e"
      },
      "source": [
        "!sed 10q < global-classroom/chukchi/data/test/test.tsv"
      ],
      "execution_count": null,
      "outputs": [
        {
          "output_type": "stream",
          "text": [
            "гымнин ытльат ы’ттъуви ынкъам о’мрытваал\tгым>нин ытльа>т ы’ттъуви ынкъам о’мрытваал>\n",
            "пууръу эпы гымнин о’м о’мрыквот нэмыӄэй ӄорагынрэтыльо нитӄин\tпууръу эпы гым>нин о’м о’мрыквот нэмыӄэй ӄора>гынрэты>ль>о н>ит>ӄин\n",
            "гымнин ытлыгыт ытль’атэ ӄонпы эмнуӈкы нымигчирэтӄинэт нэмыӄэй ӄорагынрэтыльо нитӄинэт\tгым>нин ытлыгы>т ытль’а>т>э ӄонпы эмнуӈ>кы ны>мигчир>эт>ӄинэ>т нэмыӄэй ӄора>гынрэты>ль>о нитӄинэт\n",
            "ынкъам мури гачакэттомга гэ гэегтэльмури каврагыргын ынкъам гым\tынкъам мури га>чакэт>томг>а гэ гэ>егтэль>мури каврагыргы>н ынкъам гым\n",
            "ытръэче ӈирэӄ нэнэнэт вагъэт\tытръэч>е ӈирэӄ нэнэнэ>т ва>гъэ>т\n",
            "ытръэч\tытръэч\n",
            "кытур ынӈытэӄэ мэдвэдэв прэзидэнто энма канчалянэты гэрэмкичильин\tкытур ынӈытэӄ>э мэдвэдэв прэзидэнт>о эн>ма канчалян>эты гэ>рэмкичи>льин\n",
            "ынкъа люут ӈыръа вэрталёттэ вакъогъатӈа\tынкъа люут ӈыръа вэрталёт>тэ вакъо>гъа>т>ӈа\n",
            "ныныпчеӈивйивӄин колё нымныма мэдвэдэвъым\tны>ны>пчеӈи>в>йив>ӄин колё нымным>а мэдвэдэв>>ъым\n",
            "гэчевкы нынтыӄин таӈколё ынкы ныгынритӄин\tгэчев>кы ны>нты>ӄин таӈ>колё ын>кы ны>гынрит>ӄин\n"
          ],
          "name": "stdout"
        }
      ]
    },
    {
      "cell_type": "code",
      "metadata": {
        "id": "0VZtxIBNIKeA"
      },
      "source": [
        "with open(\"global-classroom/chukchi/data/test/test.tsv\") as inp:\n",
        "  for line in inp.readlines():\n",
        "    words, morphs = line.strip('\\n').split('\\t')\n",
        "    dev_test.append(words)\n",
        "  dev_test.append('\\n')\n",
        "import csv\n",
        "with open('output_test_lstm.tsv', 'w') as out_file:\n",
        "    tsv_writer = csv.writer(out_file, delimiter='\\t')\n",
        "    tsv_writer.writerows(zip(dev_test, output1))"
      ],
      "execution_count": 32,
      "outputs": []
    },
    {
      "cell_type": "code",
      "metadata": {
        "id": "JNI_wjt6_YHe",
        "colab": {
          "base_uri": "https://localhost:8080/"
        },
        "outputId": "09553cd5-0ee7-4249-83d2-0d23d657bf70"
      },
      "source": [
        "acc"
      ],
      "execution_count": 33,
      "outputs": [
        {
          "output_type": "execute_result",
          "data": {
            "text/plain": [
              "0.11955693984085125"
            ]
          },
          "metadata": {
            "tags": []
          },
          "execution_count": 33
        }
      ]
    },
    {
      "cell_type": "code",
      "metadata": {
        "colab": {
          "base_uri": "https://localhost:8080/"
        },
        "id": "7u-WHrm_LPkh",
        "outputId": "b7fc36ca-a781-4154-9688-acded6d73c66"
      },
      "source": [
        "!sed 10q < output_test_lstm.tsv"
      ],
      "execution_count": 34,
      "outputs": [
        {
          "output_type": "stream",
          "text": [
            "гымнин ытльат ы’ттъуви ынкъам о’мрытваал\tг ы м нин _ ы т л ь а т _ ы ’ т т ъ у в и _ ы н к ъ а м _ о ’ м р ы т в а а л _ \r\n",
            "пууръу эпы гымнин о’м о’мрыквот нэмыӄэй ӄорагынрэтыльо нитӄин\t п у у р ъ у э п ы _ г ы м нин _ о ’ м _ о ’ м р ы к в о т _ н э м ы ӄ э й _ ӄ о р а г ы н р э т ы л ь о _ н и т ӄин _ \r\n",
            "гымнин ытлыгыт ытль’атэ ӄонпы эмнуӈкы нымигчирэтӄинэт нэмыӄэй ӄорагынрэтыльо нитӄинэт\t г ы м нин _ ы т л ы г ы т _ ы т л ь ’ а т э _ ӄ о н п ы _ э м н у ӈ кы _ н ы м и г ч и р эт ӄ и н э т _ н э м ы ӄ э й _ ӄ о р а г ы н р э т ы л ь о _ н и т ӄ и н э т _ \r\n",
            "ынкъам мури гачакэттомга гэ гэегтэльмури каврагыргын ынкъам гым\t ы н к ъ а м м у р и _ г а ч а к э т т о м г а _ г э _ г э е г т э л ь м у р и _ к а в р а г ы р г ы н _ ы н к ъ а м _ г ы м _ \r\n",
            "ытръэче ӈирэӄ нэнэнэт вагъэт\t ы т р ъ э ч е _ ӈ и р э ӄ _ н э н э н э т _ в а г ъ э т _ \r\n",
            "ытръэч\t ы т р ъ э ч \r\n",
            "кытур ынӈытэӄэ мэдвэдэв прэзидэнто энма канчалянэты гэрэмкичильин\t к ы т у р ы н ӈ ы т э ӄ э _ м э д в э д э в _ п р э з и д э н т о _ э н м а _ к а н ч а л я н э т ы _ г э р э м к и ч и л ь и н _ \r\n",
            "ынкъа люут ӈыръа вэрталёттэ вакъогъатӈа\t ы н к ъ а л ю у т _ ӈ ы р ъ а _ в э р т а л ё т т э _ в а к ъ о г ъ а т ӈ а _ \r\n",
            "ныныпчеӈивйивӄин колё нымныма мэдвэдэвъым\t ны н ы п ч е ӈ и в й и в ӄ и н _ к о л ё _ н ы м н ы м а _ м э д в э д э в ъ ы м _ \r\n",
            "гэчевкы нынтыӄин таӈколё ынкы ныгынритӄин\t г э ч е в кы _ н ы н т ы ӄ и н _ т а ӈ к о л ё _ ы н кы _ н ы г ы н р и т ӄ и н _ \r\n"
          ],
          "name": "stdout"
        }
      ]
    },
    {
      "cell_type": "code",
      "metadata": {
        "colab": {
          "base_uri": "https://localhost:8080/"
        },
        "id": "3hWwldQnczjC",
        "outputId": "5cf24419-c544-42e3-b441-4c2d0ce3d5bf"
      },
      "source": [
        "!python3 global-classroom/chukchi/evaluate.py global-classroom/chukchi/data/test/test.tsv output_test_lstm.tsv "
      ],
      "execution_count": 35,
      "outputs": [
        {
          "output_type": "stream",
          "text": [
            "Characters: 37927\n",
            "Tokens: 8374\n",
            "Clicks: 37358\n",
            "Clicks/Token: 4.461189395748746\n",
            "Clicks/Character: 0.9849974951881245\n"
          ],
          "name": "stdout"
        }
      ]
    },
    {
      "cell_type": "markdown",
      "metadata": {
        "id": "gcfZ-lbLwzg0"
      },
      "source": [
        "## Scoring on dev set"
      ]
    },
    {
      "cell_type": "code",
      "metadata": {
        "colab": {
          "base_uri": "https://localhost:8080/",
          "height": 137,
          "referenced_widgets": [
            "a78b0e6723ea42ce8b9b2973af37e091",
            "060be92623d54d199cb919fa4850805e",
            "1650e72aae734b3b969bd0818d5017c1",
            "f69ceeea085d49bf8d938d6fe89a63bf",
            "d12d7fb948ed4fe1981fab1633311831",
            "cc875cc7beac49f7a36821de6f7104a3",
            "75af8c451af24859b5534f71570f5845",
            "97263275aabd4b82914c36c1aac7e8ed"
          ]
        },
        "id": "aA5-IzA3w2Th",
        "outputId": "3564a6cf-b61b-49f2-8245-6bed96d90215"
      },
      "source": [
        "## count accuracy\n",
        "dev_acc = 0\n",
        "output = []\n",
        "dev_test = []\n",
        "for sent in tqdm_notebook(dev_morph_sentences, total=len(dev_morph_sentences)):\n",
        "  sent_acc = 0\n",
        "  for i in range(len(sent)):\n",
        "    feed = sent[:i]\n",
        "    predicted = predictor.predict(feed)\n",
        "    if predicted == sent[i]:\n",
        " #     if predicted == '<eos>':\n",
        " #       continue\n",
        " #     sent_acc += 1\n",
        " #     else:\n",
        "      output.append(predicted)\n",
        "      sent_acc += 1\n",
        "    else:\n",
        "      output += [c for c in sent[i]]\n",
        "    if i!=0:\n",
        "      if i == len(sent)-1:\n",
        "        output.append('_')\n",
        "      elif not sent[i+1].startswith('>'):\n",
        "        output.append('_')\n",
        "  output.append('\\n')\n",
        "  dev_acc += sent_acc/len(sent)\n",
        "dev_acc = dev_acc/len(dev_morph_sentences)\n",
        "listToStr = ' '.join(map(str, output)).replace('>',' ')\n",
        "listToStr = re.sub(' +', ' ', listToStr)"
      ],
      "execution_count": 36,
      "outputs": [
        {
          "output_type": "stream",
          "text": [
            "/usr/local/lib/python3.7/dist-packages/ipykernel_launcher.py:5: TqdmDeprecationWarning: This function will be removed in tqdm==5.0.0\n",
            "Please use `tqdm.notebook.tqdm` instead of `tqdm.tqdm_notebook`\n",
            "  \"\"\"\n"
          ],
          "name": "stderr"
        },
        {
          "output_type": "display_data",
          "data": {
            "application/vnd.jupyter.widget-view+json": {
              "model_id": "a78b0e6723ea42ce8b9b2973af37e091",
              "version_minor": 0,
              "version_major": 2
            },
            "text/plain": [
              "HBox(children=(FloatProgress(value=0.0, max=1000.0), HTML(value='')))"
            ]
          },
          "metadata": {
            "tags": []
          }
        },
        {
          "output_type": "stream",
          "text": [
            "\n"
          ],
          "name": "stdout"
        }
      ]
    },
    {
      "cell_type": "code",
      "metadata": {
        "id": "5C0qlccQyK3d"
      },
      "source": [
        "output1 = list(listToStr.split('\\n'))"
      ],
      "execution_count": 37,
      "outputs": []
    },
    {
      "cell_type": "code",
      "metadata": {
        "colab": {
          "base_uri": "https://localhost:8080/"
        },
        "id": "G3hWWwZ3xPV3",
        "outputId": "e432edc8-0ec2-4477-93d5-ada2b7ea61ab"
      },
      "source": [
        "dev_acc"
      ],
      "execution_count": 38,
      "outputs": [
        {
          "output_type": "execute_result",
          "data": {
            "text/plain": [
              "0.2760651385429509"
            ]
          },
          "metadata": {
            "tags": []
          },
          "execution_count": 38
        }
      ]
    },
    {
      "cell_type": "code",
      "metadata": {
        "id": "43waeaxjxw6y"
      },
      "source": [
        "with open(\"global-classroom/chukchi/data/dev.tsv\") as inp:\n",
        "  for line in inp.readlines():\n",
        "    words, morphs = line.strip('\\n').split('\\t')\n",
        "    dev_test.append(words)\n",
        "  dev_test.append('\\n')\n",
        "import csv\n",
        "with open('output_dev_lstm.tsv', 'w') as out_file:\n",
        "    tsv_writer = csv.writer(out_file, delimiter='\\t')\n",
        "    tsv_writer.writerows(zip(dev_test, output1))"
      ],
      "execution_count": 39,
      "outputs": []
    },
    {
      "cell_type": "code",
      "metadata": {
        "colab": {
          "base_uri": "https://localhost:8080/"
        },
        "id": "9OU3k4Fyx6Yg",
        "outputId": "4c104f72-004c-497b-d9d8-1e368729c773"
      },
      "source": [
        "!sed 10q < output_dev_lstm.tsv"
      ],
      "execution_count": 40,
      "outputs": [
        {
          "output_type": "stream",
          "text": [
            "ӄԓявыԓя риӄукэтэ ивнин ытри ынкы варкыт гынин ӈэвъэн гэԓгыԓин мэмыԓя рагтыгъэ\tӄ ԓ я в ы ԓ я _ р и ӄ у к э тэ _ ив ни н _ ы т р и _ ы н кы _ в а р к ы т _ г ы н ин _ ӈ э в ъ э н _ г э ԓ г ы ԓин _ м э м ы ԓ я _ р а гты гъэ _ \r\n",
            "ӄԓявыԓ ынкъам купрэн ынанъомрычьын\t ӄ ԓ я в ы ԓ ы н к ъ а м _ к у п р э н _ ы н а н ъ о м р ы ч ь ы н _ \r\n",
            "рытэнмавнэн ынӄо эргатык эквэтгъэт копрантыватысӄэквъат\t р ы т э нм ав н э н _ ы н ӄ о _ э р г атык _ э к в э т г ъ э т _ к о п р а н т ы в аты с ӄ э к в ъ а т _ \r\n",
            "риӄукэтэ гамгаваны нэнайӈоткоӄэн ӄоԓ\t р и ӄ у к э т э _ г а м г а в а н ы _ н эна й ӈ о т к о ӄэн _ ӄ о ԓ _ \r\n",
            "ԓьунин ынӄо йыӈотконэн\t ԓ ь у ни н _ ы н ӄ о _ й ы ӈ о тко н э н _ \r\n",
            " эвын коԓё\t эвын _ к о ԓ ё _ \r\n",
            "тыкгаткэта ивнин риӄукэтэ\t т ы к г а т к э т а _ и в ни н _ р и ӄ у к э тэ _ \r\n",
            "йыӈотконэн эвын коԓё\t й ы ӈ о тко н э н _ э в ы н _ к о ԓ ё _ \r\n",
            "тыкгаткэта\t т ы к г а т к э т а _ \r\n",
            "ивнин риӄукэтэ ынкы\t и в ни н _ р и ӄ у к э тэ _ ы н кы _ \r\n"
          ],
          "name": "stdout"
        }
      ]
    },
    {
      "cell_type": "code",
      "metadata": {
        "colab": {
          "base_uri": "https://localhost:8080/"
        },
        "id": "pjDvXBGqydMh",
        "outputId": "b12c0f96-13ef-4759-ba4d-f2b1bb424978"
      },
      "source": [
        "!python3 global-classroom/chukchi/evaluate.py global-classroom/chukchi/data/dev.tsv output_dev_lstm.tsv "
      ],
      "execution_count": 41,
      "outputs": [
        {
          "output_type": "stream",
          "text": [
            "Characters: 37897\n",
            "Tokens: 8788\n",
            "Clicks: 35372\n",
            "Clicks/Token: 4.025034137460173\n",
            "Clicks/Character: 0.9333720347257038\n"
          ],
          "name": "stdout"
        }
      ]
    }
  ]
}