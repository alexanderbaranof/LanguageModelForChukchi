{
  "nbformat": 4,
  "nbformat_minor": 0,
  "metadata": {
    "accelerator": "GPU",
    "colab": {
      "name": "Chukchi CNN model (token convolution)",
      "provenance": [],
      "collapsed_sections": []
    },
    "kernelspec": {
      "display_name": "Python 3",
      "name": "python3"
    },
    "widgets": {
      "application/vnd.jupyter.widget-state+json": {
        "dda112bd71f14ffd87ce9bed4ed353ee": {
          "model_module": "@jupyter-widgets/controls",
          "model_name": "HBoxModel",
          "state": {
            "_view_name": "HBoxView",
            "_dom_classes": [],
            "_model_name": "HBoxModel",
            "_view_module": "@jupyter-widgets/controls",
            "_model_module_version": "1.5.0",
            "_view_count": null,
            "_view_module_version": "1.5.0",
            "box_style": "",
            "layout": "IPY_MODEL_3dde3b2b77804125bc4e53228db75623",
            "_model_module": "@jupyter-widgets/controls",
            "children": [
              "IPY_MODEL_7ef85e53df8a41419e9ec37a4a8fcc3e",
              "IPY_MODEL_ddac60ffc967488a871c8155176f5d4c"
            ]
          }
        },
        "3dde3b2b77804125bc4e53228db75623": {
          "model_module": "@jupyter-widgets/base",
          "model_name": "LayoutModel",
          "state": {
            "_view_name": "LayoutView",
            "grid_template_rows": null,
            "right": null,
            "justify_content": null,
            "_view_module": "@jupyter-widgets/base",
            "overflow": null,
            "_model_module_version": "1.2.0",
            "_view_count": null,
            "flex_flow": null,
            "width": null,
            "min_width": null,
            "border": null,
            "align_items": null,
            "bottom": null,
            "_model_module": "@jupyter-widgets/base",
            "top": null,
            "grid_column": null,
            "overflow_y": null,
            "overflow_x": null,
            "grid_auto_flow": null,
            "grid_area": null,
            "grid_template_columns": null,
            "flex": null,
            "_model_name": "LayoutModel",
            "justify_items": null,
            "grid_row": null,
            "max_height": null,
            "align_content": null,
            "visibility": null,
            "align_self": null,
            "height": null,
            "min_height": null,
            "padding": null,
            "grid_auto_rows": null,
            "grid_gap": null,
            "max_width": null,
            "order": null,
            "_view_module_version": "1.2.0",
            "grid_template_areas": null,
            "object_position": null,
            "object_fit": null,
            "grid_auto_columns": null,
            "margin": null,
            "display": null,
            "left": null
          }
        },
        "7ef85e53df8a41419e9ec37a4a8fcc3e": {
          "model_module": "@jupyter-widgets/controls",
          "model_name": "FloatProgressModel",
          "state": {
            "_view_name": "ProgressView",
            "style": "IPY_MODEL_e27d046c517c47aa8d3dcc6f270d9f84",
            "_dom_classes": [],
            "description": "epoch 0: 100%",
            "_model_name": "FloatProgressModel",
            "bar_style": "success",
            "max": 3895,
            "_view_module": "@jupyter-widgets/controls",
            "_model_module_version": "1.5.0",
            "value": 3895,
            "_view_count": null,
            "_view_module_version": "1.5.0",
            "orientation": "horizontal",
            "min": 0,
            "description_tooltip": null,
            "_model_module": "@jupyter-widgets/controls",
            "layout": "IPY_MODEL_96583bc45b60425fa8e01cac1e467781"
          }
        },
        "ddac60ffc967488a871c8155176f5d4c": {
          "model_module": "@jupyter-widgets/controls",
          "model_name": "HTMLModel",
          "state": {
            "_view_name": "HTMLView",
            "style": "IPY_MODEL_e1defd7d8aa64b64b318aba4ef12342d",
            "_dom_classes": [],
            "description": "",
            "_model_name": "HTMLModel",
            "placeholder": "​",
            "_view_module": "@jupyter-widgets/controls",
            "_model_module_version": "1.5.0",
            "value": " 3895/3895 [18:13&lt;00:00,  3.56it/s, acc=0.29032, f1=0.29032, loss=3.35590]",
            "_view_count": null,
            "_view_module_version": "1.5.0",
            "description_tooltip": null,
            "_model_module": "@jupyter-widgets/controls",
            "layout": "IPY_MODEL_bd220a6d6c7640d18485846e40a0f185"
          }
        },
        "e27d046c517c47aa8d3dcc6f270d9f84": {
          "model_module": "@jupyter-widgets/controls",
          "model_name": "ProgressStyleModel",
          "state": {
            "_view_name": "StyleView",
            "_model_name": "ProgressStyleModel",
            "description_width": "initial",
            "_view_module": "@jupyter-widgets/base",
            "_model_module_version": "1.5.0",
            "_view_count": null,
            "_view_module_version": "1.2.0",
            "bar_color": null,
            "_model_module": "@jupyter-widgets/controls"
          }
        },
        "96583bc45b60425fa8e01cac1e467781": {
          "model_module": "@jupyter-widgets/base",
          "model_name": "LayoutModel",
          "state": {
            "_view_name": "LayoutView",
            "grid_template_rows": null,
            "right": null,
            "justify_content": null,
            "_view_module": "@jupyter-widgets/base",
            "overflow": null,
            "_model_module_version": "1.2.0",
            "_view_count": null,
            "flex_flow": null,
            "width": null,
            "min_width": null,
            "border": null,
            "align_items": null,
            "bottom": null,
            "_model_module": "@jupyter-widgets/base",
            "top": null,
            "grid_column": null,
            "overflow_y": null,
            "overflow_x": null,
            "grid_auto_flow": null,
            "grid_area": null,
            "grid_template_columns": null,
            "flex": null,
            "_model_name": "LayoutModel",
            "justify_items": null,
            "grid_row": null,
            "max_height": null,
            "align_content": null,
            "visibility": null,
            "align_self": null,
            "height": null,
            "min_height": null,
            "padding": null,
            "grid_auto_rows": null,
            "grid_gap": null,
            "max_width": null,
            "order": null,
            "_view_module_version": "1.2.0",
            "grid_template_areas": null,
            "object_position": null,
            "object_fit": null,
            "grid_auto_columns": null,
            "margin": null,
            "display": null,
            "left": null
          }
        },
        "e1defd7d8aa64b64b318aba4ef12342d": {
          "model_module": "@jupyter-widgets/controls",
          "model_name": "DescriptionStyleModel",
          "state": {
            "_view_name": "StyleView",
            "_model_name": "DescriptionStyleModel",
            "description_width": "",
            "_view_module": "@jupyter-widgets/base",
            "_model_module_version": "1.5.0",
            "_view_count": null,
            "_view_module_version": "1.2.0",
            "_model_module": "@jupyter-widgets/controls"
          }
        },
        "bd220a6d6c7640d18485846e40a0f185": {
          "model_module": "@jupyter-widgets/base",
          "model_name": "LayoutModel",
          "state": {
            "_view_name": "LayoutView",
            "grid_template_rows": null,
            "right": null,
            "justify_content": null,
            "_view_module": "@jupyter-widgets/base",
            "overflow": null,
            "_model_module_version": "1.2.0",
            "_view_count": null,
            "flex_flow": null,
            "width": null,
            "min_width": null,
            "border": null,
            "align_items": null,
            "bottom": null,
            "_model_module": "@jupyter-widgets/base",
            "top": null,
            "grid_column": null,
            "overflow_y": null,
            "overflow_x": null,
            "grid_auto_flow": null,
            "grid_area": null,
            "grid_template_columns": null,
            "flex": null,
            "_model_name": "LayoutModel",
            "justify_items": null,
            "grid_row": null,
            "max_height": null,
            "align_content": null,
            "visibility": null,
            "align_self": null,
            "height": null,
            "min_height": null,
            "padding": null,
            "grid_auto_rows": null,
            "grid_gap": null,
            "max_width": null,
            "order": null,
            "_view_module_version": "1.2.0",
            "grid_template_areas": null,
            "object_position": null,
            "object_fit": null,
            "grid_auto_columns": null,
            "margin": null,
            "display": null,
            "left": null
          }
        },
        "3833736b2bdc4e47921493f5284bf84e": {
          "model_module": "@jupyter-widgets/controls",
          "model_name": "HBoxModel",
          "state": {
            "_view_name": "HBoxView",
            "_dom_classes": [],
            "_model_name": "HBoxModel",
            "_view_module": "@jupyter-widgets/controls",
            "_model_module_version": "1.5.0",
            "_view_count": null,
            "_view_module_version": "1.5.0",
            "box_style": "",
            "layout": "IPY_MODEL_9870ece2edb2459dbbf1eae4d622f0bc",
            "_model_module": "@jupyter-widgets/controls",
            "children": [
              "IPY_MODEL_a980fa7dca4e488aae2ed87ad70a4e80",
              "IPY_MODEL_1759e4d985d246f2ba6fca0a2e70bd95"
            ]
          }
        },
        "9870ece2edb2459dbbf1eae4d622f0bc": {
          "model_module": "@jupyter-widgets/base",
          "model_name": "LayoutModel",
          "state": {
            "_view_name": "LayoutView",
            "grid_template_rows": null,
            "right": null,
            "justify_content": null,
            "_view_module": "@jupyter-widgets/base",
            "overflow": null,
            "_model_module_version": "1.2.0",
            "_view_count": null,
            "flex_flow": null,
            "width": null,
            "min_width": null,
            "border": null,
            "align_items": null,
            "bottom": null,
            "_model_module": "@jupyter-widgets/base",
            "top": null,
            "grid_column": null,
            "overflow_y": null,
            "overflow_x": null,
            "grid_auto_flow": null,
            "grid_area": null,
            "grid_template_columns": null,
            "flex": null,
            "_model_name": "LayoutModel",
            "justify_items": null,
            "grid_row": null,
            "max_height": null,
            "align_content": null,
            "visibility": null,
            "align_self": null,
            "height": null,
            "min_height": null,
            "padding": null,
            "grid_auto_rows": null,
            "grid_gap": null,
            "max_width": null,
            "order": null,
            "_view_module_version": "1.2.0",
            "grid_template_areas": null,
            "object_position": null,
            "object_fit": null,
            "grid_auto_columns": null,
            "margin": null,
            "display": null,
            "left": null
          }
        },
        "a980fa7dca4e488aae2ed87ad70a4e80": {
          "model_module": "@jupyter-widgets/controls",
          "model_name": "FloatProgressModel",
          "state": {
            "_view_name": "ProgressView",
            "style": "IPY_MODEL_9ed928a96a14413a9d49be1458a6093a",
            "_dom_classes": [],
            "description": "epoch 1: 100%",
            "_model_name": "FloatProgressModel",
            "bar_style": "success",
            "max": 3895,
            "_view_module": "@jupyter-widgets/controls",
            "_model_module_version": "1.5.0",
            "value": 3895,
            "_view_count": null,
            "_view_module_version": "1.5.0",
            "orientation": "horizontal",
            "min": 0,
            "description_tooltip": null,
            "_model_module": "@jupyter-widgets/controls",
            "layout": "IPY_MODEL_aac1c57d4e3f40c98caccac035d66e81"
          }
        },
        "1759e4d985d246f2ba6fca0a2e70bd95": {
          "model_module": "@jupyter-widgets/controls",
          "model_name": "HTMLModel",
          "state": {
            "_view_name": "HTMLView",
            "style": "IPY_MODEL_909c99ee75744dc5b80fd635b4ee52bd",
            "_dom_classes": [],
            "description": "",
            "_model_name": "HTMLModel",
            "placeholder": "​",
            "_view_module": "@jupyter-widgets/controls",
            "_model_module_version": "1.5.0",
            "value": " 3895/3895 [16:38&lt;00:00,  3.90it/s, acc=0.32258, f1=0.32258, loss=2.99493]",
            "_view_count": null,
            "_view_module_version": "1.5.0",
            "description_tooltip": null,
            "_model_module": "@jupyter-widgets/controls",
            "layout": "IPY_MODEL_c2d64576de6d45d69055be55a3e5e817"
          }
        },
        "9ed928a96a14413a9d49be1458a6093a": {
          "model_module": "@jupyter-widgets/controls",
          "model_name": "ProgressStyleModel",
          "state": {
            "_view_name": "StyleView",
            "_model_name": "ProgressStyleModel",
            "description_width": "initial",
            "_view_module": "@jupyter-widgets/base",
            "_model_module_version": "1.5.0",
            "_view_count": null,
            "_view_module_version": "1.2.0",
            "bar_color": null,
            "_model_module": "@jupyter-widgets/controls"
          }
        },
        "aac1c57d4e3f40c98caccac035d66e81": {
          "model_module": "@jupyter-widgets/base",
          "model_name": "LayoutModel",
          "state": {
            "_view_name": "LayoutView",
            "grid_template_rows": null,
            "right": null,
            "justify_content": null,
            "_view_module": "@jupyter-widgets/base",
            "overflow": null,
            "_model_module_version": "1.2.0",
            "_view_count": null,
            "flex_flow": null,
            "width": null,
            "min_width": null,
            "border": null,
            "align_items": null,
            "bottom": null,
            "_model_module": "@jupyter-widgets/base",
            "top": null,
            "grid_column": null,
            "overflow_y": null,
            "overflow_x": null,
            "grid_auto_flow": null,
            "grid_area": null,
            "grid_template_columns": null,
            "flex": null,
            "_model_name": "LayoutModel",
            "justify_items": null,
            "grid_row": null,
            "max_height": null,
            "align_content": null,
            "visibility": null,
            "align_self": null,
            "height": null,
            "min_height": null,
            "padding": null,
            "grid_auto_rows": null,
            "grid_gap": null,
            "max_width": null,
            "order": null,
            "_view_module_version": "1.2.0",
            "grid_template_areas": null,
            "object_position": null,
            "object_fit": null,
            "grid_auto_columns": null,
            "margin": null,
            "display": null,
            "left": null
          }
        },
        "909c99ee75744dc5b80fd635b4ee52bd": {
          "model_module": "@jupyter-widgets/controls",
          "model_name": "DescriptionStyleModel",
          "state": {
            "_view_name": "StyleView",
            "_model_name": "DescriptionStyleModel",
            "description_width": "",
            "_view_module": "@jupyter-widgets/base",
            "_model_module_version": "1.5.0",
            "_view_count": null,
            "_view_module_version": "1.2.0",
            "_model_module": "@jupyter-widgets/controls"
          }
        },
        "c2d64576de6d45d69055be55a3e5e817": {
          "model_module": "@jupyter-widgets/base",
          "model_name": "LayoutModel",
          "state": {
            "_view_name": "LayoutView",
            "grid_template_rows": null,
            "right": null,
            "justify_content": null,
            "_view_module": "@jupyter-widgets/base",
            "overflow": null,
            "_model_module_version": "1.2.0",
            "_view_count": null,
            "flex_flow": null,
            "width": null,
            "min_width": null,
            "border": null,
            "align_items": null,
            "bottom": null,
            "_model_module": "@jupyter-widgets/base",
            "top": null,
            "grid_column": null,
            "overflow_y": null,
            "overflow_x": null,
            "grid_auto_flow": null,
            "grid_area": null,
            "grid_template_columns": null,
            "flex": null,
            "_model_name": "LayoutModel",
            "justify_items": null,
            "grid_row": null,
            "max_height": null,
            "align_content": null,
            "visibility": null,
            "align_self": null,
            "height": null,
            "min_height": null,
            "padding": null,
            "grid_auto_rows": null,
            "grid_gap": null,
            "max_width": null,
            "order": null,
            "_view_module_version": "1.2.0",
            "grid_template_areas": null,
            "object_position": null,
            "object_fit": null,
            "grid_auto_columns": null,
            "margin": null,
            "display": null,
            "left": null
          }
        },
        "3969a279657147849fda47d4a4939a1d": {
          "model_module": "@jupyter-widgets/controls",
          "model_name": "HBoxModel",
          "state": {
            "_view_name": "HBoxView",
            "_dom_classes": [],
            "_model_name": "HBoxModel",
            "_view_module": "@jupyter-widgets/controls",
            "_model_module_version": "1.5.0",
            "_view_count": null,
            "_view_module_version": "1.5.0",
            "box_style": "",
            "layout": "IPY_MODEL_073766699b8c489fa65614e2f9c1bfd2",
            "_model_module": "@jupyter-widgets/controls",
            "children": [
              "IPY_MODEL_6e5945488392490b80fec79ccf774e22",
              "IPY_MODEL_dd20783d6d8a4af98c2e03c4b2b7aec4"
            ]
          }
        },
        "073766699b8c489fa65614e2f9c1bfd2": {
          "model_module": "@jupyter-widgets/base",
          "model_name": "LayoutModel",
          "state": {
            "_view_name": "LayoutView",
            "grid_template_rows": null,
            "right": null,
            "justify_content": null,
            "_view_module": "@jupyter-widgets/base",
            "overflow": null,
            "_model_module_version": "1.2.0",
            "_view_count": null,
            "flex_flow": null,
            "width": null,
            "min_width": null,
            "border": null,
            "align_items": null,
            "bottom": null,
            "_model_module": "@jupyter-widgets/base",
            "top": null,
            "grid_column": null,
            "overflow_y": null,
            "overflow_x": null,
            "grid_auto_flow": null,
            "grid_area": null,
            "grid_template_columns": null,
            "flex": null,
            "_model_name": "LayoutModel",
            "justify_items": null,
            "grid_row": null,
            "max_height": null,
            "align_content": null,
            "visibility": null,
            "align_self": null,
            "height": null,
            "min_height": null,
            "padding": null,
            "grid_auto_rows": null,
            "grid_gap": null,
            "max_width": null,
            "order": null,
            "_view_module_version": "1.2.0",
            "grid_template_areas": null,
            "object_position": null,
            "object_fit": null,
            "grid_auto_columns": null,
            "margin": null,
            "display": null,
            "left": null
          }
        },
        "6e5945488392490b80fec79ccf774e22": {
          "model_module": "@jupyter-widgets/controls",
          "model_name": "FloatProgressModel",
          "state": {
            "_view_name": "ProgressView",
            "style": "IPY_MODEL_b954a62c6b8d4b6abb0ec3fe27fe0205",
            "_dom_classes": [],
            "description": "epoch 2: 100%",
            "_model_name": "FloatProgressModel",
            "bar_style": "success",
            "max": 3895,
            "_view_module": "@jupyter-widgets/controls",
            "_model_module_version": "1.5.0",
            "value": 3895,
            "_view_count": null,
            "_view_module_version": "1.5.0",
            "orientation": "horizontal",
            "min": 0,
            "description_tooltip": null,
            "_model_module": "@jupyter-widgets/controls",
            "layout": "IPY_MODEL_bea019efc8d24644a2efa1e101a47a87"
          }
        },
        "dd20783d6d8a4af98c2e03c4b2b7aec4": {
          "model_module": "@jupyter-widgets/controls",
          "model_name": "HTMLModel",
          "state": {
            "_view_name": "HTMLView",
            "style": "IPY_MODEL_c4a59b8bf2cd484b98058d79b6a3bb64",
            "_dom_classes": [],
            "description": "",
            "_model_name": "HTMLModel",
            "placeholder": "​",
            "_view_module": "@jupyter-widgets/controls",
            "_model_module_version": "1.5.0",
            "value": " 3895/3895 [01:33&lt;00:00, 41.88it/s, acc=0.33333, f1=0.33333, loss=2.81172]",
            "_view_count": null,
            "_view_module_version": "1.5.0",
            "description_tooltip": null,
            "_model_module": "@jupyter-widgets/controls",
            "layout": "IPY_MODEL_aa9b32060e8c4a4a8dc0184184db31fb"
          }
        },
        "b954a62c6b8d4b6abb0ec3fe27fe0205": {
          "model_module": "@jupyter-widgets/controls",
          "model_name": "ProgressStyleModel",
          "state": {
            "_view_name": "StyleView",
            "_model_name": "ProgressStyleModel",
            "description_width": "initial",
            "_view_module": "@jupyter-widgets/base",
            "_model_module_version": "1.5.0",
            "_view_count": null,
            "_view_module_version": "1.2.0",
            "bar_color": null,
            "_model_module": "@jupyter-widgets/controls"
          }
        },
        "bea019efc8d24644a2efa1e101a47a87": {
          "model_module": "@jupyter-widgets/base",
          "model_name": "LayoutModel",
          "state": {
            "_view_name": "LayoutView",
            "grid_template_rows": null,
            "right": null,
            "justify_content": null,
            "_view_module": "@jupyter-widgets/base",
            "overflow": null,
            "_model_module_version": "1.2.0",
            "_view_count": null,
            "flex_flow": null,
            "width": null,
            "min_width": null,
            "border": null,
            "align_items": null,
            "bottom": null,
            "_model_module": "@jupyter-widgets/base",
            "top": null,
            "grid_column": null,
            "overflow_y": null,
            "overflow_x": null,
            "grid_auto_flow": null,
            "grid_area": null,
            "grid_template_columns": null,
            "flex": null,
            "_model_name": "LayoutModel",
            "justify_items": null,
            "grid_row": null,
            "max_height": null,
            "align_content": null,
            "visibility": null,
            "align_self": null,
            "height": null,
            "min_height": null,
            "padding": null,
            "grid_auto_rows": null,
            "grid_gap": null,
            "max_width": null,
            "order": null,
            "_view_module_version": "1.2.0",
            "grid_template_areas": null,
            "object_position": null,
            "object_fit": null,
            "grid_auto_columns": null,
            "margin": null,
            "display": null,
            "left": null
          }
        },
        "c4a59b8bf2cd484b98058d79b6a3bb64": {
          "model_module": "@jupyter-widgets/controls",
          "model_name": "DescriptionStyleModel",
          "state": {
            "_view_name": "StyleView",
            "_model_name": "DescriptionStyleModel",
            "description_width": "",
            "_view_module": "@jupyter-widgets/base",
            "_model_module_version": "1.5.0",
            "_view_count": null,
            "_view_module_version": "1.2.0",
            "_model_module": "@jupyter-widgets/controls"
          }
        },
        "aa9b32060e8c4a4a8dc0184184db31fb": {
          "model_module": "@jupyter-widgets/base",
          "model_name": "LayoutModel",
          "state": {
            "_view_name": "LayoutView",
            "grid_template_rows": null,
            "right": null,
            "justify_content": null,
            "_view_module": "@jupyter-widgets/base",
            "overflow": null,
            "_model_module_version": "1.2.0",
            "_view_count": null,
            "flex_flow": null,
            "width": null,
            "min_width": null,
            "border": null,
            "align_items": null,
            "bottom": null,
            "_model_module": "@jupyter-widgets/base",
            "top": null,
            "grid_column": null,
            "overflow_y": null,
            "overflow_x": null,
            "grid_auto_flow": null,
            "grid_area": null,
            "grid_template_columns": null,
            "flex": null,
            "_model_name": "LayoutModel",
            "justify_items": null,
            "grid_row": null,
            "max_height": null,
            "align_content": null,
            "visibility": null,
            "align_self": null,
            "height": null,
            "min_height": null,
            "padding": null,
            "grid_auto_rows": null,
            "grid_gap": null,
            "max_width": null,
            "order": null,
            "_view_module_version": "1.2.0",
            "grid_template_areas": null,
            "object_position": null,
            "object_fit": null,
            "grid_auto_columns": null,
            "margin": null,
            "display": null,
            "left": null
          }
        },
        "3b487be4bc71487190beb12bdc6ded47": {
          "model_module": "@jupyter-widgets/controls",
          "model_name": "HBoxModel",
          "state": {
            "_view_name": "HBoxView",
            "_dom_classes": [],
            "_model_name": "HBoxModel",
            "_view_module": "@jupyter-widgets/controls",
            "_model_module_version": "1.5.0",
            "_view_count": null,
            "_view_module_version": "1.5.0",
            "box_style": "",
            "layout": "IPY_MODEL_130e7f495dc14d78930d4b6bbd01f5ed",
            "_model_module": "@jupyter-widgets/controls",
            "children": [
              "IPY_MODEL_0ced42afc401450891085e6b1753c178",
              "IPY_MODEL_cb296d334d5e42b58656bf8cb64876f6"
            ]
          }
        },
        "130e7f495dc14d78930d4b6bbd01f5ed": {
          "model_module": "@jupyter-widgets/base",
          "model_name": "LayoutModel",
          "state": {
            "_view_name": "LayoutView",
            "grid_template_rows": null,
            "right": null,
            "justify_content": null,
            "_view_module": "@jupyter-widgets/base",
            "overflow": null,
            "_model_module_version": "1.2.0",
            "_view_count": null,
            "flex_flow": null,
            "width": null,
            "min_width": null,
            "border": null,
            "align_items": null,
            "bottom": null,
            "_model_module": "@jupyter-widgets/base",
            "top": null,
            "grid_column": null,
            "overflow_y": null,
            "overflow_x": null,
            "grid_auto_flow": null,
            "grid_area": null,
            "grid_template_columns": null,
            "flex": null,
            "_model_name": "LayoutModel",
            "justify_items": null,
            "grid_row": null,
            "max_height": null,
            "align_content": null,
            "visibility": null,
            "align_self": null,
            "height": null,
            "min_height": null,
            "padding": null,
            "grid_auto_rows": null,
            "grid_gap": null,
            "max_width": null,
            "order": null,
            "_view_module_version": "1.2.0",
            "grid_template_areas": null,
            "object_position": null,
            "object_fit": null,
            "grid_auto_columns": null,
            "margin": null,
            "display": null,
            "left": null
          }
        },
        "0ced42afc401450891085e6b1753c178": {
          "model_module": "@jupyter-widgets/controls",
          "model_name": "FloatProgressModel",
          "state": {
            "_view_name": "ProgressView",
            "style": "IPY_MODEL_8387236af1fa4f349b4ec867f3e3a853",
            "_dom_classes": [],
            "description": "epoch 3: 100%",
            "_model_name": "FloatProgressModel",
            "bar_style": "success",
            "max": 3895,
            "_view_module": "@jupyter-widgets/controls",
            "_model_module_version": "1.5.0",
            "value": 3895,
            "_view_count": null,
            "_view_module_version": "1.5.0",
            "orientation": "horizontal",
            "min": 0,
            "description_tooltip": null,
            "_model_module": "@jupyter-widgets/controls",
            "layout": "IPY_MODEL_dc1fdc2e2785437fa3da59de687aaebc"
          }
        },
        "cb296d334d5e42b58656bf8cb64876f6": {
          "model_module": "@jupyter-widgets/controls",
          "model_name": "HTMLModel",
          "state": {
            "_view_name": "HTMLView",
            "style": "IPY_MODEL_de962f5b12c5429cb9ee59739c9e7f8a",
            "_dom_classes": [],
            "description": "",
            "_model_name": "HTMLModel",
            "placeholder": "​",
            "_view_module": "@jupyter-widgets/controls",
            "_model_module_version": "1.5.0",
            "value": " 3895/3895 [13:32&lt;00:00,  4.79it/s, acc=0.32258, f1=0.32258, loss=2.68464]",
            "_view_count": null,
            "_view_module_version": "1.5.0",
            "description_tooltip": null,
            "_model_module": "@jupyter-widgets/controls",
            "layout": "IPY_MODEL_6d3a72f57eec4ae096b3e9c8e886914e"
          }
        },
        "8387236af1fa4f349b4ec867f3e3a853": {
          "model_module": "@jupyter-widgets/controls",
          "model_name": "ProgressStyleModel",
          "state": {
            "_view_name": "StyleView",
            "_model_name": "ProgressStyleModel",
            "description_width": "initial",
            "_view_module": "@jupyter-widgets/base",
            "_model_module_version": "1.5.0",
            "_view_count": null,
            "_view_module_version": "1.2.0",
            "bar_color": null,
            "_model_module": "@jupyter-widgets/controls"
          }
        },
        "dc1fdc2e2785437fa3da59de687aaebc": {
          "model_module": "@jupyter-widgets/base",
          "model_name": "LayoutModel",
          "state": {
            "_view_name": "LayoutView",
            "grid_template_rows": null,
            "right": null,
            "justify_content": null,
            "_view_module": "@jupyter-widgets/base",
            "overflow": null,
            "_model_module_version": "1.2.0",
            "_view_count": null,
            "flex_flow": null,
            "width": null,
            "min_width": null,
            "border": null,
            "align_items": null,
            "bottom": null,
            "_model_module": "@jupyter-widgets/base",
            "top": null,
            "grid_column": null,
            "overflow_y": null,
            "overflow_x": null,
            "grid_auto_flow": null,
            "grid_area": null,
            "grid_template_columns": null,
            "flex": null,
            "_model_name": "LayoutModel",
            "justify_items": null,
            "grid_row": null,
            "max_height": null,
            "align_content": null,
            "visibility": null,
            "align_self": null,
            "height": null,
            "min_height": null,
            "padding": null,
            "grid_auto_rows": null,
            "grid_gap": null,
            "max_width": null,
            "order": null,
            "_view_module_version": "1.2.0",
            "grid_template_areas": null,
            "object_position": null,
            "object_fit": null,
            "grid_auto_columns": null,
            "margin": null,
            "display": null,
            "left": null
          }
        },
        "de962f5b12c5429cb9ee59739c9e7f8a": {
          "model_module": "@jupyter-widgets/controls",
          "model_name": "DescriptionStyleModel",
          "state": {
            "_view_name": "StyleView",
            "_model_name": "DescriptionStyleModel",
            "description_width": "",
            "_view_module": "@jupyter-widgets/base",
            "_model_module_version": "1.5.0",
            "_view_count": null,
            "_view_module_version": "1.2.0",
            "_model_module": "@jupyter-widgets/controls"
          }
        },
        "6d3a72f57eec4ae096b3e9c8e886914e": {
          "model_module": "@jupyter-widgets/base",
          "model_name": "LayoutModel",
          "state": {
            "_view_name": "LayoutView",
            "grid_template_rows": null,
            "right": null,
            "justify_content": null,
            "_view_module": "@jupyter-widgets/base",
            "overflow": null,
            "_model_module_version": "1.2.0",
            "_view_count": null,
            "flex_flow": null,
            "width": null,
            "min_width": null,
            "border": null,
            "align_items": null,
            "bottom": null,
            "_model_module": "@jupyter-widgets/base",
            "top": null,
            "grid_column": null,
            "overflow_y": null,
            "overflow_x": null,
            "grid_auto_flow": null,
            "grid_area": null,
            "grid_template_columns": null,
            "flex": null,
            "_model_name": "LayoutModel",
            "justify_items": null,
            "grid_row": null,
            "max_height": null,
            "align_content": null,
            "visibility": null,
            "align_self": null,
            "height": null,
            "min_height": null,
            "padding": null,
            "grid_auto_rows": null,
            "grid_gap": null,
            "max_width": null,
            "order": null,
            "_view_module_version": "1.2.0",
            "grid_template_areas": null,
            "object_position": null,
            "object_fit": null,
            "grid_auto_columns": null,
            "margin": null,
            "display": null,
            "left": null
          }
        },
        "cdedf3a0ce834c9380716b4ee69db319": {
          "model_module": "@jupyter-widgets/controls",
          "model_name": "HBoxModel",
          "state": {
            "_view_name": "HBoxView",
            "_dom_classes": [],
            "_model_name": "HBoxModel",
            "_view_module": "@jupyter-widgets/controls",
            "_model_module_version": "1.5.0",
            "_view_count": null,
            "_view_module_version": "1.5.0",
            "box_style": "",
            "layout": "IPY_MODEL_73beafb872e546f1983930c123b3df20",
            "_model_module": "@jupyter-widgets/controls",
            "children": [
              "IPY_MODEL_a9c6e4b4c901460881b9251c9d7f71bf",
              "IPY_MODEL_cad9faa2a0104c4f9aeafc3472e69cb3"
            ]
          }
        },
        "73beafb872e546f1983930c123b3df20": {
          "model_module": "@jupyter-widgets/base",
          "model_name": "LayoutModel",
          "state": {
            "_view_name": "LayoutView",
            "grid_template_rows": null,
            "right": null,
            "justify_content": null,
            "_view_module": "@jupyter-widgets/base",
            "overflow": null,
            "_model_module_version": "1.2.0",
            "_view_count": null,
            "flex_flow": null,
            "width": null,
            "min_width": null,
            "border": null,
            "align_items": null,
            "bottom": null,
            "_model_module": "@jupyter-widgets/base",
            "top": null,
            "grid_column": null,
            "overflow_y": null,
            "overflow_x": null,
            "grid_auto_flow": null,
            "grid_area": null,
            "grid_template_columns": null,
            "flex": null,
            "_model_name": "LayoutModel",
            "justify_items": null,
            "grid_row": null,
            "max_height": null,
            "align_content": null,
            "visibility": null,
            "align_self": null,
            "height": null,
            "min_height": null,
            "padding": null,
            "grid_auto_rows": null,
            "grid_gap": null,
            "max_width": null,
            "order": null,
            "_view_module_version": "1.2.0",
            "grid_template_areas": null,
            "object_position": null,
            "object_fit": null,
            "grid_auto_columns": null,
            "margin": null,
            "display": null,
            "left": null
          }
        },
        "a9c6e4b4c901460881b9251c9d7f71bf": {
          "model_module": "@jupyter-widgets/controls",
          "model_name": "FloatProgressModel",
          "state": {
            "_view_name": "ProgressView",
            "style": "IPY_MODEL_592c8e94970044e68ea4154a2b015821",
            "_dom_classes": [],
            "description": "epoch 4: 100%",
            "_model_name": "FloatProgressModel",
            "bar_style": "success",
            "max": 3895,
            "_view_module": "@jupyter-widgets/controls",
            "_model_module_version": "1.5.0",
            "value": 3895,
            "_view_count": null,
            "_view_module_version": "1.5.0",
            "orientation": "horizontal",
            "min": 0,
            "description_tooltip": null,
            "_model_module": "@jupyter-widgets/controls",
            "layout": "IPY_MODEL_5fed9d6bc32d4176a43fede22e8797bf"
          }
        },
        "cad9faa2a0104c4f9aeafc3472e69cb3": {
          "model_module": "@jupyter-widgets/controls",
          "model_name": "HTMLModel",
          "state": {
            "_view_name": "HTMLView",
            "style": "IPY_MODEL_28dc46da581642a19c2df37eed1e5208",
            "_dom_classes": [],
            "description": "",
            "_model_name": "HTMLModel",
            "placeholder": "​",
            "_view_module": "@jupyter-widgets/controls",
            "_model_module_version": "1.5.0",
            "value": " 3895/3895 [03:07&lt;00:00, 20.77it/s, acc=0.32258, f1=0.32258, loss=2.64846]",
            "_view_count": null,
            "_view_module_version": "1.5.0",
            "description_tooltip": null,
            "_model_module": "@jupyter-widgets/controls",
            "layout": "IPY_MODEL_be64fbc1a16446568e39c4f2c5aaf1c5"
          }
        },
        "592c8e94970044e68ea4154a2b015821": {
          "model_module": "@jupyter-widgets/controls",
          "model_name": "ProgressStyleModel",
          "state": {
            "_view_name": "StyleView",
            "_model_name": "ProgressStyleModel",
            "description_width": "initial",
            "_view_module": "@jupyter-widgets/base",
            "_model_module_version": "1.5.0",
            "_view_count": null,
            "_view_module_version": "1.2.0",
            "bar_color": null,
            "_model_module": "@jupyter-widgets/controls"
          }
        },
        "5fed9d6bc32d4176a43fede22e8797bf": {
          "model_module": "@jupyter-widgets/base",
          "model_name": "LayoutModel",
          "state": {
            "_view_name": "LayoutView",
            "grid_template_rows": null,
            "right": null,
            "justify_content": null,
            "_view_module": "@jupyter-widgets/base",
            "overflow": null,
            "_model_module_version": "1.2.0",
            "_view_count": null,
            "flex_flow": null,
            "width": null,
            "min_width": null,
            "border": null,
            "align_items": null,
            "bottom": null,
            "_model_module": "@jupyter-widgets/base",
            "top": null,
            "grid_column": null,
            "overflow_y": null,
            "overflow_x": null,
            "grid_auto_flow": null,
            "grid_area": null,
            "grid_template_columns": null,
            "flex": null,
            "_model_name": "LayoutModel",
            "justify_items": null,
            "grid_row": null,
            "max_height": null,
            "align_content": null,
            "visibility": null,
            "align_self": null,
            "height": null,
            "min_height": null,
            "padding": null,
            "grid_auto_rows": null,
            "grid_gap": null,
            "max_width": null,
            "order": null,
            "_view_module_version": "1.2.0",
            "grid_template_areas": null,
            "object_position": null,
            "object_fit": null,
            "grid_auto_columns": null,
            "margin": null,
            "display": null,
            "left": null
          }
        },
        "28dc46da581642a19c2df37eed1e5208": {
          "model_module": "@jupyter-widgets/controls",
          "model_name": "DescriptionStyleModel",
          "state": {
            "_view_name": "StyleView",
            "_model_name": "DescriptionStyleModel",
            "description_width": "",
            "_view_module": "@jupyter-widgets/base",
            "_model_module_version": "1.5.0",
            "_view_count": null,
            "_view_module_version": "1.2.0",
            "_model_module": "@jupyter-widgets/controls"
          }
        },
        "be64fbc1a16446568e39c4f2c5aaf1c5": {
          "model_module": "@jupyter-widgets/base",
          "model_name": "LayoutModel",
          "state": {
            "_view_name": "LayoutView",
            "grid_template_rows": null,
            "right": null,
            "justify_content": null,
            "_view_module": "@jupyter-widgets/base",
            "overflow": null,
            "_model_module_version": "1.2.0",
            "_view_count": null,
            "flex_flow": null,
            "width": null,
            "min_width": null,
            "border": null,
            "align_items": null,
            "bottom": null,
            "_model_module": "@jupyter-widgets/base",
            "top": null,
            "grid_column": null,
            "overflow_y": null,
            "overflow_x": null,
            "grid_auto_flow": null,
            "grid_area": null,
            "grid_template_columns": null,
            "flex": null,
            "_model_name": "LayoutModel",
            "justify_items": null,
            "grid_row": null,
            "max_height": null,
            "align_content": null,
            "visibility": null,
            "align_self": null,
            "height": null,
            "min_height": null,
            "padding": null,
            "grid_auto_rows": null,
            "grid_gap": null,
            "max_width": null,
            "order": null,
            "_view_module_version": "1.2.0",
            "grid_template_areas": null,
            "object_position": null,
            "object_fit": null,
            "grid_auto_columns": null,
            "margin": null,
            "display": null,
            "left": null
          }
        },
        "440cb3a3df9144609a8efd39340977b0": {
          "model_module": "@jupyter-widgets/controls",
          "model_name": "HBoxModel",
          "state": {
            "_view_name": "HBoxView",
            "_dom_classes": [],
            "_model_name": "HBoxModel",
            "_view_module": "@jupyter-widgets/controls",
            "_model_module_version": "1.5.0",
            "_view_count": null,
            "_view_module_version": "1.5.0",
            "box_style": "",
            "layout": "IPY_MODEL_c4545d1793294221bb2b2f5a8823dd30",
            "_model_module": "@jupyter-widgets/controls",
            "children": [
              "IPY_MODEL_074ed0f0e49e4bb1998cb2717cfa4097",
              "IPY_MODEL_35448090248c4c8cb3dc8f9f5475ef6d"
            ]
          }
        },
        "c4545d1793294221bb2b2f5a8823dd30": {
          "model_module": "@jupyter-widgets/base",
          "model_name": "LayoutModel",
          "state": {
            "_view_name": "LayoutView",
            "grid_template_rows": null,
            "right": null,
            "justify_content": null,
            "_view_module": "@jupyter-widgets/base",
            "overflow": null,
            "_model_module_version": "1.2.0",
            "_view_count": null,
            "flex_flow": null,
            "width": null,
            "min_width": null,
            "border": null,
            "align_items": null,
            "bottom": null,
            "_model_module": "@jupyter-widgets/base",
            "top": null,
            "grid_column": null,
            "overflow_y": null,
            "overflow_x": null,
            "grid_auto_flow": null,
            "grid_area": null,
            "grid_template_columns": null,
            "flex": null,
            "_model_name": "LayoutModel",
            "justify_items": null,
            "grid_row": null,
            "max_height": null,
            "align_content": null,
            "visibility": null,
            "align_self": null,
            "height": null,
            "min_height": null,
            "padding": null,
            "grid_auto_rows": null,
            "grid_gap": null,
            "max_width": null,
            "order": null,
            "_view_module_version": "1.2.0",
            "grid_template_areas": null,
            "object_position": null,
            "object_fit": null,
            "grid_auto_columns": null,
            "margin": null,
            "display": null,
            "left": null
          }
        },
        "074ed0f0e49e4bb1998cb2717cfa4097": {
          "model_module": "@jupyter-widgets/controls",
          "model_name": "FloatProgressModel",
          "state": {
            "_view_name": "ProgressView",
            "style": "IPY_MODEL_5002b7be4f3a4444a18e9fa88d5b01f3",
            "_dom_classes": [],
            "description": "epoch 5: 100%",
            "_model_name": "FloatProgressModel",
            "bar_style": "success",
            "max": 3895,
            "_view_module": "@jupyter-widgets/controls",
            "_model_module_version": "1.5.0",
            "value": 3895,
            "_view_count": null,
            "_view_module_version": "1.5.0",
            "orientation": "horizontal",
            "min": 0,
            "description_tooltip": null,
            "_model_module": "@jupyter-widgets/controls",
            "layout": "IPY_MODEL_730bbe5120b449818c3c50859dd093c9"
          }
        },
        "35448090248c4c8cb3dc8f9f5475ef6d": {
          "model_module": "@jupyter-widgets/controls",
          "model_name": "HTMLModel",
          "state": {
            "_view_name": "HTMLView",
            "style": "IPY_MODEL_33dc0567092843b1a1ba43b215fdc43d",
            "_dom_classes": [],
            "description": "",
            "_model_name": "HTMLModel",
            "placeholder": "​",
            "_view_module": "@jupyter-widgets/controls",
            "_model_module_version": "1.5.0",
            "value": " 3895/3895 [01:34&lt;00:00, 41.08it/s, acc=0.32258, f1=0.32258, loss=2.57844]",
            "_view_count": null,
            "_view_module_version": "1.5.0",
            "description_tooltip": null,
            "_model_module": "@jupyter-widgets/controls",
            "layout": "IPY_MODEL_50818bf32e2143f08e96d3d8abfcf845"
          }
        },
        "5002b7be4f3a4444a18e9fa88d5b01f3": {
          "model_module": "@jupyter-widgets/controls",
          "model_name": "ProgressStyleModel",
          "state": {
            "_view_name": "StyleView",
            "_model_name": "ProgressStyleModel",
            "description_width": "initial",
            "_view_module": "@jupyter-widgets/base",
            "_model_module_version": "1.5.0",
            "_view_count": null,
            "_view_module_version": "1.2.0",
            "bar_color": null,
            "_model_module": "@jupyter-widgets/controls"
          }
        },
        "730bbe5120b449818c3c50859dd093c9": {
          "model_module": "@jupyter-widgets/base",
          "model_name": "LayoutModel",
          "state": {
            "_view_name": "LayoutView",
            "grid_template_rows": null,
            "right": null,
            "justify_content": null,
            "_view_module": "@jupyter-widgets/base",
            "overflow": null,
            "_model_module_version": "1.2.0",
            "_view_count": null,
            "flex_flow": null,
            "width": null,
            "min_width": null,
            "border": null,
            "align_items": null,
            "bottom": null,
            "_model_module": "@jupyter-widgets/base",
            "top": null,
            "grid_column": null,
            "overflow_y": null,
            "overflow_x": null,
            "grid_auto_flow": null,
            "grid_area": null,
            "grid_template_columns": null,
            "flex": null,
            "_model_name": "LayoutModel",
            "justify_items": null,
            "grid_row": null,
            "max_height": null,
            "align_content": null,
            "visibility": null,
            "align_self": null,
            "height": null,
            "min_height": null,
            "padding": null,
            "grid_auto_rows": null,
            "grid_gap": null,
            "max_width": null,
            "order": null,
            "_view_module_version": "1.2.0",
            "grid_template_areas": null,
            "object_position": null,
            "object_fit": null,
            "grid_auto_columns": null,
            "margin": null,
            "display": null,
            "left": null
          }
        },
        "33dc0567092843b1a1ba43b215fdc43d": {
          "model_module": "@jupyter-widgets/controls",
          "model_name": "DescriptionStyleModel",
          "state": {
            "_view_name": "StyleView",
            "_model_name": "DescriptionStyleModel",
            "description_width": "",
            "_view_module": "@jupyter-widgets/base",
            "_model_module_version": "1.5.0",
            "_view_count": null,
            "_view_module_version": "1.2.0",
            "_model_module": "@jupyter-widgets/controls"
          }
        },
        "50818bf32e2143f08e96d3d8abfcf845": {
          "model_module": "@jupyter-widgets/base",
          "model_name": "LayoutModel",
          "state": {
            "_view_name": "LayoutView",
            "grid_template_rows": null,
            "right": null,
            "justify_content": null,
            "_view_module": "@jupyter-widgets/base",
            "overflow": null,
            "_model_module_version": "1.2.0",
            "_view_count": null,
            "flex_flow": null,
            "width": null,
            "min_width": null,
            "border": null,
            "align_items": null,
            "bottom": null,
            "_model_module": "@jupyter-widgets/base",
            "top": null,
            "grid_column": null,
            "overflow_y": null,
            "overflow_x": null,
            "grid_auto_flow": null,
            "grid_area": null,
            "grid_template_columns": null,
            "flex": null,
            "_model_name": "LayoutModel",
            "justify_items": null,
            "grid_row": null,
            "max_height": null,
            "align_content": null,
            "visibility": null,
            "align_self": null,
            "height": null,
            "min_height": null,
            "padding": null,
            "grid_auto_rows": null,
            "grid_gap": null,
            "max_width": null,
            "order": null,
            "_view_module_version": "1.2.0",
            "grid_template_areas": null,
            "object_position": null,
            "object_fit": null,
            "grid_auto_columns": null,
            "margin": null,
            "display": null,
            "left": null
          }
        },
        "9a00803382fe421da95b21f5f7e69da2": {
          "model_module": "@jupyter-widgets/controls",
          "model_name": "HBoxModel",
          "state": {
            "_view_name": "HBoxView",
            "_dom_classes": [],
            "_model_name": "HBoxModel",
            "_view_module": "@jupyter-widgets/controls",
            "_model_module_version": "1.5.0",
            "_view_count": null,
            "_view_module_version": "1.5.0",
            "box_style": "",
            "layout": "IPY_MODEL_ed76aa8bf4774a12ae7e0fb998bd94e8",
            "_model_module": "@jupyter-widgets/controls",
            "children": [
              "IPY_MODEL_5c01e2ae802a4ccaa4dfa20136b12716",
              "IPY_MODEL_14cc2f8cae6b4e99bf455c5644a570bc"
            ]
          }
        },
        "ed76aa8bf4774a12ae7e0fb998bd94e8": {
          "model_module": "@jupyter-widgets/base",
          "model_name": "LayoutModel",
          "state": {
            "_view_name": "LayoutView",
            "grid_template_rows": null,
            "right": null,
            "justify_content": null,
            "_view_module": "@jupyter-widgets/base",
            "overflow": null,
            "_model_module_version": "1.2.0",
            "_view_count": null,
            "flex_flow": null,
            "width": null,
            "min_width": null,
            "border": null,
            "align_items": null,
            "bottom": null,
            "_model_module": "@jupyter-widgets/base",
            "top": null,
            "grid_column": null,
            "overflow_y": null,
            "overflow_x": null,
            "grid_auto_flow": null,
            "grid_area": null,
            "grid_template_columns": null,
            "flex": null,
            "_model_name": "LayoutModel",
            "justify_items": null,
            "grid_row": null,
            "max_height": null,
            "align_content": null,
            "visibility": null,
            "align_self": null,
            "height": null,
            "min_height": null,
            "padding": null,
            "grid_auto_rows": null,
            "grid_gap": null,
            "max_width": null,
            "order": null,
            "_view_module_version": "1.2.0",
            "grid_template_areas": null,
            "object_position": null,
            "object_fit": null,
            "grid_auto_columns": null,
            "margin": null,
            "display": null,
            "left": null
          }
        },
        "5c01e2ae802a4ccaa4dfa20136b12716": {
          "model_module": "@jupyter-widgets/controls",
          "model_name": "FloatProgressModel",
          "state": {
            "_view_name": "ProgressView",
            "style": "IPY_MODEL_cbe8fcb0d089413c9a88b31e08399d5a",
            "_dom_classes": [],
            "description": "epoch 6: 100%",
            "_model_name": "FloatProgressModel",
            "bar_style": "success",
            "max": 3895,
            "_view_module": "@jupyter-widgets/controls",
            "_model_module_version": "1.5.0",
            "value": 3895,
            "_view_count": null,
            "_view_module_version": "1.5.0",
            "orientation": "horizontal",
            "min": 0,
            "description_tooltip": null,
            "_model_module": "@jupyter-widgets/controls",
            "layout": "IPY_MODEL_4c78a443d5824241a123d38cdbe0f099"
          }
        },
        "14cc2f8cae6b4e99bf455c5644a570bc": {
          "model_module": "@jupyter-widgets/controls",
          "model_name": "HTMLModel",
          "state": {
            "_view_name": "HTMLView",
            "style": "IPY_MODEL_44328dca3129432387a73edd0555caad",
            "_dom_classes": [],
            "description": "",
            "_model_name": "HTMLModel",
            "placeholder": "​",
            "_view_module": "@jupyter-widgets/controls",
            "_model_module_version": "1.5.0",
            "value": " 3895/3895 [08:54&lt;00:00,  7.28it/s, acc=0.32258, f1=0.32258, loss=2.54469]",
            "_view_count": null,
            "_view_module_version": "1.5.0",
            "description_tooltip": null,
            "_model_module": "@jupyter-widgets/controls",
            "layout": "IPY_MODEL_4bbaba12457449908ca2b6d92a7266c2"
          }
        },
        "cbe8fcb0d089413c9a88b31e08399d5a": {
          "model_module": "@jupyter-widgets/controls",
          "model_name": "ProgressStyleModel",
          "state": {
            "_view_name": "StyleView",
            "_model_name": "ProgressStyleModel",
            "description_width": "initial",
            "_view_module": "@jupyter-widgets/base",
            "_model_module_version": "1.5.0",
            "_view_count": null,
            "_view_module_version": "1.2.0",
            "bar_color": null,
            "_model_module": "@jupyter-widgets/controls"
          }
        },
        "4c78a443d5824241a123d38cdbe0f099": {
          "model_module": "@jupyter-widgets/base",
          "model_name": "LayoutModel",
          "state": {
            "_view_name": "LayoutView",
            "grid_template_rows": null,
            "right": null,
            "justify_content": null,
            "_view_module": "@jupyter-widgets/base",
            "overflow": null,
            "_model_module_version": "1.2.0",
            "_view_count": null,
            "flex_flow": null,
            "width": null,
            "min_width": null,
            "border": null,
            "align_items": null,
            "bottom": null,
            "_model_module": "@jupyter-widgets/base",
            "top": null,
            "grid_column": null,
            "overflow_y": null,
            "overflow_x": null,
            "grid_auto_flow": null,
            "grid_area": null,
            "grid_template_columns": null,
            "flex": null,
            "_model_name": "LayoutModel",
            "justify_items": null,
            "grid_row": null,
            "max_height": null,
            "align_content": null,
            "visibility": null,
            "align_self": null,
            "height": null,
            "min_height": null,
            "padding": null,
            "grid_auto_rows": null,
            "grid_gap": null,
            "max_width": null,
            "order": null,
            "_view_module_version": "1.2.0",
            "grid_template_areas": null,
            "object_position": null,
            "object_fit": null,
            "grid_auto_columns": null,
            "margin": null,
            "display": null,
            "left": null
          }
        },
        "44328dca3129432387a73edd0555caad": {
          "model_module": "@jupyter-widgets/controls",
          "model_name": "DescriptionStyleModel",
          "state": {
            "_view_name": "StyleView",
            "_model_name": "DescriptionStyleModel",
            "description_width": "",
            "_view_module": "@jupyter-widgets/base",
            "_model_module_version": "1.5.0",
            "_view_count": null,
            "_view_module_version": "1.2.0",
            "_model_module": "@jupyter-widgets/controls"
          }
        },
        "4bbaba12457449908ca2b6d92a7266c2": {
          "model_module": "@jupyter-widgets/base",
          "model_name": "LayoutModel",
          "state": {
            "_view_name": "LayoutView",
            "grid_template_rows": null,
            "right": null,
            "justify_content": null,
            "_view_module": "@jupyter-widgets/base",
            "overflow": null,
            "_model_module_version": "1.2.0",
            "_view_count": null,
            "flex_flow": null,
            "width": null,
            "min_width": null,
            "border": null,
            "align_items": null,
            "bottom": null,
            "_model_module": "@jupyter-widgets/base",
            "top": null,
            "grid_column": null,
            "overflow_y": null,
            "overflow_x": null,
            "grid_auto_flow": null,
            "grid_area": null,
            "grid_template_columns": null,
            "flex": null,
            "_model_name": "LayoutModel",
            "justify_items": null,
            "grid_row": null,
            "max_height": null,
            "align_content": null,
            "visibility": null,
            "align_self": null,
            "height": null,
            "min_height": null,
            "padding": null,
            "grid_auto_rows": null,
            "grid_gap": null,
            "max_width": null,
            "order": null,
            "_view_module_version": "1.2.0",
            "grid_template_areas": null,
            "object_position": null,
            "object_fit": null,
            "grid_auto_columns": null,
            "margin": null,
            "display": null,
            "left": null
          }
        },
        "2646489ed8d64176aa891742b6930706": {
          "model_module": "@jupyter-widgets/controls",
          "model_name": "HBoxModel",
          "state": {
            "_view_name": "HBoxView",
            "_dom_classes": [],
            "_model_name": "HBoxModel",
            "_view_module": "@jupyter-widgets/controls",
            "_model_module_version": "1.5.0",
            "_view_count": null,
            "_view_module_version": "1.5.0",
            "box_style": "",
            "layout": "IPY_MODEL_2111918c3f474765bdb01d165703bfba",
            "_model_module": "@jupyter-widgets/controls",
            "children": [
              "IPY_MODEL_12448289b7ae400f9cf8b51ba6974ac1",
              "IPY_MODEL_adc7b3f327c8478c8e55b02011d4bcf7"
            ]
          }
        },
        "2111918c3f474765bdb01d165703bfba": {
          "model_module": "@jupyter-widgets/base",
          "model_name": "LayoutModel",
          "state": {
            "_view_name": "LayoutView",
            "grid_template_rows": null,
            "right": null,
            "justify_content": null,
            "_view_module": "@jupyter-widgets/base",
            "overflow": null,
            "_model_module_version": "1.2.0",
            "_view_count": null,
            "flex_flow": null,
            "width": null,
            "min_width": null,
            "border": null,
            "align_items": null,
            "bottom": null,
            "_model_module": "@jupyter-widgets/base",
            "top": null,
            "grid_column": null,
            "overflow_y": null,
            "overflow_x": null,
            "grid_auto_flow": null,
            "grid_area": null,
            "grid_template_columns": null,
            "flex": null,
            "_model_name": "LayoutModel",
            "justify_items": null,
            "grid_row": null,
            "max_height": null,
            "align_content": null,
            "visibility": null,
            "align_self": null,
            "height": null,
            "min_height": null,
            "padding": null,
            "grid_auto_rows": null,
            "grid_gap": null,
            "max_width": null,
            "order": null,
            "_view_module_version": "1.2.0",
            "grid_template_areas": null,
            "object_position": null,
            "object_fit": null,
            "grid_auto_columns": null,
            "margin": null,
            "display": null,
            "left": null
          }
        },
        "12448289b7ae400f9cf8b51ba6974ac1": {
          "model_module": "@jupyter-widgets/controls",
          "model_name": "FloatProgressModel",
          "state": {
            "_view_name": "ProgressView",
            "style": "IPY_MODEL_fa455796881b4db996b66918f6f74880",
            "_dom_classes": [],
            "description": "epoch 7: 100%",
            "_model_name": "FloatProgressModel",
            "bar_style": "success",
            "max": 3895,
            "_view_module": "@jupyter-widgets/controls",
            "_model_module_version": "1.5.0",
            "value": 3895,
            "_view_count": null,
            "_view_module_version": "1.5.0",
            "orientation": "horizontal",
            "min": 0,
            "description_tooltip": null,
            "_model_module": "@jupyter-widgets/controls",
            "layout": "IPY_MODEL_996d42d1f86f4260aa80f571acf65050"
          }
        },
        "adc7b3f327c8478c8e55b02011d4bcf7": {
          "model_module": "@jupyter-widgets/controls",
          "model_name": "HTMLModel",
          "state": {
            "_view_name": "HTMLView",
            "style": "IPY_MODEL_908e01b057d843f7a93575f0748e8b1c",
            "_dom_classes": [],
            "description": "",
            "_model_name": "HTMLModel",
            "placeholder": "​",
            "_view_module": "@jupyter-widgets/controls",
            "_model_module_version": "1.5.0",
            "value": " 3895/3895 [03:06&lt;00:00, 20.93it/s, acc=0.33333, f1=0.33333, loss=2.45915]",
            "_view_count": null,
            "_view_module_version": "1.5.0",
            "description_tooltip": null,
            "_model_module": "@jupyter-widgets/controls",
            "layout": "IPY_MODEL_1d78816827d04b599a588872915db758"
          }
        },
        "fa455796881b4db996b66918f6f74880": {
          "model_module": "@jupyter-widgets/controls",
          "model_name": "ProgressStyleModel",
          "state": {
            "_view_name": "StyleView",
            "_model_name": "ProgressStyleModel",
            "description_width": "initial",
            "_view_module": "@jupyter-widgets/base",
            "_model_module_version": "1.5.0",
            "_view_count": null,
            "_view_module_version": "1.2.0",
            "bar_color": null,
            "_model_module": "@jupyter-widgets/controls"
          }
        },
        "996d42d1f86f4260aa80f571acf65050": {
          "model_module": "@jupyter-widgets/base",
          "model_name": "LayoutModel",
          "state": {
            "_view_name": "LayoutView",
            "grid_template_rows": null,
            "right": null,
            "justify_content": null,
            "_view_module": "@jupyter-widgets/base",
            "overflow": null,
            "_model_module_version": "1.2.0",
            "_view_count": null,
            "flex_flow": null,
            "width": null,
            "min_width": null,
            "border": null,
            "align_items": null,
            "bottom": null,
            "_model_module": "@jupyter-widgets/base",
            "top": null,
            "grid_column": null,
            "overflow_y": null,
            "overflow_x": null,
            "grid_auto_flow": null,
            "grid_area": null,
            "grid_template_columns": null,
            "flex": null,
            "_model_name": "LayoutModel",
            "justify_items": null,
            "grid_row": null,
            "max_height": null,
            "align_content": null,
            "visibility": null,
            "align_self": null,
            "height": null,
            "min_height": null,
            "padding": null,
            "grid_auto_rows": null,
            "grid_gap": null,
            "max_width": null,
            "order": null,
            "_view_module_version": "1.2.0",
            "grid_template_areas": null,
            "object_position": null,
            "object_fit": null,
            "grid_auto_columns": null,
            "margin": null,
            "display": null,
            "left": null
          }
        },
        "908e01b057d843f7a93575f0748e8b1c": {
          "model_module": "@jupyter-widgets/controls",
          "model_name": "DescriptionStyleModel",
          "state": {
            "_view_name": "StyleView",
            "_model_name": "DescriptionStyleModel",
            "description_width": "",
            "_view_module": "@jupyter-widgets/base",
            "_model_module_version": "1.5.0",
            "_view_count": null,
            "_view_module_version": "1.2.0",
            "_model_module": "@jupyter-widgets/controls"
          }
        },
        "1d78816827d04b599a588872915db758": {
          "model_module": "@jupyter-widgets/base",
          "model_name": "LayoutModel",
          "state": {
            "_view_name": "LayoutView",
            "grid_template_rows": null,
            "right": null,
            "justify_content": null,
            "_view_module": "@jupyter-widgets/base",
            "overflow": null,
            "_model_module_version": "1.2.0",
            "_view_count": null,
            "flex_flow": null,
            "width": null,
            "min_width": null,
            "border": null,
            "align_items": null,
            "bottom": null,
            "_model_module": "@jupyter-widgets/base",
            "top": null,
            "grid_column": null,
            "overflow_y": null,
            "overflow_x": null,
            "grid_auto_flow": null,
            "grid_area": null,
            "grid_template_columns": null,
            "flex": null,
            "_model_name": "LayoutModel",
            "justify_items": null,
            "grid_row": null,
            "max_height": null,
            "align_content": null,
            "visibility": null,
            "align_self": null,
            "height": null,
            "min_height": null,
            "padding": null,
            "grid_auto_rows": null,
            "grid_gap": null,
            "max_width": null,
            "order": null,
            "_view_module_version": "1.2.0",
            "grid_template_areas": null,
            "object_position": null,
            "object_fit": null,
            "grid_auto_columns": null,
            "margin": null,
            "display": null,
            "left": null
          }
        },
        "8e14ca3afc35458bad0f33e771283064": {
          "model_module": "@jupyter-widgets/controls",
          "model_name": "HBoxModel",
          "state": {
            "_view_name": "HBoxView",
            "_dom_classes": [],
            "_model_name": "HBoxModel",
            "_view_module": "@jupyter-widgets/controls",
            "_model_module_version": "1.5.0",
            "_view_count": null,
            "_view_module_version": "1.5.0",
            "box_style": "",
            "layout": "IPY_MODEL_23b87c61b4f54902b2621879cd1d7955",
            "_model_module": "@jupyter-widgets/controls",
            "children": [
              "IPY_MODEL_815fbddb7af54c3695f75b8c8bceef78",
              "IPY_MODEL_a670800ad5ee420cab7a9d158215fd4a"
            ]
          }
        },
        "23b87c61b4f54902b2621879cd1d7955": {
          "model_module": "@jupyter-widgets/base",
          "model_name": "LayoutModel",
          "state": {
            "_view_name": "LayoutView",
            "grid_template_rows": null,
            "right": null,
            "justify_content": null,
            "_view_module": "@jupyter-widgets/base",
            "overflow": null,
            "_model_module_version": "1.2.0",
            "_view_count": null,
            "flex_flow": null,
            "width": null,
            "min_width": null,
            "border": null,
            "align_items": null,
            "bottom": null,
            "_model_module": "@jupyter-widgets/base",
            "top": null,
            "grid_column": null,
            "overflow_y": null,
            "overflow_x": null,
            "grid_auto_flow": null,
            "grid_area": null,
            "grid_template_columns": null,
            "flex": null,
            "_model_name": "LayoutModel",
            "justify_items": null,
            "grid_row": null,
            "max_height": null,
            "align_content": null,
            "visibility": null,
            "align_self": null,
            "height": null,
            "min_height": null,
            "padding": null,
            "grid_auto_rows": null,
            "grid_gap": null,
            "max_width": null,
            "order": null,
            "_view_module_version": "1.2.0",
            "grid_template_areas": null,
            "object_position": null,
            "object_fit": null,
            "grid_auto_columns": null,
            "margin": null,
            "display": null,
            "left": null
          }
        },
        "815fbddb7af54c3695f75b8c8bceef78": {
          "model_module": "@jupyter-widgets/controls",
          "model_name": "FloatProgressModel",
          "state": {
            "_view_name": "ProgressView",
            "style": "IPY_MODEL_1f8785a970dd42f0bfdfd4c4bfa2731d",
            "_dom_classes": [],
            "description": "epoch 8: 100%",
            "_model_name": "FloatProgressModel",
            "bar_style": "success",
            "max": 3895,
            "_view_module": "@jupyter-widgets/controls",
            "_model_module_version": "1.5.0",
            "value": 3895,
            "_view_count": null,
            "_view_module_version": "1.5.0",
            "orientation": "horizontal",
            "min": 0,
            "description_tooltip": null,
            "_model_module": "@jupyter-widgets/controls",
            "layout": "IPY_MODEL_a7e83fde84eb4a9a976c5e4c647e2d29"
          }
        },
        "a670800ad5ee420cab7a9d158215fd4a": {
          "model_module": "@jupyter-widgets/controls",
          "model_name": "HTMLModel",
          "state": {
            "_view_name": "HTMLView",
            "style": "IPY_MODEL_b579c91b5f03461ebc31cc7cf15f6617",
            "_dom_classes": [],
            "description": "",
            "_model_name": "HTMLModel",
            "placeholder": "​",
            "_view_module": "@jupyter-widgets/controls",
            "_model_module_version": "1.5.0",
            "value": " 3895/3895 [01:33&lt;00:00, 41.84it/s, acc=0.32258, f1=0.32258, loss=2.41870]",
            "_view_count": null,
            "_view_module_version": "1.5.0",
            "description_tooltip": null,
            "_model_module": "@jupyter-widgets/controls",
            "layout": "IPY_MODEL_c0d17d834b904d33a851a0bd3afb3d76"
          }
        },
        "1f8785a970dd42f0bfdfd4c4bfa2731d": {
          "model_module": "@jupyter-widgets/controls",
          "model_name": "ProgressStyleModel",
          "state": {
            "_view_name": "StyleView",
            "_model_name": "ProgressStyleModel",
            "description_width": "initial",
            "_view_module": "@jupyter-widgets/base",
            "_model_module_version": "1.5.0",
            "_view_count": null,
            "_view_module_version": "1.2.0",
            "bar_color": null,
            "_model_module": "@jupyter-widgets/controls"
          }
        },
        "a7e83fde84eb4a9a976c5e4c647e2d29": {
          "model_module": "@jupyter-widgets/base",
          "model_name": "LayoutModel",
          "state": {
            "_view_name": "LayoutView",
            "grid_template_rows": null,
            "right": null,
            "justify_content": null,
            "_view_module": "@jupyter-widgets/base",
            "overflow": null,
            "_model_module_version": "1.2.0",
            "_view_count": null,
            "flex_flow": null,
            "width": null,
            "min_width": null,
            "border": null,
            "align_items": null,
            "bottom": null,
            "_model_module": "@jupyter-widgets/base",
            "top": null,
            "grid_column": null,
            "overflow_y": null,
            "overflow_x": null,
            "grid_auto_flow": null,
            "grid_area": null,
            "grid_template_columns": null,
            "flex": null,
            "_model_name": "LayoutModel",
            "justify_items": null,
            "grid_row": null,
            "max_height": null,
            "align_content": null,
            "visibility": null,
            "align_self": null,
            "height": null,
            "min_height": null,
            "padding": null,
            "grid_auto_rows": null,
            "grid_gap": null,
            "max_width": null,
            "order": null,
            "_view_module_version": "1.2.0",
            "grid_template_areas": null,
            "object_position": null,
            "object_fit": null,
            "grid_auto_columns": null,
            "margin": null,
            "display": null,
            "left": null
          }
        },
        "b579c91b5f03461ebc31cc7cf15f6617": {
          "model_module": "@jupyter-widgets/controls",
          "model_name": "DescriptionStyleModel",
          "state": {
            "_view_name": "StyleView",
            "_model_name": "DescriptionStyleModel",
            "description_width": "",
            "_view_module": "@jupyter-widgets/base",
            "_model_module_version": "1.5.0",
            "_view_count": null,
            "_view_module_version": "1.2.0",
            "_model_module": "@jupyter-widgets/controls"
          }
        },
        "c0d17d834b904d33a851a0bd3afb3d76": {
          "model_module": "@jupyter-widgets/base",
          "model_name": "LayoutModel",
          "state": {
            "_view_name": "LayoutView",
            "grid_template_rows": null,
            "right": null,
            "justify_content": null,
            "_view_module": "@jupyter-widgets/base",
            "overflow": null,
            "_model_module_version": "1.2.0",
            "_view_count": null,
            "flex_flow": null,
            "width": null,
            "min_width": null,
            "border": null,
            "align_items": null,
            "bottom": null,
            "_model_module": "@jupyter-widgets/base",
            "top": null,
            "grid_column": null,
            "overflow_y": null,
            "overflow_x": null,
            "grid_auto_flow": null,
            "grid_area": null,
            "grid_template_columns": null,
            "flex": null,
            "_model_name": "LayoutModel",
            "justify_items": null,
            "grid_row": null,
            "max_height": null,
            "align_content": null,
            "visibility": null,
            "align_self": null,
            "height": null,
            "min_height": null,
            "padding": null,
            "grid_auto_rows": null,
            "grid_gap": null,
            "max_width": null,
            "order": null,
            "_view_module_version": "1.2.0",
            "grid_template_areas": null,
            "object_position": null,
            "object_fit": null,
            "grid_auto_columns": null,
            "margin": null,
            "display": null,
            "left": null
          }
        },
        "6e1340459c65416782f97169a09e4a28": {
          "model_module": "@jupyter-widgets/controls",
          "model_name": "HBoxModel",
          "state": {
            "_view_name": "HBoxView",
            "_dom_classes": [],
            "_model_name": "HBoxModel",
            "_view_module": "@jupyter-widgets/controls",
            "_model_module_version": "1.5.0",
            "_view_count": null,
            "_view_module_version": "1.5.0",
            "box_style": "",
            "layout": "IPY_MODEL_a652958fcd924149a3d00ca36b385c64",
            "_model_module": "@jupyter-widgets/controls",
            "children": [
              "IPY_MODEL_2505d33676e64d1e9a85d6c3bdb0607a",
              "IPY_MODEL_8f37dfdfe3dc402fb8a0fba68bd9fa21"
            ]
          }
        },
        "a652958fcd924149a3d00ca36b385c64": {
          "model_module": "@jupyter-widgets/base",
          "model_name": "LayoutModel",
          "state": {
            "_view_name": "LayoutView",
            "grid_template_rows": null,
            "right": null,
            "justify_content": null,
            "_view_module": "@jupyter-widgets/base",
            "overflow": null,
            "_model_module_version": "1.2.0",
            "_view_count": null,
            "flex_flow": null,
            "width": null,
            "min_width": null,
            "border": null,
            "align_items": null,
            "bottom": null,
            "_model_module": "@jupyter-widgets/base",
            "top": null,
            "grid_column": null,
            "overflow_y": null,
            "overflow_x": null,
            "grid_auto_flow": null,
            "grid_area": null,
            "grid_template_columns": null,
            "flex": null,
            "_model_name": "LayoutModel",
            "justify_items": null,
            "grid_row": null,
            "max_height": null,
            "align_content": null,
            "visibility": null,
            "align_self": null,
            "height": null,
            "min_height": null,
            "padding": null,
            "grid_auto_rows": null,
            "grid_gap": null,
            "max_width": null,
            "order": null,
            "_view_module_version": "1.2.0",
            "grid_template_areas": null,
            "object_position": null,
            "object_fit": null,
            "grid_auto_columns": null,
            "margin": null,
            "display": null,
            "left": null
          }
        },
        "2505d33676e64d1e9a85d6c3bdb0607a": {
          "model_module": "@jupyter-widgets/controls",
          "model_name": "FloatProgressModel",
          "state": {
            "_view_name": "ProgressView",
            "style": "IPY_MODEL_a3b4b7c27a984d348ce1fa302731580f",
            "_dom_classes": [],
            "description": "epoch 9: 100%",
            "_model_name": "FloatProgressModel",
            "bar_style": "success",
            "max": 3895,
            "_view_module": "@jupyter-widgets/controls",
            "_model_module_version": "1.5.0",
            "value": 3895,
            "_view_count": null,
            "_view_module_version": "1.5.0",
            "orientation": "horizontal",
            "min": 0,
            "description_tooltip": null,
            "_model_module": "@jupyter-widgets/controls",
            "layout": "IPY_MODEL_a339612939f24ebc87b63fdeb61fe95d"
          }
        },
        "8f37dfdfe3dc402fb8a0fba68bd9fa21": {
          "model_module": "@jupyter-widgets/controls",
          "model_name": "HTMLModel",
          "state": {
            "_view_name": "HTMLView",
            "style": "IPY_MODEL_5817f11433f24886be819e9dc2702fb1",
            "_dom_classes": [],
            "description": "",
            "_model_name": "HTMLModel",
            "placeholder": "​",
            "_view_module": "@jupyter-widgets/controls",
            "_model_module_version": "1.5.0",
            "value": " 3895/3895 [04:16&lt;00:00, 15.20it/s, acc=0.33333, f1=0.33333, loss=2.38265]",
            "_view_count": null,
            "_view_module_version": "1.5.0",
            "description_tooltip": null,
            "_model_module": "@jupyter-widgets/controls",
            "layout": "IPY_MODEL_17c948e7ce424dae98de1fb91e960968"
          }
        },
        "a3b4b7c27a984d348ce1fa302731580f": {
          "model_module": "@jupyter-widgets/controls",
          "model_name": "ProgressStyleModel",
          "state": {
            "_view_name": "StyleView",
            "_model_name": "ProgressStyleModel",
            "description_width": "initial",
            "_view_module": "@jupyter-widgets/base",
            "_model_module_version": "1.5.0",
            "_view_count": null,
            "_view_module_version": "1.2.0",
            "bar_color": null,
            "_model_module": "@jupyter-widgets/controls"
          }
        },
        "a339612939f24ebc87b63fdeb61fe95d": {
          "model_module": "@jupyter-widgets/base",
          "model_name": "LayoutModel",
          "state": {
            "_view_name": "LayoutView",
            "grid_template_rows": null,
            "right": null,
            "justify_content": null,
            "_view_module": "@jupyter-widgets/base",
            "overflow": null,
            "_model_module_version": "1.2.0",
            "_view_count": null,
            "flex_flow": null,
            "width": null,
            "min_width": null,
            "border": null,
            "align_items": null,
            "bottom": null,
            "_model_module": "@jupyter-widgets/base",
            "top": null,
            "grid_column": null,
            "overflow_y": null,
            "overflow_x": null,
            "grid_auto_flow": null,
            "grid_area": null,
            "grid_template_columns": null,
            "flex": null,
            "_model_name": "LayoutModel",
            "justify_items": null,
            "grid_row": null,
            "max_height": null,
            "align_content": null,
            "visibility": null,
            "align_self": null,
            "height": null,
            "min_height": null,
            "padding": null,
            "grid_auto_rows": null,
            "grid_gap": null,
            "max_width": null,
            "order": null,
            "_view_module_version": "1.2.0",
            "grid_template_areas": null,
            "object_position": null,
            "object_fit": null,
            "grid_auto_columns": null,
            "margin": null,
            "display": null,
            "left": null
          }
        },
        "5817f11433f24886be819e9dc2702fb1": {
          "model_module": "@jupyter-widgets/controls",
          "model_name": "DescriptionStyleModel",
          "state": {
            "_view_name": "StyleView",
            "_model_name": "DescriptionStyleModel",
            "description_width": "",
            "_view_module": "@jupyter-widgets/base",
            "_model_module_version": "1.5.0",
            "_view_count": null,
            "_view_module_version": "1.2.0",
            "_model_module": "@jupyter-widgets/controls"
          }
        },
        "17c948e7ce424dae98de1fb91e960968": {
          "model_module": "@jupyter-widgets/base",
          "model_name": "LayoutModel",
          "state": {
            "_view_name": "LayoutView",
            "grid_template_rows": null,
            "right": null,
            "justify_content": null,
            "_view_module": "@jupyter-widgets/base",
            "overflow": null,
            "_model_module_version": "1.2.0",
            "_view_count": null,
            "flex_flow": null,
            "width": null,
            "min_width": null,
            "border": null,
            "align_items": null,
            "bottom": null,
            "_model_module": "@jupyter-widgets/base",
            "top": null,
            "grid_column": null,
            "overflow_y": null,
            "overflow_x": null,
            "grid_auto_flow": null,
            "grid_area": null,
            "grid_template_columns": null,
            "flex": null,
            "_model_name": "LayoutModel",
            "justify_items": null,
            "grid_row": null,
            "max_height": null,
            "align_content": null,
            "visibility": null,
            "align_self": null,
            "height": null,
            "min_height": null,
            "padding": null,
            "grid_auto_rows": null,
            "grid_gap": null,
            "max_width": null,
            "order": null,
            "_view_module_version": "1.2.0",
            "grid_template_areas": null,
            "object_position": null,
            "object_fit": null,
            "grid_auto_columns": null,
            "margin": null,
            "display": null,
            "left": null
          }
        },
        "e76eb753c33346c093166325d02a109e": {
          "model_module": "@jupyter-widgets/controls",
          "model_name": "HBoxModel",
          "state": {
            "_view_name": "HBoxView",
            "_dom_classes": [],
            "_model_name": "HBoxModel",
            "_view_module": "@jupyter-widgets/controls",
            "_model_module_version": "1.5.0",
            "_view_count": null,
            "_view_module_version": "1.5.0",
            "box_style": "",
            "layout": "IPY_MODEL_f2d4253c93d943bf815780fab6776a31",
            "_model_module": "@jupyter-widgets/controls",
            "children": [
              "IPY_MODEL_98643f878e05478a98053b5ed189a9fc",
              "IPY_MODEL_f96331ba01244420bade0bcbde4c7320"
            ]
          }
        },
        "f2d4253c93d943bf815780fab6776a31": {
          "model_module": "@jupyter-widgets/base",
          "model_name": "LayoutModel",
          "state": {
            "_view_name": "LayoutView",
            "grid_template_rows": null,
            "right": null,
            "justify_content": null,
            "_view_module": "@jupyter-widgets/base",
            "overflow": null,
            "_model_module_version": "1.2.0",
            "_view_count": null,
            "flex_flow": null,
            "width": null,
            "min_width": null,
            "border": null,
            "align_items": null,
            "bottom": null,
            "_model_module": "@jupyter-widgets/base",
            "top": null,
            "grid_column": null,
            "overflow_y": null,
            "overflow_x": null,
            "grid_auto_flow": null,
            "grid_area": null,
            "grid_template_columns": null,
            "flex": null,
            "_model_name": "LayoutModel",
            "justify_items": null,
            "grid_row": null,
            "max_height": null,
            "align_content": null,
            "visibility": null,
            "align_self": null,
            "height": null,
            "min_height": null,
            "padding": null,
            "grid_auto_rows": null,
            "grid_gap": null,
            "max_width": null,
            "order": null,
            "_view_module_version": "1.2.0",
            "grid_template_areas": null,
            "object_position": null,
            "object_fit": null,
            "grid_auto_columns": null,
            "margin": null,
            "display": null,
            "left": null
          }
        },
        "98643f878e05478a98053b5ed189a9fc": {
          "model_module": "@jupyter-widgets/controls",
          "model_name": "FloatProgressModel",
          "state": {
            "_view_name": "ProgressView",
            "style": "IPY_MODEL_88db211e1311424ea7512cf029533acb",
            "_dom_classes": [],
            "description": "100%",
            "_model_name": "FloatProgressModel",
            "bar_style": "success",
            "max": 1006,
            "_view_module": "@jupyter-widgets/controls",
            "_model_module_version": "1.5.0",
            "value": 1006,
            "_view_count": null,
            "_view_module_version": "1.5.0",
            "orientation": "horizontal",
            "min": 0,
            "description_tooltip": null,
            "_model_module": "@jupyter-widgets/controls",
            "layout": "IPY_MODEL_1a5404fac02041bdacea01e44651fc71"
          }
        },
        "f96331ba01244420bade0bcbde4c7320": {
          "model_module": "@jupyter-widgets/controls",
          "model_name": "HTMLModel",
          "state": {
            "_view_name": "HTMLView",
            "style": "IPY_MODEL_80ae4b7a79764b2ca01a593cc08fa5d6",
            "_dom_classes": [],
            "description": "",
            "_model_name": "HTMLModel",
            "placeholder": "​",
            "_view_module": "@jupyter-widgets/controls",
            "_model_module_version": "1.5.0",
            "value": " 1006/1006 [03:37&lt;00:00,  4.63it/s]",
            "_view_count": null,
            "_view_module_version": "1.5.0",
            "description_tooltip": null,
            "_model_module": "@jupyter-widgets/controls",
            "layout": "IPY_MODEL_e908641b8b69458eaf00a14478908f33"
          }
        },
        "88db211e1311424ea7512cf029533acb": {
          "model_module": "@jupyter-widgets/controls",
          "model_name": "ProgressStyleModel",
          "state": {
            "_view_name": "StyleView",
            "_model_name": "ProgressStyleModel",
            "description_width": "initial",
            "_view_module": "@jupyter-widgets/base",
            "_model_module_version": "1.5.0",
            "_view_count": null,
            "_view_module_version": "1.2.0",
            "bar_color": null,
            "_model_module": "@jupyter-widgets/controls"
          }
        },
        "1a5404fac02041bdacea01e44651fc71": {
          "model_module": "@jupyter-widgets/base",
          "model_name": "LayoutModel",
          "state": {
            "_view_name": "LayoutView",
            "grid_template_rows": null,
            "right": null,
            "justify_content": null,
            "_view_module": "@jupyter-widgets/base",
            "overflow": null,
            "_model_module_version": "1.2.0",
            "_view_count": null,
            "flex_flow": null,
            "width": null,
            "min_width": null,
            "border": null,
            "align_items": null,
            "bottom": null,
            "_model_module": "@jupyter-widgets/base",
            "top": null,
            "grid_column": null,
            "overflow_y": null,
            "overflow_x": null,
            "grid_auto_flow": null,
            "grid_area": null,
            "grid_template_columns": null,
            "flex": null,
            "_model_name": "LayoutModel",
            "justify_items": null,
            "grid_row": null,
            "max_height": null,
            "align_content": null,
            "visibility": null,
            "align_self": null,
            "height": null,
            "min_height": null,
            "padding": null,
            "grid_auto_rows": null,
            "grid_gap": null,
            "max_width": null,
            "order": null,
            "_view_module_version": "1.2.0",
            "grid_template_areas": null,
            "object_position": null,
            "object_fit": null,
            "grid_auto_columns": null,
            "margin": null,
            "display": null,
            "left": null
          }
        },
        "80ae4b7a79764b2ca01a593cc08fa5d6": {
          "model_module": "@jupyter-widgets/controls",
          "model_name": "DescriptionStyleModel",
          "state": {
            "_view_name": "StyleView",
            "_model_name": "DescriptionStyleModel",
            "description_width": "",
            "_view_module": "@jupyter-widgets/base",
            "_model_module_version": "1.5.0",
            "_view_count": null,
            "_view_module_version": "1.2.0",
            "_model_module": "@jupyter-widgets/controls"
          }
        },
        "e908641b8b69458eaf00a14478908f33": {
          "model_module": "@jupyter-widgets/base",
          "model_name": "LayoutModel",
          "state": {
            "_view_name": "LayoutView",
            "grid_template_rows": null,
            "right": null,
            "justify_content": null,
            "_view_module": "@jupyter-widgets/base",
            "overflow": null,
            "_model_module_version": "1.2.0",
            "_view_count": null,
            "flex_flow": null,
            "width": null,
            "min_width": null,
            "border": null,
            "align_items": null,
            "bottom": null,
            "_model_module": "@jupyter-widgets/base",
            "top": null,
            "grid_column": null,
            "overflow_y": null,
            "overflow_x": null,
            "grid_auto_flow": null,
            "grid_area": null,
            "grid_template_columns": null,
            "flex": null,
            "_model_name": "LayoutModel",
            "justify_items": null,
            "grid_row": null,
            "max_height": null,
            "align_content": null,
            "visibility": null,
            "align_self": null,
            "height": null,
            "min_height": null,
            "padding": null,
            "grid_auto_rows": null,
            "grid_gap": null,
            "max_width": null,
            "order": null,
            "_view_module_version": "1.2.0",
            "grid_template_areas": null,
            "object_position": null,
            "object_fit": null,
            "grid_auto_columns": null,
            "margin": null,
            "display": null,
            "left": null
          }
        },
        "ebccdf39b7e1407bb4e1b51558e66a79": {
          "model_module": "@jupyter-widgets/controls",
          "model_name": "HBoxModel",
          "state": {
            "_view_name": "HBoxView",
            "_dom_classes": [],
            "_model_name": "HBoxModel",
            "_view_module": "@jupyter-widgets/controls",
            "_model_module_version": "1.5.0",
            "_view_count": null,
            "_view_module_version": "1.5.0",
            "box_style": "",
            "layout": "IPY_MODEL_c50119d4c0584259bf65d1d49bf79238",
            "_model_module": "@jupyter-widgets/controls",
            "children": [
              "IPY_MODEL_03458af1b6bd4ae5abd78c2b7c28b26f",
              "IPY_MODEL_6ca6f7d8eecb4dd1b28c419e51281aa1"
            ]
          }
        },
        "c50119d4c0584259bf65d1d49bf79238": {
          "model_module": "@jupyter-widgets/base",
          "model_name": "LayoutModel",
          "state": {
            "_view_name": "LayoutView",
            "grid_template_rows": null,
            "right": null,
            "justify_content": null,
            "_view_module": "@jupyter-widgets/base",
            "overflow": null,
            "_model_module_version": "1.2.0",
            "_view_count": null,
            "flex_flow": null,
            "width": null,
            "min_width": null,
            "border": null,
            "align_items": null,
            "bottom": null,
            "_model_module": "@jupyter-widgets/base",
            "top": null,
            "grid_column": null,
            "overflow_y": null,
            "overflow_x": null,
            "grid_auto_flow": null,
            "grid_area": null,
            "grid_template_columns": null,
            "flex": null,
            "_model_name": "LayoutModel",
            "justify_items": null,
            "grid_row": null,
            "max_height": null,
            "align_content": null,
            "visibility": null,
            "align_self": null,
            "height": null,
            "min_height": null,
            "padding": null,
            "grid_auto_rows": null,
            "grid_gap": null,
            "max_width": null,
            "order": null,
            "_view_module_version": "1.2.0",
            "grid_template_areas": null,
            "object_position": null,
            "object_fit": null,
            "grid_auto_columns": null,
            "margin": null,
            "display": null,
            "left": null
          }
        },
        "03458af1b6bd4ae5abd78c2b7c28b26f": {
          "model_module": "@jupyter-widgets/controls",
          "model_name": "FloatProgressModel",
          "state": {
            "_view_name": "ProgressView",
            "style": "IPY_MODEL_c066746f2fd2452f8d15ffbef07c405a",
            "_dom_classes": [],
            "description": "100%",
            "_model_name": "FloatProgressModel",
            "bar_style": "success",
            "max": 1000,
            "_view_module": "@jupyter-widgets/controls",
            "_model_module_version": "1.5.0",
            "value": 1000,
            "_view_count": null,
            "_view_module_version": "1.5.0",
            "orientation": "horizontal",
            "min": 0,
            "description_tooltip": null,
            "_model_module": "@jupyter-widgets/controls",
            "layout": "IPY_MODEL_fc46e82e71e24e8788e4807dbb08aa06"
          }
        },
        "6ca6f7d8eecb4dd1b28c419e51281aa1": {
          "model_module": "@jupyter-widgets/controls",
          "model_name": "HTMLModel",
          "state": {
            "_view_name": "HTMLView",
            "style": "IPY_MODEL_7f999e0eb9704c2dbeff57a789f577ba",
            "_dom_classes": [],
            "description": "",
            "_model_name": "HTMLModel",
            "placeholder": "​",
            "_view_module": "@jupyter-widgets/controls",
            "_model_module_version": "1.5.0",
            "value": " 1000/1000 [00:30&lt;00:00, 33.06it/s]",
            "_view_count": null,
            "_view_module_version": "1.5.0",
            "description_tooltip": null,
            "_model_module": "@jupyter-widgets/controls",
            "layout": "IPY_MODEL_b7bdf903961f45bd8d41de07985ba38e"
          }
        },
        "c066746f2fd2452f8d15ffbef07c405a": {
          "model_module": "@jupyter-widgets/controls",
          "model_name": "ProgressStyleModel",
          "state": {
            "_view_name": "StyleView",
            "_model_name": "ProgressStyleModel",
            "description_width": "initial",
            "_view_module": "@jupyter-widgets/base",
            "_model_module_version": "1.5.0",
            "_view_count": null,
            "_view_module_version": "1.2.0",
            "bar_color": null,
            "_model_module": "@jupyter-widgets/controls"
          }
        },
        "fc46e82e71e24e8788e4807dbb08aa06": {
          "model_module": "@jupyter-widgets/base",
          "model_name": "LayoutModel",
          "state": {
            "_view_name": "LayoutView",
            "grid_template_rows": null,
            "right": null,
            "justify_content": null,
            "_view_module": "@jupyter-widgets/base",
            "overflow": null,
            "_model_module_version": "1.2.0",
            "_view_count": null,
            "flex_flow": null,
            "width": null,
            "min_width": null,
            "border": null,
            "align_items": null,
            "bottom": null,
            "_model_module": "@jupyter-widgets/base",
            "top": null,
            "grid_column": null,
            "overflow_y": null,
            "overflow_x": null,
            "grid_auto_flow": null,
            "grid_area": null,
            "grid_template_columns": null,
            "flex": null,
            "_model_name": "LayoutModel",
            "justify_items": null,
            "grid_row": null,
            "max_height": null,
            "align_content": null,
            "visibility": null,
            "align_self": null,
            "height": null,
            "min_height": null,
            "padding": null,
            "grid_auto_rows": null,
            "grid_gap": null,
            "max_width": null,
            "order": null,
            "_view_module_version": "1.2.0",
            "grid_template_areas": null,
            "object_position": null,
            "object_fit": null,
            "grid_auto_columns": null,
            "margin": null,
            "display": null,
            "left": null
          }
        },
        "7f999e0eb9704c2dbeff57a789f577ba": {
          "model_module": "@jupyter-widgets/controls",
          "model_name": "DescriptionStyleModel",
          "state": {
            "_view_name": "StyleView",
            "_model_name": "DescriptionStyleModel",
            "description_width": "",
            "_view_module": "@jupyter-widgets/base",
            "_model_module_version": "1.5.0",
            "_view_count": null,
            "_view_module_version": "1.2.0",
            "_model_module": "@jupyter-widgets/controls"
          }
        },
        "b7bdf903961f45bd8d41de07985ba38e": {
          "model_module": "@jupyter-widgets/base",
          "model_name": "LayoutModel",
          "state": {
            "_view_name": "LayoutView",
            "grid_template_rows": null,
            "right": null,
            "justify_content": null,
            "_view_module": "@jupyter-widgets/base",
            "overflow": null,
            "_model_module_version": "1.2.0",
            "_view_count": null,
            "flex_flow": null,
            "width": null,
            "min_width": null,
            "border": null,
            "align_items": null,
            "bottom": null,
            "_model_module": "@jupyter-widgets/base",
            "top": null,
            "grid_column": null,
            "overflow_y": null,
            "overflow_x": null,
            "grid_auto_flow": null,
            "grid_area": null,
            "grid_template_columns": null,
            "flex": null,
            "_model_name": "LayoutModel",
            "justify_items": null,
            "grid_row": null,
            "max_height": null,
            "align_content": null,
            "visibility": null,
            "align_self": null,
            "height": null,
            "min_height": null,
            "padding": null,
            "grid_auto_rows": null,
            "grid_gap": null,
            "max_width": null,
            "order": null,
            "_view_module_version": "1.2.0",
            "grid_template_areas": null,
            "object_position": null,
            "object_fit": null,
            "grid_auto_columns": null,
            "margin": null,
            "display": null,
            "left": null
          }
        }
      }
    }
  },
  "cells": [
    {
      "cell_type": "markdown",
      "metadata": {
        "id": "jV0yBMeRUhkM"
      },
      "source": [
        "<a href=\"https://colab.research.google.com/drive/178BBrkj8NG51ruo_HndtX8CmzCqJVRt6?usp=sharing\"><img src=\"https://colab.research.google.com/assets/colab-badge.svg\" alt=\"Open in Colab\"></a>"
      ]
    },
    {
      "cell_type": "markdown",
      "metadata": {
        "id": "21GeBxezQyiT"
      },
      "source": [
        "If we want to save data to Google drive, first we should do this:"
      ]
    },
    {
      "cell_type": "code",
      "metadata": {
        "id": "738e3BHVQpzj"
      },
      "source": [
        "import os\n",
        "from google.colab import drive"
      ],
      "execution_count": 1,
      "outputs": []
    },
    {
      "cell_type": "code",
      "metadata": {
        "colab": {
          "base_uri": "https://localhost:8080/"
        },
        "id": "hqQbROrmQwQ2",
        "outputId": "f190769b-d267-4195-c5ba-dad3840f96db"
      },
      "source": [
        "drive.mount('/content/drive')\n",
        "os.chdir('drive/My Drive/ChukchiLM')"
      ],
      "execution_count": 2,
      "outputs": [
        {
          "output_type": "stream",
          "text": [
            "Drive already mounted at /content/drive; to attempt to forcibly remount, call drive.mount(\"/content/drive\", force_remount=True).\n"
          ],
          "name": "stdout"
        }
      ]
    },
    {
      "cell_type": "markdown",
      "metadata": {
        "id": "Bp-XbKomUGtr"
      },
      "source": [
        "Download data and baseline implementation from github:"
      ]
    },
    {
      "cell_type": "code",
      "metadata": {
        "colab": {
          "base_uri": "https://localhost:8080/"
        },
        "id": "Z_FIGEF4MTLX",
        "outputId": "2df468f4-740b-4abd-ad40-ffebceeffc99"
      },
      "source": [
        "!git clone https://github.com/ftyers/global-classroom.git"
      ],
      "execution_count": null,
      "outputs": [
        {
          "output_type": "stream",
          "text": [
            "fatal: destination path 'global-classroom' already exists and is not an empty directory.\n"
          ],
          "name": "stdout"
        }
      ]
    },
    {
      "cell_type": "markdown",
      "metadata": {
        "id": "u9dRW_bjBVFX"
      },
      "source": [
        "# Baseline"
      ]
    },
    {
      "cell_type": "code",
      "metadata": {
        "colab": {
          "base_uri": "https://localhost:8080/"
        },
        "id": "WWVQjF8PBbj2",
        "outputId": "207bfbd3-90b6-4776-b726-a401477f3d69"
      },
      "source": [
        "import os\n",
        "os.listdir()"
      ],
      "execution_count": 3,
      "outputs": [
        {
          "output_type": "execute_result",
          "data": {
            "text/plain": [
              "['global-classroom',\n",
              " 'lstm_morph_model',\n",
              " 'lstm_morph_model_freq_restricted',\n",
              " 'cnn_embed_morph_model',\n",
              " 'output1.tsv',\n",
              " 'dev_output1.tsv',\n",
              " 'cnn_token_morph_model',\n",
              " 'output_test_lstm.tsv',\n",
              " 'output_dev_lstm.tsv',\n",
              " 'lstm_restricted_test_output.tsv',\n",
              " 'lstm_restricted_dev_output.tsv']"
            ]
          },
          "metadata": {
            "tags": []
          },
          "execution_count": 3
        }
      ]
    },
    {
      "cell_type": "code",
      "metadata": {
        "colab": {
          "base_uri": "https://localhost:8080/"
        },
        "id": "ECM5Y6VHBntK",
        "outputId": "bbcbf566-e073-4aea-e997-4a82f807d643"
      },
      "source": [
        "os.chdir('global-classroom/chukchi/baseline')\n",
        "!python3 train.py ../data/train.tsv model.dat\n",
        "!python3 predict.py model.dat < ../data/dev.tsv > output.tsv\n",
        "!python3 ../evaluate.py ../data/dev.tsv output.tsv "
      ],
      "execution_count": 3,
      "outputs": [
        {
          "output_type": "stream",
          "text": [
            "Written 33724 unigrams and 107835 bigrams to model.dat.\n",
            "Hits: 33 ; Tokens: 4504\n",
            "Characters: 37897\n",
            "Tokens: 8788\n",
            "Clicks: 37754\n",
            "Clicks/Token: 4.2960855712335\n",
            "Clicks/Character: 0.9962266142438716\n"
          ],
          "name": "stdout"
        }
      ]
    },
    {
      "cell_type": "code",
      "metadata": {
        "colab": {
          "base_uri": "https://localhost:8080/"
        },
        "id": "0zSr0VBcCJLJ",
        "outputId": "2567d9dc-50b0-467e-e64f-30abb49b0b44"
      },
      "source": [
        "!sed 5q < ../data/dev.tsv output.tsv "
      ],
      "execution_count": null,
      "outputs": [
        {
          "output_type": "stream",
          "text": [
            "ӄԓявыԓя риӄукэтэ ивнин ытри ынкы варкыт гынин ӈэвъэн гэԓгыԓин мэмыԓя рагтыгъэ\tӄ ԓ я в ы ԓ я _ р и ӄ у к э т э _ и в н и н _ ы т р и _ ы н к ы _ в а р к ы т _ г ы н и н _ ӈ э в ъ э н _ г э ԓ г ы ԓ и н _ м э м ы ԓ я _ р а г т ы г ъ э _\n",
            "ӄԓявыԓ ынкъам купрэн ынанъомрычьын\tӄ ԓ я в ы ԓ _ ы н к ъ а м _ к у п р э н _ ы н а н ъ о м р ы ч ь ы н _\n",
            "рытэнмавнэн ынӄо эргатык эквэтгъэт копрантыватысӄэквъат\tр ы т э н м а в н э н _ ы н ӄ о _ э р г а т ы к _ э к в э т г ъ э т _ к о п р а н т ы в а т ы с ӄ э к в ъ а т _\n",
            "риӄукэтэ гамгаваны нэнайӈоткоӄэн ӄоԓ\tр и ӄ у к э т э _ г а м г а в а н ы _ н э н а й ӈ о т к о ӄ э н _ ӄ о ԓ _\n",
            "ԓьунин ынӄо йыӈотконэн\tԓ ь у н и н _ ы н ӄ о _ й ы ӈ о т к о н э н _\n"
          ],
          "name": "stdout"
        }
      ]
    },
    {
      "cell_type": "markdown",
      "metadata": {
        "id": "koHat64nEat9"
      },
      "source": [
        "In output.tsv we should have the original sentence and model output separated by tab. If the model's next word guess was right we append the whole word to output. If the model's guess was wrong, we append to the output each character separately. Between words we should add an underscore"
      ]
    },
    {
      "cell_type": "markdown",
      "metadata": {
        "id": "G3XIGnSfBYol"
      },
      "source": [
        "# Our model"
      ]
    },
    {
      "cell_type": "code",
      "metadata": {
        "id": "3Qh_IDLEFx0T"
      },
      "source": [
        "os.chdir('..')\n",
        "os.chdir('..')\n",
        "os.chdir('..')"
      ],
      "execution_count": 4,
      "outputs": []
    },
    {
      "cell_type": "code",
      "metadata": {
        "id": "o25pfr3HNAwn"
      },
      "source": [
        "import os\n",
        "import re\n",
        "import csv\n",
        "\n",
        "import torch as tt\n",
        "import torch.nn as nn\n",
        "import torch.optim as optim\n",
        "import pandas as pd\n",
        "\n",
        "from math import ceil\n",
        "from tqdm import tqdm_notebook\n",
        "\n",
        "from sklearn.metrics import accuracy_score, f1_score\n",
        "from sklearn.model_selection import train_test_split\n",
        "from torch.nn.utils import clip_grad_norm_\n",
        "\n",
        "from collections import Counter\n",
        "\n",
        "import numpy as np"
      ],
      "execution_count": 28,
      "outputs": []
    },
    {
      "cell_type": "code",
      "metadata": {
        "colab": {
          "base_uri": "https://localhost:8080/"
        },
        "id": "8PgtE8CAM8EY",
        "outputId": "c5f08911-4586-40aa-8bbf-5da19694b3f9"
      },
      "source": [
        "os.listdir(\"global-classroom/chukchi/data\")"
      ],
      "execution_count": 6,
      "outputs": [
        {
          "output_type": "execute_result",
          "data": {
            "text/plain": [
              "['dev.tsv', 'test', 'train.tsv']"
            ]
          },
          "metadata": {
            "tags": []
          },
          "execution_count": 6
        }
      ]
    },
    {
      "cell_type": "code",
      "metadata": {
        "id": "IaDqLO25NL4p"
      },
      "source": [
        "with open(\"global-classroom/chukchi/data/train.tsv\") as inp:\n",
        "  word_sentences = []\n",
        "  morph_sentences = []\n",
        "  for line in inp.readlines():\n",
        "    words, morphs = line.strip('\\n').split('\\t')\n",
        "    word_sentences.append(words.split(' '))\n",
        "    morph_sentences.append(morphs.replace('>',' >').split(' '))\n",
        "\n",
        "with open(\"global-classroom/chukchi/data/dev.tsv\") as inp:\n",
        "  dev_word_sentences = []\n",
        "  dev_morph_sentences = []\n",
        "  for line in inp.readlines():\n",
        "    words, morphs = line.strip('\\n').split('\\t')\n",
        "    dev_word_sentences.append(words.split(' '))\n",
        "    dev_morph_sentences.append(morphs.replace('>',' >').split(' '))\n",
        "\n",
        "with open(\"global-classroom/chukchi/data/test/test.tsv\") as inp:\n",
        "  test_word_sentences = []\n",
        "  test_morph_sentences = []\n",
        "  for line in inp.readlines():\n",
        "    words, morphs = line.strip('\\n').split('\\t')\n",
        "    test_word_sentences.append(words.split(' '))\n",
        "    test_morph_sentences.append(morphs.replace('>',' >').split(' '))"
      ],
      "execution_count": 7,
      "outputs": []
    },
    {
      "cell_type": "code",
      "metadata": {
        "colab": {
          "base_uri": "https://localhost:8080/"
        },
        "id": "Bl7SMeakisY6",
        "outputId": "01656da9-8497-4c2d-cd01-38ea65214a55"
      },
      "source": [
        "print(word_sentences[:3])"
      ],
      "execution_count": null,
      "outputs": [
        {
          "output_type": "stream",
          "text": [
            "[['амаравкэваратэн', 'таа’койӈын'], ['йъйыӄык', 'ныӄэԓпэратӄэн', 'вытэчгытрыӄэргыԓьын', 'йыӈэттэт'], ['мыкыӈ', 'нывытрэтӄин', 'чеԓгатвытрыԓьо', 'ынӄорыым', 'вытэчгытрыԓьо']]\n"
          ],
          "name": "stdout"
        }
      ]
    },
    {
      "cell_type": "code",
      "metadata": {
        "colab": {
          "base_uri": "https://localhost:8080/"
        },
        "id": "wNeOwK_ji_oH",
        "outputId": "e609a15a-090b-483c-8b3c-2324a71b5a4d"
      },
      "source": [
        "print(morph_sentences[:3])"
      ],
      "execution_count": null,
      "outputs": [
        {
          "output_type": "stream",
          "text": [
            "[['а', '>маравкэва', '>ра', '>тэн', 'таа', '>’ко', '>йӈы', '>н'], ['йъйыӄы', '>к', 'ны', '>ӄэԓпэр', '>ат', '>ӄэн', 'вытэч', '>гытры', '>ӄэргы', '>ԓьы', '>н', 'йыӈэт', '>тэ', '>т'], ['мык', '>ы', '>ӈ', 'ны', '>вытрэт', '>ӄин', 'чеԓг', '>ат', '>вытры', '>ԓь', '>о', 'ынӄор', '>ыым', 'вытэч', '>гытры', '>ԓь', '>о']]\n"
          ],
          "name": "stdout"
        }
      ]
    },
    {
      "cell_type": "markdown",
      "metadata": {
        "id": "4EbPDNrl6EVp"
      },
      "source": [
        "A hyperparameter: length of input sequence"
      ]
    },
    {
      "cell_type": "code",
      "metadata": {
        "id": "tj-xg4nr6JIA"
      },
      "source": [
        "SEQ_LEN = 5"
      ],
      "execution_count": 8,
      "outputs": []
    },
    {
      "cell_type": "code",
      "metadata": {
        "id": "Rhk4odypVmJh"
      },
      "source": [
        "class MyModel(nn.Module):\n",
        "    @staticmethod\n",
        "    def calculate_conv_dim(cnn_input_size,\n",
        "                           kernel_size, dilation,\n",
        "                           stride, padding):\n",
        "      return int(np.floor(((cnn_input_size + 2*padding - dilation *(kernel_size-1)-1)/stride+1)))\n",
        "    \n",
        "    def __init__(self, vocab_size, embed_size, kernel_size, dilation,\n",
        "                 stride, padding, n_kernels):\n",
        "        super(MyModel, self).__init__()\n",
        "        self.embedding = nn.Embedding(vocab_size, embed_size)\n",
        "        \n",
        "        self.cnn = nn.Conv1d(in_channels=embed_size, out_channels=n_kernels,\n",
        "                             kernel_size=kernel_size, dilation=dilation,\n",
        "                             stride=stride, padding=padding)\n",
        "        \n",
        "        self.fc = nn.Linear(self.calculate_conv_dim(SEQ_LEN, kernel_size, dilation, stride, padding) * n_kernels, vocab_size)\n",
        "        \n",
        "        self.init_weights()\n",
        "        \n",
        "    def init_weights(self):\n",
        "        nn.init.uniform_(self.embedding.weight)\n",
        "        nn.init.xavier_uniform_(self.fc.weight)\n",
        "        nn.init.zeros_(self.fc.bias)\n",
        "        \n",
        "    def forward(self, x):\n",
        "        \n",
        "        batch_size = x.size(1)\n",
        "        total_length = x.size(0)\n",
        "        \n",
        "        x = self.embedding(x).transpose(2,1)\n",
        "            \n",
        "        x = self.cnn(x)\n",
        "        x = x.reshape(x.shape[0], x.shape[1]*x.shape[2])\n",
        "        \n",
        "        #x, _ = nn.utils.rnn.pad_packed_sequence(x, total_length=total_length, batch_first=True)\n",
        "        \n",
        "        #x = x.contiguous().view(batch_size * total_length, -1)\n",
        "        #print(x.shape, self.fc.weight.shape)\n",
        "        x = self.fc(x)\n",
        "        #x = x.contiguous().view(total_length, batch_size, -1)\n",
        "        return x#.transpose(1,2)"
      ],
      "execution_count": 9,
      "outputs": []
    },
    {
      "cell_type": "markdown",
      "metadata": {
        "id": "vV2x44aGhs_W"
      },
      "source": [
        "Now, let's build a vocab"
      ]
    },
    {
      "cell_type": "code",
      "metadata": {
        "id": "OnXTHomGhv89"
      },
      "source": [
        "vocab = Counter([morph for sent in morph_sentences for morph in sent])"
      ],
      "execution_count": 10,
      "outputs": []
    },
    {
      "cell_type": "code",
      "metadata": {
        "colab": {
          "base_uri": "https://localhost:8080/"
        },
        "id": "2k-7N8wUijFB",
        "outputId": "0ab5e760-f0c5-426a-90b1-7359c84d1cab"
      },
      "source": [
        "len(vocab), sum([v for k,v in vocab.items()])"
      ],
      "execution_count": 11,
      "outputs": [
        {
          "output_type": "execute_result",
          "data": {
            "text/plain": [
              "(19487, 318530)"
            ]
          },
          "metadata": {
            "tags": []
          },
          "execution_count": 11
        }
      ]
    },
    {
      "cell_type": "code",
      "metadata": {
        "id": "hzR4Oy5IdEiB"
      },
      "source": [
        "MIN_COUNT = 1"
      ],
      "execution_count": 12,
      "outputs": []
    },
    {
      "cell_type": "code",
      "metadata": {
        "id": "dmSywNktyJau"
      },
      "source": [
        "id2word = [i for i in vocab if vocab[i]>=MIN_COUNT] + ['<bos>','<eos>','<pad>','<unk>']\n",
        "word2id = {v:k for k,v in enumerate(id2word)}"
      ],
      "execution_count": 13,
      "outputs": []
    },
    {
      "cell_type": "code",
      "metadata": {
        "colab": {
          "base_uri": "https://localhost:8080/"
        },
        "id": "tnNYpPVZ7kg-",
        "outputId": "99285b05-0140-4ca5-ee29-5defa695f83b"
      },
      "source": [
        "word2id['<bos>'], word2id['<eos>'], word2id['<pad>']"
      ],
      "execution_count": null,
      "outputs": [
        {
          "output_type": "execute_result",
          "data": {
            "text/plain": [
              "(19487, 19488, 19489)"
            ]
          },
          "metadata": {
            "tags": []
          },
          "execution_count": 21
        }
      ]
    },
    {
      "cell_type": "markdown",
      "metadata": {
        "id": "-uP3hfFhGFK3"
      },
      "source": [
        "Now let's see the ditribution of sentence length in the training set:"
      ]
    },
    {
      "cell_type": "code",
      "metadata": {
        "id": "kret0tHWGNmT"
      },
      "source": [
        "sent_lens = [len(sent) for sent in morph_sentences]"
      ],
      "execution_count": null,
      "outputs": []
    },
    {
      "cell_type": "code",
      "metadata": {
        "colab": {
          "base_uri": "https://localhost:8080/"
        },
        "id": "-aWAbbKWG_lz",
        "outputId": "14768458-b94a-4e03-9674-701a0ed561c6"
      },
      "source": [
        "pd.Series(sent_lens).describe()"
      ],
      "execution_count": null,
      "outputs": [
        {
          "output_type": "execute_result",
          "data": {
            "text/plain": [
              "count    30000.000000\n",
              "mean        10.617667\n",
              "std          7.877840\n",
              "min          1.000000\n",
              "25%          5.000000\n",
              "50%          9.000000\n",
              "75%         14.000000\n",
              "max         94.000000\n",
              "dtype: float64"
            ]
          },
          "metadata": {
            "tags": []
          },
          "execution_count": 23
        }
      ]
    },
    {
      "cell_type": "code",
      "metadata": {
        "id": "fJkaoP9CfMok"
      },
      "source": [
        "def _train_epoch(model, iterator, optimizer, criterion, curr_epoch, device, clip,\n",
        "                 pad_id):\n",
        "\n",
        "    model.train()\n",
        "    \n",
        "    epoch_loss, accuracy, f1score = 0, 0, 0\n",
        "\n",
        "    n_batches = len(iterator)\n",
        "    iterator = tqdm_notebook(iterator, total=n_batches, desc='epoch %d' % (curr_epoch), leave=True)\n",
        "\n",
        "    for i, (batch_in, batch_out) in enumerate(iterator):\n",
        "        optimizer.zero_grad()\n",
        "        \n",
        "        x = batch_in.to(device)\n",
        "        pred = model(x)\n",
        "        \n",
        "        y = batch_out.to(device)\n",
        "\n",
        "        loss = criterion(pred, y)\n",
        "\n",
        "        loss.backward()\n",
        "\n",
        "        clip_grad_norm_(model.parameters(), clip)\n",
        "\n",
        "        optimizer.step()\n",
        "\n",
        "        curr_loss = loss.data.cpu().detach().item()\n",
        "\n",
        "        y_flat, ypred_flat = batch_out.flatten().numpy(), pred.detach().cpu().argmax(dim=1).numpy()\n",
        "\n",
        "        curr_acc = accuracy_score(y_flat, ypred_flat)\n",
        "        curr_f1 = f1_score(y_flat, ypred_flat, average='micro')\n",
        "\n",
        "        accuracy += curr_acc\n",
        "        f1score += curr_f1\n",
        "\n",
        "        iterator.set_postfix(loss='%.5f' % curr_loss, acc='%.5f' % curr_acc, f1='%.5f'%curr_f1)\n",
        "\n",
        "    return epoch_loss/n_batches, accuracy/n_batches, f1score/n_batches\n",
        "\n",
        "def _test_epoch(model, iterator, criterion, device, pad_id):\n",
        "    model.eval()\n",
        "    epoch_loss = 0\n",
        "\n",
        "    epoch_loss, accuracy, f1score = 0, 0, 0\n",
        "\n",
        "    n_batches = len(iterator)\n",
        "    with tt.no_grad():\n",
        "        for batch_in, batch_out in iterator:\n",
        "            \n",
        "            x, y = batch_in.to(device), batch_out.to(device)\n",
        "            pred = model(x)\n",
        "            loss = criterion(pred, y)\n",
        "            epoch_loss += loss.data.cpu().detach().item()\n",
        "\n",
        "            y_flat, ypred_flat = batch_out.flatten().numpy(), pred.detach().cpu().argmax(dim=1).numpy()\n",
        "\n",
        "            curr_acc = accuracy_score(y_flat, ypred_flat)\n",
        "            curr_f1 = f1_score(y_flat, ypred_flat, average='micro')\n",
        "\n",
        "            accuracy += curr_acc\n",
        "            f1score += curr_f1\n",
        "\n",
        "    return epoch_loss / n_batches, accuracy/n_batches, f1score/n_batches\n",
        "\n",
        "\n",
        "def nn_train(model, train_iterator, valid_iterator, criterion, optimizer, device, n_epochs=100,\n",
        "          scheduler=None, early_stopping=0, clip=1.0, pad_id=word2id['<pad>']):\n",
        "\n",
        "    prev_loss = float('inf')\n",
        "\n",
        "    es_epochs = 0\n",
        "    best_epoch = None\n",
        "    history = pd.DataFrame()\n",
        "\n",
        "    for epoch in range(n_epochs):\n",
        "        train_loss, train_acc, train_f1 = _train_epoch(model, train_iterator, optimizer, criterion, epoch, device, clip, pad_id)\n",
        "\n",
        "        print(f\"Epoch {epoch} Training loss: {np.round(train_loss, 4)} Training accuracy: {np.round(train_acc, 4)} Training F1: {np.round(train_f1, 4)}\")\n",
        "\n",
        "        valid_loss, valid_acc, valid_f1 = _test_epoch(model, valid_iterator, criterion, device, pad_id)\n",
        "\n",
        "        print(f\"Epoch {epoch} Validation loss: {np.round(valid_loss, 4)} Validation accuracy: {np.round(valid_acc, 4)} Validation F1: {np.round(valid_f1, 4)}\")\n",
        "\n",
        "        if valid_loss < prev_loss:\n",
        "          print(\"New record! Saving model\")\n",
        "          tt.save(model, 'cnn_morph_model')\n",
        "\n",
        "        record = {'epoch': epoch, 'train_loss': train_loss, 'train_acc': train_acc, 'train_f1': train_f1,\n",
        "                  'valid_loss': valid_loss, 'valid_acc': valid_acc, 'valid_f1': valid_f1}\n",
        "        history = history.append(record, ignore_index=True)\n",
        "\n",
        "        if early_stopping > 0:\n",
        "            if valid_loss > prev_loss:\n",
        "                es_epochs += 1\n",
        "            else:\n",
        "                es_epochs = 0\n",
        "\n",
        "            if es_epochs >= early_stopping:\n",
        "                best_epoch = history[history.valid_loss == history.valid_loss.min()].iloc[0]\n",
        "                print('Early stopping! best epoch: %d val %.5f' % (best_epoch['epoch'], best_epoch['valid_loss']))\n",
        "                break\n",
        "                \n",
        "        prev_loss = min(prev_loss, valid_loss)\n",
        "    return history"
      ],
      "execution_count": 14,
      "outputs": []
    },
    {
      "cell_type": "code",
      "metadata": {
        "id": "ThP4bQnL3-XB"
      },
      "source": [
        "def map_word(word, mapping):\n",
        "  if word in mapping:\n",
        "    return mapping[word]\n",
        "  else:\n",
        "    return mapping['<unk>']\n",
        "\n",
        "def make_lm_dataset(sentences, word2id, seq_len):\n",
        "  text_new = []\n",
        "  for sent in sentences:\n",
        "    text_new += ['<pad>' for i in range(seq_len)]\n",
        "    new_sent = ['<bos>'] + sent\n",
        "    text_new += new_sent\n",
        "  \n",
        "  sents_in = []\n",
        "  sents_out = []\n",
        "\n",
        "  for word_id in range(len(text_new)-seq_len):\n",
        "    sents_in.append(text_new[word_id:word_id+seq_len])\n",
        "    sents_out.append(text_new[word_id+seq_len])\n",
        "  return [[map_word(word, word2id) for word in sent] for sent in sents_in], [map_word(word, word2id) for word in sents_out]"
      ],
      "execution_count": 15,
      "outputs": []
    },
    {
      "cell_type": "code",
      "metadata": {
        "id": "zPFzfHDQ1FVF"
      },
      "source": [
        "def pad_sentences(sents, pad_id, max_len, append_eos=False):\n",
        "  for sent_id, sent in enumerate(sents):\n",
        "    if len(sent) < max_len:\n",
        "      sents[sent_id] = sent + [pad_id for i in range(max_len-len(sent))]\n",
        "    elif len(sent) < max_len:\n",
        "      sents[sent_id] = sent[:max_len]\n",
        "  return sents\n",
        "\n",
        "\n",
        "def make_batch(batch_in, batch_out, pad_id, max_len):\n",
        "   max_len = max([len(sent) for sent in batch_in])\n",
        "   batch_in = pad_sentences(batch_in, pad_id, max_len)\n",
        "   #batch_out = pad_sentences(batch_out, pad_id, max_len)\n",
        "   return tt.LongTensor(batch_in), tt.LongTensor(batch_out)\n",
        "\n",
        "class MyBatchIterator:\n",
        "  def __init__(self, sents_in, sents_out, batch_size=128,\n",
        "              pad_id=word2id['<pad>'], max_len=5):\n",
        "    self.sents_in = sents_in\n",
        "    self.sents_out = sents_out\n",
        "    self.batch_size = batch_size\n",
        "    self.pad_id = pad_id\n",
        "    self.max_len = max_len\n",
        "  \n",
        "  def __iter__(self):\n",
        "    self.start = 0\n",
        "    return self\n",
        "  \n",
        "  def __next__(self):\n",
        "    if self.start >= len(self.sents_in):\n",
        "      raise StopIteration\n",
        "    batch_in = self.sents_in[self.start:self.start+self.batch_size]\n",
        "    batch_out = self.sents_out[self.start:self.start+self.batch_size]\n",
        "    self.start += self.batch_size\n",
        "    return make_batch(batch_in, batch_out, self.pad_id, self.max_len)\n",
        "  \n",
        "  def __len__(self):\n",
        "    return ceil(len(self.sents_in)/self.batch_size)"
      ],
      "execution_count": 16,
      "outputs": []
    },
    {
      "cell_type": "markdown",
      "metadata": {
        "id": "ROiKJxTk6Pu4"
      },
      "source": [
        "Let's prepare our dataset:"
      ]
    },
    {
      "cell_type": "code",
      "metadata": {
        "id": "JcjcVlBo23KY"
      },
      "source": [
        "sents_in, sents_out = make_lm_dataset(morph_sentences, word2id, SEQ_LEN)\n",
        "sents_in_dev, sents_out_dev = make_lm_dataset(dev_morph_sentences, word2id, SEQ_LEN)\n",
        "sents_in_test, sents_out_test = make_lm_dataset(test_morph_sentences, word2id, SEQ_LEN)\n",
        "\n",
        "X_train, y_train = sents_in, sents_out\n",
        "X_dev, y_dev = sents_in_dev, sents_out_dev"
      ],
      "execution_count": 17,
      "outputs": []
    },
    {
      "cell_type": "code",
      "metadata": {
        "colab": {
          "base_uri": "https://localhost:8080/"
        },
        "id": "E37tMeevBiKX",
        "outputId": "3a92ce23-54ee-49d9-eb02-0c8536b698bb"
      },
      "source": [
        "sents_in[:10]"
      ],
      "execution_count": null,
      "outputs": [
        {
          "output_type": "execute_result",
          "data": {
            "text/plain": [
              "[[19489, 19489, 19489, 19489, 19489],\n",
              " [19489, 19489, 19489, 19489, 19487],\n",
              " [19489, 19489, 19489, 19487, 0],\n",
              " [19489, 19489, 19487, 0, 1],\n",
              " [19489, 19487, 0, 1, 2],\n",
              " [19487, 0, 1, 2, 3],\n",
              " [0, 1, 2, 3, 4],\n",
              " [1, 2, 3, 4, 5],\n",
              " [2, 3, 4, 5, 6],\n",
              " [3, 4, 5, 6, 7]]"
            ]
          },
          "metadata": {
            "tags": []
          },
          "execution_count": 31
        }
      ]
    },
    {
      "cell_type": "code",
      "metadata": {
        "colab": {
          "base_uri": "https://localhost:8080/"
        },
        "id": "sUesaHQ2BxtZ",
        "outputId": "8ed03dc4-6457-4916-d6da-f87c9f4b7bf3"
      },
      "source": [
        "sents_out[:10]"
      ],
      "execution_count": null,
      "outputs": [
        {
          "output_type": "execute_result",
          "data": {
            "text/plain": [
              "[19487, 0, 1, 2, 3, 4, 5, 6, 7, 19489]"
            ]
          },
          "metadata": {
            "tags": []
          },
          "execution_count": 32
        }
      ]
    },
    {
      "cell_type": "code",
      "metadata": {
        "id": "LQ310F75GfQj"
      },
      "source": [
        "train_iter = MyBatchIterator(X_train, y_train, max_len=SEQ_LEN)\n",
        "dev_iter = MyBatchIterator(X_dev, y_dev, max_len=SEQ_LEN)"
      ],
      "execution_count": null,
      "outputs": []
    },
    {
      "cell_type": "code",
      "metadata": {
        "id": "Uzo6jS-PI30g"
      },
      "source": [
        "device = tt.device('cuda')"
      ],
      "execution_count": null,
      "outputs": []
    },
    {
      "cell_type": "code",
      "metadata": {
        "id": "gDKsGF7SIjGv"
      },
      "source": [
        "model = MyModel(len(word2id), embed_size=100, kernel_size=3, dilation=1, padding=2, stride=1, n_kernels=50).to(device)"
      ],
      "execution_count": null,
      "outputs": []
    },
    {
      "cell_type": "code",
      "metadata": {
        "id": "IZ2ceS33IwOx"
      },
      "source": [
        "criterion = nn.CrossEntropyLoss(ignore_index=word2id[\"<pad>\"]).to(device)\n",
        "optimizer = tt.optim.Adam(model.parameters())\n",
        "scheduler = tt.optim.lr_scheduler.ReduceLROnPlateau(optimizer, patience=10)"
      ],
      "execution_count": null,
      "outputs": []
    },
    {
      "cell_type": "code",
      "metadata": {
        "colab": {
          "base_uri": "https://localhost:8080/",
          "height": 1000,
          "referenced_widgets": [
            "dda112bd71f14ffd87ce9bed4ed353ee",
            "3dde3b2b77804125bc4e53228db75623",
            "7ef85e53df8a41419e9ec37a4a8fcc3e",
            "ddac60ffc967488a871c8155176f5d4c",
            "e27d046c517c47aa8d3dcc6f270d9f84",
            "96583bc45b60425fa8e01cac1e467781",
            "e1defd7d8aa64b64b318aba4ef12342d",
            "bd220a6d6c7640d18485846e40a0f185",
            "3833736b2bdc4e47921493f5284bf84e",
            "9870ece2edb2459dbbf1eae4d622f0bc",
            "a980fa7dca4e488aae2ed87ad70a4e80",
            "1759e4d985d246f2ba6fca0a2e70bd95",
            "9ed928a96a14413a9d49be1458a6093a",
            "aac1c57d4e3f40c98caccac035d66e81",
            "909c99ee75744dc5b80fd635b4ee52bd",
            "c2d64576de6d45d69055be55a3e5e817",
            "3969a279657147849fda47d4a4939a1d",
            "073766699b8c489fa65614e2f9c1bfd2",
            "6e5945488392490b80fec79ccf774e22",
            "dd20783d6d8a4af98c2e03c4b2b7aec4",
            "b954a62c6b8d4b6abb0ec3fe27fe0205",
            "bea019efc8d24644a2efa1e101a47a87",
            "c4a59b8bf2cd484b98058d79b6a3bb64",
            "aa9b32060e8c4a4a8dc0184184db31fb",
            "3b487be4bc71487190beb12bdc6ded47",
            "130e7f495dc14d78930d4b6bbd01f5ed",
            "0ced42afc401450891085e6b1753c178",
            "cb296d334d5e42b58656bf8cb64876f6",
            "8387236af1fa4f349b4ec867f3e3a853",
            "dc1fdc2e2785437fa3da59de687aaebc",
            "de962f5b12c5429cb9ee59739c9e7f8a",
            "6d3a72f57eec4ae096b3e9c8e886914e",
            "cdedf3a0ce834c9380716b4ee69db319",
            "73beafb872e546f1983930c123b3df20",
            "a9c6e4b4c901460881b9251c9d7f71bf",
            "cad9faa2a0104c4f9aeafc3472e69cb3",
            "592c8e94970044e68ea4154a2b015821",
            "5fed9d6bc32d4176a43fede22e8797bf",
            "28dc46da581642a19c2df37eed1e5208",
            "be64fbc1a16446568e39c4f2c5aaf1c5",
            "440cb3a3df9144609a8efd39340977b0",
            "c4545d1793294221bb2b2f5a8823dd30",
            "074ed0f0e49e4bb1998cb2717cfa4097",
            "35448090248c4c8cb3dc8f9f5475ef6d",
            "5002b7be4f3a4444a18e9fa88d5b01f3",
            "730bbe5120b449818c3c50859dd093c9",
            "33dc0567092843b1a1ba43b215fdc43d",
            "50818bf32e2143f08e96d3d8abfcf845",
            "9a00803382fe421da95b21f5f7e69da2",
            "ed76aa8bf4774a12ae7e0fb998bd94e8",
            "5c01e2ae802a4ccaa4dfa20136b12716",
            "14cc2f8cae6b4e99bf455c5644a570bc",
            "cbe8fcb0d089413c9a88b31e08399d5a",
            "4c78a443d5824241a123d38cdbe0f099",
            "44328dca3129432387a73edd0555caad",
            "4bbaba12457449908ca2b6d92a7266c2",
            "2646489ed8d64176aa891742b6930706",
            "2111918c3f474765bdb01d165703bfba",
            "12448289b7ae400f9cf8b51ba6974ac1",
            "adc7b3f327c8478c8e55b02011d4bcf7",
            "fa455796881b4db996b66918f6f74880",
            "996d42d1f86f4260aa80f571acf65050",
            "908e01b057d843f7a93575f0748e8b1c",
            "1d78816827d04b599a588872915db758",
            "8e14ca3afc35458bad0f33e771283064",
            "23b87c61b4f54902b2621879cd1d7955",
            "815fbddb7af54c3695f75b8c8bceef78",
            "a670800ad5ee420cab7a9d158215fd4a",
            "1f8785a970dd42f0bfdfd4c4bfa2731d",
            "a7e83fde84eb4a9a976c5e4c647e2d29",
            "b579c91b5f03461ebc31cc7cf15f6617",
            "c0d17d834b904d33a851a0bd3afb3d76",
            "6e1340459c65416782f97169a09e4a28",
            "a652958fcd924149a3d00ca36b385c64",
            "2505d33676e64d1e9a85d6c3bdb0607a",
            "8f37dfdfe3dc402fb8a0fba68bd9fa21",
            "a3b4b7c27a984d348ce1fa302731580f",
            "a339612939f24ebc87b63fdeb61fe95d",
            "5817f11433f24886be819e9dc2702fb1",
            "17c948e7ce424dae98de1fb91e960968"
          ]
        },
        "id": "GMHvYnqgKaSn",
        "outputId": "3bcf5237-b9f8-4052-f708-a6debdfdf81d"
      },
      "source": [
        "nn_train(model, train_iter, dev_iter, criterion, optimizer, device, n_epochs=10, scheduler=scheduler)"
      ],
      "execution_count": null,
      "outputs": [
        {
          "output_type": "stream",
          "text": [
            "/usr/local/lib/python3.7/dist-packages/ipykernel_launcher.py:9: TqdmDeprecationWarning: This function will be removed in tqdm==5.0.0\n",
            "Please use `tqdm.notebook.tqdm` instead of `tqdm.tqdm_notebook`\n",
            "  if __name__ == '__main__':\n"
          ],
          "name": "stderr"
        },
        {
          "output_type": "display_data",
          "data": {
            "application/vnd.jupyter.widget-view+json": {
              "model_id": "dda112bd71f14ffd87ce9bed4ed353ee",
              "version_minor": 0,
              "version_major": 2
            },
            "text/plain": [
              "HBox(children=(FloatProgress(value=0.0, description='epoch 0', max=3895.0, style=ProgressStyle(description_wid…"
            ]
          },
          "metadata": {
            "tags": []
          }
        },
        {
          "output_type": "stream",
          "text": [
            "\n",
            "Epoch 0 Training loss: 0.0 Training accuracy: 0.1641 Training F1: 0.1641\n",
            "Epoch 0 Validation loss: 4.7532 Validation accuracy: 0.2184 Validation F1: 0.2184\n",
            "New record! Saving model\n"
          ],
          "name": "stdout"
        },
        {
          "output_type": "display_data",
          "data": {
            "application/vnd.jupyter.widget-view+json": {
              "model_id": "3833736b2bdc4e47921493f5284bf84e",
              "version_minor": 0,
              "version_major": 2
            },
            "text/plain": [
              "HBox(children=(FloatProgress(value=0.0, description='epoch 1', max=3895.0, style=ProgressStyle(description_wid…"
            ]
          },
          "metadata": {
            "tags": []
          }
        },
        {
          "output_type": "stream",
          "text": [
            "\n",
            "Epoch 1 Training loss: 0.0 Training accuracy: 0.2243 Training F1: 0.2243\n",
            "Epoch 1 Validation loss: 4.7572 Validation accuracy: 0.2337 Validation F1: 0.2337\n"
          ],
          "name": "stdout"
        },
        {
          "output_type": "display_data",
          "data": {
            "application/vnd.jupyter.widget-view+json": {
              "model_id": "3969a279657147849fda47d4a4939a1d",
              "version_minor": 0,
              "version_major": 2
            },
            "text/plain": [
              "HBox(children=(FloatProgress(value=0.0, description='epoch 2', max=3895.0, style=ProgressStyle(description_wid…"
            ]
          },
          "metadata": {
            "tags": []
          }
        },
        {
          "output_type": "stream",
          "text": [
            "\n",
            "Epoch 2 Training loss: 0.0 Training accuracy: 0.2622 Training F1: 0.2622\n",
            "Epoch 2 Validation loss: 4.8963 Validation accuracy: 0.2361 Validation F1: 0.2361\n"
          ],
          "name": "stdout"
        },
        {
          "output_type": "display_data",
          "data": {
            "application/vnd.jupyter.widget-view+json": {
              "model_id": "3b487be4bc71487190beb12bdc6ded47",
              "version_minor": 0,
              "version_major": 2
            },
            "text/plain": [
              "HBox(children=(FloatProgress(value=0.0, description='epoch 3', max=3895.0, style=ProgressStyle(description_wid…"
            ]
          },
          "metadata": {
            "tags": []
          }
        },
        {
          "output_type": "stream",
          "text": [
            "\n",
            "Epoch 3 Training loss: 0.0 Training accuracy: 0.3026 Training F1: 0.3026\n",
            "Epoch 3 Validation loss: 5.1633 Validation accuracy: 0.2378 Validation F1: 0.2378\n"
          ],
          "name": "stdout"
        },
        {
          "output_type": "display_data",
          "data": {
            "application/vnd.jupyter.widget-view+json": {
              "model_id": "cdedf3a0ce834c9380716b4ee69db319",
              "version_minor": 0,
              "version_major": 2
            },
            "text/plain": [
              "HBox(children=(FloatProgress(value=0.0, description='epoch 4', max=3895.0, style=ProgressStyle(description_wid…"
            ]
          },
          "metadata": {
            "tags": []
          }
        },
        {
          "output_type": "stream",
          "text": [
            "\n",
            "Epoch 4 Training loss: 0.0 Training accuracy: 0.3341 Training F1: 0.3341\n",
            "Epoch 4 Validation loss: 5.5229 Validation accuracy: 0.2388 Validation F1: 0.2388\n"
          ],
          "name": "stdout"
        },
        {
          "output_type": "display_data",
          "data": {
            "application/vnd.jupyter.widget-view+json": {
              "model_id": "440cb3a3df9144609a8efd39340977b0",
              "version_minor": 0,
              "version_major": 2
            },
            "text/plain": [
              "HBox(children=(FloatProgress(value=0.0, description='epoch 5', max=3895.0, style=ProgressStyle(description_wid…"
            ]
          },
          "metadata": {
            "tags": []
          }
        },
        {
          "output_type": "stream",
          "text": [
            "\n",
            "Epoch 5 Training loss: 0.0 Training accuracy: 0.3585 Training F1: 0.3585\n",
            "Epoch 5 Validation loss: 5.6898 Validation accuracy: 0.2395 Validation F1: 0.2395\n"
          ],
          "name": "stdout"
        },
        {
          "output_type": "display_data",
          "data": {
            "application/vnd.jupyter.widget-view+json": {
              "model_id": "9a00803382fe421da95b21f5f7e69da2",
              "version_minor": 0,
              "version_major": 2
            },
            "text/plain": [
              "HBox(children=(FloatProgress(value=0.0, description='epoch 6', max=3895.0, style=ProgressStyle(description_wid…"
            ]
          },
          "metadata": {
            "tags": []
          }
        },
        {
          "output_type": "stream",
          "text": [
            "\n",
            "Epoch 6 Training loss: 0.0 Training accuracy: 0.3792 Training F1: 0.3792\n",
            "Epoch 6 Validation loss: 5.8676 Validation accuracy: 0.2395 Validation F1: 0.2395\n"
          ],
          "name": "stdout"
        },
        {
          "output_type": "display_data",
          "data": {
            "application/vnd.jupyter.widget-view+json": {
              "model_id": "2646489ed8d64176aa891742b6930706",
              "version_minor": 0,
              "version_major": 2
            },
            "text/plain": [
              "HBox(children=(FloatProgress(value=0.0, description='epoch 7', max=3895.0, style=ProgressStyle(description_wid…"
            ]
          },
          "metadata": {
            "tags": []
          }
        },
        {
          "output_type": "stream",
          "text": [
            "\n",
            "Epoch 7 Training loss: 0.0 Training accuracy: 0.3975 Training F1: 0.3975\n",
            "Epoch 7 Validation loss: 6.0489 Validation accuracy: 0.2358 Validation F1: 0.2358\n"
          ],
          "name": "stdout"
        },
        {
          "output_type": "display_data",
          "data": {
            "application/vnd.jupyter.widget-view+json": {
              "model_id": "8e14ca3afc35458bad0f33e771283064",
              "version_minor": 0,
              "version_major": 2
            },
            "text/plain": [
              "HBox(children=(FloatProgress(value=0.0, description='epoch 8', max=3895.0, style=ProgressStyle(description_wid…"
            ]
          },
          "metadata": {
            "tags": []
          }
        },
        {
          "output_type": "stream",
          "text": [
            "\n",
            "Epoch 8 Training loss: 0.0 Training accuracy: 0.4133 Training F1: 0.4133\n",
            "Epoch 8 Validation loss: 6.1858 Validation accuracy: 0.2327 Validation F1: 0.2327\n"
          ],
          "name": "stdout"
        },
        {
          "output_type": "display_data",
          "data": {
            "application/vnd.jupyter.widget-view+json": {
              "model_id": "6e1340459c65416782f97169a09e4a28",
              "version_minor": 0,
              "version_major": 2
            },
            "text/plain": [
              "HBox(children=(FloatProgress(value=0.0, description='epoch 9', max=3895.0, style=ProgressStyle(description_wid…"
            ]
          },
          "metadata": {
            "tags": []
          }
        },
        {
          "output_type": "stream",
          "text": [
            "\n",
            "Epoch 9 Training loss: 0.0 Training accuracy: 0.4273 Training F1: 0.4273\n",
            "Epoch 9 Validation loss: 6.3701 Validation accuracy: 0.2316 Validation F1: 0.2316\n"
          ],
          "name": "stdout"
        },
        {
          "output_type": "execute_result",
          "data": {
            "text/html": [
              "<div>\n",
              "<style scoped>\n",
              "    .dataframe tbody tr th:only-of-type {\n",
              "        vertical-align: middle;\n",
              "    }\n",
              "\n",
              "    .dataframe tbody tr th {\n",
              "        vertical-align: top;\n",
              "    }\n",
              "\n",
              "    .dataframe thead th {\n",
              "        text-align: right;\n",
              "    }\n",
              "</style>\n",
              "<table border=\"1\" class=\"dataframe\">\n",
              "  <thead>\n",
              "    <tr style=\"text-align: right;\">\n",
              "      <th></th>\n",
              "      <th>epoch</th>\n",
              "      <th>train_acc</th>\n",
              "      <th>train_f1</th>\n",
              "      <th>train_loss</th>\n",
              "      <th>valid_acc</th>\n",
              "      <th>valid_f1</th>\n",
              "      <th>valid_loss</th>\n",
              "    </tr>\n",
              "  </thead>\n",
              "  <tbody>\n",
              "    <tr>\n",
              "      <th>0</th>\n",
              "      <td>0.0</td>\n",
              "      <td>0.164129</td>\n",
              "      <td>0.164129</td>\n",
              "      <td>0.0</td>\n",
              "      <td>0.218356</td>\n",
              "      <td>0.218356</td>\n",
              "      <td>4.753221</td>\n",
              "    </tr>\n",
              "    <tr>\n",
              "      <th>1</th>\n",
              "      <td>1.0</td>\n",
              "      <td>0.224268</td>\n",
              "      <td>0.224268</td>\n",
              "      <td>0.0</td>\n",
              "      <td>0.233738</td>\n",
              "      <td>0.233738</td>\n",
              "      <td>4.757175</td>\n",
              "    </tr>\n",
              "    <tr>\n",
              "      <th>2</th>\n",
              "      <td>2.0</td>\n",
              "      <td>0.262184</td>\n",
              "      <td>0.262184</td>\n",
              "      <td>0.0</td>\n",
              "      <td>0.236104</td>\n",
              "      <td>0.236104</td>\n",
              "      <td>4.896266</td>\n",
              "    </tr>\n",
              "    <tr>\n",
              "      <th>3</th>\n",
              "      <td>3.0</td>\n",
              "      <td>0.302600</td>\n",
              "      <td>0.302600</td>\n",
              "      <td>0.0</td>\n",
              "      <td>0.237795</td>\n",
              "      <td>0.237795</td>\n",
              "      <td>5.163336</td>\n",
              "    </tr>\n",
              "    <tr>\n",
              "      <th>4</th>\n",
              "      <td>4.0</td>\n",
              "      <td>0.334089</td>\n",
              "      <td>0.334089</td>\n",
              "      <td>0.0</td>\n",
              "      <td>0.238844</td>\n",
              "      <td>0.238844</td>\n",
              "      <td>5.522908</td>\n",
              "    </tr>\n",
              "    <tr>\n",
              "      <th>5</th>\n",
              "      <td>5.0</td>\n",
              "      <td>0.358519</td>\n",
              "      <td>0.358519</td>\n",
              "      <td>0.0</td>\n",
              "      <td>0.239485</td>\n",
              "      <td>0.239485</td>\n",
              "      <td>5.689826</td>\n",
              "    </tr>\n",
              "    <tr>\n",
              "      <th>6</th>\n",
              "      <td>6.0</td>\n",
              "      <td>0.379195</td>\n",
              "      <td>0.379195</td>\n",
              "      <td>0.0</td>\n",
              "      <td>0.239451</td>\n",
              "      <td>0.239451</td>\n",
              "      <td>5.867639</td>\n",
              "    </tr>\n",
              "    <tr>\n",
              "      <th>7</th>\n",
              "      <td>7.0</td>\n",
              "      <td>0.397492</td>\n",
              "      <td>0.397492</td>\n",
              "      <td>0.0</td>\n",
              "      <td>0.235778</td>\n",
              "      <td>0.235778</td>\n",
              "      <td>6.048936</td>\n",
              "    </tr>\n",
              "    <tr>\n",
              "      <th>8</th>\n",
              "      <td>8.0</td>\n",
              "      <td>0.413271</td>\n",
              "      <td>0.413271</td>\n",
              "      <td>0.0</td>\n",
              "      <td>0.232688</td>\n",
              "      <td>0.232688</td>\n",
              "      <td>6.185795</td>\n",
              "    </tr>\n",
              "    <tr>\n",
              "      <th>9</th>\n",
              "      <td>9.0</td>\n",
              "      <td>0.427298</td>\n",
              "      <td>0.427298</td>\n",
              "      <td>0.0</td>\n",
              "      <td>0.231639</td>\n",
              "      <td>0.231639</td>\n",
              "      <td>6.370078</td>\n",
              "    </tr>\n",
              "  </tbody>\n",
              "</table>\n",
              "</div>"
            ],
            "text/plain": [
              "   epoch  train_acc  train_f1  train_loss  valid_acc  valid_f1  valid_loss\n",
              "0    0.0   0.164129  0.164129         0.0   0.218356  0.218356    4.753221\n",
              "1    1.0   0.224268  0.224268         0.0   0.233738  0.233738    4.757175\n",
              "2    2.0   0.262184  0.262184         0.0   0.236104  0.236104    4.896266\n",
              "3    3.0   0.302600  0.302600         0.0   0.237795  0.237795    5.163336\n",
              "4    4.0   0.334089  0.334089         0.0   0.238844  0.238844    5.522908\n",
              "5    5.0   0.358519  0.358519         0.0   0.239485  0.239485    5.689826\n",
              "6    6.0   0.379195  0.379195         0.0   0.239451  0.239451    5.867639\n",
              "7    7.0   0.397492  0.397492         0.0   0.235778  0.235778    6.048936\n",
              "8    8.0   0.413271  0.413271         0.0   0.232688  0.232688    6.185795\n",
              "9    9.0   0.427298  0.427298         0.0   0.231639  0.231639    6.370078"
            ]
          },
          "metadata": {
            "tags": []
          },
          "execution_count": 37
        }
      ]
    },
    {
      "cell_type": "markdown",
      "metadata": {
        "id": "tWndh7fUI_dr"
      },
      "source": [
        "Npw let's write code for text prediction"
      ]
    },
    {
      "cell_type": "code",
      "metadata": {
        "id": "-rk0MJ2YqOPi"
      },
      "source": [
        "def relu(x):\n",
        "  if x > 0:\n",
        "    return x\n",
        "  else:\n",
        "    return 0"
      ],
      "execution_count": 18,
      "outputs": []
    },
    {
      "cell_type": "code",
      "metadata": {
        "id": "8Fxdclx6JDXw"
      },
      "source": [
        "class LMPredictor:\n",
        "  def __init__(self, model, id2word, word2id):\n",
        "    self.model = model\n",
        "    self.id2word = id2word\n",
        "    self.word2id = word2id\n",
        "\n",
        "  def predict(self, sent):\n",
        "    sent = [self.word2id['<pad>']] * relu(SEQ_LEN - len(sent) - 1) + [self.word2id['<bos>']] + [self.word2id[word] if word in self.word2id else self.word2id['<unk>'] for word in sent]\n",
        "    sent = [sent[-SEQ_LEN:]]\n",
        "    sent = tt.LongTensor(sent)\n",
        "    output = model(sent)\n",
        "    new_word = output.argmax(dim=1)[0]#[-1]\n",
        "    return self.id2word[new_word]"
      ],
      "execution_count": 19,
      "outputs": []
    },
    {
      "cell_type": "code",
      "metadata": {
        "id": "GvlP1w1pLSWS"
      },
      "source": [
        "cpu = tt.device('cpu')\n",
        "model = tt.load('cnn_morph_model')\n",
        "model = model.to(cpu)"
      ],
      "execution_count": 20,
      "outputs": []
    },
    {
      "cell_type": "code",
      "metadata": {
        "id": "O6LwuvtsgYsX"
      },
      "source": [
        "predictor = LMPredictor(model, id2word, word2id)"
      ],
      "execution_count": 21,
      "outputs": []
    },
    {
      "cell_type": "code",
      "metadata": {
        "colab": {
          "base_uri": "https://localhost:8080/"
        },
        "id": "wsQh9zO5oIwy",
        "outputId": "a2f9098c-e517-46f2-d0c6-314e3e6956e2"
      },
      "source": [
        "sent = dev_morph_sentences[0]\n",
        "for i in range(len(sent)):\n",
        "  feed = sent[:i]\n",
        "  predicted = predictor.predict(feed)\n",
        "  print(f\"Item: {sent[i]} Predicted: {predicted}\")"
      ],
      "execution_count": 22,
      "outputs": [
        {
          "output_type": "stream",
          "text": [
            "Item: ӄԓявыԓ Predicted: ны\n",
            "Item: >я Predicted: >ӄэй\n",
            "Item: риӄукэ Predicted: >ӄэй\n",
            "Item: >тэ Predicted: >тэ\n",
            "Item: ив Predicted: >ни\n",
            "Item: >ни Predicted: >ни\n",
            "Item: >н Predicted: >н\n",
            "Item: ытри Predicted: ам\n",
            "Item: ын Predicted: ӈин\n",
            "Item: >кы Predicted: >кы\n",
            "Item: варкы Predicted: >ри\n",
            "Item: >т Predicted: >т\n",
            "Item: гын Predicted: ӄынвэр\n",
            "Item: >ин Predicted: >ин\n",
            "Item: ӈэвъэ Predicted: ӄыт\n",
            "Item: >н Predicted: >н\n",
            "Item: гэ Predicted: ынкъам\n",
            "Item: >ԓгы Predicted: >ӈэвъэн\n",
            "Item: >ԓин Predicted: >ԓин\n",
            "Item: мэмыԓ Predicted: ынкъам\n",
            "Item: >я Predicted: >ӄэй\n",
            "Item: ра Predicted: ам\n",
            "Item: >гты Predicted: >гты\n",
            "Item: >гъэ Predicted: >гъэ\n"
          ],
          "name": "stdout"
        }
      ]
    },
    {
      "cell_type": "markdown",
      "metadata": {
        "id": "hjArvxsxwtsS"
      },
      "source": [
        "### Scoring on test set"
      ]
    },
    {
      "cell_type": "markdown",
      "metadata": {
        "id": "intEyo5lpBQF"
      },
      "source": [
        "Let's count word accuracy on test set:"
      ]
    },
    {
      "cell_type": "code",
      "metadata": {
        "colab": {
          "base_uri": "https://localhost:8080/",
          "height": 117,
          "referenced_widgets": [
            "e76eb753c33346c093166325d02a109e",
            "f2d4253c93d943bf815780fab6776a31",
            "98643f878e05478a98053b5ed189a9fc",
            "f96331ba01244420bade0bcbde4c7320",
            "88db211e1311424ea7512cf029533acb",
            "1a5404fac02041bdacea01e44651fc71",
            "80ae4b7a79764b2ca01a593cc08fa5d6",
            "e908641b8b69458eaf00a14478908f33"
          ]
        },
        "id": "v3dk2vTjpFGa",
        "outputId": "437cd69e-e751-4e2d-9b19-1cdb2c023b2e"
      },
      "source": [
        "## count accuracy\n",
        "acc = 0\n",
        "output = []\n",
        "dev_test = []\n",
        "for sent in tqdm_notebook(test_morph_sentences, total=len(test_morph_sentences)):\n",
        "  sent_acc = 0\n",
        "  for i in range(len(sent)):\n",
        "    feed = sent[:i]\n",
        "    predicted = predictor.predict(feed)\n",
        "    if predicted == sent[i]:\n",
        " #     if predicted == '<eos>':\n",
        " #       continue\n",
        " #     sent_acc += 1\n",
        " #     else:\n",
        "      output.append(predicted)\n",
        "      sent_acc += 1\n",
        "    else:\n",
        "      output += [c for c in sent[i]]\n",
        "    if i!=0:\n",
        "      if i == len(sent)-1:\n",
        "        output.append('_')\n",
        "      elif not sent[i+1].startswith('>'):\n",
        "        output.append('_')\n",
        "  output.append('\\n')\n",
        "  acc += sent_acc/len(sent)\n",
        "acc = acc/len(test_morph_sentences)\n",
        "listToStr = ' '.join(map(str, output)).replace('>',' ')\n",
        "listToStr = re.sub(' +', ' ', listToStr)"
      ],
      "execution_count": 23,
      "outputs": [
        {
          "output_type": "stream",
          "text": [
            "/usr/local/lib/python3.7/dist-packages/ipykernel_launcher.py:5: TqdmDeprecationWarning: This function will be removed in tqdm==5.0.0\n",
            "Please use `tqdm.notebook.tqdm` instead of `tqdm.tqdm_notebook`\n",
            "  \"\"\"\n"
          ],
          "name": "stderr"
        },
        {
          "output_type": "display_data",
          "data": {
            "application/vnd.jupyter.widget-view+json": {
              "model_id": "e76eb753c33346c093166325d02a109e",
              "version_minor": 0,
              "version_major": 2
            },
            "text/plain": [
              "HBox(children=(FloatProgress(value=0.0, max=1006.0), HTML(value='')))"
            ]
          },
          "metadata": {
            "tags": []
          }
        },
        {
          "output_type": "stream",
          "text": [
            "\n"
          ],
          "name": "stdout"
        }
      ]
    },
    {
      "cell_type": "code",
      "metadata": {
        "id": "cIpitgQzKo_t"
      },
      "source": [
        "output1 = list(listToStr.split('\\n'))"
      ],
      "execution_count": 24,
      "outputs": []
    },
    {
      "cell_type": "code",
      "metadata": {
        "colab": {
          "base_uri": "https://localhost:8080/"
        },
        "id": "RVmoo4tkKrRA",
        "outputId": "40e9fbb3-6f68-4279-d411-34d6fa3aa3f9"
      },
      "source": [
        "output1[:10]"
      ],
      "execution_count": 25,
      "outputs": [
        {
          "output_type": "execute_result",
          "data": {
            "text/plain": [
              "['г ы м нин _ ы т л ь а т _ ы ’ т т ъ у в и _ ы н к ъ а м _ о ’ м р ы т в а а л _ ',\n",
              " ' п у у р ъ у э п ы _ г ы м нин _ о ’ м _ о ’ м р ы к в о т _ н э м ы ӄ э й _ ӄ о р а г ы н р э т ы л ь о _ н и т ӄин _ ',\n",
              " ' г ы м нин _ ы т л ы г ы т _ ы т л ь ’ а т э _ ӄ о н п ы _ э м н у ӈ к ы _ ны м и г ч и р эт ӄ и н э т _ н э м ы ӄ э й _ ӄ о р а г ы н р э т ы л ь о _ н и т ӄ и н э т _ ',\n",
              " ' ы н к ъ а м м у р и _ г а ч а к э т т о м г а _ г э _ г э е г т э л ь м у р и _ к а в р а г ы р г ы н _ ы н к ъ а м _ г ы м _ ',\n",
              " ' ы т р ъ э ч е _ ӈ и р э ӄ _ н э н э н э т _ в а г ъ э т _ ',\n",
              " ' ы т р ъ э ч ',\n",
              " ' к ы т у р ы н ӈ ы т э ӄ э _ м э д в э д э в _ п р э з и д э н т о _ э н м а _ к а н ч а л я н э т ы _ г э р э м к и ч и л ь и н _ ',\n",
              " ' ы н к ъ а л ю у т _ ӈ ы р ъ а _ в э р т а л ё т т э _ в а к ъ о г ъ а т ӈ а _ ',\n",
              " ' ны н ы п ч е ӈ и в й и в ӄ и н _ к о л ё _ н ы м н ы м а _ м э д в э д э в ъ ы м _ ',\n",
              " ' г э ч е в кы _ ны н т ы ӄин _ т а ӈ к о л ё _ ы н кы _ ны г ы н р и т ӄин _ ']"
            ]
          },
          "metadata": {
            "tags": []
          },
          "execution_count": 25
        }
      ]
    },
    {
      "cell_type": "code",
      "metadata": {
        "colab": {
          "base_uri": "https://localhost:8080/"
        },
        "id": "lrrXpegnK0tO",
        "outputId": "95ff0e98-1d2b-44ca-847c-7adf6980a49b"
      },
      "source": [
        "!sed 10q < global-classroom/chukchi/data/test/test.tsv"
      ],
      "execution_count": 26,
      "outputs": [
        {
          "output_type": "stream",
          "text": [
            "гымнин ытльат ы’ттъуви ынкъам о’мрытваал\tгым>нин ытльа>т ы’ттъуви ынкъам о’мрытваал>\n",
            "пууръу эпы гымнин о’м о’мрыквот нэмыӄэй ӄорагынрэтыльо нитӄин\tпууръу эпы гым>нин о’м о’мрыквот нэмыӄэй ӄора>гынрэты>ль>о н>ит>ӄин\n",
            "гымнин ытлыгыт ытль’атэ ӄонпы эмнуӈкы нымигчирэтӄинэт нэмыӄэй ӄорагынрэтыльо нитӄинэт\tгым>нин ытлыгы>т ытль’а>т>э ӄонпы эмнуӈ>кы ны>мигчир>эт>ӄинэ>т нэмыӄэй ӄора>гынрэты>ль>о нитӄинэт\n",
            "ынкъам мури гачакэттомга гэ гэегтэльмури каврагыргын ынкъам гым\tынкъам мури га>чакэт>томг>а гэ гэ>егтэль>мури каврагыргы>н ынкъам гым\n",
            "ытръэче ӈирэӄ нэнэнэт вагъэт\tытръэч>е ӈирэӄ нэнэнэ>т ва>гъэ>т\n",
            "ытръэч\tытръэч\n",
            "кытур ынӈытэӄэ мэдвэдэв прэзидэнто энма канчалянэты гэрэмкичильин\tкытур ынӈытэӄ>э мэдвэдэв прэзидэнт>о эн>ма канчалян>эты гэ>рэмкичи>льин\n",
            "ынкъа люут ӈыръа вэрталёттэ вакъогъатӈа\tынкъа люут ӈыръа вэрталёт>тэ вакъо>гъа>т>ӈа\n",
            "ныныпчеӈивйивӄин колё нымныма мэдвэдэвъым\tны>ны>пчеӈи>в>йив>ӄин колё нымным>а мэдвэдэв>>ъым\n",
            "гэчевкы нынтыӄин таӈколё ынкы ныгынритӄин\tгэчев>кы ны>нты>ӄин таӈ>колё ын>кы ны>гынрит>ӄин\n"
          ],
          "name": "stdout"
        }
      ]
    },
    {
      "cell_type": "code",
      "metadata": {
        "id": "0VZtxIBNIKeA"
      },
      "source": [
        "with open(\"global-classroom/chukchi/data/test/test.tsv\") as inp:\n",
        "  for line in inp.readlines():\n",
        "    words, morphs = line.strip('\\n').split('\\t')\n",
        "    dev_test.append(words)\n",
        "  dev_test.append('\\n')\n",
        "\n",
        "with open('cnn_token_test_output.tsv', 'w') as out_file:\n",
        "    tsv_writer = csv.writer(out_file, delimiter='\\t')\n",
        "    tsv_writer.writerows(zip(dev_test, output1))"
      ],
      "execution_count": 29,
      "outputs": []
    },
    {
      "cell_type": "code",
      "metadata": {
        "colab": {
          "base_uri": "https://localhost:8080/"
        },
        "id": "JNI_wjt6_YHe",
        "outputId": "b5eec0a6-a1e3-45ae-db4b-8d5d0efdd0ba"
      },
      "source": [
        "acc"
      ],
      "execution_count": 30,
      "outputs": [
        {
          "output_type": "execute_result",
          "data": {
            "text/plain": [
              "0.12700522523119506"
            ]
          },
          "metadata": {
            "tags": []
          },
          "execution_count": 30
        }
      ]
    },
    {
      "cell_type": "code",
      "metadata": {
        "colab": {
          "base_uri": "https://localhost:8080/"
        },
        "id": "7u-WHrm_LPkh",
        "outputId": "45b66582-207f-494e-b68e-bd3bc0d5b15a"
      },
      "source": [
        "!sed 10q < cnn_token_test_output.tsv"
      ],
      "execution_count": 31,
      "outputs": [
        {
          "output_type": "stream",
          "text": [
            "гымнин ытльат ы’ттъуви ынкъам о’мрытваал\tг ы м нин _ ы т л ь а т _ ы ’ т т ъ у в и _ ы н к ъ а м _ о ’ м р ы т в а а л _ \r\n",
            "пууръу эпы гымнин о’м о’мрыквот нэмыӄэй ӄорагынрэтыльо нитӄин\t п у у р ъ у э п ы _ г ы м нин _ о ’ м _ о ’ м р ы к в о т _ н э м ы ӄ э й _ ӄ о р а г ы н р э т ы л ь о _ н и т ӄин _ \r\n",
            "гымнин ытлыгыт ытль’атэ ӄонпы эмнуӈкы нымигчирэтӄинэт нэмыӄэй ӄорагынрэтыльо нитӄинэт\t г ы м нин _ ы т л ы г ы т _ ы т л ь ’ а т э _ ӄ о н п ы _ э м н у ӈ к ы _ ны м и г ч и р эт ӄ и н э т _ н э м ы ӄ э й _ ӄ о р а г ы н р э т ы л ь о _ н и т ӄ и н э т _ \r\n",
            "ынкъам мури гачакэттомга гэ гэегтэльмури каврагыргын ынкъам гым\t ы н к ъ а м м у р и _ г а ч а к э т т о м г а _ г э _ г э е г т э л ь м у р и _ к а в р а г ы р г ы н _ ы н к ъ а м _ г ы м _ \r\n",
            "ытръэче ӈирэӄ нэнэнэт вагъэт\t ы т р ъ э ч е _ ӈ и р э ӄ _ н э н э н э т _ в а г ъ э т _ \r\n",
            "ытръэч\t ы т р ъ э ч \r\n",
            "кытур ынӈытэӄэ мэдвэдэв прэзидэнто энма канчалянэты гэрэмкичильин\t к ы т у р ы н ӈ ы т э ӄ э _ м э д в э д э в _ п р э з и д э н т о _ э н м а _ к а н ч а л я н э т ы _ г э р э м к и ч и л ь и н _ \r\n",
            "ынкъа люут ӈыръа вэрталёттэ вакъогъатӈа\t ы н к ъ а л ю у т _ ӈ ы р ъ а _ в э р т а л ё т т э _ в а к ъ о г ъ а т ӈ а _ \r\n",
            "ныныпчеӈивйивӄин колё нымныма мэдвэдэвъым\t ны н ы п ч е ӈ и в й и в ӄ и н _ к о л ё _ н ы м н ы м а _ м э д в э д э в ъ ы м _ \r\n",
            "гэчевкы нынтыӄин таӈколё ынкы ныгынритӄин\t г э ч е в кы _ ны н т ы ӄин _ т а ӈ к о л ё _ ы н кы _ ны г ы н р и т ӄин _ \r\n"
          ],
          "name": "stdout"
        }
      ]
    },
    {
      "cell_type": "code",
      "metadata": {
        "colab": {
          "base_uri": "https://localhost:8080/"
        },
        "id": "qclX69nDMbvg",
        "outputId": "38b97e90-8b3d-4385-ccf7-ef028b7254f7"
      },
      "source": [
        "!sed 10q < global-classroom/chukchi/baseline/output_test.tsv"
      ],
      "execution_count": 32,
      "outputs": [
        {
          "output_type": "stream",
          "text": [
            "гымнин ытльат ы’ттъуви ынкъам о’мрытваал\tг ы м н и н _ ы т л ь а т _ ы ’ т т ъ у в и _ ынкъам _ о ’ м р ы т в а а л _\n",
            "пууръу эпы гымнин о’м о’мрыквот нэмыӄэй ӄорагынрэтыльо нитӄин\tп у у р ъ у _ э п ы _ г ы м н и н _ о ’ м _ о ’ м р ы к в о т _ н э м ы ӄ э й _ ӄ о р а г ы н р э т ы л ь о _ н и т ӄ и н _\n",
            "гымнин ытлыгыт ытль’атэ ӄонпы эмнуӈкы нымигчирэтӄинэт нэмыӄэй ӄорагынрэтыльо нитӄинэт\tг ы м н и н _ ы т л ы г ы т _ ы т л ь ’ а т э _ ӄ о н п ы _ э м н у ӈ к ы _ н ы м и г ч и р э т ӄ и н э т _ н э м ы ӄ э й _ ӄ о р а г ы н р э т ы л ь о _ н и т ӄ и н э т _\n",
            "ынкъам мури гачакэттомга гэ гэегтэльмури каврагыргын ынкъам гым\tынкъам _ м у р и _ г а ч а к э т т о м г а _ г э _ г э е г т э л ь м у р и _ к а в р а г ы р г ы н _ ынкъам _ г ы м _\n",
            "ытръэче ӈирэӄ нэнэнэт вагъэт\tы т р ъ э ч е _ ӈ и р э ӄ _ н э н э н э т _ в а г ъ э т _\n",
            "ытръэч\tы т р ъ э ч _\n",
            "кытур ынӈытэӄэ мэдвэдэв прэзидэнто энма канчалянэты гэрэмкичильин\tк ы т у р _ ы н ӈ ы т э ӄ э _ м э д в э д э в _ п р э з и д э н т о _ э н м а _ к а н ч а л я н э т ы _ г э р э м к и ч и л ь и н _\n",
            "ынкъа люут ӈыръа вэрталёттэ вакъогъатӈа\tы н к ъ а _ л ю у т _ ӈ ы р ъ а _ в э р т а л ё т т э _ в а к ъ о г ъ а т ӈ а _\n",
            "ныныпчеӈивйивӄин колё нымныма мэдвэдэвъым\tн ы н ы п ч е ӈ и в й и в ӄ и н _ к о л ё _ н ы м н ы м а _ м э д в э д э в ъ ы м _\n",
            "гэчевкы нынтыӄин таӈколё ынкы ныгынритӄин\tг э ч е в к ы _ н ы н т ы ӄ и н _ т а ӈ к о л ё _ ы н к ы _ н ы г ы н р и т ӄ и н _\n"
          ],
          "name": "stdout"
        }
      ]
    },
    {
      "cell_type": "code",
      "metadata": {
        "colab": {
          "base_uri": "https://localhost:8080/"
        },
        "id": "7hrH3naWMiXA",
        "outputId": "93ca51b5-1482-4749-beb3-d59571cc1f75"
      },
      "source": [
        "os.listdir()"
      ],
      "execution_count": 33,
      "outputs": [
        {
          "output_type": "execute_result",
          "data": {
            "text/plain": [
              "['global-classroom',\n",
              " 'lstm_morph_model',\n",
              " 'lstm_morph_model_freq_restricted',\n",
              " 'cnn_embed_morph_model',\n",
              " 'output1.tsv',\n",
              " 'dev_output1.tsv',\n",
              " 'cnn_morph_model',\n",
              " 'output_test_lstm.tsv',\n",
              " 'output_dev_lstm.tsv',\n",
              " 'lstm_restricted_test_output.tsv',\n",
              " 'lstm_restricted_dev_output.tsv',\n",
              " 'cnn_token_test_output.tsv']"
            ]
          },
          "metadata": {
            "tags": []
          },
          "execution_count": 33
        }
      ]
    },
    {
      "cell_type": "code",
      "metadata": {
        "colab": {
          "base_uri": "https://localhost:8080/"
        },
        "id": "3hWwldQnczjC",
        "outputId": "12c19db9-6d62-4933-804e-d7a4762eb66e"
      },
      "source": [
        "!python3 global-classroom/chukchi/evaluate.py global-classroom/chukchi/data/test/test.tsv cnn_token_test_output.tsv "
      ],
      "execution_count": 34,
      "outputs": [
        {
          "output_type": "stream",
          "text": [
            "Characters: 37927\n",
            "Tokens: 8374\n",
            "Clicks: 37334\n",
            "Clicks/Token: 4.458323381896346\n",
            "Clicks/Character: 0.9843647006090648\n"
          ],
          "name": "stdout"
        }
      ]
    },
    {
      "cell_type": "markdown",
      "metadata": {
        "id": "gcfZ-lbLwzg0"
      },
      "source": [
        "### Scoring on dev set"
      ]
    },
    {
      "cell_type": "code",
      "metadata": {
        "colab": {
          "base_uri": "https://localhost:8080/",
          "height": 117,
          "referenced_widgets": [
            "ebccdf39b7e1407bb4e1b51558e66a79",
            "c50119d4c0584259bf65d1d49bf79238",
            "03458af1b6bd4ae5abd78c2b7c28b26f",
            "6ca6f7d8eecb4dd1b28c419e51281aa1",
            "c066746f2fd2452f8d15ffbef07c405a",
            "fc46e82e71e24e8788e4807dbb08aa06",
            "7f999e0eb9704c2dbeff57a789f577ba",
            "b7bdf903961f45bd8d41de07985ba38e"
          ]
        },
        "id": "aA5-IzA3w2Th",
        "outputId": "8235b792-d7db-4b63-c1cf-de6f997d8327"
      },
      "source": [
        "## count accuracy\n",
        "dev_acc = 0\n",
        "output = []\n",
        "dev_test = []\n",
        "for sent in tqdm_notebook(dev_morph_sentences, total=len(dev_morph_sentences)):\n",
        "  sent_acc = 0\n",
        "  for i in range(len(sent)):\n",
        "    feed = sent[:i]\n",
        "    predicted = predictor.predict(feed)\n",
        "    if predicted == sent[i]:\n",
        "      output.append(predicted)\n",
        "      sent_acc += 1\n",
        "    else:\n",
        "      output += [c for c in sent[i]]\n",
        "    if i!=0:\n",
        "      if i == len(sent)-1:\n",
        "        output.append('_')\n",
        "      elif not sent[i+1].startswith('>'):\n",
        "        output.append('_')\n",
        "  output.append('\\n')\n",
        "  dev_acc += sent_acc/len(sent)\n",
        "dev_acc = dev_acc/len(dev_morph_sentences)\n",
        "listToStr = ' '.join(map(str, output)).replace('>',' ')\n",
        "listToStr = re.sub(' +', ' ', listToStr)"
      ],
      "execution_count": 35,
      "outputs": [
        {
          "output_type": "stream",
          "text": [
            "/usr/local/lib/python3.7/dist-packages/ipykernel_launcher.py:5: TqdmDeprecationWarning: This function will be removed in tqdm==5.0.0\n",
            "Please use `tqdm.notebook.tqdm` instead of `tqdm.tqdm_notebook`\n",
            "  \"\"\"\n"
          ],
          "name": "stderr"
        },
        {
          "output_type": "display_data",
          "data": {
            "application/vnd.jupyter.widget-view+json": {
              "model_id": "ebccdf39b7e1407bb4e1b51558e66a79",
              "version_minor": 0,
              "version_major": 2
            },
            "text/plain": [
              "HBox(children=(FloatProgress(value=0.0, max=1000.0), HTML(value='')))"
            ]
          },
          "metadata": {
            "tags": []
          }
        },
        {
          "output_type": "stream",
          "text": [
            "\n"
          ],
          "name": "stdout"
        }
      ]
    },
    {
      "cell_type": "code",
      "metadata": {
        "id": "5C0qlccQyK3d"
      },
      "source": [
        "output1 = list(listToStr.split('\\n'))"
      ],
      "execution_count": 36,
      "outputs": []
    },
    {
      "cell_type": "code",
      "metadata": {
        "colab": {
          "base_uri": "https://localhost:8080/"
        },
        "id": "G3hWWwZ3xPV3",
        "outputId": "3098d075-5303-458e-f646-d8afe923846f"
      },
      "source": [
        "dev_acc"
      ],
      "execution_count": 37,
      "outputs": [
        {
          "output_type": "execute_result",
          "data": {
            "text/plain": [
              "0.23686578967710895"
            ]
          },
          "metadata": {
            "tags": []
          },
          "execution_count": 37
        }
      ]
    },
    {
      "cell_type": "code",
      "metadata": {
        "id": "43waeaxjxw6y"
      },
      "source": [
        "## write output.tsv\n",
        "\n",
        "with open(\"global-classroom/chukchi/data/dev.tsv\") as inp:\n",
        "  for line in inp.readlines():\n",
        "    words, morphs = line.strip('\\n').split('\\t')\n",
        "    dev_test.append(words)\n",
        "  dev_test.append('\\n')\n",
        "import csv\n",
        "with open('cnn_token_dev_output.tsv', 'w') as out_file:\n",
        "    tsv_writer = csv.writer(out_file, delimiter='\\t')\n",
        "    tsv_writer.writerows(zip(dev_test, output1))"
      ],
      "execution_count": 38,
      "outputs": []
    },
    {
      "cell_type": "code",
      "metadata": {
        "colab": {
          "base_uri": "https://localhost:8080/"
        },
        "id": "9OU3k4Fyx6Yg",
        "outputId": "61d2ff24-4c72-4c0d-c980-faad7ae55eb7"
      },
      "source": [
        "!sed 10q < cnn_token_dev_output.tsv"
      ],
      "execution_count": 39,
      "outputs": [
        {
          "output_type": "stream",
          "text": [
            "ӄԓявыԓя риӄукэтэ ивнин ытри ынкы варкыт гынин ӈэвъэн гэԓгыԓин мэмыԓя рагтыгъэ\tӄ ԓ я в ы ԓ я _ р и ӄ у к э тэ _ и в ни н _ ы т р и _ ы н кы _ в а р к ы т _ г ы н ин _ ӈ э в ъ э н _ г э ԓ г ы ԓин _ м э м ы ԓ я _ р а гты гъэ _ \r\n",
            "ӄԓявыԓ ынкъам купрэн ынанъомрычьын\t ӄ ԓ я в ы ԓ ы н к ъ а м _ к у п р э н _ ы н а н ъ о м р ы ч ь ы н _ \r\n",
            "рытэнмавнэн ынӄо эргатык эквэтгъэт копрантыватысӄэквъат\t р ы т э н м а в н э н _ ынӄо _ э р г атык _ э к в э т г ъ э т _ к о п р а н т ы в а т ы с ӄ э к в ъ а т _ \r\n",
            "риӄукэтэ гамгаваны нэнайӈоткоӄэн ӄоԓ\t р и ӄ у к э тэ _ г а м г а в а н ы _ н э н а й ӈ о т к о ӄэн _ ӄ о ԓ _ \r\n",
            "ԓьунин ынӄо йыӈотконэн\t ԓ ь у ни н _ ы н ӄ о _ й ы ӈ о т к о н э н _ \r\n",
            " эвын коԓё\t э в ы н _ к о ԓ ё _ \r\n",
            "тыкгаткэта ивнин риӄукэтэ\t т ы к г а т к э т а _ и в ни н _ р и ӄ у к э тэ _ \r\n",
            "йыӈотконэн эвын коԓё\t й ы ӈ о т к о н э н _ э в ы н _ к о ԓ ё _ \r\n",
            "тыкгаткэта\t т ы к г а т к э т а _ \r\n",
            "ивнин риӄукэтэ ынкы\t и в ни н _ р и ӄ у к э тэ _ ы н кы _ \r\n"
          ],
          "name": "stdout"
        }
      ]
    },
    {
      "cell_type": "code",
      "metadata": {
        "colab": {
          "base_uri": "https://localhost:8080/"
        },
        "id": "pjDvXBGqydMh",
        "outputId": "5235eec5-52c5-4cc0-c490-e1510108fb55"
      },
      "source": [
        "!python3 global-classroom/chukchi/evaluate.py global-classroom/chukchi/data/dev.tsv cnn_token_dev_output.tsv "
      ],
      "execution_count": 40,
      "outputs": [
        {
          "output_type": "stream",
          "text": [
            "Characters: 37897\n",
            "Tokens: 8788\n",
            "Clicks: 36252\n",
            "Clicks/Token: 4.125170687300865\n",
            "Clicks/Character: 0.9565928701480328\n"
          ],
          "name": "stdout"
        }
      ]
    }
  ]
}